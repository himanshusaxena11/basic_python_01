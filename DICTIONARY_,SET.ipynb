{
  "nbformat": 4,
  "nbformat_minor": 0,
  "metadata": {
    "colab": {
      "provenance": []
    },
    "kernelspec": {
      "name": "python3",
      "display_name": "Python 3"
    },
    "language_info": {
      "name": "python"
    }
  },
  "cells": [
    {
      "cell_type": "code",
      "execution_count": 2,
      "metadata": {
        "id": "4xo-tXW14u9_"
      },
      "outputs": [],
      "source": [
        "a={'name':'a',\n",
        "   'age':32,\n",
        "   'gender':'M'}"
      ]
    },
    {
      "cell_type": "code",
      "source": [
        "type(a)"
      ],
      "metadata": {
        "colab": {
          "base_uri": "https://localhost:8080/"
        },
        "id": "kvq18iFd5b9u",
        "outputId": "e65bed73-642e-4e47-9a43-0bf2425c0728"
      },
      "execution_count": 3,
      "outputs": [
        {
          "output_type": "execute_result",
          "data": {
            "text/plain": [
              "dict"
            ]
          },
          "metadata": {},
          "execution_count": 3
        }
      ]
    },
    {
      "cell_type": "code",
      "source": [
        "c={'name':('a','b','c','d'),\n",
        "   'age':[12,31,5,14,23]}"
      ],
      "metadata": {
        "id": "JtbRwEkM5dga"
      },
      "execution_count": 4,
      "outputs": []
    },
    {
      "cell_type": "code",
      "source": [
        "c"
      ],
      "metadata": {
        "colab": {
          "base_uri": "https://localhost:8080/"
        },
        "id": "l3p8NvYQ8mT0",
        "outputId": "821099fb-4138-42b4-9111-c377f6f47713"
      },
      "execution_count": 5,
      "outputs": [
        {
          "output_type": "execute_result",
          "data": {
            "text/plain": [
              "{'name': ('a', 'b', 'c', 'd'), 'age': [12, 31, 5, 14, 23]}"
            ]
          },
          "metadata": {},
          "execution_count": 5
        }
      ]
    },
    {
      "cell_type": "code",
      "source": [
        "c['name'][2]"
      ],
      "metadata": {
        "colab": {
          "base_uri": "https://localhost:8080/",
          "height": 36
        },
        "id": "vkhDw6Dw8oH2",
        "outputId": "5b2bd75f-0d71-40f0-d2a7-54aca91cf475"
      },
      "execution_count": 6,
      "outputs": [
        {
          "output_type": "execute_result",
          "data": {
            "text/plain": [
              "'c'"
            ],
            "application/vnd.google.colaboratory.intrinsic+json": {
              "type": "string"
            }
          },
          "metadata": {},
          "execution_count": 6
        }
      ]
    },
    {
      "cell_type": "code",
      "source": [
        "c['age'][1]=29"
      ],
      "metadata": {
        "id": "wTKFfGQ_9fhm"
      },
      "execution_count": 9,
      "outputs": []
    },
    {
      "cell_type": "code",
      "source": [
        "c"
      ],
      "metadata": {
        "colab": {
          "base_uri": "https://localhost:8080/"
        },
        "id": "vVx_Yfsh9mAo",
        "outputId": "d4d88e43-1b11-40e7-8e4e-6838b47d762a"
      },
      "execution_count": 10,
      "outputs": [
        {
          "output_type": "execute_result",
          "data": {
            "text/plain": [
              "{'name': ('a', 'b', 'c', 'd'), 'age': [12, 29, 5, 14, 23]}"
            ]
          },
          "metadata": {},
          "execution_count": 10
        }
      ]
    },
    {
      "cell_type": "code",
      "source": [
        "y={'name':('a','b','t','d'),\n",
        "   'age':[12,31,5,14,27],\n",
        "   'no':(3,6,2,8)}"
      ],
      "metadata": {
        "id": "tXlHB5669w8u"
      },
      "execution_count": 19,
      "outputs": []
    },
    {
      "cell_type": "code",
      "source": [
        "y"
      ],
      "metadata": {
        "colab": {
          "base_uri": "https://localhost:8080/"
        },
        "id": "5BH8h0iHBiuO",
        "outputId": "4352ebe4-4f0b-424f-f3bf-095803aac167"
      },
      "execution_count": 20,
      "outputs": [
        {
          "output_type": "execute_result",
          "data": {
            "text/plain": [
              "{'name': ('a', 'b', 't', 'd'), 'age': [12, 31, 5, 14, 27], 'no': (3, 6, 2, 8)}"
            ]
          },
          "metadata": {},
          "execution_count": 20
        }
      ]
    },
    {
      "cell_type": "code",
      "source": [
        "y.pop('age')[2]"
      ],
      "metadata": {
        "colab": {
          "base_uri": "https://localhost:8080/"
        },
        "id": "uVxsYwNABj_X",
        "outputId": "9d7940e9-caec-40ba-c16f-d11dad87ba35"
      },
      "execution_count": 21,
      "outputs": [
        {
          "output_type": "execute_result",
          "data": {
            "text/plain": [
              "5"
            ]
          },
          "metadata": {},
          "execution_count": 21
        }
      ]
    },
    {
      "cell_type": "code",
      "source": [
        "y"
      ],
      "metadata": {
        "colab": {
          "base_uri": "https://localhost:8080/"
        },
        "id": "PXm4SnkXBy-e",
        "outputId": "3e823fc5-88c6-4820-9f61-0d475bcf069c"
      },
      "execution_count": 22,
      "outputs": [
        {
          "output_type": "execute_result",
          "data": {
            "text/plain": [
              "{'name': ('a', 'b', 't', 'd'), 'no': (3, 6, 2, 8)}"
            ]
          },
          "metadata": {},
          "execution_count": 22
        }
      ]
    },
    {
      "cell_type": "code",
      "source": [
        "a={'city':'a',\n",
        "   'state':'d',\n",
        "   'pin':5}\n",
        "t={'no':5,\n",
        "   'range':300}"
      ],
      "metadata": {
        "id": "ft1v8Wy1Cb09"
      },
      "execution_count": 24,
      "outputs": []
    },
    {
      "cell_type": "code",
      "source": [
        "t.update(a)"
      ],
      "metadata": {
        "id": "b2dTQfM-QXsc"
      },
      "execution_count": 25,
      "outputs": []
    },
    {
      "cell_type": "code",
      "source": [
        "t"
      ],
      "metadata": {
        "colab": {
          "base_uri": "https://localhost:8080/"
        },
        "id": "WPpfbqQkQmlI",
        "outputId": "7bc7270e-485f-468a-cca3-25d2a203cc77"
      },
      "execution_count": 26,
      "outputs": [
        {
          "output_type": "execute_result",
          "data": {
            "text/plain": [
              "{'no': 5, 'range': 300, 'city': 'a', 'state': 'd', 'pin': 5}"
            ]
          },
          "metadata": {},
          "execution_count": 26
        }
      ]
    },
    {
      "cell_type": "code",
      "source": [
        "#SET\n",
        "a={4,-1,'hello',-3.2,4+2j,True}"
      ],
      "metadata": {
        "id": "xstlolzjQpds"
      },
      "execution_count": 1,
      "outputs": []
    },
    {
      "cell_type": "code",
      "source": [
        "a"
      ],
      "metadata": {
        "colab": {
          "base_uri": "https://localhost:8080/"
        },
        "id": "KgwP0vPW9Hpg",
        "outputId": "60944032-fce0-407d-a632-71ba7d6269fd"
      },
      "execution_count": 2,
      "outputs": [
        {
          "output_type": "execute_result",
          "data": {
            "text/plain": [
              "{(4+2j), -1, -3.2, 4, True, 'hello'}"
            ]
          },
          "metadata": {},
          "execution_count": 2
        }
      ]
    },
    {
      "cell_type": "code",
      "source": [
        "type(a)"
      ],
      "metadata": {
        "colab": {
          "base_uri": "https://localhost:8080/"
        },
        "id": "Lebr62o19I0f",
        "outputId": "e015669b-67db-4b92-d24c-fbe6b7ca5b60"
      },
      "execution_count": 3,
      "outputs": [
        {
          "output_type": "execute_result",
          "data": {
            "text/plain": [
              "set"
            ]
          },
          "metadata": {},
          "execution_count": 3
        }
      ]
    },
    {
      "cell_type": "code",
      "source": [
        "print(a)"
      ],
      "metadata": {
        "colab": {
          "base_uri": "https://localhost:8080/"
        },
        "id": "Ozj6ykMj9Kip",
        "outputId": "ba9cead0-ba01-47ea-82f4-29aa012f0d48"
      },
      "execution_count": 6,
      "outputs": [
        {
          "output_type": "stream",
          "name": "stdout",
          "text": [
            "{True, 'hello', 4, (4+2j), -3.2, -1}\n"
          ]
        }
      ]
    },
    {
      "cell_type": "code",
      "source": [
        "a"
      ],
      "metadata": {
        "colab": {
          "base_uri": "https://localhost:8080/"
        },
        "id": "dSZHAJzg9M6b",
        "outputId": "03cbe7ea-fea4-4a72-e1ef-92b938380a42"
      },
      "execution_count": 8,
      "outputs": [
        {
          "output_type": "execute_result",
          "data": {
            "text/plain": [
              "{(4+2j), -1, -3.2, 4, True, 'hello'}"
            ]
          },
          "metadata": {},
          "execution_count": 8
        }
      ]
    },
    {
      "cell_type": "code",
      "source": [],
      "metadata": {
        "id": "5wtuEURk9VyN"
      },
      "execution_count": null,
      "outputs": []
    }
  ]
}