{
 "cells": [
  {
   "cell_type": "code",
   "execution_count": 1,
   "id": "22bd9832",
   "metadata": {},
   "outputs": [],
   "source": [
    "# LIST METHODS--**FOR ADDING---1)Append\n",
    "#                               2)insert\n",
    "#                               3)extend\n",
    "#                 FOR REMOVING--1)pop-- for specified index\n",
    "#                               2)remove --for specific item\n",
    "#                               3)del -- for specified index and entire list\n",
    "#                               4)clear --empties the list\n",
    "#"
   ]
  },
  {
   "cell_type": "code",
   "execution_count": 2,
   "id": "213bcca3",
   "metadata": {},
   "outputs": [
    {
     "name": "stdout",
     "output_type": "stream",
     "text": [
      "6\n"
     ]
    }
   ],
   "source": [
    "# List items are ordered, changeable, and allow duplicate values.\n",
    "x=['jjkk',84,-28,True,'hls',3+4j]\n",
    "print(len(x))"
   ]
  },
  {
   "cell_type": "code",
   "execution_count": 3,
   "id": "d11abd40",
   "metadata": {},
   "outputs": [],
   "source": [
    "a=list(('jfk',73,-28,False))"
   ]
  },
  {
   "cell_type": "code",
   "execution_count": 4,
   "id": "57f773f9",
   "metadata": {},
   "outputs": [
    {
     "data": {
      "text/plain": [
       "['jfk', 73, -28, False]"
      ]
     },
     "execution_count": 4,
     "metadata": {},
     "output_type": "execute_result"
    }
   ],
   "source": [
    "a"
   ]
  },
  {
   "cell_type": "code",
   "execution_count": 5,
   "id": "ca4853e2",
   "metadata": {},
   "outputs": [],
   "source": [
    "x=[38,-29,'hhieo',False,3+9j,'ndkdl']"
   ]
  },
  {
   "cell_type": "code",
   "execution_count": 6,
   "id": "c0bfd1cc",
   "metadata": {},
   "outputs": [
    {
     "name": "stdout",
     "output_type": "stream",
     "text": [
      "Yes! False is in list\n"
     ]
    }
   ],
   "source": [
    "if False in x:\n",
    "    print('Yes! False is in list')"
   ]
  },
  {
   "cell_type": "code",
   "execution_count": 7,
   "id": "6ce10279",
   "metadata": {},
   "outputs": [
    {
     "data": {
      "text/plain": [
       "['hhieo', False, (3+9j)]"
      ]
     },
     "execution_count": 7,
     "metadata": {},
     "output_type": "execute_result"
    }
   ],
   "source": [
    "x[2:5]"
   ]
  },
  {
   "cell_type": "code",
   "execution_count": 8,
   "id": "eecfe418",
   "metadata": {},
   "outputs": [],
   "source": [
    "x[3]=True"
   ]
  },
  {
   "cell_type": "code",
   "execution_count": 9,
   "id": "1d58d36b",
   "metadata": {},
   "outputs": [
    {
     "data": {
      "text/plain": [
       "[38, -29, 'hhieo', True, (3+9j), 'ndkdl']"
      ]
     },
     "execution_count": 9,
     "metadata": {},
     "output_type": "execute_result"
    }
   ],
   "source": [
    "x"
   ]
  },
  {
   "cell_type": "code",
   "execution_count": 10,
   "id": "308472a4",
   "metadata": {},
   "outputs": [
    {
     "data": {
      "text/plain": [
       "['lkksf', 'klls', 334, -22, 33.93, (3+2j), 'kd', False, 'jfd', -33, 'mls']"
      ]
     },
     "execution_count": 10,
     "metadata": {},
     "output_type": "execute_result"
    }
   ],
   "source": [
    "a=['lkksf','klls',334,-22,33.93,3+2j]\n",
    "b=['kd',False,'jfd',-33,'mls']\n",
    "a.extend(b)\n",
    "a"
   ]
  },
  {
   "cell_type": "code",
   "execution_count": 11,
   "id": "b6e0fd1e",
   "metadata": {},
   "outputs": [],
   "source": [
    "# LOOPS"
   ]
  },
  {
   "cell_type": "code",
   "execution_count": 12,
   "id": "6fa05fdd",
   "metadata": {},
   "outputs": [
    {
     "name": "stdout",
     "output_type": "stream",
     "text": [
      "kd\n",
      "False\n",
      "jfd\n",
      "-33\n",
      "mls\n"
     ]
    }
   ],
   "source": [
    "list1=['kd',False,'jfd',-33,'mls']\n",
    "for x in list1:\n",
    "    print(x)"
   ]
  },
  {
   "cell_type": "code",
   "execution_count": 13,
   "id": "fb3612a7",
   "metadata": {},
   "outputs": [
    {
     "name": "stdout",
     "output_type": "stream",
     "text": [
      "kd\n",
      "False\n",
      "jfd\n",
      "-33\n",
      "mls\n"
     ]
    }
   ],
   "source": [
    "list2=['kd',False,'jfd',-33,'mls']\n",
    "for i in range(len(list2)):\n",
    "    print(list2[i])"
   ]
  },
  {
   "cell_type": "code",
   "execution_count": 14,
   "id": "26bdf009",
   "metadata": {},
   "outputs": [
    {
     "name": "stdout",
     "output_type": "stream",
     "text": [
      "kld\n",
      "33\n",
      "-393\n",
      "False\n",
      "jlls\n"
     ]
    }
   ],
   "source": [
    "b=['kld',33,-393,False,'jlls']\n",
    "i=0\n",
    "while i< len(b):\n",
    "    print(b[i])\n",
    "    i=i+1"
   ]
  },
  {
   "cell_type": "code",
   "execution_count": 15,
   "id": "38412332",
   "metadata": {},
   "outputs": [
    {
     "name": "stdout",
     "output_type": "stream",
     "text": [
      "kld\n",
      "33\n",
      "-393\n",
      "False\n",
      "jlls\n"
     ]
    },
    {
     "data": {
      "text/plain": [
       "[None, None, None, None, None]"
      ]
     },
     "execution_count": 15,
     "metadata": {},
     "output_type": "execute_result"
    }
   ],
   "source": [
    "x=['kld',33,-393,False,'jlls']\n",
    "[print(i) for i in x]"
   ]
  },
  {
   "cell_type": "code",
   "execution_count": 16,
   "id": "eeac6c4b",
   "metadata": {},
   "outputs": [
    {
     "name": "stdout",
     "output_type": "stream",
     "text": [
      "['aman', 'adi', 'ash', 'dagv']\n"
     ]
    }
   ],
   "source": [
    "name=['aman','rj','adi','hem','ash','dagv']\n",
    "new=[]\n",
    "for i in name:                               #without list comprehension\n",
    "    if 'a' in i:\n",
    "        new.append(i)\n",
    "print(new)"
   ]
  },
  {
   "cell_type": "code",
   "execution_count": 17,
   "id": "a0e24493",
   "metadata": {},
   "outputs": [
    {
     "name": "stdout",
     "output_type": "stream",
     "text": [
      "['aman', 'adi', 'ash', 'dagv']\n"
     ]
    }
   ],
   "source": [
    "name=['aman','rj','adi','hem','ash','dagv']          #With list comrehension,this condition is like a filter that only\n",
    "new=[i for i in name if 'a' in i]                    #accepts the items that valuate to True\n",
    "print(new)"
   ]
  },
  {
   "cell_type": "code",
   "execution_count": 18,
   "id": "bd8803f7",
   "metadata": {},
   "outputs": [
    {
     "name": "stdout",
     "output_type": "stream",
     "text": [
      "['aman', 'adi', 'ash', 'dagv']\n"
     ]
    }
   ],
   "source": [
    "name=['aman','rj','adi','hem','ash','dagv'] \n",
    "new1=[i for i in name if 'a'!= i]\n",
    "print(new)"
   ]
  },
  {
   "cell_type": "code",
   "execution_count": 19,
   "id": "2a336a9e",
   "metadata": {},
   "outputs": [
    {
     "name": "stdout",
     "output_type": "stream",
     "text": [
      "[1, 2, 3, 4, 5, 6, 7, 8, 9]\n"
     ]
    }
   ],
   "source": [
    "n=[i for i in range(1,10)]\n",
    "print(n)"
   ]
  },
  {
   "cell_type": "code",
   "execution_count": 20,
   "id": "564434ca",
   "metadata": {},
   "outputs": [
    {
     "name": "stdout",
     "output_type": "stream",
     "text": [
      "[0, 1, 2, 3]\n"
     ]
    }
   ],
   "source": [
    "n=[i for i in range(10) if i<4]\n",
    "print(n)"
   ]
  },
  {
   "cell_type": "code",
   "execution_count": 21,
   "id": "9ce28e7d",
   "metadata": {},
   "outputs": [
    {
     "name": "stdout",
     "output_type": "stream",
     "text": [
      "['JSL', 'LSJ', 'JJLA', 'JKJQ', 'IOIE']\n"
     ]
    }
   ],
   "source": [
    "a=['jsl','lsj','jjla','jkjq','ioie']\n",
    "c=[i.upper() for i in a]\n",
    "print(c)"
   ]
  },
  {
   "cell_type": "code",
   "execution_count": 22,
   "id": "94b8259e",
   "metadata": {},
   "outputs": [
    {
     "name": "stdout",
     "output_type": "stream",
     "text": [
      "['jsl', 'jkqj', 'jjla', 'jkjq', 'ioie']\n"
     ]
    }
   ],
   "source": [
    "a=['jsl','lsj','jjla','jkjq','ioie']\n",
    "e=[i if i!='lsj'else 'jkqj' for i in a]\n",
    "print(e)"
   ]
  },
  {
   "cell_type": "code",
   "execution_count": 23,
   "id": "95f8773d",
   "metadata": {},
   "outputs": [
    {
     "data": {
      "text/plain": [
       "['hi', 'hi', 'hi', 'hi', 'hi']"
      ]
     },
     "execution_count": 23,
     "metadata": {},
     "output_type": "execute_result"
    }
   ],
   "source": [
    "x=['hi' for i in a]\n",
    "x"
   ]
  },
  {
   "cell_type": "code",
   "execution_count": 24,
   "id": "684ff3e7",
   "metadata": {},
   "outputs": [
    {
     "data": {
      "text/plain": [
       "['ioie', 'jjla', 'jkjq', 'jsl', 'lsj']"
      ]
     },
     "execution_count": 24,
     "metadata": {},
     "output_type": "execute_result"
    }
   ],
   "source": [
    "a\n",
    "a.sort()\n",
    "a"
   ]
  },
  {
   "cell_type": "code",
   "execution_count": 25,
   "id": "67432398",
   "metadata": {},
   "outputs": [
    {
     "name": "stdout",
     "output_type": "stream",
     "text": [
      "[9, 2, 'df', 93, 'mls', 93, 93, 'kd', 'kk']\n"
     ]
    }
   ],
   "source": [
    "a=[9,2,'df',93,'mls']\n",
    "b=[93,93,'kd','kk']\n",
    "c=a+b\n",
    "print(c)"
   ]
  },
  {
   "cell_type": "code",
   "execution_count": 26,
   "id": "4210cad8",
   "metadata": {},
   "outputs": [
    {
     "name": "stdout",
     "output_type": "stream",
     "text": [
      "[93, 93, 'kd', 'kk', 9, 2, 'df', 93, 'mls']\n"
     ]
    }
   ],
   "source": [
    "a=[9,2,'df',93,'mls']\n",
    "b=[93,93,'kd','kk']\n",
    "for i in a:\n",
    "    b.append(i)\n",
    "print(b)"
   ]
  },
  {
   "cell_type": "markdown",
   "id": "a9872357",
   "metadata": {},
   "source": [
    "# Tuple"
   ]
  },
  {
   "cell_type": "code",
   "execution_count": 27,
   "id": "259e972b",
   "metadata": {},
   "outputs": [
    {
     "name": "stdout",
     "output_type": "stream",
     "text": [
      "(44, 9, 'kd', 'jkj', False, 'jkjzf', 9.2)\n"
     ]
    }
   ],
   "source": [
    "x=(44,9,'kd','jkj',False)\n",
    "y=('jkjzf',9.2,)\n",
    "x+=y\n",
    "print(x)"
   ]
  },
  {
   "cell_type": "code",
   "execution_count": 28,
   "id": "5bfd32bc",
   "metadata": {},
   "outputs": [
    {
     "ename": "NameError",
     "evalue": "name 'colors' is not defined",
     "output_type": "error",
     "traceback": [
      "\u001b[1;31m---------------------------------------------------------------------------\u001b[0m",
      "\u001b[1;31mNameError\u001b[0m                                 Traceback (most recent call last)",
      "Input \u001b[1;32mIn [28]\u001b[0m, in \u001b[0;36m<cell line: 2>\u001b[1;34m()\u001b[0m\n\u001b[0;32m      1\u001b[0m cars\u001b[38;5;241m=\u001b[39m(\u001b[38;5;124m\"\u001b[39m\u001b[38;5;124mjaguar\u001b[39m\u001b[38;5;124m\"\u001b[39m,\u001b[38;5;124m\"\u001b[39m\u001b[38;5;124mbenz\u001b[39m\u001b[38;5;124m\"\u001b[39m,\u001b[38;5;124m\"\u001b[39m\u001b[38;5;124mmaruti\u001b[39m\u001b[38;5;124m\"\u001b[39m,\u001b[38;5;124m\"\u001b[39m\u001b[38;5;124malto\u001b[39m\u001b[38;5;124m\"\u001b[39m)\n\u001b[1;32m----> 2\u001b[0m (green,blue,black,red)\u001b[38;5;241m=\u001b[39m\u001b[43mcolors\u001b[49m\n\u001b[0;32m      4\u001b[0m \u001b[38;5;28mprint\u001b[39m(green)\n\u001b[0;32m      5\u001b[0m \u001b[38;5;28mprint\u001b[39m(blue)                                \u001b[38;5;66;03m# code not working\u001b[39;00m\n",
      "\u001b[1;31mNameError\u001b[0m: name 'colors' is not defined"
     ]
    }
   ],
   "source": [
    "cars=(\"jaguar\",\"benz\",\"maruti\",\"alto\")\n",
    "(green,blue,black,red)=colors\n",
    "\n",
    "print(green)\n",
    "print(blue)                                # code not working\n",
    "print(black)\n",
    "print(red)"
   ]
  },
  {
   "cell_type": "code",
   "execution_count": 29,
   "id": "e7754ec0",
   "metadata": {},
   "outputs": [
    {
     "name": "stdout",
     "output_type": "stream",
     "text": [
      "44\n",
      "9\n",
      "kd\n",
      "jkj\n",
      "False\n"
     ]
    }
   ],
   "source": [
    "x=(44,9,'kd','jkj',False)\n",
    "for i in range(len(x)):\n",
    "    print(x[i])"
   ]
  },
  {
   "cell_type": "markdown",
   "id": "9e8739bf",
   "metadata": {},
   "source": [
    "# Set"
   ]
  },
  {
   "cell_type": "code",
   "execution_count": 30,
   "id": "84b63094",
   "metadata": {},
   "outputs": [
    {
     "name": "stdout",
     "output_type": "stream",
     "text": [
      "True\n"
     ]
    }
   ],
   "source": [
    "a={'hero','tvs','honda','yamaha'}\n",
    "print('tvs' in a)\n"
   ]
  },
  {
   "cell_type": "code",
   "execution_count": 31,
   "id": "33672fad",
   "metadata": {},
   "outputs": [
    {
     "data": {
      "text/plain": [
       "{'hero', 'honda', 'tvs', 'yamaha'}"
      ]
     },
     "execution_count": 31,
     "metadata": {},
     "output_type": "execute_result"
    }
   ],
   "source": [
    "a"
   ]
  },
  {
   "cell_type": "code",
   "execution_count": 32,
   "id": "b68b2709",
   "metadata": {},
   "outputs": [],
   "source": [
    "a.add('nnkd')"
   ]
  },
  {
   "cell_type": "code",
   "execution_count": 33,
   "id": "9f6c4b0c",
   "metadata": {},
   "outputs": [
    {
     "data": {
      "text/plain": [
       "{'hero', 'honda', 'nnkd', 'tvs', 'yamaha'}"
      ]
     },
     "execution_count": 33,
     "metadata": {},
     "output_type": "execute_result"
    }
   ],
   "source": [
    "a"
   ]
  },
  {
   "cell_type": "code",
   "execution_count": 34,
   "id": "9fcc56db",
   "metadata": {},
   "outputs": [],
   "source": [
    "a={'hero','tvs','honda','yamaha'}\n",
    "b={'black','green','orange','white', 'red'}\n",
    "b.update(a)"
   ]
  },
  {
   "cell_type": "code",
   "execution_count": 35,
   "id": "3cd3ba8c",
   "metadata": {},
   "outputs": [
    {
     "data": {
      "text/plain": [
       "{'black', 'green', 'hero', 'honda', 'orange', 'red', 'tvs', 'white', 'yamaha'}"
      ]
     },
     "execution_count": 35,
     "metadata": {},
     "output_type": "execute_result"
    }
   ],
   "source": [
    "b"
   ]
  },
  {
   "cell_type": "code",
   "execution_count": 36,
   "id": "ca2a0bdc",
   "metadata": {},
   "outputs": [
    {
     "data": {
      "text/plain": [
       "{'black', 'green', 'hero', 'honda', 'orange', 'red', 'tvs', 'white', 'yamaha'}"
      ]
     },
     "execution_count": 36,
     "metadata": {},
     "output_type": "execute_result"
    }
   ],
   "source": [
    "a=['hero','tvs','honda','yamaha']\n",
    "b={'black','green','orange','white', 'red'}\n",
    "b.update(a)\n",
    "b"
   ]
  },
  {
   "cell_type": "code",
   "execution_count": 37,
   "id": "3cda429e",
   "metadata": {},
   "outputs": [
    {
     "data": {
      "text/plain": [
       "{'black', 'orange', 'red', 'white'}"
      ]
     },
     "execution_count": 37,
     "metadata": {},
     "output_type": "execute_result"
    }
   ],
   "source": [
    "b={'black','green','orange','white', 'red'}\n",
    "b.remove('green')\n",
    "b"
   ]
  },
  {
   "cell_type": "code",
   "execution_count": 38,
   "id": "1390e5c6",
   "metadata": {},
   "outputs": [
    {
     "data": {
      "text/plain": [
       "{'black', 'green', 'orange', 'white'}"
      ]
     },
     "execution_count": 38,
     "metadata": {},
     "output_type": "execute_result"
    }
   ],
   "source": [
    "b={'black','green','orange','white', 'red'}\n",
    "b.discard('red')\n",
    "b"
   ]
  },
  {
   "cell_type": "code",
   "execution_count": 39,
   "id": "220fd1ab",
   "metadata": {},
   "outputs": [],
   "source": [
    "b={'black','green','orange','white', 'red'}\n",
    "b.discard('yellow')"
   ]
  },
  {
   "cell_type": "code",
   "execution_count": 40,
   "id": "5646a858",
   "metadata": {},
   "outputs": [
    {
     "data": {
      "text/plain": [
       "'orange'"
      ]
     },
     "execution_count": 40,
     "metadata": {},
     "output_type": "execute_result"
    }
   ],
   "source": [
    "b={'black','green','orange','white', 'red'}\n",
    "c=b.pop()\n",
    "c"
   ]
  },
  {
   "cell_type": "code",
   "execution_count": 41,
   "id": "a2cf4b69",
   "metadata": {},
   "outputs": [
    {
     "data": {
      "text/plain": [
       "'orange'"
      ]
     },
     "execution_count": 41,
     "metadata": {},
     "output_type": "execute_result"
    }
   ],
   "source": [
    "b={'black','green','orange','white', 'red'}\n",
    "s=b.pop()\n",
    "s"
   ]
  },
  {
   "cell_type": "code",
   "execution_count": 42,
   "id": "75bfdb24",
   "metadata": {},
   "outputs": [
    {
     "data": {
      "text/plain": [
       "{'black', 'green', 'red', 'white'}"
      ]
     },
     "execution_count": 42,
     "metadata": {},
     "output_type": "execute_result"
    }
   ],
   "source": [
    "b"
   ]
  },
  {
   "cell_type": "code",
   "execution_count": 43,
   "id": "64d5db7f",
   "metadata": {},
   "outputs": [],
   "source": [
    "d=b.pop()"
   ]
  },
  {
   "cell_type": "code",
   "execution_count": 44,
   "id": "ca4dbad5",
   "metadata": {},
   "outputs": [],
   "source": [
    "d=b.pop()"
   ]
  },
  {
   "cell_type": "code",
   "execution_count": 45,
   "id": "e4358c5b",
   "metadata": {},
   "outputs": [
    {
     "data": {
      "text/plain": [
       "'red'"
      ]
     },
     "execution_count": 45,
     "metadata": {},
     "output_type": "execute_result"
    }
   ],
   "source": [
    "d"
   ]
  },
  {
   "cell_type": "code",
   "execution_count": 46,
   "id": "159341f3",
   "metadata": {},
   "outputs": [
    {
     "ename": "NameError",
     "evalue": "name 'r' is not defined",
     "output_type": "error",
     "traceback": [
      "\u001b[1;31m---------------------------------------------------------------------------\u001b[0m",
      "\u001b[1;31mNameError\u001b[0m                                 Traceback (most recent call last)",
      "Input \u001b[1;32mIn [46]\u001b[0m, in \u001b[0;36m<cell line: 3>\u001b[1;34m()\u001b[0m\n\u001b[0;32m      1\u001b[0m r\u001b[38;5;241m=\u001b[39m{\u001b[38;5;124m'\u001b[39m\u001b[38;5;124mblack\u001b[39m\u001b[38;5;124m'\u001b[39m,\u001b[38;5;124m'\u001b[39m\u001b[38;5;124mgreen\u001b[39m\u001b[38;5;124m'\u001b[39m,\u001b[38;5;124m'\u001b[39m\u001b[38;5;124morange\u001b[39m\u001b[38;5;124m'\u001b[39m,\u001b[38;5;124m'\u001b[39m\u001b[38;5;124mwhite\u001b[39m\u001b[38;5;124m'\u001b[39m, \u001b[38;5;124m'\u001b[39m\u001b[38;5;124mred\u001b[39m\u001b[38;5;124m'\u001b[39m}\n\u001b[0;32m      2\u001b[0m \u001b[38;5;28;01mdel\u001b[39;00m r\n\u001b[1;32m----> 3\u001b[0m \u001b[43mr\u001b[49m\n",
      "\u001b[1;31mNameError\u001b[0m: name 'r' is not defined"
     ]
    }
   ],
   "source": [
    "r={'black','green','orange','white', 'red'}\n",
    "del r\n",
    "r"
   ]
  },
  {
   "cell_type": "code",
   "execution_count": 47,
   "id": "d8072fc8",
   "metadata": {},
   "outputs": [
    {
     "data": {
      "text/plain": [
       "set()"
      ]
     },
     "execution_count": 47,
     "metadata": {},
     "output_type": "execute_result"
    }
   ],
   "source": [
    "w={'black','green','orange','white', 'red'}\n",
    "w.clear()\n",
    "w"
   ]
  },
  {
   "cell_type": "code",
   "execution_count": 48,
   "id": "a5447722",
   "metadata": {},
   "outputs": [
    {
     "name": "stdout",
     "output_type": "stream",
     "text": [
      "black\n",
      "orange\n",
      "red\n",
      "green\n"
     ]
    }
   ],
   "source": [
    "y={'black','green','orange', 'red'}\n",
    "for i in y:\n",
    "    print(i)"
   ]
  },
  {
   "cell_type": "code",
   "execution_count": 49,
   "id": "0c3c3baa",
   "metadata": {},
   "outputs": [
    {
     "data": {
      "text/plain": [
       "{'black', 'dev', 'jay', 'orange', 'radhe', 'ram', 'red', 'white'}"
      ]
     },
     "execution_count": 49,
     "metadata": {},
     "output_type": "execute_result"
    }
   ],
   "source": [
    "b={'black','orange','white', 'red'}                  # Both union and update exclude duplicate items\n",
    "t={'ram','radhe','jay','dev'}\n",
    "e=b.union(t)\n",
    "e"
   ]
  },
  {
   "cell_type": "code",
   "execution_count": 50,
   "id": "b476e24c",
   "metadata": {},
   "outputs": [
    {
     "data": {
      "text/plain": [
       "{'black', 'dev', 'jay', 'orange', 'ram', 'red'}"
      ]
     },
     "execution_count": 50,
     "metadata": {},
     "output_type": "execute_result"
    }
   ],
   "source": [
    "b={'black','orange','red'}\n",
    "t={'ram','jay','dev'}\n",
    "t.update(b)\n",
    "t"
   ]
  },
  {
   "cell_type": "code",
   "execution_count": 51,
   "id": "b3b407b4",
   "metadata": {},
   "outputs": [
    {
     "data": {
      "text/plain": [
       "{'apple'}"
      ]
     },
     "execution_count": 51,
     "metadata": {},
     "output_type": "execute_result"
    }
   ],
   "source": [
    "x = {\"apple\", \"banana\", \"cherry\"}\n",
    "y = {\"google\", \"microsoft\", \"apple\"}\n",
    "y.intersection_update(x)\n",
    "y"
   ]
  },
  {
   "cell_type": "code",
   "execution_count": 52,
   "id": "6028d9a5",
   "metadata": {},
   "outputs": [
    {
     "data": {
      "text/plain": [
       "{'apple'}"
      ]
     },
     "execution_count": 52,
     "metadata": {},
     "output_type": "execute_result"
    }
   ],
   "source": [
    "x = {\"apple\", \"banana\", \"cherry\"}\n",
    "y = {\"google\", \"microsoft\", \"apple\"}\n",
    "z=y.intersection(x)\n",
    "z"
   ]
  },
  {
   "cell_type": "code",
   "execution_count": 53,
   "id": "3d703592",
   "metadata": {},
   "outputs": [
    {
     "data": {
      "text/plain": [
       "{'banana', 'cherry', 'google', 'microsoft'}"
      ]
     },
     "execution_count": 53,
     "metadata": {},
     "output_type": "execute_result"
    }
   ],
   "source": [
    "x = {\"apple\", \"banana\", \"cherry\"}\n",
    "y = {\"google\", \"microsoft\", \"apple\"}\n",
    "x.symmetric_difference_update(y)\n",
    "x"
   ]
  },
  {
   "cell_type": "code",
   "execution_count": 54,
   "id": "411144bc",
   "metadata": {},
   "outputs": [
    {
     "data": {
      "text/plain": [
       "{'banana', 'cherry', 'google', 'microsoft'}"
      ]
     },
     "execution_count": 54,
     "metadata": {},
     "output_type": "execute_result"
    }
   ],
   "source": [
    "x = {\"apple\", \"banana\", \"cherry\"}\n",
    "y = {\"google\", \"microsoft\", \"apple\"}\n",
    "z=x.symmetric_difference(y)\n",
    "z"
   ]
  },
  {
   "cell_type": "code",
   "execution_count": 55,
   "id": "dcf92e4b",
   "metadata": {},
   "outputs": [
    {
     "data": {
      "text/plain": [
       "{2, 'banana', 'cherry', 'google'}"
      ]
     },
     "execution_count": 55,
     "metadata": {},
     "output_type": "execute_result"
    }
   ],
   "source": [
    "x = {\"apple\", \"banana\", \"cherry\", True}\n",
    "y = {\"google\", 1, \"apple\", 2}\n",
    "z=x.symmetric_difference(y)\n",
    "z"
   ]
  },
  {
   "cell_type": "markdown",
   "id": "173cb9cb",
   "metadata": {},
   "source": [
    "# Dictionary"
   ]
  },
  {
   "cell_type": "code",
   "execution_count": 56,
   "id": "0931b4ef",
   "metadata": {},
   "outputs": [],
   "source": [
    "x = {\n",
    "  \"brand\": \"Ford\",\n",
    "  \"model\": \"Mustang\",\n",
    "  \"year\": 1964,\n",
    "  \"decade\": 2020\n",
    "}"
   ]
  },
  {
   "cell_type": "code",
   "execution_count": 57,
   "id": "1c73df72",
   "metadata": {},
   "outputs": [
    {
     "data": {
      "text/plain": [
       "4"
      ]
     },
     "execution_count": 57,
     "metadata": {},
     "output_type": "execute_result"
    }
   ],
   "source": [
    "len(x)"
   ]
  },
  {
   "cell_type": "code",
   "execution_count": 58,
   "id": "3e7d3002",
   "metadata": {},
   "outputs": [
    {
     "data": {
      "text/plain": [
       "'Mustang'"
      ]
     },
     "execution_count": 58,
     "metadata": {},
     "output_type": "execute_result"
    }
   ],
   "source": [
    "y=x['model']\n",
    "y"
   ]
  },
  {
   "cell_type": "code",
   "execution_count": 59,
   "id": "dfd60b0a",
   "metadata": {},
   "outputs": [
    {
     "data": {
      "text/plain": [
       "1964"
      ]
     },
     "execution_count": 59,
     "metadata": {},
     "output_type": "execute_result"
    }
   ],
   "source": [
    "z=x.get('year')\n",
    "z"
   ]
  },
  {
   "cell_type": "code",
   "execution_count": 60,
   "id": "4c0dcd18",
   "metadata": {},
   "outputs": [
    {
     "data": {
      "text/plain": [
       "dict_keys(['brand', 'model', 'year', 'decade'])"
      ]
     },
     "execution_count": 60,
     "metadata": {},
     "output_type": "execute_result"
    }
   ],
   "source": [
    "a=x.keys()\n",
    "a"
   ]
  },
  {
   "cell_type": "code",
   "execution_count": 61,
   "id": "e7a17c37",
   "metadata": {},
   "outputs": [
    {
     "name": "stdout",
     "output_type": "stream",
     "text": [
      "dict_keys(['brand', 'model', 'year', 'decade'])\n"
     ]
    }
   ],
   "source": [
    "print(x.keys())\n",
    "x['avg']=38"
   ]
  },
  {
   "cell_type": "code",
   "execution_count": 62,
   "id": "0aa567df",
   "metadata": {},
   "outputs": [
    {
     "name": "stdout",
     "output_type": "stream",
     "text": [
      "dict_keys(['brand', 'model', 'year', 'decade', 'avg'])\n"
     ]
    }
   ],
   "source": [
    "print(x.keys())"
   ]
  },
  {
   "cell_type": "code",
   "execution_count": 64,
   "id": "a75b3023",
   "metadata": {},
   "outputs": [
    {
     "name": "stdout",
     "output_type": "stream",
     "text": [
      "dict_values(['Ford', 'Mustang', 1964, 2020, 38])\n"
     ]
    }
   ],
   "source": [
    "print(x.values())"
   ]
  },
  {
   "cell_type": "code",
   "execution_count": 66,
   "id": "f3a755cb",
   "metadata": {},
   "outputs": [
    {
     "name": "stdout",
     "output_type": "stream",
     "text": [
      "dict_items([('brand', 'Ford'), ('model', 'Mustang'), ('year', 1964), ('decade', 2020), ('avg', 38)])\n"
     ]
    }
   ],
   "source": [
    "print(x.items())"
   ]
  },
  {
   "cell_type": "code",
   "execution_count": 67,
   "id": "b1b920c4",
   "metadata": {},
   "outputs": [],
   "source": [
    "x['color']='magenta'"
   ]
  },
  {
   "cell_type": "code",
   "execution_count": 68,
   "id": "95a811da",
   "metadata": {},
   "outputs": [
    {
     "data": {
      "text/plain": [
       "{'brand': 'Ford',\n",
       " 'model': 'Mustang',\n",
       " 'year': 1964,\n",
       " 'decade': 2020,\n",
       " 'avg': 38,\n",
       " 'color': 'magenta'}"
      ]
     },
     "execution_count": 68,
     "metadata": {},
     "output_type": "execute_result"
    }
   ],
   "source": [
    "x"
   ]
  },
  {
   "cell_type": "code",
   "execution_count": 69,
   "id": "af9ba0f9",
   "metadata": {},
   "outputs": [
    {
     "name": "stdout",
     "output_type": "stream",
     "text": [
      "Yes it is there\n"
     ]
    }
   ],
   "source": [
    "if 'year' in x:\n",
    "    print('Yes it is there')"
   ]
  },
  {
   "cell_type": "code",
   "execution_count": 72,
   "id": "a1702831",
   "metadata": {},
   "outputs": [],
   "source": [
    "x['model']='mg'"
   ]
  },
  {
   "cell_type": "code",
   "execution_count": 73,
   "id": "1bd86975",
   "metadata": {},
   "outputs": [
    {
     "data": {
      "text/plain": [
       "{'brand': 'Ford',\n",
       " 'model': 'mg',\n",
       " 'year': 1964,\n",
       " 'decade': 2020,\n",
       " 'avg': 38,\n",
       " 'color': 'magenta'}"
      ]
     },
     "execution_count": 73,
     "metadata": {},
     "output_type": "execute_result"
    }
   ],
   "source": [
    "x"
   ]
  },
  {
   "cell_type": "code",
   "execution_count": 76,
   "id": "4e2dad6b",
   "metadata": {},
   "outputs": [],
   "source": [
    "x.update({'price':1200})"
   ]
  },
  {
   "cell_type": "code",
   "execution_count": 77,
   "id": "ad170148",
   "metadata": {},
   "outputs": [
    {
     "data": {
      "text/plain": [
       "{'brand': 'Ford',\n",
       " 'model': 'mg',\n",
       " 'year': 1964,\n",
       " 'decade': 2020,\n",
       " 'avg': 38,\n",
       " 'color': 'magenta',\n",
       " 'price': 1200}"
      ]
     },
     "execution_count": 77,
     "metadata": {},
     "output_type": "execute_result"
    }
   ],
   "source": [
    "x"
   ]
  },
  {
   "cell_type": "code",
   "execution_count": 78,
   "id": "95f1b0b8",
   "metadata": {},
   "outputs": [
    {
     "data": {
      "text/plain": [
       "1964"
      ]
     },
     "execution_count": 78,
     "metadata": {},
     "output_type": "execute_result"
    }
   ],
   "source": [
    "x.pop('year')"
   ]
  },
  {
   "cell_type": "code",
   "execution_count": 79,
   "id": "bb8b83c8",
   "metadata": {},
   "outputs": [
    {
     "data": {
      "text/plain": [
       "{'brand': 'Ford',\n",
       " 'model': 'mg',\n",
       " 'decade': 2020,\n",
       " 'avg': 38,\n",
       " 'color': 'magenta',\n",
       " 'price': 1200}"
      ]
     },
     "execution_count": 79,
     "metadata": {},
     "output_type": "execute_result"
    }
   ],
   "source": [
    "x"
   ]
  },
  {
   "cell_type": "code",
   "execution_count": 80,
   "id": "13458dac",
   "metadata": {},
   "outputs": [
    {
     "data": {
      "text/plain": [
       "('price', 1200)"
      ]
     },
     "execution_count": 80,
     "metadata": {},
     "output_type": "execute_result"
    }
   ],
   "source": [
    "x.popitem()"
   ]
  },
  {
   "cell_type": "code",
   "execution_count": 81,
   "id": "3c6d3fd1",
   "metadata": {},
   "outputs": [
    {
     "data": {
      "text/plain": [
       "{'brand': 'Ford', 'model': 'mg', 'decade': 2020, 'avg': 38, 'color': 'magenta'}"
      ]
     },
     "execution_count": 81,
     "metadata": {},
     "output_type": "execute_result"
    }
   ],
   "source": [
    "x"
   ]
  },
  {
   "cell_type": "code",
   "execution_count": 82,
   "id": "a44df90f",
   "metadata": {},
   "outputs": [],
   "source": [
    "del x['model']"
   ]
  },
  {
   "cell_type": "code",
   "execution_count": 83,
   "id": "12bb2c25",
   "metadata": {},
   "outputs": [
    {
     "data": {
      "text/plain": [
       "{'brand': 'Ford', 'decade': 2020, 'avg': 38, 'color': 'magenta'}"
      ]
     },
     "execution_count": 83,
     "metadata": {},
     "output_type": "execute_result"
    }
   ],
   "source": [
    "x"
   ]
  },
  {
   "cell_type": "code",
   "execution_count": 84,
   "id": "a7ceda86",
   "metadata": {},
   "outputs": [],
   "source": [
    "del x"
   ]
  },
  {
   "cell_type": "code",
   "execution_count": 85,
   "id": "4519f068",
   "metadata": {},
   "outputs": [
    {
     "ename": "NameError",
     "evalue": "name 'x' is not defined",
     "output_type": "error",
     "traceback": [
      "\u001b[1;31m---------------------------------------------------------------------------\u001b[0m",
      "\u001b[1;31mNameError\u001b[0m                                 Traceback (most recent call last)",
      "Input \u001b[1;32mIn [85]\u001b[0m, in \u001b[0;36m<cell line: 1>\u001b[1;34m()\u001b[0m\n\u001b[1;32m----> 1\u001b[0m \u001b[43mx\u001b[49m\n",
      "\u001b[1;31mNameError\u001b[0m: name 'x' is not defined"
     ]
    }
   ],
   "source": [
    "x"
   ]
  },
  {
   "cell_type": "code",
   "execution_count": 86,
   "id": "30560006",
   "metadata": {},
   "outputs": [],
   "source": [
    "z={'brand': 'Ford',\n",
    " 'model': 'mg',\n",
    " 'year': 1964,\n",
    " 'decade': 2020,\n",
    " 'avg': 38,\n",
    " 'color': 'magenta',\n",
    " 'price': 1200}"
   ]
  },
  {
   "cell_type": "code",
   "execution_count": 88,
   "id": "a7e352d1",
   "metadata": {},
   "outputs": [],
   "source": [
    "z.clear()"
   ]
  },
  {
   "cell_type": "code",
   "execution_count": 89,
   "id": "11bccd07",
   "metadata": {},
   "outputs": [
    {
     "data": {
      "text/plain": [
       "{}"
      ]
     },
     "execution_count": 89,
     "metadata": {},
     "output_type": "execute_result"
    }
   ],
   "source": [
    "z"
   ]
  },
  {
   "cell_type": "code",
   "execution_count": 90,
   "id": "d0ece514",
   "metadata": {},
   "outputs": [],
   "source": [
    "y={'brand': 'Ford',\n",
    " 'model': 'mg',\n",
    " 'year': 1964,\n",
    " 'decade': 2020,\n",
    " 'avg': 38,\n",
    " 'color': 'magenta',\n",
    " 'price': 1200}"
   ]
  },
  {
   "cell_type": "code",
   "execution_count": 91,
   "id": "9e840e78",
   "metadata": {},
   "outputs": [
    {
     "name": "stdout",
     "output_type": "stream",
     "text": [
      "brand\n",
      "model\n",
      "year\n",
      "decade\n",
      "avg\n",
      "color\n",
      "price\n"
     ]
    }
   ],
   "source": [
    "for i in y:\n",
    "    print(i)"
   ]
  },
  {
   "cell_type": "code",
   "execution_count": 92,
   "id": "67020f7f",
   "metadata": {},
   "outputs": [
    {
     "name": "stdout",
     "output_type": "stream",
     "text": [
      "Ford\n",
      "mg\n",
      "1964\n",
      "2020\n",
      "38\n",
      "magenta\n",
      "1200\n"
     ]
    }
   ],
   "source": [
    "for i in y:\n",
    "    print(y[i])"
   ]
  },
  {
   "cell_type": "code",
   "execution_count": 93,
   "id": "e80d21d4",
   "metadata": {},
   "outputs": [
    {
     "name": "stdout",
     "output_type": "stream",
     "text": [
      "Ford\n",
      "mg\n",
      "1964\n",
      "2020\n",
      "38\n",
      "magenta\n",
      "1200\n"
     ]
    }
   ],
   "source": [
    "for i in y.values():\n",
    "    print(i)"
   ]
  },
  {
   "cell_type": "code",
   "execution_count": 94,
   "id": "0aab193c",
   "metadata": {},
   "outputs": [
    {
     "name": "stdout",
     "output_type": "stream",
     "text": [
      "brand\n",
      "model\n",
      "year\n",
      "decade\n",
      "avg\n",
      "color\n",
      "price\n"
     ]
    }
   ],
   "source": [
    "for i in y.keys():\n",
    "    print(i)"
   ]
  },
  {
   "cell_type": "code",
   "execution_count": 95,
   "id": "539acb1d",
   "metadata": {},
   "outputs": [
    {
     "name": "stdout",
     "output_type": "stream",
     "text": [
      "brand Ford\n",
      "model mg\n",
      "year 1964\n",
      "decade 2020\n",
      "avg 38\n",
      "color magenta\n",
      "price 1200\n"
     ]
    }
   ],
   "source": [
    "for i,j in y.items():\n",
    "    print(i,j)"
   ]
  },
  {
   "cell_type": "code",
   "execution_count": 97,
   "id": "a19ac3c7",
   "metadata": {},
   "outputs": [
    {
     "data": {
      "text/plain": [
       "{'brand': 'Ford',\n",
       " 'model': 'mg',\n",
       " 'year': 1964,\n",
       " 'decade': 2020,\n",
       " 'avg': 38,\n",
       " 'color': 'magenta',\n",
       " 'price': 1200}"
      ]
     },
     "execution_count": 97,
     "metadata": {},
     "output_type": "execute_result"
    }
   ],
   "source": [
    "a=y.copy()\n",
    "a"
   ]
  },
  {
   "cell_type": "code",
   "execution_count": 99,
   "id": "a6ca2f52",
   "metadata": {},
   "outputs": [
    {
     "data": {
      "text/plain": [
       "{'brand': 'Ford',\n",
       " 'model': 'mg',\n",
       " 'year': 1964,\n",
       " 'decade': 2020,\n",
       " 'avg': 38,\n",
       " 'color': 'magenta',\n",
       " 'price': 1200}"
      ]
     },
     "execution_count": 99,
     "metadata": {},
     "output_type": "execute_result"
    }
   ],
   "source": [
    "s=dict(y)\n",
    "s"
   ]
  },
  {
   "cell_type": "code",
   "execution_count": 8,
   "id": "343e3049",
   "metadata": {},
   "outputs": [],
   "source": [
    "std={\n",
    "'class1' :{\n",
    " 'name' : 'r'},\n",
    "'class2':{\n",
    "'name':'e'},\n",
    "'class3':{\n",
    "'name':'t'}\n",
    "}"
   ]
  },
  {
   "cell_type": "code",
   "execution_count": 9,
   "id": "5e41094b",
   "metadata": {},
   "outputs": [
    {
     "data": {
      "text/plain": [
       "{'class1': {'name': 'r'}, 'class2': {'name': 'e'}, 'class3': {'name': 't'}}"
      ]
     },
     "execution_count": 9,
     "metadata": {},
     "output_type": "execute_result"
    }
   ],
   "source": [
    "std"
   ]
  },
  {
   "cell_type": "code",
   "execution_count": 10,
   "id": "2261b9a0",
   "metadata": {},
   "outputs": [
    {
     "data": {
      "text/plain": [
       "'e'"
      ]
     },
     "execution_count": 10,
     "metadata": {},
     "output_type": "execute_result"
    }
   ],
   "source": [
    "std['class2']['name']"
   ]
  },
  {
   "cell_type": "code",
   "execution_count": 1,
   "id": "32bbb19b",
   "metadata": {},
   "outputs": [],
   "source": [
    "name='d'\n",
    "num=45"
   ]
  },
  {
   "cell_type": "code",
   "execution_count": 3,
   "id": "02c7b42e",
   "metadata": {},
   "outputs": [
    {
     "data": {
      "text/plain": [
       "'this is my name d and this is num 45'"
      ]
     },
     "execution_count": 3,
     "metadata": {},
     "output_type": "execute_result"
    }
   ],
   "source": [
    "'this is my name {} and this is num {}'.format(name,num)"
   ]
  },
  {
   "cell_type": "code",
   "execution_count": 4,
   "id": "31c6b2b8",
   "metadata": {},
   "outputs": [
    {
     "data": {
      "text/plain": [
       "'jlkll'"
      ]
     },
     "execution_count": 4,
     "metadata": {},
     "output_type": "execute_result"
    }
   ],
   "source": [
    "'jlkll'"
   ]
  },
  {
   "cell_type": "code",
   "execution_count": 12,
   "id": "1b7f895e",
   "metadata": {},
   "outputs": [
    {
     "name": "stdout",
     "output_type": "stream",
     "text": [
      "[4, 16, 36, 64, 144]\n"
     ]
    }
   ],
   "source": [
    "x=[2,4,6,8,12]\n",
    "out=[]\n",
    "for num in x:\n",
    "    out.append(num**2)\n",
    "print(out)"
   ]
  },
  {
   "cell_type": "code",
   "execution_count": 15,
   "id": "06eae922",
   "metadata": {},
   "outputs": [
    {
     "data": {
      "text/plain": [
       "9"
      ]
     },
     "execution_count": 15,
     "metadata": {},
     "output_type": "execute_result"
    }
   ],
   "source": [
    "x=lambda num:num**2\n",
    "x(3)"
   ]
  },
  {
   "cell_type": "code",
   "execution_count": null,
   "id": "750ea2f8",
   "metadata": {},
   "outputs": [],
   "source": []
  }
 ],
 "metadata": {
  "kernelspec": {
   "display_name": "Python 3 (ipykernel)",
   "language": "python",
   "name": "python3"
  },
  "language_info": {
   "codemirror_mode": {
    "name": "ipython",
    "version": 3
   },
   "file_extension": ".py",
   "mimetype": "text/x-python",
   "name": "python",
   "nbconvert_exporter": "python",
   "pygments_lexer": "ipython3",
   "version": "3.9.12"
  }
 },
 "nbformat": 4,
 "nbformat_minor": 5
}
