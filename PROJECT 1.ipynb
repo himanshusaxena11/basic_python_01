{
 "cells": [
  {
   "cell_type": "code",
   "execution_count": 1,
   "id": "122cb19e",
   "metadata": {},
   "outputs": [
    {
     "name": "stdout",
     "output_type": "stream",
     "text": [
      "Hello,how are you!\n"
     ]
    }
   ],
   "source": [
    "print('Hello,how are you!')"
   ]
  },
  {
   "cell_type": "code",
   "execution_count": 2,
   "id": "1b42fd02",
   "metadata": {},
   "outputs": [
    {
     "name": "stdout",
     "output_type": "stream",
     "text": [
      "welcome to my computer quiz \n"
     ]
    }
   ],
   "source": [
    "print('welcome to my computer quiz ') "
   ]
  },
  {
   "cell_type": "code",
   "execution_count": 3,
   "id": "1ed330b1",
   "metadata": {},
   "outputs": [
    {
     "name": "stdout",
     "output_type": "stream",
     "text": [
      "himanshu_saxena\n"
     ]
    }
   ],
   "source": [
    "name='Himanshu_SAxena'\n",
    "print(name.lower())"
   ]
  },
  {
   "cell_type": "code",
   "execution_count": 4,
   "id": "6f207047",
   "metadata": {},
   "outputs": [
    {
     "name": "stdout",
     "output_type": "stream",
     "text": [
      "Are you ready to playyes\n",
      "let's go\n"
     ]
    }
   ],
   "source": [
    "agree=input('Are you ready to play')\n",
    "marks=0\n",
    "if agree.lower()== 'yes':\n",
    "    print(\"let's go\")\n",
    "elif agree!='yes':\n",
    "    print('quit')"
   ]
  },
  {
   "cell_type": "code",
   "execution_count": 5,
   "id": "5ea46e35",
   "metadata": {},
   "outputs": [
    {
     "name": "stdout",
     "output_type": "stream",
     "text": [
      "what does CPU stand forlkdd\n",
      "wrong response\n"
     ]
    }
   ],
   "source": [
    "answer=input('what does CPU stand for')\n",
    "if answer.lower()=='central processing unit':\n",
    "    print('correct')\n",
    "    marks+=1\n",
    "else:\n",
    "    print('wrong response')"
   ]
  },
  {
   "cell_type": "code",
   "execution_count": 6,
   "id": "e0eb3aa4",
   "metadata": {},
   "outputs": [
    {
     "name": "stdout",
     "output_type": "stream",
     "text": [
      "what does GPU stand forkd\n",
      "wrong response\n"
     ]
    }
   ],
   "source": [
    "answer=input('what does GPU stand for') \n",
    "if answer.lower()==('graphics processing unit'):\n",
    "    print('correct')\n",
    "    marks+=1\n",
    "else:\n",
    "    print('wrong response')"
   ]
  },
  {
   "cell_type": "code",
   "execution_count": 7,
   "id": "02091105",
   "metadata": {},
   "outputs": [
    {
     "name": "stdout",
     "output_type": "stream",
     "text": [
      "what does RAM stand forrandom access memory\n",
      "correct\n"
     ]
    }
   ],
   "source": [
    "answer=input('what does RAM stand for') \n",
    "if answer.lower()=='random access memory':\n",
    "    print('correct')\n",
    "    marks+=1\n",
    "else:\n",
    "    print('wrong response')"
   ]
  },
  {
   "cell_type": "code",
   "execution_count": 8,
   "id": "a00ca94a",
   "metadata": {},
   "outputs": [
    {
     "name": "stdout",
     "output_type": "stream",
     "text": [
      "what does BIOS stand forjkj\n",
      "wrong response\n"
     ]
    }
   ],
   "source": [
    "answer=input('what does BIOS stand for') \n",
    "if answer.lower()=='basic input output system':\n",
    "    print('correct')\n",
    "    marks+=1\n",
    "else:\n",
    "    print('wrong response')"
   ]
  },
  {
   "cell_type": "code",
   "execution_count": 9,
   "id": "fe4e4ec9",
   "metadata": {},
   "outputs": [
    {
     "name": "stdout",
     "output_type": "stream",
     "text": [
      "you got1answered correctly\n",
      "you scored25.0%\n"
     ]
    }
   ],
   "source": [
    "print('you got'+str(marks)+'answered correctly')\n",
    "print('you scored'+str((marks/4)*100)+'%')"
   ]
  },
  {
   "cell_type": "markdown",
   "id": "9282e0a7",
   "metadata": {},
   "source": [
    "# PROJECT 2"
   ]
  },
  {
   "cell_type": "code",
   "execution_count": 22,
   "id": "bb5c0306",
   "metadata": {},
   "outputs": [
    {
     "name": "stdout",
     "output_type": "stream",
     "text": [
      "Hello! good morning \n"
     ]
    }
   ],
   "source": [
    "print('Hello! good morning ')"
   ]
  },
  {
   "cell_type": "code",
   "execution_count": 23,
   "id": "ee8eb25a",
   "metadata": {},
   "outputs": [
    {
     "name": "stdout",
     "output_type": "stream",
     "text": [
      "Are you willing to play quizyes\n",
      "Hold on Tight!\n"
     ]
    }
   ],
   "source": [
    "answer=input('Are you willing to play quiz')\n",
    "marks=0\n",
    "if answer.lower()=='yes':\n",
    "    print('Hold on Tight!')\n",
    "else:\n",
    "    print('quit')"
   ]
  },
  {
   "cell_type": "code",
   "execution_count": 24,
   "id": "a48fa0e3",
   "metadata": {},
   "outputs": [
    {
     "name": "stdout",
     "output_type": "stream",
     "text": [
      "cube root of 276\n",
      "wrong\n"
     ]
    }
   ],
   "source": [
    "answer=input('cube root of 27')\n",
    "if answer=='3':\n",
    "    print('correct')\n",
    "    marks+=1\n",
    "else:\n",
    "    print('wrong')\n",
    "    marks-=1"
   ]
  },
  {
   "cell_type": "code",
   "execution_count": 13,
   "id": "97ce29e3",
   "metadata": {},
   "outputs": [
    {
     "name": "stdout",
     "output_type": "stream",
     "text": [
      "square of 981\n",
      "correct\n"
     ]
    }
   ],
   "source": [
    "answer=input('square of 9')\n",
    "if answer=='81':\n",
    "    print('correct')\n",
    "    marks+=1\n",
    "else:\n",
    "    print('wrong')\n",
    "    marks-=1"
   ]
  },
  {
   "cell_type": "code",
   "execution_count": 14,
   "id": "d3a689b4",
   "metadata": {},
   "outputs": [
    {
     "name": "stdout",
     "output_type": "stream",
     "text": [
      "45 % of 20073\n",
      "wrong\n"
     ]
    }
   ],
   "source": [
    "answer=input('45 % of 200')\n",
    "if answer=='90':\n",
    "    print('correct')\n",
    "    marks+=1\n",
    "else:\n",
    "    print('wrong')\n",
    "    marks-=1"
   ]
  },
  {
   "cell_type": "code",
   "execution_count": 16,
   "id": "8de79ec9",
   "metadata": {},
   "outputs": [
    {
     "name": "stdout",
     "output_type": "stream",
     "text": [
      "25 % of 1100275\n",
      "correct\n"
     ]
    }
   ],
   "source": [
    "answer=input('25 % of 1100')\n",
    "if answer=='275':\n",
    "    print('correct')\n",
    "    marks+=1\n",
    "else:\n",
    "    print('wrong')\n",
    "    marks-=1"
   ]
  },
  {
   "cell_type": "code",
   "execution_count": 17,
   "id": "de64d77e",
   "metadata": {},
   "outputs": [
    {
     "name": "stdout",
     "output_type": "stream",
     "text": [
      "13 * 44375\n",
      "wrong\n"
     ]
    }
   ],
   "source": [
    "answer=input('13 * 44')\n",
    "if answer=='572':\n",
    "    print('correct')\n",
    "    marks+=1\n",
    "else:\n",
    "    print('wrong')\n",
    "    marks-=1"
   ]
  },
  {
   "cell_type": "code",
   "execution_count": 21,
   "id": "dc068e99",
   "metadata": {},
   "outputs": [
    {
     "name": "stdout",
     "output_type": "stream",
     "text": [
      "you got1answered corrctly\n",
      "you scored20.0%\n"
     ]
    }
   ],
   "source": [
    "print('you got'+str(marks)+'answered corrctly')\n",
    "print('you scored'+str((marks/5)*100)+'%')"
   ]
  },
  {
   "cell_type": "code",
   "execution_count": null,
   "id": "007a16bf",
   "metadata": {},
   "outputs": [],
   "source": []
  }
 ],
 "metadata": {
  "kernelspec": {
   "display_name": "Python 3 (ipykernel)",
   "language": "python",
   "name": "python3"
  },
  "language_info": {
   "codemirror_mode": {
    "name": "ipython",
    "version": 3
   },
   "file_extension": ".py",
   "mimetype": "text/x-python",
   "name": "python",
   "nbconvert_exporter": "python",
   "pygments_lexer": "ipython3",
   "version": "3.9.12"
  }
 },
 "nbformat": 4,
 "nbformat_minor": 5
}
