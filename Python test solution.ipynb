{
 "cells": [
  {
   "cell_type": "code",
   "execution_count": 1,
   "id": "ab85690b",
   "metadata": {},
   "outputs": [],
   "source": [
    "#diff bw append and insert\n",
    "# append- add data in last of list and only 1 argument is to be given (not used in TUPLE)\n",
    "# insert- add data to specified index and 2 arguments (index no and data) is to be given [not used in TUPLE]"
   ]
  },
  {
   "cell_type": "code",
   "execution_count": 2,
   "id": "d81b6e4a",
   "metadata": {},
   "outputs": [],
   "source": [
    "#Diff bw remove , delete & pop \n",
    "# remove- remove given data from list\n",
    "# delete- not used for both list and tuple\n",
    "# pop-remove last data from list"
   ]
  },
  {
   "cell_type": "code",
   "execution_count": 51,
   "id": "49a118da",
   "metadata": {},
   "outputs": [],
   "source": [
    "a=(2,9,-1,True,'hello',-2,'good',3)"
   ]
  },
  {
   "cell_type": "code",
   "execution_count": 52,
   "id": "1c65db5d",
   "metadata": {},
   "outputs": [
    {
     "ename": "AttributeError",
     "evalue": "'tuple' object has no attribute 'append'",
     "output_type": "error",
     "traceback": [
      "\u001b[1;31m---------------------------------------------------------------------------\u001b[0m",
      "\u001b[1;31mAttributeError\u001b[0m                            Traceback (most recent call last)",
      "Input \u001b[1;32mIn [52]\u001b[0m, in \u001b[0;36m<cell line: 1>\u001b[1;34m()\u001b[0m\n\u001b[1;32m----> 1\u001b[0m \u001b[43ma\u001b[49m\u001b[38;5;241;43m.\u001b[39;49m\u001b[43mappend\u001b[49m()\n",
      "\u001b[1;31mAttributeError\u001b[0m: 'tuple' object has no attribute 'append'"
     ]
    }
   ],
   "source": [
    "a.append()"
   ]
  },
  {
   "cell_type": "code",
   "execution_count": 53,
   "id": "3792bdf9",
   "metadata": {},
   "outputs": [
    {
     "ename": "AttributeError",
     "evalue": "'tuple' object has no attribute 'insert'",
     "output_type": "error",
     "traceback": [
      "\u001b[1;31m---------------------------------------------------------------------------\u001b[0m",
      "\u001b[1;31mAttributeError\u001b[0m                            Traceback (most recent call last)",
      "Input \u001b[1;32mIn [53]\u001b[0m, in \u001b[0;36m<cell line: 1>\u001b[1;34m()\u001b[0m\n\u001b[1;32m----> 1\u001b[0m \u001b[43ma\u001b[49m\u001b[38;5;241;43m.\u001b[39;49m\u001b[43minsert\u001b[49m()\n",
      "\u001b[1;31mAttributeError\u001b[0m: 'tuple' object has no attribute 'insert'"
     ]
    }
   ],
   "source": [
    "a.insert()"
   ]
  },
  {
   "cell_type": "code",
   "execution_count": 54,
   "id": "33ac7f58",
   "metadata": {},
   "outputs": [
    {
     "ename": "AttributeError",
     "evalue": "'tuple' object has no attribute 'remove'",
     "output_type": "error",
     "traceback": [
      "\u001b[1;31m---------------------------------------------------------------------------\u001b[0m",
      "\u001b[1;31mAttributeError\u001b[0m                            Traceback (most recent call last)",
      "Input \u001b[1;32mIn [54]\u001b[0m, in \u001b[0;36m<cell line: 1>\u001b[1;34m()\u001b[0m\n\u001b[1;32m----> 1\u001b[0m \u001b[43ma\u001b[49m\u001b[38;5;241;43m.\u001b[39;49m\u001b[43mremove\u001b[49m()\n",
      "\u001b[1;31mAttributeError\u001b[0m: 'tuple' object has no attribute 'remove'"
     ]
    }
   ],
   "source": [
    "a.remove()"
   ]
  },
  {
   "cell_type": "code",
   "execution_count": 55,
   "id": "848329d0",
   "metadata": {},
   "outputs": [
    {
     "ename": "AttributeError",
     "evalue": "'tuple' object has no attribute 'delete'",
     "output_type": "error",
     "traceback": [
      "\u001b[1;31m---------------------------------------------------------------------------\u001b[0m",
      "\u001b[1;31mAttributeError\u001b[0m                            Traceback (most recent call last)",
      "Input \u001b[1;32mIn [55]\u001b[0m, in \u001b[0;36m<cell line: 1>\u001b[1;34m()\u001b[0m\n\u001b[1;32m----> 1\u001b[0m \u001b[43ma\u001b[49m\u001b[38;5;241;43m.\u001b[39;49m\u001b[43mdelete\u001b[49m()\n",
      "\u001b[1;31mAttributeError\u001b[0m: 'tuple' object has no attribute 'delete'"
     ]
    }
   ],
   "source": [
    "a.delete()"
   ]
  },
  {
   "cell_type": "code",
   "execution_count": 56,
   "id": "ebd1be8d",
   "metadata": {},
   "outputs": [],
   "source": [
    "z=[2,9,-1,True,'hello',-2,'heya']"
   ]
  },
  {
   "cell_type": "code",
   "execution_count": 57,
   "id": "64521526",
   "metadata": {},
   "outputs": [],
   "source": [
    "z.append(0)"
   ]
  },
  {
   "cell_type": "code",
   "execution_count": 58,
   "id": "1f1be04b",
   "metadata": {},
   "outputs": [
    {
     "data": {
      "text/plain": [
       "[2, 9, -1, True, 'hello', -2, 'heya', 0]"
      ]
     },
     "execution_count": 58,
     "metadata": {},
     "output_type": "execute_result"
    }
   ],
   "source": [
    "z"
   ]
  },
  {
   "cell_type": "code",
   "execution_count": 59,
   "id": "424bb941",
   "metadata": {},
   "outputs": [],
   "source": [
    "z.insert(5,10)"
   ]
  },
  {
   "cell_type": "code",
   "execution_count": 60,
   "id": "98120e7c",
   "metadata": {},
   "outputs": [
    {
     "data": {
      "text/plain": [
       "[2, 9, -1, True, 'hello', 10, -2, 'heya', 0]"
      ]
     },
     "execution_count": 60,
     "metadata": {},
     "output_type": "execute_result"
    }
   ],
   "source": [
    "z"
   ]
  },
  {
   "cell_type": "code",
   "execution_count": 61,
   "id": "ef8f9c26",
   "metadata": {},
   "outputs": [],
   "source": [
    "z.remove(9)"
   ]
  },
  {
   "cell_type": "code",
   "execution_count": 62,
   "id": "651b9c53",
   "metadata": {},
   "outputs": [
    {
     "data": {
      "text/plain": [
       "[2, -1, True, 'hello', 10, -2, 'heya', 0]"
      ]
     },
     "execution_count": 62,
     "metadata": {},
     "output_type": "execute_result"
    }
   ],
   "source": [
    "z"
   ]
  },
  {
   "cell_type": "code",
   "execution_count": 15,
   "id": "5ec399ea",
   "metadata": {},
   "outputs": [],
   "source": [
    "z.delete()"
   ]
  },
  {
   "cell_type": "code",
   "execution_count": 16,
   "id": "90a850bc",
   "metadata": {},
   "outputs": [
    {
     "data": {
      "text/plain": [
       "[2, -1, True, 'hello', 10, -2, 'heya', 0]"
      ]
     },
     "execution_count": 16,
     "metadata": {},
     "output_type": "execute_result"
    }
   ],
   "source": [
    "z"
   ]
  },
  {
   "cell_type": "code",
   "execution_count": 17,
   "id": "03ffb13d",
   "metadata": {},
   "outputs": [
    {
     "data": {
      "text/plain": [
       "0"
      ]
     },
     "execution_count": 17,
     "metadata": {},
     "output_type": "execute_result"
    }
   ],
   "source": [
    "z.pop()"
   ]
  },
  {
   "cell_type": "code",
   "execution_count": 18,
   "id": "bf141b9d",
   "metadata": {},
   "outputs": [
    {
     "name": "stdout",
     "output_type": "stream",
     "text": [
      "0\n",
      "1\n",
      "2\n",
      "3\n",
      "4\n",
      "5\n",
      "6\n",
      "7\n",
      "8\n",
      "9\n"
     ]
    }
   ],
   "source": [
    "#Range func in python>>>>>> It tells that how many times the loop is to be executed\n",
    "for i in range(10):\n",
    "    print(i)\n",
    "# Only 1 value i.e ending point is given so it will go upto n-1"
   ]
  },
  {
   "cell_type": "code",
   "execution_count": 19,
   "id": "30756d52",
   "metadata": {},
   "outputs": [
    {
     "name": "stdout",
     "output_type": "stream",
     "text": [
      "2\n",
      "3\n",
      "4\n",
      "5\n",
      "6\n",
      "7\n",
      "8\n",
      "9\n"
     ]
    }
   ],
   "source": [
    "#Range func in python\n",
    "for i in range(2,10):\n",
    "    print(i)\n",
    "#both staring and ending point is given so it will start from given point and go upto n-1"
   ]
  },
  {
   "cell_type": "code",
   "execution_count": 20,
   "id": "980099af",
   "metadata": {},
   "outputs": [
    {
     "name": "stdout",
     "output_type": "stream",
     "text": [
      "2\n",
      "6\n",
      "10\n",
      "14\n",
      "18\n"
     ]
    }
   ],
   "source": [
    "#Range func in python\n",
    "for i in range(2,20,4):\n",
    "    print(i)\n",
    "# Staring, ending point and step size is given so it will start from given point, go upto n-1 and also takes n-1 steps"
   ]
  },
  {
   "cell_type": "code",
   "execution_count": 21,
   "id": "44341fd3",
   "metadata": {},
   "outputs": [],
   "source": [
    "#Diff bw == & = operator \n",
    "# == >>>comparison operator\n",
    "# = >>>assignment operator"
   ]
  },
  {
   "cell_type": "code",
   "execution_count": 22,
   "id": "6128221d",
   "metadata": {},
   "outputs": [
    {
     "data": {
      "text/plain": [
       "'pmahc olleh'"
      ]
     },
     "execution_count": 22,
     "metadata": {},
     "output_type": "execute_result"
    }
   ],
   "source": [
    "# Reversing a string using indexing\n",
    "x='hello champ'\n",
    "x[::-1]"
   ]
  },
  {
   "cell_type": "code",
   "execution_count": 23,
   "id": "d33df9a4",
   "metadata": {},
   "outputs": [
    {
     "name": "stdout",
     "output_type": "stream",
     "text": [
      "non prime 10\n",
      "prime 11\n",
      "non prime 12\n",
      "prime 13\n",
      "non prime 14\n",
      "non prime 15\n",
      "non prime 16\n",
      "prime 17\n",
      "non prime 18\n",
      "prime 19\n",
      "non prime 20\n",
      "non prime 21\n",
      "non prime 22\n",
      "prime 23\n",
      "non prime 24\n",
      "non prime 25\n",
      "non prime 26\n",
      "non prime 27\n",
      "non prime 28\n",
      "prime 29\n",
      "non prime 30\n",
      "prime 31\n",
      "non prime 32\n",
      "non prime 33\n",
      "non prime 34\n",
      "non prime 35\n",
      "non prime 36\n",
      "prime 37\n",
      "non prime 38\n",
      "non prime 39\n",
      "non prime 40\n",
      "prime 41\n",
      "non prime 42\n",
      "prime 43\n",
      "non prime 44\n",
      "non prime 45\n",
      "non prime 46\n",
      "prime 47\n",
      "non prime 48\n",
      "non prime 49\n",
      "non prime 50\n"
     ]
    }
   ],
   "source": [
    "#wap to print all prime nos from 10-50\n",
    "lower=10\n",
    "upper=50\n",
    "for i in range(lower,upper+1):\n",
    "    if i>1:\n",
    "        for j in range(2,i):\n",
    "            if i%j==0:\n",
    "                print('non prime',i)\n",
    "                break\n",
    "        else:\n",
    "            print('prime',i)"
   ]
  },
  {
   "cell_type": "code",
   "execution_count": 24,
   "id": "d2ad963a",
   "metadata": {},
   "outputs": [
    {
     "name": "stdout",
     "output_type": "stream",
     "text": [
      "enter num11\n",
      "prime\n"
     ]
    }
   ],
   "source": [
    "#wap to check if a num is prime or not\n",
    "num=int(input('enter num'))\n",
    "if num>1:\n",
    "    for i in range(2,num):\n",
    "        if num%i==0:\n",
    "            print('non prime')\n",
    "            break\n",
    "    else:\n",
    "        print('prime')\n",
    "else:\n",
    "    print('invalid')"
   ]
  },
  {
   "cell_type": "code",
   "execution_count": 25,
   "id": "5b8646d2",
   "metadata": {},
   "outputs": [
    {
     "name": "stdout",
     "output_type": "stream",
     "text": [
      "lcm is 18\n"
     ]
    }
   ],
   "source": [
    "#wap to find lcm of 2 nos\n",
    "x=6\n",
    "y=9\n",
    "\n",
    "#check for greatest num\n",
    "if x>y:\n",
    "    greater=x\n",
    "else:\n",
    "    greater=y\n",
    "while True:\n",
    "    if greater%x == 0 and greater%y == 0:\n",
    "        lcm=greater \n",
    "        print('lcm is',lcm)\n",
    "        break       \n",
    "    greater+=1"
   ]
  },
  {
   "cell_type": "code",
   "execution_count": 26,
   "id": "7a7329b0",
   "metadata": {},
   "outputs": [
    {
     "name": "stdout",
     "output_type": "stream",
     "text": [
      "rev_num is 8736\n"
     ]
    }
   ],
   "source": [
    "#wap to find reverse of a num\n",
    "x=6378\n",
    "rev_num=0\n",
    "while x!=0:\n",
    "    value=x%10\n",
    "    rev_num=rev_num*10+value\n",
    "    x=x//10\n",
    "print('rev_num is',rev_num)"
   ]
  },
  {
   "cell_type": "code",
   "execution_count": 27,
   "id": "896963eb",
   "metadata": {},
   "outputs": [
    {
     "name": "stdout",
     "output_type": "stream",
     "text": [
      "fizz\n"
     ]
    }
   ],
   "source": [
    "#wap to print fizz and buzz ,if a num is divisible by 3 print fizz ,if a num is divisible by 5 print buzz and if divisible by\n",
    "#both print fizz buzz.If not divisible by anyone print -1 or divisible by 2 , print even or divisible by 3 but not by 2 and 5,\n",
    "#then print odd.\n",
    "num=15\n",
    "if num%3==0:\n",
    "    print('fizz')\n",
    "elif num%5==0:\n",
    "    print('buzz')\n",
    "elif num%3==0 and num%5==0:\n",
    "    print('fizz buzz')\n",
    "elif num%3!=0 and num %5!=0:\n",
    "    print('-1')\n",
    "elif num%2==0:\n",
    "    print('even')\n",
    "elif num%3==0 and num %2!=0 and num% 5!=0:\n",
    "    print('odd')"
   ]
  },
  {
   "cell_type": "code",
   "execution_count": 28,
   "id": "285201df",
   "metadata": {},
   "outputs": [
    {
     "name": "stdout",
     "output_type": "stream",
     "text": [
      "sum of nos is 55.0\n"
     ]
    }
   ],
   "source": [
    "#How to print sum of the numbers starting from 1 to 100>>>>>> Using FORMULA method\n",
    "for i in range(1,11):\n",
    "    sum = i*((i+1)/2)\n",
    "print('sum of nos is',sum)"
   ]
  },
  {
   "cell_type": "code",
   "execution_count": 29,
   "id": "f25c6eac",
   "metadata": {},
   "outputs": [
    {
     "name": "stdout",
     "output_type": "stream",
     "text": [
      "sum 11325\n"
     ]
    }
   ],
   "source": [
    "#How to print sum of the numbers starting from 1 to 100 >>>>>> Using WHILE loop\n",
    "#num=enter that num upto which num are to be added\n",
    "num=150\n",
    "x=1\n",
    "sum=0\n",
    "while x<=num:\n",
    "    sum = sum+x\n",
    "    x+=1\n",
    "print('sum',sum)"
   ]
  },
  {
   "cell_type": "code",
   "execution_count": 30,
   "id": "841d4005",
   "metadata": {},
   "outputs": [
    {
     "name": "stdout",
     "output_type": "stream",
     "text": [
      "2\n",
      "6\n",
      "4\n"
     ]
    }
   ],
   "source": [
    "#What is the output, Suppose list1 is [1, 3, 2], What is list1 * 2?\n",
    "p= [1, 3, 2]\n",
    "for i in p:\n",
    "    q=i*2\n",
    "    print(q)"
   ]
  },
  {
   "cell_type": "code",
   "execution_count": 31,
   "id": "f0563d1e",
   "metadata": {},
   "outputs": [
    {
     "name": "stdout",
     "output_type": "stream",
     "text": [
      "Avg is 5.166666666666667\n"
     ]
    }
   ],
   "source": [
    "#write a program to find the average of numbers in a list in Python?\n",
    "\n",
    "a=[3,9,4,8,6,1]\n",
    "b=0\n",
    "for i in a:\n",
    "    b=b+i/6\n",
    "print('Avg is',b)"
   ]
  },
  {
   "cell_type": "code",
   "execution_count": 32,
   "id": "8a82af70",
   "metadata": {},
   "outputs": [
    {
     "name": "stdout",
     "output_type": "stream",
     "text": [
      "+ve\n"
     ]
    }
   ],
   "source": [
    "#WAP to check a number is positive , negative or zero\n",
    "num=8\n",
    "if num>0:\n",
    "    print('+ve')\n",
    "elif num<0:\n",
    "    print('-ve')\n",
    "elif num==0:\n",
    "    print('zero')"
   ]
  },
  {
   "cell_type": "code",
   "execution_count": 33,
   "id": "4f0bcf5f",
   "metadata": {},
   "outputs": [
    {
     "name": "stdout",
     "output_type": "stream",
     "text": [
      "divisible by both 5 and 11\n"
     ]
    }
   ],
   "source": [
    " #WAP to check a number is divisible by 5 and 11 or not\n",
    "num=55\n",
    "if num % 5==0 and num%11!=0:\n",
    "    print('only divisible by 5')\n",
    "elif num%11==0 and num%5!=0:\n",
    "    print('only divisible by 11')\n",
    "elif num % 5==0 and num%11==0:\n",
    "    print('divisible by both 5 and 11')\n",
    "elif num % 5!=0 and num%11!=0:\n",
    "    print('not divisible')\n"
   ]
  },
  {
   "cell_type": "code",
   "execution_count": 34,
   "id": "94cdd4a2",
   "metadata": {},
   "outputs": [
    {
     "name": "stdout",
     "output_type": "stream",
     "text": [
      "profit of rs 500\n"
     ]
    }
   ],
   "source": [
    "#.WAP to calculate profit & loss.\n",
    "cp=500\n",
    "sp=1000\n",
    "if sp>cp:\n",
    "    profit=sp-cp\n",
    "    print('profit of rs',profit)\n",
    "elif sp<cp:\n",
    "    loss=cp-sp\n",
    "    print('loss of rs',loss)\n",
    "elif sp==cp:\n",
    "    print('no profit no loss')\n",
    "    "
   ]
  },
  {
   "cell_type": "code",
   "execution_count": 35,
   "id": "254ed628",
   "metadata": {},
   "outputs": [
    {
     "name": "stdout",
     "output_type": "stream",
     "text": [
      "hra and da are 2750.0 9900.0\n",
      "net_sal 23650.0\n"
     ]
    }
   ],
   "source": [
    "#WAP to Input the basic salary of employee & calculate its gross salary   \n",
    "# Basic Salary <= 10000 : HRA = 20%, DA = 80%\n",
    "# Basic Salary <= 20000 : HRA = 25%, DA = 90%\n",
    "# Basic Salary > 20000 : HRA = 30%, DA = 95%\n",
    "sal=11000\n",
    "if sal>20000:\n",
    "    hra=sal*30/100\n",
    "    da=sal*95/100\n",
    "    net_sal=sal+da+hra\n",
    "    print('hra and da are',hra,da)\n",
    "    print('net_sal',net_sal)\n",
    "elif sal<=10000:\n",
    "    hra=sal*20/100\n",
    "    da=sal*80/100\n",
    "    net_sal=sal+da+hra\n",
    "    print('hra and da are',hra,da)\n",
    "    print('net_sal',net_sal)\n",
    "elif sal<=20000:\n",
    "    hra=sal*25/100\n",
    "    da=sal*90/100\n",
    "    net_sal=sal+da+hra\n",
    "    print('hra and da are',hra,da)\n",
    "    print('net_sal',net_sal)"
   ]
  },
  {
   "cell_type": "code",
   "execution_count": 36,
   "id": "8a7c904a",
   "metadata": {},
   "outputs": [
    {
     "name": "stdout",
     "output_type": "stream",
     "text": [
      "t_bill is rs 331.2\n"
     ]
    }
   ],
   "source": [
    "# Input the electricity unit charge  & calculate the  total electric bill according to given condition.\n",
    "# For first 50 units Rs. 0.50/unit\n",
    "# For next 100 units Rs. 0.75/unit\n",
    "# For next 100 units Rs. 1.20/unit\n",
    "# For unit above 250 Rs. 1.50/unit\n",
    "# An additional surcharge of 20% is added to the bill\n",
    "unit_used=230\n",
    "if unit_used<=50:\n",
    "    bill=unit_used*0.5\n",
    "    surg=bill*20/100\n",
    "    t_bill= bill+surg\n",
    "    print('t_bill is rs',t_bill)\n",
    "elif unit_used<=150:\n",
    "    bill=unit_used*0.75\n",
    "    surg=bill*20/100\n",
    "    t_bill= bill+surg\n",
    "    print('t_bill is rs',t_bill)\n",
    "elif unit_used<=250:\n",
    "    bill=unit_used*1.2\n",
    "    surg=bill*20/100\n",
    "    t_bill= bill+surg\n",
    "    print('t_bill is rs',t_bill)\n",
    "elif unit_used>250:\n",
    "    bill=unit_used*1.5\n",
    "    surg=bill*20/100\n",
    "    t_bill= bill+surg\n",
    "    print('t_bill is rs',t_bill)"
   ]
  },
  {
   "cell_type": "code",
   "execution_count": 37,
   "id": "63290c6d",
   "metadata": {},
   "outputs": [
    {
     "name": "stdout",
     "output_type": "stream",
     "text": [
      "before swap>>> 2 9\n",
      "after swap>>>> 2 9\n"
     ]
    }
   ],
   "source": [
    "#WAP to Swap 2 numbers without using 3rd variable in python.\n",
    "a=9\n",
    "b=2\n",
    "a,b=b,a\n",
    "print('before swap>>>',a,b)\n",
    "print('after swap>>>>',a,b)\n",
    "# This code will not work "
   ]
  },
  {
   "cell_type": "code",
   "execution_count": 38,
   "id": "34c3373b",
   "metadata": {},
   "outputs": [
    {
     "name": "stdout",
     "output_type": "stream",
     "text": [
      "before swap>>> 9 2\n",
      "after swap>>>> 2 9\n"
     ]
    }
   ],
   "source": [
    "#WAP to Swap 2 numbers without using 3rd variable in python.\n",
    "a=9\n",
    "b=2\n",
    "print('before swap>>>',a,b)\n",
    "a,b=b,a\n",
    "print('after swap>>>>',a,b) "
   ]
  },
  {
   "cell_type": "code",
   "execution_count": 39,
   "id": "65e11ddd",
   "metadata": {},
   "outputs": [
    {
     "name": "stdout",
     "output_type": "stream",
     "text": [
      "sum 18\n"
     ]
    }
   ],
   "source": [
    "# Write a program to find the sum of the digits of a number in Python?\n",
    "x=396\n",
    "sum=0\n",
    "while x!=0:\n",
    "    value=x%10\n",
    "    x=x//10\n",
    "    sum=sum+value\n",
    "print('sum',sum)"
   ]
  },
  {
   "cell_type": "code",
   "execution_count": 40,
   "id": "1d4bec1d",
   "metadata": {},
   "outputs": [],
   "source": [
    "#How to sort list of tuples.\n",
    "#lang_listtuple= [('C#',1), ('Go',7), ('Basic',8), ('Python',60)]\n",
    "a= [('C#',1), ('Go',7), ('Basic',8), ('Python',60)]\n",
    "a.sort()"
   ]
  },
  {
   "cell_type": "code",
   "execution_count": 41,
   "id": "932f6b56",
   "metadata": {},
   "outputs": [
    {
     "data": {
      "text/plain": [
       "[('Basic', 8), ('C#', 1), ('Go', 7), ('Python', 60)]"
      ]
     },
     "execution_count": 41,
     "metadata": {},
     "output_type": "execute_result"
    }
   ],
   "source": [
    "a"
   ]
  },
  {
   "cell_type": "code",
   "execution_count": 42,
   "id": "1e81cdae",
   "metadata": {},
   "outputs": [],
   "source": [
    "# WAP to delete set of keys in dict\n",
    "# Keys to delete [‘name’,’age’]\n",
    "\n",
    "animaldict = {\n",
    "  'name': 'Dog',\n",
    "  'age':5,\n",
    "  'Weigh': 4,\n",
    "  'Country': 'US',\n",
    "  'City':'California'\n",
    "}\n",
    " "
   ]
  },
  {
   "cell_type": "code",
   "execution_count": 43,
   "id": "22ce9dbd",
   "metadata": {},
   "outputs": [
    {
     "data": {
      "text/plain": [
       "{'name': 'Dog', 'age': 5, 'Weigh': 4, 'Country': 'US', 'City': 'California'}"
      ]
     },
     "execution_count": 43,
     "metadata": {},
     "output_type": "execute_result"
    }
   ],
   "source": [
    "animaldict"
   ]
  },
  {
   "cell_type": "code",
   "execution_count": 44,
   "id": "eb118bca",
   "metadata": {},
   "outputs": [
    {
     "data": {
      "text/plain": [
       "5"
      ]
     },
     "execution_count": 44,
     "metadata": {},
     "output_type": "execute_result"
    }
   ],
   "source": [
    "animaldict.pop('age')"
   ]
  },
  {
   "cell_type": "code",
   "execution_count": 45,
   "id": "2506c8bb",
   "metadata": {},
   "outputs": [
    {
     "data": {
      "text/plain": [
       "{'name': 'Dog', 'Weigh': 4, 'Country': 'US', 'City': 'California'}"
      ]
     },
     "execution_count": 45,
     "metadata": {},
     "output_type": "execute_result"
    }
   ],
   "source": [
    "animaldict"
   ]
  },
  {
   "cell_type": "code",
   "execution_count": 46,
   "id": "9936c4e6",
   "metadata": {},
   "outputs": [
    {
     "data": {
      "text/plain": [
       "'Dog'"
      ]
     },
     "execution_count": 46,
     "metadata": {},
     "output_type": "execute_result"
    }
   ],
   "source": [
    "animaldict.pop('name')"
   ]
  },
  {
   "cell_type": "code",
   "execution_count": 47,
   "id": "f4b8f12b",
   "metadata": {},
   "outputs": [
    {
     "data": {
      "text/plain": [
       "{'Weigh': 4, 'Country': 'US', 'City': 'California'}"
      ]
     },
     "execution_count": 47,
     "metadata": {},
     "output_type": "execute_result"
    }
   ],
   "source": [
    "animaldict"
   ]
  },
  {
   "cell_type": "code",
   "execution_count": 48,
   "id": "92264ae4",
   "metadata": {},
   "outputs": [
    {
     "name": "stdout",
     "output_type": "stream",
     "text": [
      "simple interest is 600.0\n"
     ]
    }
   ],
   "source": [
    "#WAP for simple interest in python\n",
    "p=5000\n",
    "r=3\n",
    "t =4\n",
    "si=p*r*t/100\n",
    "print('simple interest is',si)"
   ]
  },
  {
   "cell_type": "code",
   "execution_count": 49,
   "id": "13b6dbc5",
   "metadata": {},
   "outputs": [
    {
     "name": "stdout",
     "output_type": "stream",
     "text": [
      "compound interest is 16537.5\n"
     ]
    }
   ],
   "source": [
    "#WAP for compound interest in python\n",
    "p=15000\n",
    "r=5\n",
    "t =2\n",
    "ci=p*(pow(1+(r/100),t))\n",
    "print('compound interest is',ci)"
   ]
  },
  {
   "cell_type": "code",
   "execution_count": 50,
   "id": "49720e00",
   "metadata": {},
   "outputs": [
    {
     "name": "stdout",
     "output_type": "stream",
     "text": [
      "its leap year\n"
     ]
    }
   ],
   "source": [
    "#WAP to check the year is leap year or not \n",
    "#for leap year , we have to check divisibility by 4,100 and 400 also\n",
    "year=2800\n",
    "if year%4==0 and year%100==0 and year%400==0:\n",
    "    print('its leap year')\n",
    "else:\n",
    "    print('no leap year')"
   ]
  },
  {
   "cell_type": "code",
   "execution_count": null,
   "id": "9e4d8c80",
   "metadata": {},
   "outputs": [],
   "source": []
  }
 ],
 "metadata": {
  "kernelspec": {
   "display_name": "Python 3 (ipykernel)",
   "language": "python",
   "name": "python3"
  },
  "language_info": {
   "codemirror_mode": {
    "name": "ipython",
    "version": 3
   },
   "file_extension": ".py",
   "mimetype": "text/x-python",
   "name": "python",
   "nbconvert_exporter": "python",
   "pygments_lexer": "ipython3",
   "version": "3.9.12"
  }
 },
 "nbformat": 4,
 "nbformat_minor": 5
}
