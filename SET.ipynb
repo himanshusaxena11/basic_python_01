{
 "cells": [
  {
   "cell_type": "code",
   "execution_count": null,
   "id": "a30bcb97",
   "metadata": {},
   "outputs": [],
   "source": [
    "# DUPLICACY in various data types\n",
    "#1>>> List ---Allowed\n",
    "#2>>> Tuple -- Allowed\n",
    "#3>>> Dictionary --- Allowed (Keys cannot be duplicate but values can be)"
   ]
  },
  {
   "cell_type": "code",
   "execution_count": 1,
   "id": "9f3a6eec",
   "metadata": {},
   "outputs": [],
   "source": [
    "x={2,9,23,True,'hello',-21,0,'sql',-88}"
   ]
  },
  {
   "cell_type": "code",
   "execution_count": 2,
   "id": "0c72aa2b",
   "metadata": {},
   "outputs": [
    {
     "data": {
      "text/plain": [
       "{-21, -88, 0, 2, 23, 9, True, 'hello', 'sql'}"
      ]
     },
     "execution_count": 2,
     "metadata": {},
     "output_type": "execute_result"
    }
   ],
   "source": [
    "#unordered, #immutable, #unindexed,#\n",
    "x"
   ]
  },
  {
   "cell_type": "code",
   "execution_count": 4,
   "id": "e169c4bb",
   "metadata": {},
   "outputs": [
    {
     "data": {
      "text/plain": [
       "set"
      ]
     },
     "execution_count": 4,
     "metadata": {},
     "output_type": "execute_result"
    }
   ],
   "source": [
    "type(x)"
   ]
  },
  {
   "cell_type": "code",
   "execution_count": 7,
   "id": "9942c617",
   "metadata": {},
   "outputs": [],
   "source": [
    "z={3,0,45,89,11,90,56,-33,-11}"
   ]
  },
  {
   "cell_type": "code",
   "execution_count": 8,
   "id": "fead1450",
   "metadata": {},
   "outputs": [
    {
     "data": {
      "text/plain": [
       "{-33, -11, 0, 3, 11, 45, 56, 89, 90}"
      ]
     },
     "execution_count": 8,
     "metadata": {},
     "output_type": "execute_result"
    }
   ],
   "source": [
    "z"
   ]
  },
  {
   "cell_type": "code",
   "execution_count": null,
   "id": "f4ea1216",
   "metadata": {},
   "outputs": [],
   "source": [
    "# It does not shows data in ascending or descending order "
   ]
  }
 ],
 "metadata": {
  "kernelspec": {
   "display_name": "Python 3 (ipykernel)",
   "language": "python",
   "name": "python3"
  },
  "language_info": {
   "codemirror_mode": {
    "name": "ipython",
    "version": 3
   },
   "file_extension": ".py",
   "mimetype": "text/x-python",
   "name": "python",
   "nbconvert_exporter": "python",
   "pygments_lexer": "ipython3",
   "version": "3.9.12"
  }
 },
 "nbformat": 4,
 "nbformat_minor": 5
}
