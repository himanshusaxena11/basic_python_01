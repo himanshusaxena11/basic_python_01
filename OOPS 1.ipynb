{
 "cells": [
  {
   "cell_type": "code",
   "execution_count": 1,
   "id": "21630560",
   "metadata": {},
   "outputs": [
    {
     "name": "stdout",
     "output_type": "stream",
     "text": [
      "100000\n"
     ]
    }
   ],
   "source": [
    "class car:\n",
    "    price=100000\n",
    "    print(price)"
   ]
  },
  {
   "cell_type": "code",
   "execution_count": 2,
   "id": "345a637f",
   "metadata": {},
   "outputs": [
    {
     "data": {
      "text/plain": [
       "20000"
      ]
     },
     "execution_count": 2,
     "metadata": {},
     "output_type": "execute_result"
    }
   ],
   "source": [
    "#class\n",
    "class car:\n",
    "    price=20000\n",
    "\n",
    "#object\n",
    "c=car()    #by adding variable\n",
    "c.price"
   ]
  },
  {
   "cell_type": "code",
   "execution_count": 3,
   "id": "14ed72e9",
   "metadata": {},
   "outputs": [
    {
     "data": {
      "text/plain": [
       "13000"
      ]
     },
     "execution_count": 3,
     "metadata": {},
     "output_type": "execute_result"
    }
   ],
   "source": [
    "#class\n",
    "class car:\n",
    "    price=13000\n",
    "        #without adding vaiable, working with object only\n",
    "#object\n",
    "car().price  "
   ]
  },
  {
   "cell_type": "code",
   "execution_count": 4,
   "id": "ac5123c4",
   "metadata": {},
   "outputs": [
    {
     "data": {
      "text/plain": [
       "((89, 95), ('a', 'b'))"
      ]
     },
     "execution_count": 4,
     "metadata": {},
     "output_type": "execute_result"
    }
   ],
   "source": [
    "#wap to make a class of student having name and marks and make an object to get the output\n",
    "class student:\n",
    "    name='a','b'\n",
    "    marks=89,95\n",
    " \n",
    "s=student()\n",
    "s.marks,s.name"
   ]
  },
  {
   "cell_type": "code",
   "execution_count": 17,
   "id": "aaf0ff88",
   "metadata": {},
   "outputs": [
    {
     "data": {
      "text/plain": [
       "('f', 97)"
      ]
     },
     "execution_count": 17,
     "metadata": {},
     "output_type": "execute_result"
    }
   ],
   "source": [
    "#function in class\n",
    "\n",
    "class student:\n",
    "    def info(self,name,marks):\n",
    "        return(name,marks)\n",
    "    \n",
    "s=student()\n",
    "s.info('f',97)"
   ]
  },
  {
   "cell_type": "code",
   "execution_count": 6,
   "id": "8a27055b",
   "metadata": {},
   "outputs": [
    {
     "data": {
      "text/plain": [
       "('f', 89)"
      ]
     },
     "execution_count": 6,
     "metadata": {},
     "output_type": "execute_result"
    }
   ],
   "source": [
    "class student:\n",
    "    def info(self,name,marks):\n",
    "        return(name,marks)\n",
    "    \n",
    "s=student()\n",
    "s.info('f',89)"
   ]
  },
  {
   "cell_type": "code",
   "execution_count": 7,
   "id": "de5e23d9",
   "metadata": {},
   "outputs": [
    {
     "data": {
      "text/plain": [
       "('w', 79)"
      ]
     },
     "execution_count": 7,
     "metadata": {},
     "output_type": "execute_result"
    }
   ],
   "source": [
    "class student:\n",
    "    def info(self,name,marks=90):\n",
    "        name='w'\n",
    "        marks=79\n",
    "        return(name,marks)\n",
    "    \n",
    "s=student()\n",
    "s.info('r',67)"
   ]
  },
  {
   "cell_type": "code",
   "execution_count": 8,
   "id": "cbea5abf",
   "metadata": {},
   "outputs": [
    {
     "data": {
      "text/plain": [
       "('w', 79)"
      ]
     },
     "execution_count": 8,
     "metadata": {},
     "output_type": "execute_result"
    }
   ],
   "source": [
    "s.info('v',88)"
   ]
  },
  {
   "cell_type": "code",
   "execution_count": 9,
   "id": "e22e1354",
   "metadata": {},
   "outputs": [
    {
     "name": "stdout",
     "output_type": "stream",
     "text": [
      "enter no6\n",
      "enter no8\n",
      "add>>> 14 sub>>>> -2 mul>>> 48 div>>>> 0.75\n"
     ]
    }
   ],
   "source": [
    "#wap to make a class of simplified arithmetic operation and get the output of that class through object\n",
    "        #taking user input\n",
    "class arithmetic:\n",
    "    def opr(self):\n",
    "        a=int(input('enter no'))   \n",
    "        b=int(input('enter no'))\n",
    "        add=a+b\n",
    "        sub=a-b\n",
    "        mul=a*b\n",
    "        div=a/b\n",
    "        print('add>>>',add,'sub>>>>',sub,'mul>>>',mul,'div>>>>',div)\n",
    "#return is not used bcz it gives single output \n",
    "    \n",
    "a=arithmetic()\n",
    "a.opr()"
   ]
  },
  {
   "cell_type": "code",
   "execution_count": 10,
   "id": "49e1084b",
   "metadata": {},
   "outputs": [
    {
     "name": "stdout",
     "output_type": "stream",
     "text": [
      "enter value17\n",
      "enter value25\n",
      "add>>>>>>> 12 subtract>>>>>> 2 multiply>> 35 divide>>>> 1.4\n"
     ]
    }
   ],
   "source": [
    "#wap to make a class of simplified arithmetic operation and try to get the output of that class through object\n",
    "       #taking user input\n",
    "class arith:\n",
    "    def info(self,a=int(input('enter value1')),b=int(input('enter value2'))):\n",
    "        add= a+b\n",
    "        subtract=a-b\n",
    "        multiply=a*b\n",
    "        divide= a/b\n",
    "        print('add>>>>>>>',add,'subtract>>>>>>',subtract,'multiply>>',multiply,'divide>>>>',divide)\n",
    "        \n",
    "z=arith()\n",
    "z.info()"
   ]
  },
  {
   "cell_type": "code",
   "execution_count": 11,
   "id": "0d452fd0",
   "metadata": {},
   "outputs": [
    {
     "name": "stdout",
     "output_type": "stream",
     "text": [
      "add>>> 15 sub>>>> 9 mul>>> 36 div>>>> 4.0\n"
     ]
    }
   ],
   "source": [
    "#wap to make a class of simplified arithmetic operation and get the output of that class through object\n",
    "class arithmetic:\n",
    "    def opr(self,a,b):\n",
    "        add=a+b\n",
    "        sub=a-b\n",
    "        mul=a*b\n",
    "        div=a/b\n",
    "        print('add>>>',add,'sub>>>>',sub,'mul>>>',mul,'div>>>>',div)\n",
    "#return is not used bcz it gives single output \n",
    "    \n",
    "a=arithmetic()\n",
    "a.opr(12,3)"
   ]
  },
  {
   "cell_type": "code",
   "execution_count": 12,
   "id": "848b84da",
   "metadata": {},
   "outputs": [
    {
     "name": "stdout",
     "output_type": "stream",
     "text": [
      "dis 858.0\n",
      "net_p 10142.0\n"
     ]
    }
   ],
   "source": [
    "## wap to make a class of car and find its actual price if the car is of more than 10 lakh then there is a tax of 14% on \n",
    "#the car and if the cost is less than 10 lakh then there is a discount of 7.8 % on the car.find the actual price of the \n",
    "#car paid by the user\n",
    "class amount:\n",
    "    def cost(self,price):\n",
    "        if price>=1000000:\n",
    "            tax=(price*14)/100\n",
    "            net_price=price+tax\n",
    "            print('tax',tax)\n",
    "            print('net_price',net_price)\n",
    "        else:\n",
    "            dis=(price*7.8)/100\n",
    "            net_p=price-dis\n",
    "            print('dis',dis)\n",
    "            print('net_p',net_p)\n",
    "        \n",
    "a=amount()\n",
    "a.cost(11000)"
   ]
  },
  {
   "cell_type": "code",
   "execution_count": 13,
   "id": "73f20e04",
   "metadata": {},
   "outputs": [
    {
     "name": "stdout",
     "output_type": "stream",
     "text": [
      "max 89\n"
     ]
    }
   ],
   "source": [
    "#find max with the help of func\n",
    "a=[23,89,53,67,25,55]\n",
    "def info(a):\n",
    "    max=a[0]\n",
    "    for i in a:\n",
    "        if i>max:\n",
    "            max=i\n",
    "            print('max',max)\n",
    "\n",
    "info(a)"
   ]
  },
  {
   "cell_type": "code",
   "execution_count": 14,
   "id": "9f6c0888",
   "metadata": {},
   "outputs": [
    {
     "name": "stdout",
     "output_type": "stream",
     "text": [
      "max 89\n"
     ]
    }
   ],
   "source": [
    "#find max with the help of func using class\n",
    "a=[23,89,53,67,25,55]\n",
    "class max:\n",
    "    def info(self):\n",
    "        max=a[0]\n",
    "        for i in a:\n",
    "            if i>max:\n",
    "                max=i\n",
    "                print('max',max)\n",
    "\n",
    "m=max                \n",
    "m.info(a)"
   ]
  },
  {
   "cell_type": "code",
   "execution_count": 15,
   "id": "d789d002",
   "metadata": {},
   "outputs": [
    {
     "data": {
      "text/plain": [
       "92"
      ]
     },
     "execution_count": 15,
     "metadata": {},
     "output_type": "execute_result"
    }
   ],
   "source": [
    "#wap to find 2nd highest num\n",
    "a=[23,89,92,67,25,55,44,-85,21,211]\n",
    "a.sort()\n",
    "a[-2]"
   ]
  },
  {
   "cell_type": "code",
   "execution_count": null,
   "id": "f7f3c276",
   "metadata": {},
   "outputs": [],
   "source": []
  }
 ],
 "metadata": {
  "kernelspec": {
   "display_name": "Python 3 (ipykernel)",
   "language": "python",
   "name": "python3"
  },
  "language_info": {
   "codemirror_mode": {
    "name": "ipython",
    "version": 3
   },
   "file_extension": ".py",
   "mimetype": "text/x-python",
   "name": "python",
   "nbconvert_exporter": "python",
   "pygments_lexer": "ipython3",
   "version": "3.9.12"
  }
 },
 "nbformat": 4,
 "nbformat_minor": 5
}
