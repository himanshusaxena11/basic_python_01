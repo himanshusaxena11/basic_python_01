{
 "cells": [
  {
   "cell_type": "code",
   "execution_count": 1,
   "id": "b342d4ce",
   "metadata": {},
   "outputs": [],
   "source": [
    "a=[21,'hi',1.0,'njsl',False,56,'hello']"
   ]
  },
  {
   "cell_type": "code",
   "execution_count": 2,
   "id": "6d0b2ea5",
   "metadata": {},
   "outputs": [
    {
     "data": {
      "text/plain": [
       "'s'"
      ]
     },
     "execution_count": 2,
     "metadata": {},
     "output_type": "execute_result"
    }
   ],
   "source": [
    "a[-4][-2]"
   ]
  },
  {
   "cell_type": "code",
   "execution_count": 3,
   "id": "270d73a1",
   "metadata": {},
   "outputs": [
    {
     "data": {
      "text/plain": [
       "[21, 'hi', 1.0, 'njsl', False, 56, 'hello']"
      ]
     },
     "execution_count": 3,
     "metadata": {},
     "output_type": "execute_result"
    }
   ],
   "source": [
    "a"
   ]
  },
  {
   "cell_type": "code",
   "execution_count": 4,
   "id": "2a2c9d51",
   "metadata": {},
   "outputs": [],
   "source": [
    "a[2:4]=[44]"
   ]
  },
  {
   "cell_type": "code",
   "execution_count": 5,
   "id": "60077efd",
   "metadata": {},
   "outputs": [
    {
     "data": {
      "text/plain": [
       "[21, 'hi', 44, False, 56, 'hello']"
      ]
     },
     "execution_count": 5,
     "metadata": {},
     "output_type": "execute_result"
    }
   ],
   "source": [
    "a"
   ]
  },
  {
   "cell_type": "code",
   "execution_count": 6,
   "id": "0ce2bf1c",
   "metadata": {},
   "outputs": [],
   "source": [
    "a=[21,'hi',1.0,'njsl',False,56,'hello']"
   ]
  },
  {
   "cell_type": "code",
   "execution_count": 7,
   "id": "8f7cb1f5",
   "metadata": {},
   "outputs": [],
   "source": [
    "a[2:5]=['heya']"
   ]
  },
  {
   "cell_type": "code",
   "execution_count": 8,
   "id": "9e86aab1",
   "metadata": {},
   "outputs": [
    {
     "data": {
      "text/plain": [
       "[21, 'hi', 'heya', 56, 'hello']"
      ]
     },
     "execution_count": 8,
     "metadata": {},
     "output_type": "execute_result"
    }
   ],
   "source": [
    "a"
   ]
  },
  {
   "cell_type": "code",
   "execution_count": 9,
   "id": "483b4ef6",
   "metadata": {},
   "outputs": [],
   "source": [
    "a[2:4]='good'"
   ]
  },
  {
   "cell_type": "code",
   "execution_count": 10,
   "id": "c3883637",
   "metadata": {},
   "outputs": [
    {
     "data": {
      "text/plain": [
       "[21, 'hi', 'g', 'o', 'o', 'd', 'hello']"
      ]
     },
     "execution_count": 10,
     "metadata": {},
     "output_type": "execute_result"
    }
   ],
   "source": [
    "a"
   ]
  },
  {
   "cell_type": "code",
   "execution_count": 11,
   "id": "1198a603",
   "metadata": {},
   "outputs": [],
   "source": [
    "a[3:7]=[0]"
   ]
  },
  {
   "cell_type": "code",
   "execution_count": 12,
   "id": "cf6f6194",
   "metadata": {},
   "outputs": [
    {
     "data": {
      "text/plain": [
       "[21, 'hi', 'g', 0]"
      ]
     },
     "execution_count": 12,
     "metadata": {},
     "output_type": "execute_result"
    }
   ],
   "source": [
    "a"
   ]
  },
  {
   "cell_type": "code",
   "execution_count": 13,
   "id": "4a0b6d1f",
   "metadata": {},
   "outputs": [],
   "source": [
    "b=[21, 'hi', 44, False, 56, 'hello']"
   ]
  },
  {
   "cell_type": "code",
   "execution_count": 14,
   "id": "d885e694",
   "metadata": {},
   "outputs": [],
   "source": [
    "b[1:4]=['eve',22,True]"
   ]
  },
  {
   "cell_type": "code",
   "execution_count": 15,
   "id": "8524f906",
   "metadata": {},
   "outputs": [
    {
     "data": {
      "text/plain": [
       "[21, 'eve', 22, True, 56, 'hello']"
      ]
     },
     "execution_count": 15,
     "metadata": {},
     "output_type": "execute_result"
    }
   ],
   "source": [
    "b"
   ]
  },
  {
   "cell_type": "code",
   "execution_count": 16,
   "id": "aae58220",
   "metadata": {},
   "outputs": [],
   "source": [
    "# list method\n",
    "\n",
    "# 1.pop\n",
    "# 2.reverse\n",
    "# 3.extend\n",
    "# 4.remove\n",
    "# 5.copy\n",
    "# 6.index\n",
    "# 7.append\n",
    "# 8.sort"
   ]
  },
  {
   "cell_type": "code",
   "execution_count": 17,
   "id": "6195bbc6",
   "metadata": {},
   "outputs": [],
   "source": [
    "x=[11,4.2,'true','hjj',-12,-1.22]"
   ]
  },
  {
   "cell_type": "code",
   "execution_count": 18,
   "id": "6f0b342e",
   "metadata": {},
   "outputs": [],
   "source": [
    "#append\n",
    "x.append(False)"
   ]
  },
  {
   "cell_type": "code",
   "execution_count": 19,
   "id": "7130b39e",
   "metadata": {},
   "outputs": [
    {
     "data": {
      "text/plain": [
       "[11, 4.2, 'true', 'hjj', -12, -1.22, False]"
      ]
     },
     "execution_count": 19,
     "metadata": {},
     "output_type": "execute_result"
    }
   ],
   "source": [
    "x"
   ]
  },
  {
   "cell_type": "code",
   "execution_count": 20,
   "id": "c562efae",
   "metadata": {},
   "outputs": [
    {
     "data": {
      "text/plain": [
       "2"
      ]
     },
     "execution_count": 20,
     "metadata": {},
     "output_type": "execute_result"
    }
   ],
   "source": [
    "x.index('true')"
   ]
  },
  {
   "cell_type": "code",
   "execution_count": 21,
   "id": "d647ae87",
   "metadata": {},
   "outputs": [
    {
     "data": {
      "text/plain": [
       "[11, 4.2, 'true', 'hjj', -12, -1.22, False]"
      ]
     },
     "execution_count": 21,
     "metadata": {},
     "output_type": "execute_result"
    }
   ],
   "source": [
    "x"
   ]
  },
  {
   "cell_type": "code",
   "execution_count": 22,
   "id": "a79d1a6b",
   "metadata": {},
   "outputs": [
    {
     "data": {
      "text/plain": [
       "False"
      ]
     },
     "execution_count": 22,
     "metadata": {},
     "output_type": "execute_result"
    }
   ],
   "source": [
    "x.pop()"
   ]
  },
  {
   "cell_type": "code",
   "execution_count": 23,
   "id": "bbb7d026",
   "metadata": {},
   "outputs": [
    {
     "data": {
      "text/plain": [
       "[11, 4.2, 'true', 'hjj', -12, -1.22]"
      ]
     },
     "execution_count": 23,
     "metadata": {},
     "output_type": "execute_result"
    }
   ],
   "source": [
    "x"
   ]
  },
  {
   "cell_type": "code",
   "execution_count": 24,
   "id": "e40eda6b",
   "metadata": {},
   "outputs": [],
   "source": [
    "x.remove(-12)"
   ]
  },
  {
   "cell_type": "code",
   "execution_count": 25,
   "id": "41ec9af0",
   "metadata": {},
   "outputs": [
    {
     "data": {
      "text/plain": [
       "[11, 4.2, 'true', 'hjj', -1.22]"
      ]
     },
     "execution_count": 25,
     "metadata": {},
     "output_type": "execute_result"
    }
   ],
   "source": [
    "x"
   ]
  },
  {
   "cell_type": "code",
   "execution_count": 26,
   "id": "6d73c1d2",
   "metadata": {},
   "outputs": [],
   "source": [
    "y=[11, 4.2, True,21,-1.22,False,34]\n",
    "#sort arrange values in ascending order\n",
    "y.sort()"
   ]
  },
  {
   "cell_type": "code",
   "execution_count": 27,
   "id": "f64382e4",
   "metadata": {},
   "outputs": [
    {
     "data": {
      "text/plain": [
       "[-1.22, False, True, 4.2, 11, 21, 34]"
      ]
     },
     "execution_count": 27,
     "metadata": {},
     "output_type": "execute_result"
    }
   ],
   "source": [
    "y"
   ]
  },
  {
   "cell_type": "code",
   "execution_count": 28,
   "id": "f08fa577",
   "metadata": {},
   "outputs": [
    {
     "data": {
      "text/plain": [
       "[11, 4.2, 'true', 'hjj', -1.22]"
      ]
     },
     "execution_count": 28,
     "metadata": {},
     "output_type": "execute_result"
    }
   ],
   "source": [
    "x"
   ]
  },
  {
   "cell_type": "code",
   "execution_count": 29,
   "id": "6c6b05b2",
   "metadata": {},
   "outputs": [],
   "source": [
    "x.reverse()"
   ]
  },
  {
   "cell_type": "code",
   "execution_count": 30,
   "id": "50feebd5",
   "metadata": {},
   "outputs": [
    {
     "data": {
      "text/plain": [
       "[-1.22, 'hjj', 'true', 4.2, 11]"
      ]
     },
     "execution_count": 30,
     "metadata": {},
     "output_type": "execute_result"
    }
   ],
   "source": [
    "x"
   ]
  },
  {
   "cell_type": "code",
   "execution_count": 31,
   "id": "922796e8",
   "metadata": {},
   "outputs": [],
   "source": [
    "y.sort(reverse=True)"
   ]
  },
  {
   "cell_type": "code",
   "execution_count": 32,
   "id": "51055c34",
   "metadata": {},
   "outputs": [
    {
     "data": {
      "text/plain": [
       "[34, 21, 11, 4.2, True, False, -1.22]"
      ]
     },
     "execution_count": 32,
     "metadata": {},
     "output_type": "execute_result"
    }
   ],
   "source": [
    "y"
   ]
  },
  {
   "cell_type": "code",
   "execution_count": 33,
   "id": "b3010fcf",
   "metadata": {},
   "outputs": [
    {
     "data": {
      "text/plain": [
       "[-1.22, 'hjj', 'true', 4.2, 11]"
      ]
     },
     "execution_count": 33,
     "metadata": {},
     "output_type": "execute_result"
    }
   ],
   "source": [
    "x"
   ]
  },
  {
   "cell_type": "code",
   "execution_count": 34,
   "id": "7850ba10",
   "metadata": {},
   "outputs": [
    {
     "data": {
      "text/plain": [
       "[-1.22, 'hjj', 'true', 4.2, 11, 't', 'r', 'u', 'e']"
      ]
     },
     "execution_count": 34,
     "metadata": {},
     "output_type": "execute_result"
    }
   ],
   "source": [
    "x.extend('true')\n",
    "x"
   ]
  },
  {
   "cell_type": "code",
   "execution_count": 35,
   "id": "2d041cb8",
   "metadata": {},
   "outputs": [],
   "source": [
    "z=[-1.22, 'hjj', 'true', 4.2, 11,'ram','ghanshyam']"
   ]
  },
  {
   "cell_type": "code",
   "execution_count": 36,
   "id": "ffc12bcd",
   "metadata": {},
   "outputs": [
    {
     "data": {
      "text/plain": [
       "[-1.22,\n",
       " 'hjj',\n",
       " 'true',\n",
       " 4.2,\n",
       " 11,\n",
       " 'ram',\n",
       " 'ghanshyam',\n",
       " 'g',\n",
       " 'h',\n",
       " 'a',\n",
       " 'n',\n",
       " 's',\n",
       " 'h',\n",
       " 'y',\n",
       " 'a',\n",
       " 'm']"
      ]
     },
     "execution_count": 36,
     "metadata": {},
     "output_type": "execute_result"
    }
   ],
   "source": [
    "z.extend('ghanshyam')\n",
    "z"
   ]
  },
  {
   "cell_type": "code",
   "execution_count": 37,
   "id": "e9126a23",
   "metadata": {},
   "outputs": [
    {
     "data": {
      "text/plain": [
       "[-1.22, 'hjj', 'true', 4.2, 11, 't', 'r', 'u', 'e']"
      ]
     },
     "execution_count": 37,
     "metadata": {},
     "output_type": "execute_result"
    }
   ],
   "source": [
    "x"
   ]
  },
  {
   "cell_type": "code",
   "execution_count": 38,
   "id": "0bb40cc1",
   "metadata": {},
   "outputs": [
    {
     "data": {
      "text/plain": [
       "[-1.22, 'hjj', 'true', 4.2, 11, 't', 'r', 'u', 'e']"
      ]
     },
     "execution_count": 38,
     "metadata": {},
     "output_type": "execute_result"
    }
   ],
   "source": [
    "x.copy()"
   ]
  },
  {
   "cell_type": "code",
   "execution_count": 39,
   "id": "d07c1e38",
   "metadata": {},
   "outputs": [
    {
     "data": {
      "text/plain": [
       "[-1.22,\n",
       " 'hjj',\n",
       " 'true',\n",
       " 4.2,\n",
       " 11,\n",
       " 'ram',\n",
       " 'ghanshyam',\n",
       " 'g',\n",
       " 'h',\n",
       " 'a',\n",
       " 'n',\n",
       " 's',\n",
       " 'h',\n",
       " 'y',\n",
       " 'a',\n",
       " 'm']"
      ]
     },
     "execution_count": 39,
     "metadata": {},
     "output_type": "execute_result"
    }
   ],
   "source": [
    "z.copy()"
   ]
  },
  {
   "cell_type": "code",
   "execution_count": 104,
   "id": "a7f44fec",
   "metadata": {},
   "outputs": [
    {
     "ename": "TypeError",
     "evalue": "'int' object is not subscriptable",
     "output_type": "error",
     "traceback": [
      "\u001b[1;31m---------------------------------------------------------------------------\u001b[0m",
      "\u001b[1;31mTypeError\u001b[0m                                 Traceback (most recent call last)",
      "Input \u001b[1;32mIn [104]\u001b[0m, in \u001b[0;36m<cell line: 3>\u001b[1;34m()\u001b[0m\n\u001b[0;32m      1\u001b[0m \u001b[38;5;66;03m#wap to check if num is palindrome or not \u001b[39;00m\n\u001b[0;32m      2\u001b[0m a\u001b[38;5;241m=\u001b[39m\u001b[38;5;241m34\u001b[39m\n\u001b[1;32m----> 3\u001b[0m \u001b[43ma\u001b[49m\u001b[43m[\u001b[49m\u001b[43m:\u001b[49m\u001b[43m:\u001b[49m\u001b[38;5;241;43m-\u001b[39;49m\u001b[38;5;241;43m1\u001b[39;49m\u001b[43m]\u001b[49m\n",
      "\u001b[1;31mTypeError\u001b[0m: 'int' object is not subscriptable"
     ]
    }
   ],
   "source": [
    "#wap to check if num is palindrome or not \n",
    "a=34"
   ]
  },
  {
   "cell_type": "code",
   "execution_count": 41,
   "id": "e2d0d65c",
   "metadata": {},
   "outputs": [],
   "source": [
    "#wap to reverse a list using func\n",
    "y=[23,12,89,45,'good','morning',-11,22.34]\n",
    "y.reverse()"
   ]
  },
  {
   "cell_type": "code",
   "execution_count": 42,
   "id": "92994ef1",
   "metadata": {},
   "outputs": [
    {
     "data": {
      "text/plain": [
       "[22.34, -11, 'morning', 'good', 45, 89, 12, 23]"
      ]
     },
     "execution_count": 42,
     "metadata": {},
     "output_type": "execute_result"
    }
   ],
   "source": [
    "y"
   ]
  },
  {
   "cell_type": "code",
   "execution_count": 43,
   "id": "39d7be30",
   "metadata": {},
   "outputs": [
    {
     "data": {
      "text/plain": [
       "[22.34, -11, 'morning', 'good', 45, 89, 12, 23]"
      ]
     },
     "execution_count": 43,
     "metadata": {},
     "output_type": "execute_result"
    }
   ],
   "source": [
    "#wap to reverse a list using indexing\n",
    "y=[23,12,89,45,'good','morning',-11,22.34]\n",
    "y[::-1]"
   ]
  },
  {
   "cell_type": "code",
   "execution_count": 44,
   "id": "51456b12",
   "metadata": {},
   "outputs": [
    {
     "data": {
      "text/plain": [
       "[22.34, 12, 89, 45, 'good', 'morning', -11, 23]"
      ]
     },
     "execution_count": 44,
     "metadata": {},
     "output_type": "execute_result"
    }
   ],
   "source": [
    "#wap to swap first and last no of list\n",
    "y=[23,12,89,45,'good','morning',-11,22.34]\n",
    "y[0],y[7]=y[7],y[0]\n",
    "y"
   ]
  },
  {
   "cell_type": "code",
   "execution_count": 45,
   "id": "93063288",
   "metadata": {},
   "outputs": [
    {
     "data": {
      "text/plain": [
       "[22.34, 12, 89, 45, 'good', 'morning', -11, 23]"
      ]
     },
     "execution_count": 45,
     "metadata": {},
     "output_type": "execute_result"
    }
   ],
   "source": [
    "#wap to swap first and last no of list\n",
    "y=[23,12,89,45,'good','morning',-11,22.34]\n",
    "y[0],y[-1]=y[-1],y[0]\n",
    "y"
   ]
  },
  {
   "cell_type": "code",
   "execution_count": 46,
   "id": "0b30b06d",
   "metadata": {},
   "outputs": [
    {
     "name": "stdout",
     "output_type": "stream",
     "text": [
      "greatest num 90\n"
     ]
    }
   ],
   "source": [
    "#wap to find max num in list\n",
    "z=[12,1,2,90,-89,45,23,-23.22,13.11,-1000]\n",
    "#if we assign 0 to max then it might fail some test cases having -ve num\n",
    "max=0\n",
    "for i in z:\n",
    "    if max<i:\n",
    "        max=i\n",
    "print('greatest num',max)"
   ]
  },
  {
   "cell_type": "code",
   "execution_count": 47,
   "id": "ddbe58ef",
   "metadata": {},
   "outputs": [
    {
     "name": "stdout",
     "output_type": "stream",
     "text": [
      "greatest num 1001\n"
     ]
    }
   ],
   "source": [
    "#wap to find max num in list\n",
    "z=[12,1,2,90,-89,45,23,-23.22,13.11,-100,-999,1001]\n",
    "#it will pass all test cases\n",
    "max=z[0]\n",
    "for i in z:\n",
    "    if max<i:\n",
    "        max=i\n",
    "print('greatest num',max)"
   ]
  },
  {
   "cell_type": "code",
   "execution_count": 54,
   "id": "0767b8f3",
   "metadata": {},
   "outputs": [
    {
     "name": "stdout",
     "output_type": "stream",
     "text": [
      "least num -89\n"
     ]
    }
   ],
   "source": [
    "#wap to find min num in list\n",
    "z=[12,1,-2,90,-89,45,23,23.22,13.11]\n",
    "min=z[0]\n",
    "for i in z:\n",
    "    if min>i:\n",
    "        min=i\n",
    "print('least num',min)"
   ]
  },
  {
   "cell_type": "code",
   "execution_count": 49,
   "id": "0ca2aa8b",
   "metadata": {},
   "outputs": [
    {
     "name": "stdout",
     "output_type": "stream",
     "text": [
      "116.33\n"
     ]
    }
   ],
   "source": [
    "#wap to sum the num present in a list\n",
    "z=[12,1,-2,90,-89,45,23,23.22,13.11]\n",
    "a=0\n",
    "for i in z:\n",
    "    a=a+i\n",
    "print(a)"
   ]
  },
  {
   "cell_type": "code",
   "execution_count": 50,
   "id": "0651174f",
   "metadata": {},
   "outputs": [
    {
     "name": "stdout",
     "output_type": "stream",
     "text": [
      "even 2\n",
      "even 4\n",
      "even 90\n",
      "even 66\n",
      "even 26\n"
     ]
    }
   ],
   "source": [
    "#wap to print even num in list\n",
    "a=[2,3,9,4,7,23,90,66,83,26]\n",
    "for i in a:\n",
    "    if i%2==0:\n",
    "        print('even',i)"
   ]
  },
  {
   "cell_type": "code",
   "execution_count": 51,
   "id": "8b59e544",
   "metadata": {},
   "outputs": [
    {
     "name": "stdout",
     "output_type": "stream",
     "text": [
      "odd 3\n",
      "odd 9\n",
      "odd 7\n",
      "odd 23\n",
      "odd 83\n"
     ]
    }
   ],
   "source": [
    "#wap to print odd num in list\n",
    "a=[2,3,9,4,7,23,90,66,83,26]\n",
    "for i in a:\n",
    "    if i%2!=0:\n",
    "        print('odd',i)"
   ]
  },
  {
   "cell_type": "code",
   "execution_count": 86,
   "id": "beff9707",
   "metadata": {},
   "outputs": [
    {
     "name": "stdout",
     "output_type": "stream",
     "text": [
      "common element is 11\n",
      "common element is 89\n",
      "no common element\n"
     ]
    }
   ],
   "source": [
    "#wap to print common element in list\n",
    "a=[34,11,45,89,56]\n",
    "b=[67,89,23,90,11]\n",
    "for i in a:\n",
    "    for j in b:\n",
    "        if i==j:\n",
    "            print('common element is',i)\n",
    "    else:\n",
    "        \n",
    "        print('no common element')"
   ]
  },
  {
   "cell_type": "code",
   "execution_count": 68,
   "id": "817cca2c",
   "metadata": {},
   "outputs": [
    {
     "name": "stdout",
     "output_type": "stream",
     "text": [
      "even 2\n",
      "odd 7\n",
      "odd 3\n",
      "even 6\n",
      "even 8\n",
      "odd 23\n",
      "odd 11\n",
      "even 90\n",
      "even 54\n",
      "odd 33\n",
      "count even 5\n",
      "count odd 5\n"
     ]
    }
   ],
   "source": [
    "#wap to count even and odd num in list\n",
    "x=[2,7,3,6,8,23,11,90,54,33]\n",
    "count_odd=0\n",
    "count_even=0\n",
    "for i in x:\n",
    "    if i%2!=0:\n",
    "        print('odd',i)\n",
    "        count_odd=count_odd+1\n",
    "    else:\n",
    "        print('even',i)\n",
    "        count_even=count_even+1\n",
    "print('count even',count_odd)\n",
    "print('count odd',count_even)"
   ]
  },
  {
   "cell_type": "code",
   "execution_count": 89,
   "id": "fdf5c8a1",
   "metadata": {},
   "outputs": [],
   "source": [
    "#wap to create empty list\n",
    "a=[]"
   ]
  },
  {
   "cell_type": "code",
   "execution_count": 90,
   "id": "c4faccee",
   "metadata": {},
   "outputs": [
    {
     "data": {
      "text/plain": [
       "list"
      ]
     },
     "execution_count": 90,
     "metadata": {},
     "output_type": "execute_result"
    }
   ],
   "source": [
    "type(a)"
   ]
  },
  {
   "cell_type": "code",
   "execution_count": 95,
   "id": "83eb491c",
   "metadata": {},
   "outputs": [],
   "source": [
    "#wap to create single element list\n",
    "b=[4]"
   ]
  },
  {
   "cell_type": "code",
   "execution_count": 96,
   "id": "c6f8b944",
   "metadata": {},
   "outputs": [
    {
     "data": {
      "text/plain": [
       "list"
      ]
     },
     "execution_count": 96,
     "metadata": {},
     "output_type": "execute_result"
    }
   ],
   "source": [
    "type(b)"
   ]
  },
  {
   "cell_type": "code",
   "execution_count": null,
   "id": "d5e4f761",
   "metadata": {},
   "outputs": [],
   "source": []
  }
 ],
 "metadata": {
  "kernelspec": {
   "display_name": "Python 3 (ipykernel)",
   "language": "python",
   "name": "python3"
  },
  "language_info": {
   "codemirror_mode": {
    "name": "ipython",
    "version": 3
   },
   "file_extension": ".py",
   "mimetype": "text/x-python",
   "name": "python",
   "nbconvert_exporter": "python",
   "pygments_lexer": "ipython3",
   "version": "3.9.12"
  }
 },
 "nbformat": 4,
 "nbformat_minor": 5
}
