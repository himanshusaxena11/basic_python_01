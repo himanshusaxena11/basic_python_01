{
 "cells": [
  {
   "cell_type": "markdown",
   "id": "3679fc38",
   "metadata": {},
   "source": [
    "# ENCAPSULATION"
   ]
  },
  {
   "cell_type": "code",
   "execution_count": 1,
   "id": "69b3b5c2",
   "metadata": {},
   "outputs": [],
   "source": [
    "# Encapsulation--- Data hide--- 1)Private\n",
    "#                               2)Private\n",
    "#                               3)Protected"
   ]
  },
  {
   "cell_type": "code",
   "execution_count": 2,
   "id": "78a48e6d",
   "metadata": {},
   "outputs": [
    {
     "ename": "NameError",
     "evalue": "name 'name' is not defined",
     "output_type": "error",
     "traceback": [
      "\u001b[1;31m---------------------------------------------------------------------------\u001b[0m",
      "\u001b[1;31mNameError\u001b[0m                                 Traceback (most recent call last)",
      "Cell \u001b[1;32mIn[2], line 7\u001b[0m\n\u001b[0;32m      4\u001b[0m         \u001b[38;5;28mself\u001b[39m\u001b[38;5;241m.\u001b[39mname\u001b[38;5;241m=\u001b[39mname\n\u001b[0;32m      5\u001b[0m         \u001b[38;5;28mself\u001b[39m\u001b[38;5;241m.\u001b[39mage\u001b[38;5;241m=\u001b[39mage\n\u001b[1;32m----> 7\u001b[0m s\u001b[38;5;241m=\u001b[39m\u001b[43mstudent\u001b[49m\u001b[43m(\u001b[49m\u001b[38;5;124;43m'\u001b[39;49m\u001b[38;5;124;43ma\u001b[39;49m\u001b[38;5;124;43m'\u001b[39;49m\u001b[43m,\u001b[49m\u001b[38;5;241;43m23\u001b[39;49m\u001b[43m)\u001b[49m\n",
      "Cell \u001b[1;32mIn[2], line 4\u001b[0m, in \u001b[0;36mstudent.__init__\u001b[1;34m(self, _student__name, age)\u001b[0m\n\u001b[0;32m      3\u001b[0m \u001b[38;5;28;01mdef\u001b[39;00m \u001b[38;5;21m__init__\u001b[39m(\u001b[38;5;28mself\u001b[39m,__name,age):               \u001b[38;5;66;03m# or public\u001b[39;00m\n\u001b[1;32m----> 4\u001b[0m     \u001b[38;5;28mself\u001b[39m\u001b[38;5;241m.\u001b[39mname\u001b[38;5;241m=\u001b[39m\u001b[43mname\u001b[49m\n\u001b[0;32m      5\u001b[0m     \u001b[38;5;28mself\u001b[39m\u001b[38;5;241m.\u001b[39mage\u001b[38;5;241m=\u001b[39mage\n",
      "\u001b[1;31mNameError\u001b[0m: name 'name' is not defined"
     ]
    }
   ],
   "source": [
    "# Encapsulation in constructor\n",
    "class student:                                   #constructor gives access to attribute so attributes can be made private \n",
    "    def __init__(self,__name,age):               # or public\n",
    "        self.name=name\n",
    "        self.age=age\n",
    "        \n",
    "s=student('a',23)"
   ]
  },
  {
   "cell_type": "code",
   "execution_count": 3,
   "id": "f8b49e77",
   "metadata": {},
   "outputs": [
    {
     "ename": "NameError",
     "evalue": "name 's' is not defined",
     "output_type": "error",
     "traceback": [
      "\u001b[1;31m---------------------------------------------------------------------------\u001b[0m",
      "\u001b[1;31mNameError\u001b[0m                                 Traceback (most recent call last)",
      "Cell \u001b[1;32mIn[3], line 1\u001b[0m\n\u001b[1;32m----> 1\u001b[0m \u001b[43ms\u001b[49m\u001b[38;5;241m.\u001b[39mname\n",
      "\u001b[1;31mNameError\u001b[0m: name 's' is not defined"
     ]
    }
   ],
   "source": [
    "s.name"
   ]
  },
  {
   "cell_type": "code",
   "execution_count": 4,
   "id": "a190daef",
   "metadata": {},
   "outputs": [
    {
     "ename": "NameError",
     "evalue": "name 's' is not defined",
     "output_type": "error",
     "traceback": [
      "\u001b[1;31m---------------------------------------------------------------------------\u001b[0m",
      "\u001b[1;31mNameError\u001b[0m                                 Traceback (most recent call last)",
      "Cell \u001b[1;32mIn[4], line 1\u001b[0m\n\u001b[1;32m----> 1\u001b[0m \u001b[43ms\u001b[49m\u001b[38;5;241m.\u001b[39mage\n",
      "\u001b[1;31mNameError\u001b[0m: name 's' is not defined"
     ]
    }
   ],
   "source": [
    "s.age"
   ]
  },
  {
   "cell_type": "code",
   "execution_count": 5,
   "id": "567a77e0",
   "metadata": {},
   "outputs": [
    {
     "ename": "AttributeError",
     "evalue": "'std' object has no attribute 'details'",
     "output_type": "error",
     "traceback": [
      "\u001b[1;31m---------------------------------------------------------------------------\u001b[0m",
      "\u001b[1;31mAttributeError\u001b[0m                            Traceback (most recent call last)",
      "Cell \u001b[1;32mIn[5], line 7\u001b[0m\n\u001b[0;32m      4\u001b[0m         \u001b[38;5;28;01mreturn\u001b[39;00m name,marks\n\u001b[0;32m      6\u001b[0m t\u001b[38;5;241m=\u001b[39mstd()\n\u001b[1;32m----> 7\u001b[0m \u001b[43mt\u001b[49m\u001b[38;5;241;43m.\u001b[39;49m\u001b[43mdetails\u001b[49m(\u001b[38;5;124m'\u001b[39m\u001b[38;5;124mh\u001b[39m\u001b[38;5;124m'\u001b[39m,\u001b[38;5;241m67\u001b[39m)\n",
      "\u001b[1;31mAttributeError\u001b[0m: 'std' object has no attribute 'details'"
     ]
    }
   ],
   "source": [
    "# Encapsulation in function\n",
    "class std:                                      # In func ,whole func is made private or public bcz there is no access to \n",
    "    def __details(self,name,marks):               # to attributes\n",
    "        return name,marks\n",
    "    \n",
    "t=std()\n",
    "t.details('h',67)"
   ]
  },
  {
   "cell_type": "code",
   "execution_count": 6,
   "id": "188b5dbe",
   "metadata": {},
   "outputs": [
    {
     "ename": "AttributeError",
     "evalue": "'std' object has no attribute 'details'",
     "output_type": "error",
     "traceback": [
      "\u001b[1;31m---------------------------------------------------------------------------\u001b[0m",
      "\u001b[1;31mAttributeError\u001b[0m                            Traceback (most recent call last)",
      "Cell \u001b[1;32mIn[6], line 1\u001b[0m\n\u001b[1;32m----> 1\u001b[0m \u001b[43mt\u001b[49m\u001b[38;5;241;43m.\u001b[39;49m\u001b[43mdetails\u001b[49m(\u001b[38;5;124m'\u001b[39m\u001b[38;5;124mj\u001b[39m\u001b[38;5;124m'\u001b[39m,\u001b[38;5;241m78\u001b[39m)\n",
      "\u001b[1;31mAttributeError\u001b[0m: 'std' object has no attribute 'details'"
     ]
    }
   ],
   "source": [
    "t.details('j',78)"
   ]
  },
  {
   "cell_type": "code",
   "execution_count": 7,
   "id": "41e9ea88",
   "metadata": {},
   "outputs": [
    {
     "ename": "NameError",
     "evalue": "name 'marks2' is not defined",
     "output_type": "error",
     "traceback": [
      "\u001b[1;31m---------------------------------------------------------------------------\u001b[0m",
      "\u001b[1;31mNameError\u001b[0m                                 Traceback (most recent call last)",
      "Cell \u001b[1;32mIn[7], line 12\u001b[0m\n\u001b[0;32m      9\u001b[0m     \u001b[38;5;28;01mdef\u001b[39;00m \u001b[38;5;21m__init__\u001b[39m(\u001b[38;5;28mself\u001b[39m,marks1,marks2):\n\u001b[0;32m     10\u001b[0m         \u001b[38;5;28msuper\u001b[39m()\u001b[38;5;241m.\u001b[39m\u001b[38;5;21m__init__\u001b[39m(marks1,marks2)\n\u001b[1;32m---> 12\u001b[0m s\u001b[38;5;241m=\u001b[39m\u001b[43msub2\u001b[49m\u001b[43m(\u001b[49m\u001b[38;5;241;43m57\u001b[39;49m\u001b[43m,\u001b[49m\u001b[38;5;241;43m23\u001b[39;49m\u001b[43m)\u001b[49m\n",
      "Cell \u001b[1;32mIn[7], line 10\u001b[0m, in \u001b[0;36msub2.__init__\u001b[1;34m(self, marks1, marks2)\u001b[0m\n\u001b[0;32m      9\u001b[0m \u001b[38;5;28;01mdef\u001b[39;00m \u001b[38;5;21m__init__\u001b[39m(\u001b[38;5;28mself\u001b[39m,marks1,marks2):\n\u001b[1;32m---> 10\u001b[0m     \u001b[38;5;28;43msuper\u001b[39;49m\u001b[43m(\u001b[49m\u001b[43m)\u001b[49m\u001b[38;5;241;43m.\u001b[39;49m\u001b[38;5;21;43m__init__\u001b[39;49m\u001b[43m(\u001b[49m\u001b[43mmarks1\u001b[49m\u001b[43m,\u001b[49m\u001b[43mmarks2\u001b[49m\u001b[43m)\u001b[49m\n",
      "Cell \u001b[1;32mIn[7], line 6\u001b[0m, in \u001b[0;36msub1.__init__\u001b[1;34m(self, marks1, _sub1__marks2)\u001b[0m\n\u001b[0;32m      4\u001b[0m \u001b[38;5;28;01mdef\u001b[39;00m \u001b[38;5;21m__init__\u001b[39m(\u001b[38;5;28mself\u001b[39m,marks1,__marks2):\n\u001b[0;32m      5\u001b[0m     \u001b[38;5;28mself\u001b[39m\u001b[38;5;241m.\u001b[39mmarks1\u001b[38;5;241m=\u001b[39mmarks1\n\u001b[1;32m----> 6\u001b[0m     \u001b[38;5;28mself\u001b[39m\u001b[38;5;241m.\u001b[39mmarks2\u001b[38;5;241m=\u001b[39m\u001b[43mmarks2\u001b[49m\n",
      "\u001b[1;31mNameError\u001b[0m: name 'marks2' is not defined"
     ]
    }
   ],
   "source": [
    "# Program to perform encapsulation where you have to find the marks of 2 student if anyone of the student is going to fail\n",
    "# in any subject then you have to hide the data of the subject\n",
    "class sub1:\n",
    "    def __init__(self,marks1,__marks2):\n",
    "        self.marks1=marks1\n",
    "        self.marks2=marks2\n",
    "        \n",
    "class sub2(sub1):\n",
    "    def __init__(self,marks1,marks2):\n",
    "        super().__init__(marks1,marks2)\n",
    "        \n",
    "s=sub2(57,23)"
   ]
  },
  {
   "cell_type": "code",
   "execution_count": 8,
   "id": "158df9c6",
   "metadata": {},
   "outputs": [
    {
     "ename": "NameError",
     "evalue": "name 's' is not defined",
     "output_type": "error",
     "traceback": [
      "\u001b[1;31m---------------------------------------------------------------------------\u001b[0m",
      "\u001b[1;31mNameError\u001b[0m                                 Traceback (most recent call last)",
      "Cell \u001b[1;32mIn[8], line 1\u001b[0m\n\u001b[1;32m----> 1\u001b[0m \u001b[43ms\u001b[49m\u001b[38;5;241m.\u001b[39mmarks1\n",
      "\u001b[1;31mNameError\u001b[0m: name 's' is not defined"
     ]
    }
   ],
   "source": [
    "s.marks1"
   ]
  },
  {
   "cell_type": "code",
   "execution_count": 9,
   "id": "246e6c07",
   "metadata": {},
   "outputs": [
    {
     "ename": "NameError",
     "evalue": "name 's' is not defined",
     "output_type": "error",
     "traceback": [
      "\u001b[1;31m---------------------------------------------------------------------------\u001b[0m",
      "\u001b[1;31mNameError\u001b[0m                                 Traceback (most recent call last)",
      "Cell \u001b[1;32mIn[9], line 1\u001b[0m\n\u001b[1;32m----> 1\u001b[0m \u001b[43ms\u001b[49m\u001b[38;5;241m.\u001b[39mmarks2\n",
      "\u001b[1;31mNameError\u001b[0m: name 's' is not defined"
     ]
    }
   ],
   "source": [
    "s.marks2"
   ]
  },
  {
   "cell_type": "code",
   "execution_count": 10,
   "id": "3f8f5c21",
   "metadata": {},
   "outputs": [],
   "source": [
    "#public private and protected mode are also called access modifiers"
   ]
  },
  {
   "cell_type": "code",
   "execution_count": 11,
   "id": "bd2f7c97",
   "metadata": {},
   "outputs": [],
   "source": [
    "# PUBLIC ,PRIVATE  AND PROTECTED MODE\n",
    "class trainee:\n",
    "    #public\n",
    "    def name(self,name):\n",
    "        print(name)\n",
    "        \n",
    "    #private\n",
    "    def __age(self,age):\n",
    "        print(age)\n",
    "        \n",
    "    #protected\n",
    "    def _salary(self,salary):\n",
    "        print(salary)\n",
    "        \n",
    "t=trainee()"
   ]
  },
  {
   "cell_type": "code",
   "execution_count": 12,
   "id": "64bbfca8",
   "metadata": {},
   "outputs": [
    {
     "name": "stdout",
     "output_type": "stream",
     "text": [
      "Y\n"
     ]
    }
   ],
   "source": [
    "t.name('Y')"
   ]
  },
  {
   "cell_type": "code",
   "execution_count": 13,
   "id": "26a316f2",
   "metadata": {},
   "outputs": [
    {
     "ename": "AttributeError",
     "evalue": "'trainee' object has no attribute 'age'",
     "output_type": "error",
     "traceback": [
      "\u001b[1;31m---------------------------------------------------------------------------\u001b[0m",
      "\u001b[1;31mAttributeError\u001b[0m                            Traceback (most recent call last)",
      "Cell \u001b[1;32mIn[13], line 1\u001b[0m\n\u001b[1;32m----> 1\u001b[0m \u001b[43mt\u001b[49m\u001b[38;5;241;43m.\u001b[39;49m\u001b[43mage\u001b[49m(\u001b[38;5;241m21\u001b[39m)\n",
      "\u001b[1;31mAttributeError\u001b[0m: 'trainee' object has no attribute 'age'"
     ]
    }
   ],
   "source": [
    "t.age(21)"
   ]
  },
  {
   "cell_type": "code",
   "execution_count": 14,
   "id": "56efe72d",
   "metadata": {},
   "outputs": [
    {
     "name": "stdout",
     "output_type": "stream",
     "text": [
      "3000\n"
     ]
    }
   ],
   "source": [
    "t._salary(3000)"
   ]
  },
  {
   "cell_type": "code",
   "execution_count": 15,
   "id": "0b56ab68",
   "metadata": {},
   "outputs": [
    {
     "ename": "NameError",
     "evalue": "name 'run' is not defined",
     "output_type": "error",
     "traceback": [
      "\u001b[1;31m---------------------------------------------------------------------------\u001b[0m",
      "\u001b[1;31mNameError\u001b[0m                                 Traceback (most recent call last)",
      "Cell \u001b[1;32mIn[15], line 11\u001b[0m\n\u001b[0;32m      8\u001b[0m     \u001b[38;5;28;01mdef\u001b[39;00m \u001b[38;5;21m__init__\u001b[39m(\u001b[38;5;28mself\u001b[39m,name,run):\n\u001b[0;32m      9\u001b[0m         \u001b[38;5;28msuper\u001b[39m()\u001b[38;5;241m.\u001b[39m\u001b[38;5;21m__init__\u001b[39m(name,run)\n\u001b[1;32m---> 11\u001b[0m p\u001b[38;5;241m=\u001b[39m\u001b[43mp2\u001b[49m\u001b[43m(\u001b[49m\u001b[38;5;124;43m'\u001b[39;49m\u001b[38;5;124;43mK\u001b[39;49m\u001b[38;5;124;43m'\u001b[39;49m\u001b[43m,\u001b[49m\u001b[38;5;241;43m0\u001b[39;49m\u001b[43m)\u001b[49m\n",
      "Cell \u001b[1;32mIn[15], line 9\u001b[0m, in \u001b[0;36mp2.__init__\u001b[1;34m(self, name, run)\u001b[0m\n\u001b[0;32m      8\u001b[0m \u001b[38;5;28;01mdef\u001b[39;00m \u001b[38;5;21m__init__\u001b[39m(\u001b[38;5;28mself\u001b[39m,name,run):\n\u001b[1;32m----> 9\u001b[0m     \u001b[38;5;28;43msuper\u001b[39;49m\u001b[43m(\u001b[49m\u001b[43m)\u001b[49m\u001b[38;5;241;43m.\u001b[39;49m\u001b[38;5;21;43m__init__\u001b[39;49m\u001b[43m(\u001b[49m\u001b[43mname\u001b[49m\u001b[43m,\u001b[49m\u001b[43mrun\u001b[49m\u001b[43m)\u001b[49m\n",
      "Cell \u001b[1;32mIn[15], line 5\u001b[0m, in \u001b[0;36mp1.__init__\u001b[1;34m(self, name, _p1__run)\u001b[0m\n\u001b[0;32m      3\u001b[0m \u001b[38;5;28;01mdef\u001b[39;00m \u001b[38;5;21m__init__\u001b[39m(\u001b[38;5;28mself\u001b[39m,name,__run):\n\u001b[0;32m      4\u001b[0m     \u001b[38;5;28mself\u001b[39m\u001b[38;5;241m.\u001b[39mname\u001b[38;5;241m=\u001b[39mname\n\u001b[1;32m----> 5\u001b[0m     \u001b[38;5;28mself\u001b[39m\u001b[38;5;241m.\u001b[39mrun\u001b[38;5;241m=\u001b[39m\u001b[43mrun\u001b[49m\n",
      "\u001b[1;31mNameError\u001b[0m: name 'run' is not defined"
     ]
    }
   ],
   "source": [
    "# Program to get the score of 2 player if the player is not able to make run then dont show the data in o/p\n",
    "class p1:\n",
    "    def __init__(self,name,__run):\n",
    "        self.name=name\n",
    "        self.run=run\n",
    "        \n",
    "class p2(p1):\n",
    "    def __init__(self,name,run):\n",
    "        super().__init__(name,run)\n",
    "        \n",
    "p=p2('K',0)"
   ]
  },
  {
   "cell_type": "code",
   "execution_count": 16,
   "id": "23a1316e",
   "metadata": {},
   "outputs": [
    {
     "ename": "NameError",
     "evalue": "name 'p' is not defined",
     "output_type": "error",
     "traceback": [
      "\u001b[1;31m---------------------------------------------------------------------------\u001b[0m",
      "\u001b[1;31mNameError\u001b[0m                                 Traceback (most recent call last)",
      "Cell \u001b[1;32mIn[16], line 1\u001b[0m\n\u001b[1;32m----> 1\u001b[0m \u001b[43mp\u001b[49m\u001b[38;5;241m.\u001b[39mname\n",
      "\u001b[1;31mNameError\u001b[0m: name 'p' is not defined"
     ]
    }
   ],
   "source": [
    "p.name"
   ]
  },
  {
   "cell_type": "code",
   "execution_count": 17,
   "id": "9f8f84d0",
   "metadata": {},
   "outputs": [
    {
     "ename": "NameError",
     "evalue": "name 'p' is not defined",
     "output_type": "error",
     "traceback": [
      "\u001b[1;31m---------------------------------------------------------------------------\u001b[0m",
      "\u001b[1;31mNameError\u001b[0m                                 Traceback (most recent call last)",
      "Cell \u001b[1;32mIn[17], line 1\u001b[0m\n\u001b[1;32m----> 1\u001b[0m \u001b[43mp\u001b[49m\u001b[38;5;241m.\u001b[39mrun\n",
      "\u001b[1;31mNameError\u001b[0m: name 'p' is not defined"
     ]
    }
   ],
   "source": [
    "p.run"
   ]
  },
  {
   "cell_type": "markdown",
   "id": "a8f5fe69",
   "metadata": {},
   "source": [
    "# POLYMORPHISM"
   ]
  },
  {
   "cell_type": "code",
   "execution_count": 18,
   "id": "886db9dd",
   "metadata": {},
   "outputs": [],
   "source": [
    "# Polymorphism--- ---means Many forms\n",
    "#Types----->>>>1)Overloading------->>>a)Operator Overloading\n",
    "#                                     b)Method / Function Overloading\n",
    "\n",
    "#              2)Overriding---- not in python"
   ]
  },
  {
   "cell_type": "markdown",
   "id": "ffb9a594",
   "metadata": {},
   "source": [
    "### Operator overloading"
   ]
  },
  {
   "cell_type": "code",
   "execution_count": 30,
   "id": "2d82d76f",
   "metadata": {},
   "outputs": [],
   "source": [
    "class addn:\n",
    "    def plus(self,p,q):\n",
    "        r=p+q\n",
    "        print(r)\n",
    "    \n",
    "a=addn()"
   ]
  },
  {
   "cell_type": "code",
   "execution_count": 32,
   "id": "d941d0c0",
   "metadata": {},
   "outputs": [
    {
     "name": "stdout",
     "output_type": "stream",
     "text": [
      "9\n"
     ]
    }
   ],
   "source": [
    "a.plus(2,7)"
   ]
  },
  {
   "cell_type": "code",
   "execution_count": 33,
   "id": "1258735e",
   "metadata": {},
   "outputs": [],
   "source": [
    "class addtn:\n",
    "    def pls(self,a,b):\n",
    "            c=a+b\n",
    "            print(c)\n",
    "            \n",
    "d=addtn()"
   ]
  },
  {
   "cell_type": "code",
   "execution_count": 36,
   "id": "839715c1",
   "metadata": {},
   "outputs": [
    {
     "name": "stdout",
     "output_type": "stream",
     "text": [
      "21\n"
     ]
    }
   ],
   "source": [
    "d.pls('2','1')"
   ]
  },
  {
   "cell_type": "markdown",
   "id": "e730db29",
   "metadata": {},
   "source": [
    "### Function / Method overloading"
   ]
  },
  {
   "cell_type": "code",
   "execution_count": 39,
   "id": "2a8b6f5f",
   "metadata": {},
   "outputs": [
    {
     "data": {
      "text/plain": [
       "11"
      ]
     },
     "execution_count": 39,
     "metadata": {},
     "output_type": "execute_result"
    }
   ],
   "source": [
    "class sum:\n",
    "    def add(self,x,y=5):\n",
    "        z=x+y\n",
    "        return z\n",
    "\n",
    "s=sum()\n",
    "s.add(2,9)"
   ]
  },
  {
   "cell_type": "code",
   "execution_count": 40,
   "id": "479f37a1",
   "metadata": {},
   "outputs": [
    {
     "data": {
      "text/plain": [
       "8"
      ]
     },
     "execution_count": 40,
     "metadata": {},
     "output_type": "execute_result"
    }
   ],
   "source": [
    "s.add(1,7)"
   ]
  },
  {
   "cell_type": "code",
   "execution_count": 41,
   "id": "441c66ba",
   "metadata": {},
   "outputs": [
    {
     "data": {
      "text/plain": [
       "7"
      ]
     },
     "execution_count": 41,
     "metadata": {},
     "output_type": "execute_result"
    }
   ],
   "source": [
    "s.add(2)"
   ]
  },
  {
   "cell_type": "code",
   "execution_count": 42,
   "id": "f3648472",
   "metadata": {},
   "outputs": [
    {
     "data": {
      "text/plain": [
       "-7"
      ]
     },
     "execution_count": 42,
     "metadata": {},
     "output_type": "execute_result"
    }
   ],
   "source": [
    "s.add(-2,-5)"
   ]
  },
  {
   "cell_type": "code",
   "execution_count": null,
   "id": "f009d54e",
   "metadata": {},
   "outputs": [],
   "source": []
  }
 ],
 "metadata": {
  "kernelspec": {
   "display_name": "Python 3 (ipykernel)",
   "language": "python",
   "name": "python3"
  },
  "language_info": {
   "codemirror_mode": {
    "name": "ipython",
    "version": 3
   },
   "file_extension": ".py",
   "mimetype": "text/x-python",
   "name": "python",
   "nbconvert_exporter": "python",
   "pygments_lexer": "ipython3",
   "version": "3.11.5"
  }
 },
 "nbformat": 4,
 "nbformat_minor": 5
}
