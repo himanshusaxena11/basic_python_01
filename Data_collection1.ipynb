{
  "nbformat": 4,
  "nbformat_minor": 0,
  "metadata": {
    "colab": {
      "provenance": []
    },
    "kernelspec": {
      "name": "python3",
      "display_name": "Python 3"
    },
    "language_info": {
      "name": "python"
    }
  },
  "cells": [
    {
      "cell_type": "code",
      "execution_count": null,
      "metadata": {
        "colab": {
          "base_uri": "https://localhost:8080/"
        },
        "id": "NumuRrWnO4_q",
        "outputId": "c05de2cc-9196-4337-8df6-ad7833b9f480"
      },
      "outputs": [
        {
          "output_type": "stream",
          "name": "stdout",
          "text": [
            "9\n"
          ]
        }
      ],
      "source": [
        "#Wap to add all nos in list\n",
        "a=[2,5,-3,-2,7]\n",
        "b=0\n",
        "for i in a:\n",
        "  b=b+i\n",
        "print(b)"
      ]
    },
    {
      "cell_type": "code",
      "source": [
        "#Wap to reverse a list\n",
        "a=[4,7,-3,6,-13]\n",
        "a.reverse()\n",
        "a"
      ],
      "metadata": {
        "colab": {
          "base_uri": "https://localhost:8080/"
        },
        "id": "DyLcJrkePTpL",
        "outputId": "c2d24773-fdf0-4d04-921c-fe60194f7726"
      },
      "execution_count": null,
      "outputs": [
        {
          "output_type": "execute_result",
          "data": {
            "text/plain": [
              "[-13, 6, -3, 7, 4]"
            ]
          },
          "metadata": {},
          "execution_count": 3
        }
      ]
    },
    {
      "cell_type": "code",
      "source": [
        "#Wap to swap 1st and last no of list\n",
        "a=[4,7,-3,6,-13]\n",
        "a[0],a[-1]=a[-1],a[0]\n",
        "a"
      ],
      "metadata": {
        "colab": {
          "base_uri": "https://localhost:8080/"
        },
        "id": "MH_XoM3bXdD2",
        "outputId": "f477dcc1-cb00-46f7-bb72-8ec39b3db0cb"
      },
      "execution_count": null,
      "outputs": [
        {
          "output_type": "execute_result",
          "data": {
            "text/plain": [
              "[-13, 7, -3, 6, 4]"
            ]
          },
          "metadata": {},
          "execution_count": 6
        }
      ]
    },
    {
      "cell_type": "code",
      "source": [
        "#Wap to find max num in list\n",
        "a=[4,-7,3,6,13]\n",
        "max =0\n",
        "for i in a:\n",
        "  if max <i:\n",
        "     max =i\n",
        "print('max is',max)"
      ],
      "metadata": {
        "colab": {
          "base_uri": "https://localhost:8080/"
        },
        "id": "FnaEIbOSXsDJ",
        "outputId": "e8b17d73-6ced-47ef-e61e-90ecc0fc5199"
      },
      "execution_count": null,
      "outputs": [
        {
          "output_type": "stream",
          "name": "stdout",
          "text": [
            "max is 13\n"
          ]
        }
      ]
    },
    {
      "cell_type": "code",
      "source": [
        "#Wap to find min num in list\n",
        "a=[4,1,2,8,3]\n",
        "min=a[0]\n",
        "for i in a:\n",
        "  if min >i:\n",
        "    min =i\n",
        "print('min is',min)"
      ],
      "metadata": {
        "colab": {
          "base_uri": "https://localhost:8080/"
        },
        "id": "gv_1BFsmghrp",
        "outputId": "8e47a14b-5ec9-4662-ec15-40696ec71626"
      },
      "execution_count": null,
      "outputs": [
        {
          "output_type": "stream",
          "name": "stdout",
          "text": [
            "min is 1\n"
          ]
        }
      ]
    },
    {
      "cell_type": "code",
      "source": [
        "#Wap to find even num in list\n",
        "x=[3,2,12,1,23,33,64,26]\n",
        "for i in x:\n",
        "  if i%2==0:\n",
        "    print('even num',i)"
      ],
      "metadata": {
        "colab": {
          "base_uri": "https://localhost:8080/"
        },
        "id": "NNAgp-hxhAn0",
        "outputId": "58180545-6ffd-4698-c12e-0db6544ca3ed"
      },
      "execution_count": null,
      "outputs": [
        {
          "output_type": "stream",
          "name": "stdout",
          "text": [
            "even num 2\n",
            "even num 12\n",
            "even num 64\n",
            "even num 26\n"
          ]
        }
      ]
    },
    {
      "cell_type": "code",
      "source": [
        "#Wap to find odd num in list\n",
        "x=[3,2,12,1,23,33,64,26]\n",
        "for i in x:\n",
        "  if i%2!=0:\n",
        "    print('odd num',i)"
      ],
      "metadata": {
        "colab": {
          "base_uri": "https://localhost:8080/"
        },
        "id": "A9-XnErajpnh",
        "outputId": "a8866efb-0e2e-4d04-8aa0-41eb4d93f844"
      },
      "execution_count": null,
      "outputs": [
        {
          "output_type": "stream",
          "name": "stdout",
          "text": [
            "odd num 3\n",
            "odd num 1\n",
            "odd num 23\n",
            "odd num 33\n"
          ]
        }
      ]
    },
    {
      "cell_type": "code",
      "source": [
        "#Wap to find common element in list\n",
        "a=[3,8,1,6,14,21,33]\n",
        "b=[1,4,33,15,8,12]\n",
        "for i in a:\n",
        "  for j in b:\n",
        "    if i==j:\n",
        "     print('common element is',i)"
      ],
      "metadata": {
        "colab": {
          "base_uri": "https://localhost:8080/"
        },
        "id": "9eOyTPtEkD7Q",
        "outputId": "7b587482-2c94-4779-d885-ae7f3608711f"
      },
      "execution_count": null,
      "outputs": [
        {
          "output_type": "stream",
          "name": "stdout",
          "text": [
            "common element is 8\n",
            "common element is 1\n",
            "common element is 33\n"
          ]
        }
      ]
    },
    {
      "cell_type": "code",
      "source": [
        "x=[1,2,3,4,5,6,7,8,9,10,11,12,13,14]\n",
        "x[0::2]"
      ],
      "metadata": {
        "colab": {
          "base_uri": "https://localhost:8080/"
        },
        "id": "ZtfKLAEykkbG",
        "outputId": "29fa1edd-231e-4a5e-d106-17f48d9f15f3"
      },
      "execution_count": null,
      "outputs": [
        {
          "output_type": "execute_result",
          "data": {
            "text/plain": [
              "[1, 3, 5, 7, 9, 11, 13]"
            ]
          },
          "metadata": {},
          "execution_count": 2
        }
      ]
    },
    {
      "cell_type": "code",
      "source": [
        "#count even & odd num in list\n",
        "count_even=0\n",
        "count_odd=0\n",
        "x=[4,8,1,9,3,21,14,11,24]\n",
        "for i in x:\n",
        "  if i%2==0:\n",
        "    count_even=count_even+1\n",
        "    print('even',i)\n",
        "  else:\n",
        "    count_odd=count_odd+1\n",
        "    print('odd',i)\n",
        "print('count_even',count_even)\n",
        "print('count_odd',count_odd)"
      ],
      "metadata": {
        "colab": {
          "base_uri": "https://localhost:8080/"
        },
        "id": "qBkZwAldJFkv",
        "outputId": "d508845d-03c1-4599-952d-4adcf6e2c802"
      },
      "execution_count": null,
      "outputs": [
        {
          "output_type": "stream",
          "name": "stdout",
          "text": [
            "even 4\n",
            "even 8\n",
            "odd 1\n",
            "odd 9\n",
            "odd 3\n",
            "odd 21\n",
            "even 14\n",
            "odd 11\n",
            "even 24\n",
            "count_even 4\n",
            "count_odd 5\n"
          ]
        }
      ]
    },
    {
      "cell_type": "code",
      "source": [
        "w='hello world'\n",
        "w[::-1]"
      ],
      "metadata": {
        "colab": {
          "base_uri": "https://localhost:8080/",
          "height": 36
        },
        "id": "lG7qYrlFRDiQ",
        "outputId": "123953f8-ae73-4e85-c837-31691596096e"
      },
      "execution_count": null,
      "outputs": [
        {
          "output_type": "execute_result",
          "data": {
            "text/plain": [
              "'dlrow olleh'"
            ],
            "application/vnd.google.colaboratory.intrinsic+json": {
              "type": "string"
            }
          },
          "metadata": {},
          "execution_count": 12
        }
      ]
    },
    {
      "cell_type": "code",
      "source": [
        "#prime no\n",
        "print('prime nums are')\n",
        "lower=8\n",
        "upper=40\n",
        "for num in range(lower,upper+1):\n",
        "  if num>1:\n",
        "    for i in range(2,num):\n",
        "      if num%i==0:\n",
        "        break\n",
        "    else:\n",
        "      print(num)"
      ],
      "metadata": {
        "colab": {
          "base_uri": "https://localhost:8080/"
        },
        "id": "fYepof5HZflx",
        "outputId": "66f4d3f4-6c95-44ff-84e8-af8058426f3e"
      },
      "execution_count": null,
      "outputs": [
        {
          "output_type": "stream",
          "name": "stdout",
          "text": [
            "prime nums are\n",
            "11\n",
            "13\n",
            "17\n",
            "19\n",
            "23\n",
            "29\n",
            "31\n",
            "37\n"
          ]
        }
      ]
    },
    {
      "cell_type": "code",
      "source": [
        "#lcm\n",
        "x=5\n",
        "y=12\n",
        "if x>y:\n",
        "  greater=x\n",
        "else:\n",
        "  greater=y\n",
        "  value=greater\n",
        "while True:\n",
        "  if greater%x ==0 and greater%y==0:\n",
        "    break\n",
        "  else:\n",
        "    greater=greater+value\n",
        "print('lcm is',greater)\n"
      ],
      "metadata": {
        "colab": {
          "base_uri": "https://localhost:8080/"
        },
        "id": "xQ4Gy7guia6V",
        "outputId": "8c1a9493-b5d3-4feb-93bf-55d1feed7344"
      },
      "execution_count": null,
      "outputs": [
        {
          "output_type": "stream",
          "name": "stdout",
          "text": [
            "lcm is 60\n"
          ]
        }
      ]
    },
    {
      "cell_type": "code",
      "source": [
        "#rev num\n",
        "x=83295\n",
        "rev_num=0\n",
        "while x!=0:\n",
        "  value=x%10\n",
        "  rev_num=rev_num*10+value\n",
        "  x=x//10\n",
        "print('rev_num is',rev_num)"
      ],
      "metadata": {
        "colab": {
          "base_uri": "https://localhost:8080/"
        },
        "id": "oTKfIPE7P9Es",
        "outputId": "2a50418b-6d32-4f3c-fd3f-92d1b7033095"
      },
      "execution_count": null,
      "outputs": [
        {
          "output_type": "stream",
          "name": "stdout",
          "text": [
            "rev_num is 59238\n"
          ]
        }
      ]
    },
    {
      "cell_type": "code",
      "source": [],
      "metadata": {
        "id": "9BoYPROCT0xe"
      },
      "execution_count": null,
      "outputs": []
    }
  ]
}