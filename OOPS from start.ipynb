{
 "cells": [
  {
   "cell_type": "code",
   "execution_count": 1,
   "id": "8cbd4c3c",
   "metadata": {},
   "outputs": [
    {
     "data": {
      "text/plain": [
       "2000"
      ]
     },
     "execution_count": 1,
     "metadata": {},
     "output_type": "execute_result"
    }
   ],
   "source": [
    " class car:\n",
    "    price=2000\n",
    "    \n",
    "c=car()\n",
    "c.price"
   ]
  },
  {
   "cell_type": "code",
   "execution_count": 2,
   "id": "83bc8b7e",
   "metadata": {},
   "outputs": [
    {
     "data": {
      "text/plain": [
       "3000"
      ]
     },
     "execution_count": 2,
     "metadata": {},
     "output_type": "execute_result"
    }
   ],
   "source": [
    "class car:\n",
    "    price=3000\n",
    "    \n",
    "car().price"
   ]
  },
  {
   "cell_type": "code",
   "execution_count": 3,
   "id": "43cf3185",
   "metadata": {},
   "outputs": [
    {
     "data": {
      "text/plain": [
       "'hem'"
      ]
     },
     "execution_count": 3,
     "metadata": {},
     "output_type": "execute_result"
    }
   ],
   "source": [
    "class std:\n",
    "    name='hem'\n",
    "    marks=78\n",
    "    \n",
    "s=std()\n",
    "s.name"
   ]
  },
  {
   "cell_type": "code",
   "execution_count": 4,
   "id": "276e4489",
   "metadata": {},
   "outputs": [
    {
     "data": {
      "text/plain": [
       "78"
      ]
     },
     "execution_count": 4,
     "metadata": {},
     "output_type": "execute_result"
    }
   ],
   "source": [
    "s.marks"
   ]
  },
  {
   "cell_type": "code",
   "execution_count": 5,
   "id": "4fc0356c",
   "metadata": {},
   "outputs": [
    {
     "data": {
      "text/plain": [
       "('hem', 78)"
      ]
     },
     "execution_count": 5,
     "metadata": {},
     "output_type": "execute_result"
    }
   ],
   "source": [
    "s.name,s.marks"
   ]
  },
  {
   "cell_type": "markdown",
   "id": "6c443e33",
   "metadata": {},
   "source": [
    "# Function in OOPS"
   ]
  },
  {
   "cell_type": "code",
   "execution_count": 6,
   "id": "ed1820cc",
   "metadata": {},
   "outputs": [
    {
     "data": {
      "text/plain": [
       "('a', 89)"
      ]
     },
     "execution_count": 6,
     "metadata": {},
     "output_type": "execute_result"
    }
   ],
   "source": [
    "class student:\n",
    "    def info(self,name,marks):\n",
    "        return (name,marks)\n",
    "    \n",
    "s=student()\n",
    "s.info('a',89)"
   ]
  },
  {
   "cell_type": "code",
   "execution_count": 7,
   "id": "d0bdbcb1",
   "metadata": {},
   "outputs": [
    {
     "name": "stdout",
     "output_type": "stream",
     "text": [
      "d 89\n"
     ]
    }
   ],
   "source": [
    "class std:\n",
    "    def info(self,name,marks):  \n",
    "        name='d'\n",
    "        marks=89\n",
    "        print(name,marks)\n",
    "        \n",
    "s=std()\n",
    "s.info('g',64)            "
   ]
  },
  {
   "cell_type": "code",
   "execution_count": 8,
   "id": "6349c15f",
   "metadata": {},
   "outputs": [
    {
     "name": "stdout",
     "output_type": "stream",
     "text": [
      "d 89\n"
     ]
    }
   ],
   "source": [
    "s.info('k',73)"
   ]
  },
  {
   "cell_type": "code",
   "execution_count": 9,
   "id": "e43a44b0",
   "metadata": {},
   "outputs": [
    {
     "name": "stdout",
     "output_type": "stream",
     "text": [
      "add-- 10 sub-- 6 mul--- 16 div-- 4.0\n"
     ]
    }
   ],
   "source": [
    "#wap to make a class of simplified arithmetic operators and try to get the output of that class through object\n",
    "class arith:\n",
    "    def opr(self,a,b):\n",
    "        add=a+b\n",
    "        sub=a-b\n",
    "        mul=a*b\n",
    "        div=a/b\n",
    "        print('add--',add,'sub--',sub,'mul---',mul,'div--',div)\n",
    "\n",
    "a=arith()        \n",
    "a.opr(8,2)"
   ]
  },
  {
   "cell_type": "code",
   "execution_count": 10,
   "id": "745a61de",
   "metadata": {},
   "outputs": [
    {
     "name": "stdout",
     "output_type": "stream",
     "text": [
      "enter value8\n",
      "enter value2\n",
      "add-- 10 sub-- 6 mul--- 16 div-- 4.0\n"
     ]
    }
   ],
   "source": [
    "#through user input\n",
    "class arith:\n",
    "    def opr(self):\n",
    "        a=int(input('enter value'))\n",
    "        b=int(input('enter value'))\n",
    "        add =a+b\n",
    "        sub =a-b\n",
    "        mul =a*b\n",
    "        div =a/b\n",
    "        print('add--',add,'sub--',sub,'mul---',mul,'div--',div)\n",
    "\n",
    "a=arith()        \n",
    "a.opr()             "
   ]
  },
  {
   "cell_type": "code",
   "execution_count": 11,
   "id": "291769cf",
   "metadata": {},
   "outputs": [
    {
     "name": "stdout",
     "output_type": "stream",
     "text": [
      "enter value6\n",
      "enter value3\n",
      "add-- 9 sub-- 3 mul--- 18 div-- 2.0\n"
     ]
    }
   ],
   "source": [
    "#through user input\n",
    "class arith:\n",
    "    def opr(self,a=int(input('enter value')),b=int(input('enter value'))):\n",
    "        add =a+b\n",
    "        sub =a-b\n",
    "        mul =a*b\n",
    "        div =a/b\n",
    "        print('add--',add,'sub--',sub,'mul---',mul,'div--',div)\n",
    "\n",
    "a=arith()        \n",
    "a.opr()             "
   ]
  },
  {
   "cell_type": "code",
   "execution_count": 12,
   "id": "116d5c58",
   "metadata": {},
   "outputs": [
    {
     "name": "stdout",
     "output_type": "stream",
     "text": [
      "amount paid by user is 1938000.0\n"
     ]
    }
   ],
   "source": [
    "## wap to make a class of car and find its actual price if the car is of more than 10 lakh then there is a tax of 14% on \n",
    "#the car and if the cost is less than 10 lakh then there is a discount of 7.8 % on the car.find the actual price of the \n",
    "#car paid by the user\n",
    "class cost():\n",
    "    def amt(self,price):\n",
    "        if price>1000000:\n",
    "            amount=price+(14/100*price)\n",
    "        elif price<1000000:\n",
    "            amount=price-(7.8/100*price)\n",
    "        print('amount paid by user is',amount)\n",
    "        \n",
    "c=cost()\n",
    "c.amt(1700000)"
   ]
  },
  {
   "cell_type": "code",
   "execution_count": 13,
   "id": "5c22718a",
   "metadata": {},
   "outputs": [
    {
     "name": "stdout",
     "output_type": "stream",
     "text": [
      "5\n",
      "9\n",
      "9\n",
      "9\n",
      "9\n",
      "9\n",
      "19\n",
      "21\n"
     ]
    }
   ],
   "source": [
    "#wap to find second highest num \n",
    "x=[5,9,2,4,12,33,19,21]\n",
    "a=x[0]\n",
    "b=x[1]\n",
    "for i in x:\n",
    "    if a<i:\n",
    "        a=i\n",
    "    elif b<i:\n",
    "        b=i\n",
    "    if a<b:\n",
    "        print(a)\n",
    "    else:\n",
    "        print(b)"
   ]
  },
  {
   "cell_type": "code",
   "execution_count": 14,
   "id": "cc57d64e",
   "metadata": {},
   "outputs": [
    {
     "data": {
      "text/plain": [
       "21"
      ]
     },
     "execution_count": 14,
     "metadata": {},
     "output_type": "execute_result"
    }
   ],
   "source": [
    "#basic method to find 2nd highest num\n",
    "x=[5,9,2,4,12,33,19,21]\n",
    "x.sort()\n",
    "x[-2]"
   ]
  },
  {
   "cell_type": "code",
   "execution_count": 15,
   "id": "45c4205f",
   "metadata": {},
   "outputs": [
    {
     "data": {
      "text/plain": [
       "'gel'"
      ]
     },
     "execution_count": 15,
     "metadata": {},
     "output_type": "execute_result"
    }
   ],
   "source": [
    "class pen:\n",
    "    company='reynold'\n",
    "    type='gel'\n",
    "    cost=15\n",
    "    write='blue'\n",
    "    variant=3\n",
    "p=pen()\n",
    "p.type"
   ]
  },
  {
   "cell_type": "code",
   "execution_count": 16,
   "id": "cba40dc5",
   "metadata": {},
   "outputs": [
    {
     "data": {
      "text/plain": [
       "15"
      ]
     },
     "execution_count": 16,
     "metadata": {},
     "output_type": "execute_result"
    }
   ],
   "source": [
    "p.cost"
   ]
  },
  {
   "cell_type": "code",
   "execution_count": 17,
   "id": "6fcd09c2",
   "metadata": {},
   "outputs": [
    {
     "data": {
      "text/plain": [
       "'blue'"
      ]
     },
     "execution_count": 17,
     "metadata": {},
     "output_type": "execute_result"
    }
   ],
   "source": [
    "p.write"
   ]
  },
  {
   "cell_type": "code",
   "execution_count": 18,
   "id": "4208c7d2",
   "metadata": {},
   "outputs": [
    {
     "data": {
      "text/plain": [
       "'f'"
      ]
     },
     "execution_count": 18,
     "metadata": {},
     "output_type": "execute_result"
    }
   ],
   "source": [
    "class std:\n",
    "    def details(self,name,age,marks,grade):\n",
    "        return name\n",
    "        return age\n",
    "        return marks\n",
    "        return grade\n",
    "    \n",
    "s=std()\n",
    "s.details('f',12,89,'c')     #only 1st return is working"
   ]
  },
  {
   "cell_type": "code",
   "execution_count": 19,
   "id": "2a478529",
   "metadata": {},
   "outputs": [
    {
     "data": {
      "text/plain": [
       "'s'"
      ]
     },
     "execution_count": 19,
     "metadata": {},
     "output_type": "execute_result"
    }
   ],
   "source": [
    "s.details('s',23,67,'h')"
   ]
  },
  {
   "cell_type": "code",
   "execution_count": 20,
   "id": "03f8bd22",
   "metadata": {},
   "outputs": [
    {
     "name": "stdout",
     "output_type": "stream",
     "text": [
      "r\n",
      "32\n",
      "9\n",
      "o\n"
     ]
    }
   ],
   "source": [
    "class std:\n",
    "    def details(self,name,age,marks,grade):\n",
    "        print(name)\n",
    "        print(age)\n",
    "        print(marks)\n",
    "        print (grade)\n",
    "    \n",
    "s=std()\n",
    "s.details('r',32,9,'o')"
   ]
  },
  {
   "cell_type": "code",
   "execution_count": 21,
   "id": "c361ca58",
   "metadata": {},
   "outputs": [
    {
     "name": "stdout",
     "output_type": "stream",
     "text": [
      "r 32 9 o\n"
     ]
    }
   ],
   "source": [
    "class std:\n",
    "    def details(self,name,age,marks,grade):\n",
    "        print(name,age,marks,grade)\n",
    "    \n",
    "s=std()\n",
    "s.details('r',32,9,'o')"
   ]
  },
  {
   "cell_type": "code",
   "execution_count": 22,
   "id": "2c386da5",
   "metadata": {},
   "outputs": [
    {
     "data": {
      "text/plain": [
       "('r', 32, 9, 'o')"
      ]
     },
     "execution_count": 22,
     "metadata": {},
     "output_type": "execute_result"
    }
   ],
   "source": [
    "class std:\n",
    "    def details(self,name,age,marks,grade):\n",
    "        return(name,age,marks,grade)\n",
    "    \n",
    "s=std()\n",
    "s.details('r',32,9,'o')    #return gives output in tuple form"
   ]
  },
  {
   "cell_type": "code",
   "execution_count": 23,
   "id": "1fede934",
   "metadata": {},
   "outputs": [
    {
     "data": {
      "text/plain": [
       "('r', 32, 9, 'o')"
      ]
     },
     "execution_count": 23,
     "metadata": {},
     "output_type": "execute_result"
    }
   ],
   "source": [
    "class std:\n",
    "    def details(self,name,age,marks,grade):\n",
    "        return name,age,marks,grade\n",
    "    \n",
    "s=std()\n",
    "s.details('r',32,9,'o')            #bracket is not necessary in return"
   ]
  },
  {
   "cell_type": "markdown",
   "id": "5e7279dd",
   "metadata": {},
   "source": [
    "# CONSTRUCTOR"
   ]
  },
  {
   "cell_type": "code",
   "execution_count": 24,
   "id": "a74a596d",
   "metadata": {},
   "outputs": [],
   "source": [
    "class bike:\n",
    "    def __init__(self,name,company,price):\n",
    "        self.name=name\n",
    "        self.company=company\n",
    "        self.price=price\n",
    "b=bike('sports','tvs',400)"
   ]
  },
  {
   "cell_type": "code",
   "execution_count": 25,
   "id": "36a93ce6",
   "metadata": {},
   "outputs": [
    {
     "data": {
      "text/plain": [
       "400"
      ]
     },
     "execution_count": 25,
     "metadata": {},
     "output_type": "execute_result"
    }
   ],
   "source": [
    "b.price"
   ]
  },
  {
   "cell_type": "code",
   "execution_count": 26,
   "id": "e161cd3b",
   "metadata": {},
   "outputs": [
    {
     "data": {
      "text/plain": [
       "'tvs'"
      ]
     },
     "execution_count": 26,
     "metadata": {},
     "output_type": "execute_result"
    }
   ],
   "source": [
    "b.company"
   ]
  },
  {
   "cell_type": "code",
   "execution_count": 27,
   "id": "1262fecb",
   "metadata": {},
   "outputs": [
    {
     "data": {
      "text/plain": [
       "'sports'"
      ]
     },
     "execution_count": 27,
     "metadata": {},
     "output_type": "execute_result"
    }
   ],
   "source": [
    "b.name"
   ]
  },
  {
   "cell_type": "markdown",
   "id": "5486d1dc",
   "metadata": {},
   "source": [
    "# INHERITANCE"
   ]
  },
  {
   "cell_type": "code",
   "execution_count": 28,
   "id": "48b44ebf",
   "metadata": {},
   "outputs": [
    {
     "data": {
      "text/plain": [
       "'a'"
      ]
     },
     "execution_count": 28,
     "metadata": {},
     "output_type": "execute_result"
    }
   ],
   "source": [
    "class std1:\n",
    "    def __init__(self,name,age):\n",
    "        self.name=name\n",
    "        self.age=age\n",
    "        \n",
    "class std2(std1):\n",
    "    def __init__(self,name,age,marks):\n",
    "        std1.__init__(self,name,age)\n",
    "        self.marks=marks\n",
    "        \n",
    "s=std2('a',30,89)\n",
    "s.name"
   ]
  },
  {
   "cell_type": "code",
   "execution_count": 29,
   "id": "da19fdbb",
   "metadata": {},
   "outputs": [
    {
     "data": {
      "text/plain": [
       "30"
      ]
     },
     "execution_count": 29,
     "metadata": {},
     "output_type": "execute_result"
    }
   ],
   "source": [
    "s.age"
   ]
  },
  {
   "cell_type": "code",
   "execution_count": 30,
   "id": "6f0ce415",
   "metadata": {},
   "outputs": [
    {
     "data": {
      "text/plain": [
       "89"
      ]
     },
     "execution_count": 30,
     "metadata": {},
     "output_type": "execute_result"
    }
   ],
   "source": [
    "s.marks"
   ]
  },
  {
   "cell_type": "code",
   "execution_count": 31,
   "id": "019bf3d6",
   "metadata": {},
   "outputs": [
    {
     "data": {
      "text/plain": [
       "89"
      ]
     },
     "execution_count": 31,
     "metadata": {},
     "output_type": "execute_result"
    }
   ],
   "source": [
    "class std1:\n",
    "    def __init__(self,name,age):\n",
    "        self.name=name\n",
    "        self.age=age\n",
    "        \n",
    "class std2(std1):\n",
    "    def __init__(self,age,marks,name):\n",
    "        std1.__init__(self,name,age)\n",
    "        self.marks=marks\n",
    "        \n",
    "s=std2('a',30,89)\n",
    "s.name"
   ]
  },
  {
   "cell_type": "code",
   "execution_count": 32,
   "id": "fcddaf4c",
   "metadata": {},
   "outputs": [
    {
     "data": {
      "text/plain": [
       "'a'"
      ]
     },
     "execution_count": 32,
     "metadata": {},
     "output_type": "execute_result"
    }
   ],
   "source": [
    "s.age"
   ]
  },
  {
   "cell_type": "code",
   "execution_count": 33,
   "id": "236762f8",
   "metadata": {},
   "outputs": [
    {
     "data": {
      "text/plain": [
       "30"
      ]
     },
     "execution_count": 33,
     "metadata": {},
     "output_type": "execute_result"
    }
   ],
   "source": [
    "s.marks"
   ]
  },
  {
   "cell_type": "code",
   "execution_count": 34,
   "id": "aac243f0",
   "metadata": {},
   "outputs": [
    {
     "name": "stdout",
     "output_type": "stream",
     "text": [
      "25.0\n"
     ]
    }
   ],
   "source": [
    "#wap to check speed of bike using oops fundamentals where distance covered by bike is almost 250 km and time taken \n",
    "#is 10 hrs\n",
    "class bike:\n",
    "    def __init__(self,dist,time):\n",
    "        self.dist=dist\n",
    "        self.time=time\n",
    "        \n",
    "    def speed(self):\n",
    "        speed=self.dist/self.time\n",
    "        print(speed) \n",
    "        \n",
    "b=bike(250,10)\n",
    "b.speed()"
   ]
  },
  {
   "cell_type": "code",
   "execution_count": 35,
   "id": "38e7b75b",
   "metadata": {},
   "outputs": [
    {
     "ename": "NameError",
     "evalue": "name 'levr' is not defined",
     "output_type": "error",
     "traceback": [
      "\u001b[1;31m---------------------------------------------------------------------------\u001b[0m",
      "\u001b[1;31mNameError\u001b[0m                                 Traceback (most recent call last)",
      "Input \u001b[1;32mIn [35]\u001b[0m, in \u001b[0;36m<cell line: 24>\u001b[1;34m()\u001b[0m\n\u001b[0;32m     21\u001b[0m             tsal\u001b[38;5;241m=\u001b[39msal\u001b[38;5;241m-\u001b[39mded\n\u001b[0;32m     22\u001b[0m             \u001b[38;5;28mprint\u001b[39m(tsal)\n\u001b[1;32m---> 24\u001b[0m s\u001b[38;5;241m=\u001b[39m\u001b[43mshyam\u001b[49m\u001b[43m(\u001b[49m\u001b[38;5;241;43m0\u001b[39;49m\u001b[43m)\u001b[49m\n\u001b[0;32m     25\u001b[0m s\u001b[38;5;241m.\u001b[39msalary()\n",
      "Input \u001b[1;32mIn [35]\u001b[0m, in \u001b[0;36mshyam.__init__\u001b[1;34m(self, levs)\u001b[0m\n\u001b[0;32m      8\u001b[0m \u001b[38;5;28;01mdef\u001b[39;00m \u001b[38;5;21m__init__\u001b[39m(\u001b[38;5;28mself\u001b[39m,levs):\n\u001b[1;32m----> 9\u001b[0m     ram\u001b[38;5;241m.\u001b[39m\u001b[38;5;21m__init__\u001b[39m(\u001b[38;5;28mself\u001b[39m,\u001b[43mlevr\u001b[49m,levs)\n\u001b[0;32m     10\u001b[0m     \u001b[38;5;28mself\u001b[39m\u001b[38;5;241m.\u001b[39mlevs\u001b[38;5;241m=\u001b[39mlevs\n",
      "\u001b[1;31mNameError\u001b[0m: name 'levr' is not defined"
     ]
    }
   ],
   "source": [
    "#Wap to find the salary of 2 emp ram and shyam where ram takes 4 leaves in a month with a deduction of 5.6% of salary\n",
    "#and shyam takes no leave with increment of 30% in salary.Find salary with the help of OOPS fundamentals\n",
    "class ram:\n",
    "    def __init__(self,levr):\n",
    "        self.levr=levr\n",
    "        \n",
    "class shyam(ram):\n",
    "    def __init__(self,levs):\n",
    "        ram.__init__(self,levr,levs)\n",
    "        self.levs=levs\n",
    "        \n",
    "    def salary():\n",
    "        leave=0\n",
    "        sal=1000\n",
    "        if leave==0:\n",
    "            incr=30/100*sal\n",
    "            tsal=sal+inr\n",
    "            print(tsal)\n",
    "        elif leave==4:\n",
    "            ded=5.6/100*sal\n",
    "            tsal=sal-ded\n",
    "            print(tsal)\n",
    "            \n",
    "s=shyam(0)\n",
    "s.salary()"
   ]
  },
  {
   "cell_type": "code",
   "execution_count": 36,
   "id": "4016e03c",
   "metadata": {},
   "outputs": [
    {
     "name": "stdout",
     "output_type": "stream",
     "text": [
      "62.0\n"
     ]
    }
   ],
   "source": [
    "#wap to perform inheritance and find the avg marks of student 1 and student2\n",
    "class std1:\n",
    "    def __init__(self,marks1):\n",
    "        self.marks1=marks1\n",
    "        \n",
    "class std2(std1):\n",
    "    def __init__(self,marks1,marks2):\n",
    "        std1.__init__(self,marks1)\n",
    "        self.marks2=marks2\n",
    "    def avg(self):\n",
    "              avrg=(self.marks1+self.marks2)/2\n",
    "              print(avrg)\n",
    "            \n",
    "s=std2(35,89)\n",
    "s.avg()"
   ]
  },
  {
   "cell_type": "code",
   "execution_count": 37,
   "id": "571717e2",
   "metadata": {},
   "outputs": [
    {
     "name": "stdout",
     "output_type": "stream",
     "text": [
      "34.0\n"
     ]
    }
   ],
   "source": [
    "#wap to perform inheritance and find the avg marks of student 1 and student2\n",
    "class std:\n",
    "    def __init__(self,marks1,marks2):\n",
    "        self.marks1=marks1\n",
    "        self.marks2=marks2\n",
    "        \n",
    "class avg(std):\n",
    "    def __init__(self,marks1,marks2):\n",
    "        std.__init__(self,marks1,marks2)\n",
    "    def avg(self):\n",
    "        avg=(self.marks1+self.marks2)/2\n",
    "        print(avg)\n",
    "        \n",
    "a=avg(45,23)\n",
    "a.avg()"
   ]
  },
  {
   "cell_type": "markdown",
   "id": "b0b9a057",
   "metadata": {},
   "source": [
    "# super method"
   ]
  },
  {
   "cell_type": "code",
   "execution_count": 38,
   "id": "d77bf6b1",
   "metadata": {},
   "outputs": [
    {
     "name": "stdout",
     "output_type": "stream",
     "text": [
      "39.5\n"
     ]
    }
   ],
   "source": [
    "#wap to perform inheritance and find the avg marks of student 1 and student2\n",
    "class std:\n",
    "    def __init__(self,marks1,marks2):\n",
    "        self.marks1=marks1\n",
    "        self.marks2=marks2\n",
    "        \n",
    "class avg(std):\n",
    "    def __init__(self,marks1,marks2):\n",
    "        super().__init__(marks1,marks2)         #gives access of attributes in parent class to child class directly\n",
    "    def avg(self):\n",
    "        avg=(self.marks1+self.marks2)/2\n",
    "        print(avg)\n",
    "        \n",
    "a=avg(56,23)\n",
    "a.avg()"
   ]
  },
  {
   "cell_type": "code",
   "execution_count": 39,
   "id": "22e5b7f5",
   "metadata": {},
   "outputs": [
    {
     "name": "stdout",
     "output_type": "stream",
     "text": [
      "62.0\n"
     ]
    }
   ],
   "source": [
    "#wap to perform inheritance and find the avg marks of student 1 and student2\n",
    "class std1:\n",
    "    def __init__(self,marks1):\n",
    "        self.marks1=marks1\n",
    "        \n",
    "class std2(std1):\n",
    "    def __init__(self,marks1,marks2):\n",
    "        super().__init__(marks1)\n",
    "        self.marks2=marks2\n",
    "    def avg(self):\n",
    "              avrg=(self.marks1+self.marks2)/2\n",
    "              print(avrg)\n",
    "            \n",
    "s=std2(35,89)\n",
    "s.avg()"
   ]
  },
  {
   "cell_type": "markdown",
   "id": "fd83f184",
   "metadata": {},
   "source": [
    "# Multilevel inheritance"
   ]
  },
  {
   "cell_type": "code",
   "execution_count": 40,
   "id": "851ecc6b",
   "metadata": {},
   "outputs": [
    {
     "data": {
      "text/plain": [
       "'nkf'"
      ]
     },
     "execution_count": 40,
     "metadata": {},
     "output_type": "execute_result"
    }
   ],
   "source": [
    "##INHERITANCE---------1#gpc to pc\n",
    "class gpc:\n",
    "    def __init__(self,name):\n",
    "        self.name=name\n",
    "        \n",
    "class pc(gpc):\n",
    "    def __init__(self,name,age):\n",
    "        super().__init__(name)\n",
    "        self.age=age\n",
    "        \n",
    "class cc:\n",
    "    def __init__(self,sal):\n",
    "        self.sal=sal\n",
    "      \n",
    "p=pc('nkf',12)\n",
    "p.name"
   ]
  },
  {
   "cell_type": "code",
   "execution_count": 41,
   "id": "8f01f0d0",
   "metadata": {},
   "outputs": [
    {
     "data": {
      "text/plain": [
       "12"
      ]
     },
     "execution_count": 41,
     "metadata": {},
     "output_type": "execute_result"
    }
   ],
   "source": [
    "p.age"
   ]
  },
  {
   "cell_type": "code",
   "execution_count": 42,
   "id": "edc0b840",
   "metadata": {},
   "outputs": [
    {
     "data": {
      "text/plain": [
       "8000"
      ]
     },
     "execution_count": 42,
     "metadata": {},
     "output_type": "execute_result"
    }
   ],
   "source": [
    "##INHERITANCE---------2#pc to cc\n",
    "class gpc:\n",
    "    def __init__(self,name):\n",
    "        self.name=name\n",
    "        \n",
    "class pc:\n",
    "    def __init__(self,age):\n",
    "        self.age=age\n",
    "        \n",
    "class cc(pc):\n",
    "    def __init__(self,age,sal):\n",
    "        super().__init__(age)\n",
    "        self.sal=sal\n",
    "        \n",
    "c=cc(23,8000)\n",
    "c.sal"
   ]
  },
  {
   "cell_type": "code",
   "execution_count": 43,
   "id": "affad20e",
   "metadata": {},
   "outputs": [
    {
     "data": {
      "text/plain": [
       "23"
      ]
     },
     "execution_count": 43,
     "metadata": {},
     "output_type": "execute_result"
    }
   ],
   "source": [
    "c.age"
   ]
  },
  {
   "cell_type": "code",
   "execution_count": 44,
   "id": "03998ac1",
   "metadata": {},
   "outputs": [
    {
     "data": {
      "text/plain": [
       "'jks'"
      ]
     },
     "execution_count": 44,
     "metadata": {},
     "output_type": "execute_result"
    }
   ],
   "source": [
    "##INHERITANCE---------3#gpc to pc\n",
    "class gpc:\n",
    "    def __init__(self,name):\n",
    "        self.name=name\n",
    "        \n",
    "class pc:\n",
    "    def __init__(self,age):\n",
    "        self.age=age\n",
    "        \n",
    "class cc(gpc):\n",
    "    def __init__(self,name,sal):\n",
    "        super().__init__(name)\n",
    "        self.sal=sal\n",
    "        \n",
    "c=cc('jks',100)\n",
    "c.name"
   ]
  },
  {
   "cell_type": "code",
   "execution_count": 45,
   "id": "70bd6d5e",
   "metadata": {},
   "outputs": [
    {
     "data": {
      "text/plain": [
       "100"
      ]
     },
     "execution_count": 45,
     "metadata": {},
     "output_type": "execute_result"
    }
   ],
   "source": [
    "c.sal"
   ]
  },
  {
   "cell_type": "code",
   "execution_count": 46,
   "id": "40fa6d7d",
   "metadata": {},
   "outputs": [
    {
     "data": {
      "text/plain": [
       "2000"
      ]
     },
     "execution_count": 46,
     "metadata": {},
     "output_type": "execute_result"
    }
   ],
   "source": [
    "##INHERITANCE---------4#gpc to pp to cc\n",
    "class gpc:\n",
    "    def __init__(self,name):\n",
    "        self.name=name\n",
    "        \n",
    "class pc(gpc):\n",
    "    def __init__(self,name,age):\n",
    "        super().__init__(name)\n",
    "        self.age=age\n",
    "        \n",
    "class cc(pc):\n",
    "    def __init__(self,name,age,sal):\n",
    "        super().__init__(name,age)\n",
    "        self.sal=sal\n",
    "        \n",
    "c=cc('jd',27,2000)\n",
    "c.sal"
   ]
  },
  {
   "cell_type": "code",
   "execution_count": 47,
   "id": "6dfbbc8f",
   "metadata": {},
   "outputs": [
    {
     "data": {
      "text/plain": [
       "27"
      ]
     },
     "execution_count": 47,
     "metadata": {},
     "output_type": "execute_result"
    }
   ],
   "source": [
    "c.age"
   ]
  },
  {
   "cell_type": "code",
   "execution_count": 48,
   "id": "0db68e28",
   "metadata": {},
   "outputs": [
    {
     "data": {
      "text/plain": [
       "'jd'"
      ]
     },
     "execution_count": 48,
     "metadata": {},
     "output_type": "execute_result"
    }
   ],
   "source": [
    "c.name"
   ]
  },
  {
   "cell_type": "code",
   "execution_count": 49,
   "id": "0f26a7e3",
   "metadata": {},
   "outputs": [
    {
     "ename": "NameError",
     "evalue": "name 'avrg' is not defined",
     "output_type": "error",
     "traceback": [
      "\u001b[1;31m---------------------------------------------------------------------------\u001b[0m",
      "\u001b[1;31mNameError\u001b[0m                                 Traceback (most recent call last)",
      "Input \u001b[1;32mIn [49]\u001b[0m, in \u001b[0;36m<cell line: 2>\u001b[1;34m()\u001b[0m\n\u001b[0;32m      1\u001b[0m \u001b[38;5;66;03m#3 sub ke marks ka avg find kro and individually 200 se kam marks ho to fail\u001b[39;00m\n\u001b[1;32m----> 2\u001b[0m \u001b[38;5;28;01mclass\u001b[39;00m \u001b[38;5;21;01mmarks\u001b[39;00m:\n\u001b[0;32m      3\u001b[0m     \u001b[38;5;28;01mdef\u001b[39;00m \u001b[38;5;21m__init__\u001b[39m(\u001b[38;5;28mself\u001b[39m,sub1,sub2,sub3):\n\u001b[0;32m      4\u001b[0m         \u001b[38;5;28mself\u001b[39m\u001b[38;5;241m.\u001b[39msub1\u001b[38;5;241m=\u001b[39msub1\n",
      "Input \u001b[1;32mIn [49]\u001b[0m, in \u001b[0;36mmarks\u001b[1;34m()\u001b[0m\n\u001b[0;32m      9\u001b[0m     avrg\u001b[38;5;241m=\u001b[39m(\u001b[38;5;28mself\u001b[39m\u001b[38;5;241m.\u001b[39msub1\u001b[38;5;241m+\u001b[39m\u001b[38;5;28mself\u001b[39m\u001b[38;5;241m.\u001b[39msub2\u001b[38;5;241m+\u001b[39m\u001b[38;5;28mself\u001b[39m\u001b[38;5;241m.\u001b[39msub3)\u001b[38;5;241m/\u001b[39m\u001b[38;5;241m3\u001b[39m\n\u001b[0;32m     10\u001b[0m     \u001b[38;5;28mprint\u001b[39m(\u001b[38;5;124m'\u001b[39m\u001b[38;5;124maverage is\u001b[39m\u001b[38;5;124m'\u001b[39m,a)\n\u001b[1;32m---> 11\u001b[0m \u001b[38;5;28;01mif\u001b[39;00m \u001b[43mavrg\u001b[49m\u001b[38;5;241m<\u001b[39m\u001b[38;5;241m200\u001b[39m:\n\u001b[0;32m     12\u001b[0m     avrg\u001b[38;5;241m=\u001b[39m(\u001b[38;5;28mself\u001b[39m\u001b[38;5;241m.\u001b[39msub1\u001b[38;5;241m+\u001b[39m\u001b[38;5;28mself\u001b[39m\u001b[38;5;241m.\u001b[39msub2\u001b[38;5;241m+\u001b[39m\u001b[38;5;28mself\u001b[39m\u001b[38;5;241m.\u001b[39msub3)\u001b[38;5;241m/\u001b[39m\u001b[38;5;241m3\u001b[39m\n\u001b[0;32m     13\u001b[0m     \u001b[38;5;28mprint\u001b[39m(\u001b[38;5;124m'\u001b[39m\u001b[38;5;124mfail\u001b[39m\u001b[38;5;124m'\u001b[39m)\n",
      "\u001b[1;31mNameError\u001b[0m: name 'avrg' is not defined"
     ]
    }
   ],
   "source": [
    "#3 sub ke marks ka avg find kro and individually 200 se kam marks ho to fail\n",
    "class marks:\n",
    "    def __init__(self,sub1,sub2,sub3):\n",
    "        self.sub1=sub1\n",
    "        self.sub2=sub2\n",
    "        self.sub3=sub3\n",
    "    \n",
    "    def avg(self):\n",
    "        avrg=(self.sub1+self.sub2+self.sub3)/3\n",
    "        print('average is',a)\n",
    "    if avrg<200:\n",
    "        avrg=(self.sub1+self.sub2+self.sub3)/3\n",
    "        print('fail')"
   ]
  },
  {
   "cell_type": "code",
   "execution_count": 50,
   "id": "18ef928e",
   "metadata": {},
   "outputs": [
    {
     "data": {
      "text/plain": [
       "30"
      ]
     },
     "execution_count": 50,
     "metadata": {},
     "output_type": "execute_result"
    }
   ],
   "source": [
    "#wap to perform multilevel inheritance and try to get the attrinutes of each class\n",
    "class ggpc:\n",
    "    def __init__(self,pf):\n",
    "        self.pf=pf\n",
    "        \n",
    "class gpc(ggpc):\n",
    "    def __init__(self,name,id,pf):\n",
    "        super().__init__(pf)\n",
    "        self.name=name\n",
    "        self.id=id\n",
    "        \n",
    "class pc(gpc):\n",
    "    def __init__(self,wages,grade,name,id,pf):\n",
    "        super().__init__(name,id,pf)\n",
    "        self.wages=wages\n",
    "        self.grade=grade\n",
    "        \n",
    "class cc(pc):\n",
    "    def __init__(self,dependents,wages,grade,name,id,pf):\n",
    "        super().__init__(wages,grade,name,id,pf)\n",
    "        self.dependents=dependents\n",
    "        \n",
    "c=cc(2,100,'dx','ram',234,30)\n",
    "c.pf"
   ]
  },
  {
   "cell_type": "code",
   "execution_count": 51,
   "id": "d758e42a",
   "metadata": {},
   "outputs": [
    {
     "data": {
      "text/plain": [
       "2"
      ]
     },
     "execution_count": 51,
     "metadata": {},
     "output_type": "execute_result"
    }
   ],
   "source": [
    "c.dependents"
   ]
  },
  {
   "cell_type": "code",
   "execution_count": 52,
   "id": "d1b81657",
   "metadata": {},
   "outputs": [
    {
     "data": {
      "text/plain": [
       "'ram'"
      ]
     },
     "execution_count": 52,
     "metadata": {},
     "output_type": "execute_result"
    }
   ],
   "source": [
    "c.name"
   ]
  },
  {
   "cell_type": "code",
   "execution_count": 53,
   "id": "19a43bea",
   "metadata": {},
   "outputs": [
    {
     "data": {
      "text/plain": [
       "234"
      ]
     },
     "execution_count": 53,
     "metadata": {},
     "output_type": "execute_result"
    }
   ],
   "source": [
    "c.id"
   ]
  },
  {
   "cell_type": "code",
   "execution_count": 54,
   "id": "dd31f63d",
   "metadata": {},
   "outputs": [
    {
     "data": {
      "text/plain": [
       "'dx'"
      ]
     },
     "execution_count": 54,
     "metadata": {},
     "output_type": "execute_result"
    }
   ],
   "source": [
    "c.grade"
   ]
  },
  {
   "cell_type": "markdown",
   "id": "542f9a58",
   "metadata": {},
   "source": [
    "# Empty Class"
   ]
  },
  {
   "cell_type": "code",
   "execution_count": 55,
   "id": "10afaef0",
   "metadata": {},
   "outputs": [
    {
     "name": "stdout",
     "output_type": "stream",
     "text": [
      "<class '__main__.a'>\n"
     ]
    }
   ],
   "source": [
    "class a:\n",
    "    pass\n",
    "x=a()\n",
    "print(a)"
   ]
  },
  {
   "cell_type": "code",
   "execution_count": 56,
   "id": "32b4a973",
   "metadata": {},
   "outputs": [],
   "source": [
    "class empty:\n",
    "    None\n",
    "    \n",
    "e=empty()"
   ]
  },
  {
   "cell_type": "code",
   "execution_count": 57,
   "id": "c9021fb4",
   "metadata": {},
   "outputs": [
    {
     "name": "stdout",
     "output_type": "stream",
     "text": [
      "<__main__.empty object at 0x0000021CB45D0670>\n"
     ]
    }
   ],
   "source": [
    "print(e)"
   ]
  },
  {
   "cell_type": "code",
   "execution_count": 58,
   "id": "c471a5c3",
   "metadata": {},
   "outputs": [
    {
     "ename": "RuntimeError",
     "evalue": "super(): no arguments",
     "output_type": "error",
     "traceback": [
      "\u001b[1;31m---------------------------------------------------------------------------\u001b[0m",
      "\u001b[1;31mRuntimeError\u001b[0m                              Traceback (most recent call last)",
      "Input \u001b[1;32mIn [58]\u001b[0m, in \u001b[0;36m<cell line: 10>\u001b[1;34m()\u001b[0m\n\u001b[0;32m      8\u001b[0m         \u001b[38;5;28msuper\u001b[39m()\u001b[38;5;241m.\u001b[39m\u001b[38;5;21m__init__\u001b[39m(name,\u001b[38;5;28mid\u001b[39m)\n\u001b[0;32m      9\u001b[0m         \u001b[38;5;28mself\u001b[39m\u001b[38;5;241m.\u001b[39mage\u001b[38;5;241m=\u001b[39mage\n\u001b[1;32m---> 10\u001b[0m \u001b[38;5;28;01mclass\u001b[39;00m \u001b[38;5;21;01ma\u001b[39;00m(cc):\n\u001b[0;32m     11\u001b[0m     \u001b[38;5;28msuper\u001b[39m()\u001b[38;5;241m.\u001b[39m\u001b[38;5;21m__init__\u001b[39m(name,\u001b[38;5;28mid\u001b[39m,age)\n\u001b[0;32m     12\u001b[0m     \u001b[38;5;28;01mpass\u001b[39;00m \n",
      "Input \u001b[1;32mIn [58]\u001b[0m, in \u001b[0;36ma\u001b[1;34m()\u001b[0m\n\u001b[0;32m     10\u001b[0m \u001b[38;5;28;01mclass\u001b[39;00m \u001b[38;5;21;01ma\u001b[39;00m(cc):\n\u001b[1;32m---> 11\u001b[0m     \u001b[38;5;28;43msuper\u001b[39;49m\u001b[43m(\u001b[49m\u001b[43m)\u001b[49m\u001b[38;5;241m.\u001b[39m\u001b[38;5;21m__init__\u001b[39m(name,\u001b[38;5;28mid\u001b[39m,age)\n\u001b[0;32m     12\u001b[0m     \u001b[38;5;28;01mpass\u001b[39;00m\n",
      "\u001b[1;31mRuntimeError\u001b[0m: super(): no arguments"
     ]
    }
   ],
   "source": [
    "#Wap to make 3 class in which one class is completely empty and try to inherit the attribute of each class\n",
    "class pc:\n",
    "    def __init__(self,name,id):\n",
    "        self.name=name\n",
    "        self.id=id        \n",
    "class cc(pc):\n",
    "    def __init__(self,age):\n",
    "        super().__init__(name,id)\n",
    "        self.age=age\n",
    "class a(cc):\n",
    "    super().__init__(name,id,age)\n",
    "    pass \n",
    "\n",
    "z=a()\n",
    "print(z)"
   ]
  },
  {
   "cell_type": "code",
   "execution_count": 59,
   "id": "bba7f167",
   "metadata": {},
   "outputs": [
    {
     "ename": "TypeError",
     "evalue": "__init__() takes 2 positional arguments but 4 were given",
     "output_type": "error",
     "traceback": [
      "\u001b[1;31m---------------------------------------------------------------------------\u001b[0m",
      "\u001b[1;31mTypeError\u001b[0m                                 Traceback (most recent call last)",
      "Input \u001b[1;32mIn [59]\u001b[0m, in \u001b[0;36m<cell line: 13>\u001b[1;34m()\u001b[0m\n\u001b[0;32m     10\u001b[0m         \u001b[38;5;28msuper\u001b[39m()\u001b[38;5;241m.\u001b[39m\u001b[38;5;21m__init__\u001b[39m(name,\u001b[38;5;28mid\u001b[39m)\n\u001b[0;32m     11\u001b[0m         \u001b[38;5;28mself\u001b[39m\u001b[38;5;241m.\u001b[39mage\u001b[38;5;241m=\u001b[39mage\n\u001b[1;32m---> 13\u001b[0m c\u001b[38;5;241m=\u001b[39m\u001b[43mcc\u001b[49m\u001b[43m(\u001b[49m\u001b[38;5;124;43m'\u001b[39;49m\u001b[38;5;124;43mjd\u001b[39;49m\u001b[38;5;124;43m'\u001b[39;49m\u001b[43m,\u001b[49m\u001b[38;5;241;43m888\u001b[39;49m\u001b[43m,\u001b[49m\u001b[38;5;241;43m45\u001b[39;49m\u001b[43m)\u001b[49m\n\u001b[0;32m     14\u001b[0m c\u001b[38;5;241m.\u001b[39mname\n",
      "\u001b[1;31mTypeError\u001b[0m: __init__() takes 2 positional arguments but 4 were given"
     ]
    }
   ],
   "source": [
    "#Wap to make 3 class in which one class is completely empty and try to inherit the attribute of each class\n",
    "class emp:\n",
    "    None\n",
    "class pc(emp):\n",
    "    def __init__(self,name,id):\n",
    "        self.name=name\n",
    "        self.id=id        \n",
    "class cc(pc):\n",
    "    def __init__(self,age):\n",
    "        super().__init__(name,id)\n",
    "        self.age=age\n",
    "        \n",
    "c=cc('jd',888,45)\n",
    "c.name"
   ]
  },
  {
   "cell_type": "code",
   "execution_count": null,
   "id": "1914db54",
   "metadata": {},
   "outputs": [],
   "source": []
  },
  {
   "cell_type": "code",
   "execution_count": null,
   "id": "90bd66e6",
   "metadata": {},
   "outputs": [],
   "source": []
  }
 ],
 "metadata": {
  "kernelspec": {
   "display_name": "Python 3 (ipykernel)",
   "language": "python",
   "name": "python3"
  },
  "language_info": {
   "codemirror_mode": {
    "name": "ipython",
    "version": 3
   },
   "file_extension": ".py",
   "mimetype": "text/x-python",
   "name": "python",
   "nbconvert_exporter": "python",
   "pygments_lexer": "ipython3",
   "version": "3.9.12"
  }
 },
 "nbformat": 4,
 "nbformat_minor": 5
}
