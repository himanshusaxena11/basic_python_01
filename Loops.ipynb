{
  "nbformat": 4,
  "nbformat_minor": 0,
  "metadata": {
    "colab": {
      "provenance": [],
      "authorship_tag": "ABX9TyP3AhWNQIHZtQrEuDNmHP1L"
    },
    "kernelspec": {
      "name": "python3",
      "display_name": "Python 3"
    },
    "language_info": {
      "name": "python"
    }
  },
  "cells": [
    {
      "cell_type": "code",
      "execution_count": null,
      "metadata": {
        "colab": {
          "base_uri": "https://localhost:8080/"
        },
        "id": "y9GaSK2YAPs7",
        "outputId": "884ee95b-99c9-430d-ea65-3d8d57e35543"
      },
      "outputs": [
        {
          "output_type": "stream",
          "name": "stdout",
          "text": [
            "0\n",
            "1\n",
            "2\n",
            "3\n",
            "4\n",
            "5\n",
            "6\n",
            "7\n",
            "8\n",
            "9\n",
            "10\n"
          ]
        }
      ],
      "source": [
        "for i in range(11):\n",
        "  print(i)"
      ]
    },
    {
      "cell_type": "code",
      "source": [
        "#wap to print nos from 1-20 in alternative way\n",
        "for i in range(1,21,2):\n",
        "  print(i)"
      ],
      "metadata": {
        "colab": {
          "base_uri": "https://localhost:8080/"
        },
        "id": "ruqI1XjVAYN1",
        "outputId": "6c66bb30-b4c7-4420-879d-da5d5cd5d85c"
      },
      "execution_count": null,
      "outputs": [
        {
          "output_type": "stream",
          "name": "stdout",
          "text": [
            "1\n",
            "3\n",
            "5\n",
            "7\n",
            "9\n",
            "11\n",
            "13\n",
            "15\n",
            "17\n",
            "19\n"
          ]
        }
      ]
    },
    {
      "cell_type": "code",
      "source": [
        "#wap to print nos from 1-12\n",
        "x=1\n",
        "while x<13:\n",
        "  print(x)\n",
        "  x+=1"
      ],
      "metadata": {
        "id": "RPiBpe1GGjQA",
        "colab": {
          "base_uri": "https://localhost:8080/"
        },
        "outputId": "8e33e191-5e6b-4cd7-cf67-5b50cb11fb7d"
      },
      "execution_count": 5,
      "outputs": [
        {
          "output_type": "stream",
          "name": "stdout",
          "text": [
            "1\n",
            "2\n",
            "3\n",
            "4\n",
            "5\n",
            "6\n",
            "7\n",
            "8\n",
            "9\n",
            "10\n",
            "11\n",
            "12\n"
          ]
        }
      ]
    },
    {
      "cell_type": "code",
      "source": [
        "#wap to print -1 to 10  WHILE LOOP\n",
        "x=-1\n",
        "while x<11:\n",
        "  print(x)\n",
        "  x+=1"
      ],
      "metadata": {
        "colab": {
          "base_uri": "https://localhost:8080/"
        },
        "id": "A8iZS7kPH3Sz",
        "outputId": "3b1b1520-7358-4b9e-b2f4-5cf26aa9d9a9"
      },
      "execution_count": 6,
      "outputs": [
        {
          "output_type": "stream",
          "name": "stdout",
          "text": [
            "-1\n",
            "0\n",
            "1\n",
            "2\n",
            "3\n",
            "4\n",
            "5\n",
            "6\n",
            "7\n",
            "8\n",
            "9\n",
            "10\n"
          ]
        }
      ]
    },
    {
      "cell_type": "code",
      "source": [
        "#wap to print -1 to 10 FOR LOOP\n",
        "for i in range(-1,11):\n",
        "  print(i)"
      ],
      "metadata": {
        "colab": {
          "base_uri": "https://localhost:8080/"
        },
        "id": "ZOxuWChgIgA3",
        "outputId": "f165c36a-ebb0-42b6-a592-b5e41b0540bc"
      },
      "execution_count": 7,
      "outputs": [
        {
          "output_type": "stream",
          "name": "stdout",
          "text": [
            "-1\n",
            "0\n",
            "1\n",
            "2\n",
            "3\n",
            "4\n",
            "5\n",
            "6\n",
            "7\n",
            "8\n",
            "9\n",
            "10\n"
          ]
        }
      ]
    },
    {
      "cell_type": "code",
      "source": [
        "#wap to print -1 to -10       FOR LOOP\n",
        "for i in range(-1,-11,-1):\n",
        "  print(i)"
      ],
      "metadata": {
        "colab": {
          "base_uri": "https://localhost:8080/"
        },
        "id": "UdVhaPIkItYF",
        "outputId": "b935072a-ab8b-4017-c3a9-908a90f1c637"
      },
      "execution_count": 9,
      "outputs": [
        {
          "output_type": "stream",
          "name": "stdout",
          "text": [
            "-1\n",
            "-2\n",
            "-3\n",
            "-4\n",
            "-5\n",
            "-6\n",
            "-7\n",
            "-8\n",
            "-9\n",
            "-10\n"
          ]
        }
      ]
    },
    {
      "cell_type": "code",
      "source": [
        "#wap to print -1 to -10    WHILE LOOP\n",
        "x=-1\n",
        "while x>-11:\n",
        "  print(x)\n",
        "  x-=1"
      ],
      "metadata": {
        "colab": {
          "base_uri": "https://localhost:8080/"
        },
        "id": "Rj-jg1kcI9xq",
        "outputId": "ab75ece7-7e1b-45fe-cd60-31f7d6efcfcd"
      },
      "execution_count": 10,
      "outputs": [
        {
          "output_type": "stream",
          "name": "stdout",
          "text": [
            "-1\n",
            "-2\n",
            "-3\n",
            "-4\n",
            "-5\n",
            "-6\n",
            "-7\n",
            "-8\n",
            "-9\n",
            "-10\n"
          ]
        }
      ]
    },
    {
      "cell_type": "code",
      "source": [
        "#wap to print 1 to -10    WHILE LOOP\n",
        "x=1\n",
        "while x>-11:\n",
        "  print(x)\n",
        "  x-=1"
      ],
      "metadata": {
        "colab": {
          "base_uri": "https://localhost:8080/"
        },
        "id": "aFF-jIhuJW7r",
        "outputId": "611454a8-13b0-44d3-b972-ce6e16a6f649"
      },
      "execution_count": 11,
      "outputs": [
        {
          "output_type": "stream",
          "name": "stdout",
          "text": [
            "1\n",
            "0\n",
            "-1\n",
            "-2\n",
            "-3\n",
            "-4\n",
            "-5\n",
            "-6\n",
            "-7\n",
            "-8\n",
            "-9\n",
            "-10\n"
          ]
        }
      ]
    },
    {
      "cell_type": "code",
      "source": [
        "#wap to print 1 to -10    FOR LOOP\n",
        "for i in range(1,-11,-1):\n",
        "  print(i)"
      ],
      "metadata": {
        "colab": {
          "base_uri": "https://localhost:8080/"
        },
        "id": "Xq6nj8NiJogc",
        "outputId": "5f0c7190-2863-408a-9e26-ce2e3e3775f3"
      },
      "execution_count": 12,
      "outputs": [
        {
          "output_type": "stream",
          "name": "stdout",
          "text": [
            "1\n",
            "0\n",
            "-1\n",
            "-2\n",
            "-3\n",
            "-4\n",
            "-5\n",
            "-6\n",
            "-7\n",
            "-8\n",
            "-9\n",
            "-10\n"
          ]
        }
      ]
    },
    {
      "cell_type": "code",
      "source": [
        "a=['kff','jdkd','jkjk','nks']     #BREAK in FOR LOOP\n",
        "for i in a:\n",
        "  if i=='jdkd':\n",
        "   break\n",
        "  print(i)"
      ],
      "metadata": {
        "colab": {
          "base_uri": "https://localhost:8080/"
        },
        "id": "jF60D8zRIhjw",
        "outputId": "383f72f3-5d2f-40b1-9efc-1543f28f4808"
      },
      "execution_count": 19,
      "outputs": [
        {
          "output_type": "stream",
          "name": "stdout",
          "text": [
            "kff\n"
          ]
        }
      ]
    },
    {
      "cell_type": "code",
      "source": [
        "a=['kff','jdkd','jkjk','nks']     #CONTINUE in FOR LOOP\n",
        "for i in a:\n",
        "  if i=='jdkd':\n",
        "   continue\n",
        "  print(i)"
      ],
      "metadata": {
        "colab": {
          "base_uri": "https://localhost:8080/"
        },
        "id": "iBzQAh9uVXYT",
        "outputId": "9d7fc741-fbfc-42a0-c064-4881271c33aa"
      },
      "execution_count": 21,
      "outputs": [
        {
          "output_type": "stream",
          "name": "stdout",
          "text": [
            "kff\n",
            "jkjk\n",
            "nks\n"
          ]
        }
      ]
    },
    {
      "cell_type": "code",
      "source": [
        "#BREAK  in WHILE LOOP\n",
        "x=2\n",
        "while x<11:\n",
        "  print(x)\n",
        "  if x==5:\n",
        "    break\n",
        "  x+=1"
      ],
      "metadata": {
        "colab": {
          "base_uri": "https://localhost:8080/"
        },
        "id": "RrgoAxI0Vb0P",
        "outputId": "e04044be-5302-4381-d867-bb2b9ea21f1a"
      },
      "execution_count": 9,
      "outputs": [
        {
          "output_type": "stream",
          "name": "stdout",
          "text": [
            "2\n",
            "3\n",
            "4\n",
            "5\n"
          ]
        }
      ]
    },
    {
      "cell_type": "code",
      "source": [
        "#CONTINUE  in WHILE LOOP\n",
        "x=2\n",
        "while x<11:\n",
        "  x+=1\n",
        "  if x==5:\n",
        "    continue\n",
        "  print(x)"
      ],
      "metadata": {
        "colab": {
          "base_uri": "https://localhost:8080/"
        },
        "id": "aA5jZr6DJcNo",
        "outputId": "e3c6c263-db74-427b-ca4a-edef4518c77c"
      },
      "execution_count": 11,
      "outputs": [
        {
          "output_type": "stream",
          "name": "stdout",
          "text": [
            "3\n",
            "4\n",
            "6\n",
            "7\n",
            "8\n",
            "9\n",
            "10\n",
            "11\n"
          ]
        }
      ]
    },
    {
      "cell_type": "code",
      "source": [
        "#wap to print even no from 1 to 20\n",
        "count=0\n",
        "for i in range(1,21):\n",
        "  if i%2==0:\n",
        "    print(i)\n",
        "    count=count+1\n",
        "print('count is',count)"
      ],
      "metadata": {
        "colab": {
          "base_uri": "https://localhost:8080/"
        },
        "id": "G5wtOrgcJ1ku",
        "outputId": "d328fc96-3b73-4675-8f7b-2bda5e581a47"
      },
      "execution_count": 27,
      "outputs": [
        {
          "output_type": "stream",
          "name": "stdout",
          "text": [
            "2\n",
            "4\n",
            "6\n",
            "8\n",
            "10\n",
            "12\n",
            "14\n",
            "16\n",
            "18\n",
            "20\n",
            "count is 10\n"
          ]
        }
      ]
    },
    {
      "cell_type": "code",
      "source": [
        "#wap to print odd no from 20 to 30\n",
        "count=0\n",
        "for i in range(20,31):\n",
        "  if i%2!=0:\n",
        "    print(i)\n",
        "    count=count+1\n",
        "print('count is',count)"
      ],
      "metadata": {
        "colab": {
          "base_uri": "https://localhost:8080/"
        },
        "id": "v13umzpHKcNq",
        "outputId": "3cf8cc4c-f9f5-499b-f0ba-4eff1e9f84f5"
      },
      "execution_count": 31,
      "outputs": [
        {
          "output_type": "stream",
          "name": "stdout",
          "text": [
            "21\n",
            "23\n",
            "25\n",
            "27\n",
            "29\n",
            "count is 5\n"
          ]
        }
      ]
    },
    {
      "cell_type": "code",
      "source": [
        "#wap to check is string is reversed or not\n",
        "x='aman'\n",
        "y=''\n",
        "for i in x:\n",
        "  y=i+y\n",
        "  print(y)"
      ],
      "metadata": {
        "colab": {
          "base_uri": "https://localhost:8080/"
        },
        "id": "x0vULUDbK9BE",
        "outputId": "93a87a10-c755-4407-cb56-4bb5093d56f0"
      },
      "execution_count": 35,
      "outputs": [
        {
          "output_type": "stream",
          "name": "stdout",
          "text": [
            "a\n",
            "ma\n",
            "ama\n",
            "nama\n"
          ]
        }
      ]
    },
    {
      "cell_type": "code",
      "source": [
        "#wap to check is string is palindrome or not\n",
        "a='nitin'\n",
        "b=''\n",
        "for i in a:\n",
        "  b=i+b\n",
        "if a==b:\n",
        "    print('pal')\n",
        "else:\n",
        "    print('np')"
      ],
      "metadata": {
        "colab": {
          "base_uri": "https://localhost:8080/"
        },
        "id": "XFzPzSqZQ36R",
        "outputId": "77c14f71-9047-4e16-9101-82fca102b86a"
      },
      "execution_count": 2,
      "outputs": [
        {
          "output_type": "stream",
          "name": "stdout",
          "text": [
            "pal\n"
          ]
        }
      ]
    },
    {
      "cell_type": "code",
      "source": [
        "a=22\n",
        "b=11\n",
        "if a>b :\n",
        "  pass"
      ],
      "metadata": {
        "id": "jXBkHyNXRk6A"
      },
      "execution_count": 3,
      "outputs": []
    },
    {
      "cell_type": "code",
      "source": [],
      "metadata": {
        "id": "A2ZPx6GMQEZp"
      },
      "execution_count": null,
      "outputs": []
    }
  ]
}