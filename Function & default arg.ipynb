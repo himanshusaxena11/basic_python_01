{
 "cells": [
  {
   "cell_type": "code",
   "execution_count": 1,
   "id": "83e1291c",
   "metadata": {},
   "outputs": [],
   "source": [
    "#function>>>>> 1)inbuilt function ---print(),int(),float(),input() etc\n",
    "#              2)user defined function"
   ]
  },
  {
   "cell_type": "code",
   "execution_count": 2,
   "id": "dd12d4d7",
   "metadata": {},
   "outputs": [
    {
     "name": "stdout",
     "output_type": "stream",
     "text": [
      "how are you\n"
     ]
    }
   ],
   "source": [
    "#syntax>>>>\n",
    "\n",
    "#define_function function_name\n",
    "#print(msg)\n",
    "\n",
    "#define/declare function\n",
    "def amit356():\n",
    "    print('how are you')\n",
    "    \n",
    "    \n",
    "#call function\n",
    "amit356()"
   ]
  },
  {
   "cell_type": "code",
   "execution_count": 3,
   "id": "810c229b",
   "metadata": {},
   "outputs": [
    {
     "name": "stdout",
     "output_type": "stream",
     "text": [
      "how are you\n"
     ]
    }
   ],
   "source": [
    "amit356()"
   ]
  },
  {
   "cell_type": "code",
   "execution_count": 4,
   "id": "8d902f2e",
   "metadata": {},
   "outputs": [],
   "source": [
    "#user defined func --- 1)with arg no return\n",
    "#                      2)with arg with return\n",
    "#                      3)no arg no return\n",
    "#                      4)witn return no arg"
   ]
  },
  {
   "cell_type": "code",
   "execution_count": 5,
   "id": "9c30e9bd",
   "metadata": {},
   "outputs": [],
   "source": [
    "#wap to add 2nos using func\n",
    "def add():\n",
    "    x=5\n",
    "    x=10\n",
    "    y=37\n",
    "    z=x+x+y\n",
    "    print(z)\n",
    "#python will take last updated value of x "
   ]
  },
  {
   "cell_type": "code",
   "execution_count": 6,
   "id": "3bba5d9c",
   "metadata": {},
   "outputs": [],
   "source": [
    "#no return no arg\n",
    "def add():\n",
    "    x=6\n",
    "    y=8\n",
    "    z=x+y\n",
    "    print(z)\n",
    "#user input is required for different values"
   ]
  },
  {
   "cell_type": "code",
   "execution_count": 7,
   "id": "71b6e137",
   "metadata": {},
   "outputs": [
    {
     "name": "stdout",
     "output_type": "stream",
     "text": [
      "14\n"
     ]
    }
   ],
   "source": [
    "add()"
   ]
  },
  {
   "cell_type": "code",
   "execution_count": 8,
   "id": "ef132031",
   "metadata": {},
   "outputs": [],
   "source": [
    "#no return with arg\n",
    "def add(p,q):\n",
    "    r=p+q\n",
    "    print(r)\n",
    "#user input not required as diff erent values can be given"
   ]
  },
  {
   "cell_type": "code",
   "execution_count": 9,
   "id": "e869eb22",
   "metadata": {},
   "outputs": [
    {
     "name": "stdout",
     "output_type": "stream",
     "text": [
      "10\n"
     ]
    }
   ],
   "source": [
    "add(3,7)"
   ]
  },
  {
   "cell_type": "code",
   "execution_count": 10,
   "id": "75b75300",
   "metadata": {},
   "outputs": [
    {
     "name": "stdout",
     "output_type": "stream",
     "text": [
      "7.9\n"
     ]
    }
   ],
   "source": [
    "add(4.9,3)"
   ]
  },
  {
   "cell_type": "code",
   "execution_count": 11,
   "id": "d8c3e7bd",
   "metadata": {},
   "outputs": [
    {
     "name": "stdout",
     "output_type": "stream",
     "text": [
      "how areyou\n"
     ]
    }
   ],
   "source": [
    "add('how are','you')"
   ]
  },
  {
   "cell_type": "code",
   "execution_count": 12,
   "id": "b782ec86",
   "metadata": {},
   "outputs": [
    {
     "name": "stdout",
     "output_type": "stream",
     "text": [
      "you 4\n"
     ]
    }
   ],
   "source": [
    "add('you ','4')"
   ]
  },
  {
   "cell_type": "code",
   "execution_count": 13,
   "id": "75b1279d",
   "metadata": {},
   "outputs": [
    {
     "name": "stdout",
     "output_type": "stream",
     "text": [
      "how are you\n"
     ]
    }
   ],
   "source": [
    "#for adding space\n",
    "add('how are ','you')"
   ]
  },
  {
   "cell_type": "code",
   "execution_count": 14,
   "id": "08335d94",
   "metadata": {},
   "outputs": [
    {
     "name": "stdout",
     "output_type": "stream",
     "text": [
      "what's\n",
      " up\n"
     ]
    }
   ],
   "source": [
    "#for new line\n",
    "add(\"what's\\n \",\"up\")"
   ]
  },
  {
   "cell_type": "code",
   "execution_count": 15,
   "id": "2ef2d6ec",
   "metadata": {},
   "outputs": [],
   "source": [
    "def add(p,q):\n",
    "    r=p=q\n",
    "    print(r)"
   ]
  },
  {
   "cell_type": "code",
   "execution_count": 16,
   "id": "51e83891",
   "metadata": {},
   "outputs": [
    {
     "name": "stdout",
     "output_type": "stream",
     "text": [
      "3\n"
     ]
    }
   ],
   "source": [
    "add('good',3)"
   ]
  },
  {
   "cell_type": "code",
   "execution_count": 17,
   "id": "9cf58fd6",
   "metadata": {},
   "outputs": [],
   "source": [
    "#difference between return and print\n",
    "#return - 1)it is keyword\n",
    "#         2)return means function is end ,nothing will work after function. If something is to be written after function then \n",
    "#           we have to write it outside function. \n",
    "#         3)Return is used inside function and can't be used outside function\n",
    "#         4)Return uses less memory as compared to print\n",
    "#         5)cursor moves out of indentation (func) after return\n",
    "\n",
    "\n",
    "\n",
    "\n",
    "#print - 1)it is function\n",
    "#        2)it doesn't mean \n",
    "#        3)it can be used inside as well as outside function\n",
    "#        4)cursor remains in indentation after print "
   ]
  },
  {
   "cell_type": "code",
   "execution_count": 18,
   "id": "8ca92704",
   "metadata": {},
   "outputs": [
    {
     "ename": "SyntaxError",
     "evalue": "'return' outside function (4142619684.py, line 1)",
     "output_type": "error",
     "traceback": [
      "\u001b[1;36m  Input \u001b[1;32mIn [18]\u001b[1;36m\u001b[0m\n\u001b[1;33m    return r\u001b[0m\n\u001b[1;37m    ^\u001b[0m\n\u001b[1;31mSyntaxError\u001b[0m\u001b[1;31m:\u001b[0m 'return' outside function\n"
     ]
    }
   ],
   "source": [
    "return r"
   ]
  },
  {
   "cell_type": "code",
   "execution_count": null,
   "id": "88253a7a",
   "metadata": {},
   "outputs": [],
   "source": [
    "#with arg with return - most suitable function\n",
    "#                     - uses least memory"
   ]
  },
  {
   "cell_type": "code",
   "execution_count": 21,
   "id": "76625d9a",
   "metadata": {},
   "outputs": [],
   "source": [
    "def mul(a,b):\n",
    "    c=a*b\n",
    "    return c\n"
   ]
  },
  {
   "cell_type": "code",
   "execution_count": 22,
   "id": "0998fec7",
   "metadata": {},
   "outputs": [
    {
     "data": {
      "text/plain": [
       "28.8"
      ]
     },
     "execution_count": 22,
     "metadata": {},
     "output_type": "execute_result"
    }
   ],
   "source": [
    "mul(7.2,4)"
   ]
  },
  {
   "cell_type": "code",
   "execution_count": 26,
   "id": "9bfe1038",
   "metadata": {},
   "outputs": [
    {
     "data": {
      "text/plain": [
       "20.3"
      ]
     },
     "execution_count": 26,
     "metadata": {},
     "output_type": "execute_result"
    }
   ],
   "source": [
    "def mul(p,q):\n",
    "    r=p*q\n",
    "    return r\n",
    "\n",
    "mul(2.9,7)"
   ]
  },
  {
   "cell_type": "code",
   "execution_count": 27,
   "id": "c1137318",
   "metadata": {},
   "outputs": [
    {
     "ename": "NameError",
     "evalue": "name 'r' is not defined",
     "output_type": "error",
     "traceback": [
      "\u001b[1;31m---------------------------------------------------------------------------\u001b[0m",
      "\u001b[1;31mNameError\u001b[0m                                 Traceback (most recent call last)",
      "Input \u001b[1;32mIn [27]\u001b[0m, in \u001b[0;36m<cell line: 1>\u001b[1;34m()\u001b[0m\n\u001b[1;32m----> 1\u001b[0m \u001b[38;5;28mtype\u001b[39m(\u001b[43mr\u001b[49m)\n",
      "\u001b[1;31mNameError\u001b[0m: name 'r' is not defined"
     ]
    }
   ],
   "source": [
    "type(r)\n",
    "#r is not defined bcz return func. is just returning value of z"
   ]
  },
  {
   "cell_type": "code",
   "execution_count": 30,
   "id": "4ee3e327",
   "metadata": {},
   "outputs": [
    {
     "name": "stdout",
     "output_type": "stream",
     "text": [
      "20.3\n"
     ]
    }
   ],
   "source": [
    "def mul(p,q):\n",
    "    z=p*q\n",
    "    print(z)\n",
    "\n",
    "mul(2.9,7)"
   ]
  },
  {
   "cell_type": "code",
   "execution_count": 31,
   "id": "97b7911a",
   "metadata": {},
   "outputs": [
    {
     "ename": "NameError",
     "evalue": "name 'z' is not defined",
     "output_type": "error",
     "traceback": [
      "\u001b[1;31m---------------------------------------------------------------------------\u001b[0m",
      "\u001b[1;31mNameError\u001b[0m                                 Traceback (most recent call last)",
      "Input \u001b[1;32mIn [31]\u001b[0m, in \u001b[0;36m<cell line: 1>\u001b[1;34m()\u001b[0m\n\u001b[1;32m----> 1\u001b[0m \u001b[38;5;28mtype\u001b[39m(\u001b[43mz\u001b[49m)\n",
      "\u001b[1;31mNameError\u001b[0m: name 'z' is not defined"
     ]
    }
   ],
   "source": [
    "type(z)\n",
    "#z is not defined bcz value is not assigned to z"
   ]
  },
  {
   "cell_type": "code",
   "execution_count": 32,
   "id": "74ae970e",
   "metadata": {},
   "outputs": [],
   "source": [
    "#no arg with return"
   ]
  },
  {
   "cell_type": "code",
   "execution_count": 35,
   "id": "94c7444b",
   "metadata": {},
   "outputs": [],
   "source": [
    "def sub():\n",
    "    x=8\n",
    "    y=3\n",
    "    z=x-y\n",
    "    return z"
   ]
  },
  {
   "cell_type": "code",
   "execution_count": 36,
   "id": "c9496e64",
   "metadata": {},
   "outputs": [
    {
     "data": {
      "text/plain": [
       "5"
      ]
     },
     "execution_count": 36,
     "metadata": {},
     "output_type": "execute_result"
    }
   ],
   "source": [
    "sub()"
   ]
  },
  {
   "cell_type": "markdown",
   "id": "a70ce4fd",
   "metadata": {},
   "source": [
    "# DEFAULT ARGUMENT"
   ]
  },
  {
   "cell_type": "markdown",
   "id": "2bea7e6e",
   "metadata": {},
   "source": [
    "# arguments are made default from last variable "
   ]
  },
  {
   "cell_type": "code",
   "execution_count": 39,
   "id": "b82458d7",
   "metadata": {},
   "outputs": [
    {
     "data": {
      "text/plain": [
       "13"
      ]
     },
     "execution_count": 39,
     "metadata": {},
     "output_type": "execute_result"
    }
   ],
   "source": [
    "def add(x,y=6):\n",
    "    z=x+y\n",
    "    return z\n",
    "\n",
    "add(4,9)"
   ]
  },
  {
   "cell_type": "code",
   "execution_count": 40,
   "id": "3550ce5a",
   "metadata": {},
   "outputs": [
    {
     "data": {
      "text/plain": [
       "10"
      ]
     },
     "execution_count": 40,
     "metadata": {},
     "output_type": "execute_result"
    }
   ],
   "source": [
    "def add(x,y=6):\n",
    "    z=x+y\n",
    "    return z\n",
    "\n",
    "add(4)"
   ]
  },
  {
   "cell_type": "code",
   "execution_count": 42,
   "id": "e15682c7",
   "metadata": {},
   "outputs": [
    {
     "ename": "SyntaxError",
     "evalue": "non-default argument follows default argument (1626679085.py, line 1)",
     "output_type": "error",
     "traceback": [
      "\u001b[1;36m  Input \u001b[1;32mIn [42]\u001b[1;36m\u001b[0m\n\u001b[1;33m    def fun(x=7,y):\u001b[0m\n\u001b[1;37m                 ^\u001b[0m\n\u001b[1;31mSyntaxError\u001b[0m\u001b[1;31m:\u001b[0m non-default argument follows default argument\n"
     ]
    }
   ],
   "source": [
    "def fun(x=7,y):\n",
    "    z=x+y\n",
    "    return z\n",
    "\n",
    "fun(4,8)"
   ]
  },
  {
   "cell_type": "code",
   "execution_count": 44,
   "id": "4b4f9126",
   "metadata": {},
   "outputs": [
    {
     "data": {
      "text/plain": [
       "11"
      ]
     },
     "execution_count": 44,
     "metadata": {},
     "output_type": "execute_result"
    }
   ],
   "source": [
    "def fun(x=5,y=3):\n",
    "    z=x+y\n",
    "    return z\n",
    "\n",
    "fun(2,9)"
   ]
  },
  {
   "cell_type": "code",
   "execution_count": 46,
   "id": "6950054c",
   "metadata": {},
   "outputs": [
    {
     "data": {
      "text/plain": [
       "4"
      ]
     },
     "execution_count": 46,
     "metadata": {},
     "output_type": "execute_result"
    }
   ],
   "source": [
    "def fun(x=2,y=1):\n",
    "    z=x+y\n",
    "    return z\n",
    "\n",
    "fun(3)"
   ]
  },
  {
   "cell_type": "code",
   "execution_count": 48,
   "id": "b445e1fe",
   "metadata": {},
   "outputs": [
    {
     "data": {
      "text/plain": [
       "12"
      ]
     },
     "execution_count": 48,
     "metadata": {},
     "output_type": "execute_result"
    }
   ],
   "source": [
    "def add(x=4,y=3,z=5):\n",
    "    c=x+y+z\n",
    "    return c\n",
    "\n",
    "add(2,9,1)"
   ]
  },
  {
   "cell_type": "code",
   "execution_count": 50,
   "id": "abc95299",
   "metadata": {},
   "outputs": [
    {
     "data": {
      "text/plain": [
       "10"
      ]
     },
     "execution_count": 50,
     "metadata": {},
     "output_type": "execute_result"
    }
   ],
   "source": [
    "def fun(x=6,y=3,z=2):\n",
    "    q=x+y+z\n",
    "    return q\n",
    "fun(1,7)"
   ]
  },
  {
   "cell_type": "code",
   "execution_count": 49,
   "id": "e8d77b52",
   "metadata": {},
   "outputs": [
    {
     "ename": "SyntaxError",
     "evalue": "non-default argument follows default argument (4125770559.py, line 1)",
     "output_type": "error",
     "traceback": [
      "\u001b[1;36m  Input \u001b[1;32mIn [49]\u001b[1;36m\u001b[0m\n\u001b[1;33m    def add(x=3,y=4,z):\u001b[0m\n\u001b[1;37m                     ^\u001b[0m\n\u001b[1;31mSyntaxError\u001b[0m\u001b[1;31m:\u001b[0m non-default argument follows default argument\n"
     ]
    }
   ],
   "source": [
    "def add(x=3,y=4,z):\n",
    "    c=x+y+z\n",
    "    return c\n",
    "\n",
    "add(1,9,5)"
   ]
  },
  {
   "cell_type": "code",
   "execution_count": 51,
   "id": "4e583749",
   "metadata": {},
   "outputs": [
    {
     "ename": "SyntaxError",
     "evalue": "non-default argument follows default argument (1304210223.py, line 1)",
     "output_type": "error",
     "traceback": [
      "\u001b[1;36m  Input \u001b[1;32mIn [51]\u001b[1;36m\u001b[0m\n\u001b[1;33m    def fun(x=2,y,z=1):\u001b[0m\n\u001b[1;37m                  ^\u001b[0m\n\u001b[1;31mSyntaxError\u001b[0m\u001b[1;31m:\u001b[0m non-default argument follows default argument\n"
     ]
    }
   ],
   "source": [
    "def fun(x=2,y,z=1):\n",
    "    c=x+y+z\n",
    "    return c\n",
    "\n",
    "fun(8.2,7,3.9)"
   ]
  },
  {
   "cell_type": "code",
   "execution_count": 54,
   "id": "8770d20e",
   "metadata": {},
   "outputs": [
    {
     "data": {
      "text/plain": [
       "15.1"
      ]
     },
     "execution_count": 54,
     "metadata": {},
     "output_type": "execute_result"
    }
   ],
   "source": [
    "def fun(x,y=5,z=8):\n",
    "    w=x+y+z\n",
    "    return w\n",
    "\n",
    "fun(2.1)"
   ]
  },
  {
   "cell_type": "code",
   "execution_count": null,
   "id": "c997985d",
   "metadata": {},
   "outputs": [],
   "source": []
  }
 ],
 "metadata": {
  "kernelspec": {
   "display_name": "Python 3 (ipykernel)",
   "language": "python",
   "name": "python3"
  },
  "language_info": {
   "codemirror_mode": {
    "name": "ipython",
    "version": 3
   },
   "file_extension": ".py",
   "mimetype": "text/x-python",
   "name": "python",
   "nbconvert_exporter": "python",
   "pygments_lexer": "ipython3",
   "version": "3.9.12"
  }
 },
 "nbformat": 4,
 "nbformat_minor": 5
}
