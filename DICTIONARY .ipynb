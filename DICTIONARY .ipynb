{
 "cells": [
  {
   "cell_type": "code",
   "execution_count": 1,
   "id": "fea53f6c",
   "metadata": {},
   "outputs": [],
   "source": [
    "a={'name':'ram',\n",
    "  'age':21,\n",
    "  'address':'gwl'}"
   ]
  },
  {
   "cell_type": "code",
   "execution_count": 2,
   "id": "de225842",
   "metadata": {},
   "outputs": [
    {
     "data": {
      "text/plain": [
       "{'name': 'ram', 'age': 21, 'address': 'gwl'}"
      ]
     },
     "execution_count": 2,
     "metadata": {},
     "output_type": "execute_result"
    }
   ],
   "source": [
    "a"
   ]
  },
  {
   "cell_type": "code",
   "execution_count": 3,
   "id": "45a3de75",
   "metadata": {},
   "outputs": [
    {
     "data": {
      "text/plain": [
       "dict"
      ]
     },
     "execution_count": 3,
     "metadata": {},
     "output_type": "execute_result"
    }
   ],
   "source": [
    "type(a)"
   ]
  },
  {
   "cell_type": "code",
   "execution_count": 4,
   "id": "527e73c0",
   "metadata": {},
   "outputs": [],
   "source": [
    "#wap to make a dict of emp having name,emp id & salary\n",
    "x={'name':'ajay',\n",
    "  'emp_id':793,\n",
    "  'sal':29000}"
   ]
  },
  {
   "cell_type": "code",
   "execution_count": 5,
   "id": "e090ccb6",
   "metadata": {},
   "outputs": [
    {
     "name": "stdout",
     "output_type": "stream",
     "text": [
      "{'name': 'ajay', 'emp_id': 793, 'sal': 29000}\n"
     ]
    },
    {
     "data": {
      "text/plain": [
       "dict"
      ]
     },
     "execution_count": 5,
     "metadata": {},
     "output_type": "execute_result"
    }
   ],
   "source": [
    "print(x)\n",
    "type(x)"
   ]
  },
  {
   "cell_type": "code",
   "execution_count": 6,
   "id": "883339cf",
   "metadata": {},
   "outputs": [
    {
     "data": {
      "text/plain": [
       "{'name': 'ajay', 'emp_id': 793, 'sal': 29000}"
      ]
     },
     "execution_count": 6,
     "metadata": {},
     "output_type": "execute_result"
    }
   ],
   "source": [
    "# slicing using key\n",
    "x"
   ]
  },
  {
   "cell_type": "code",
   "execution_count": 7,
   "id": "8b369c06",
   "metadata": {},
   "outputs": [
    {
     "data": {
      "text/plain": [
       "'ajay'"
      ]
     },
     "execution_count": 7,
     "metadata": {},
     "output_type": "execute_result"
    }
   ],
   "source": [
    "x['name']"
   ]
  },
  {
   "cell_type": "code",
   "execution_count": 8,
   "id": "2a5d3c51",
   "metadata": {},
   "outputs": [],
   "source": [
    "y={'name':('A','B','C','D'),\n",
    "  'age':[11,33,29,67],\n",
    "  'gender':['F','M','F','F']}"
   ]
  },
  {
   "cell_type": "code",
   "execution_count": 9,
   "id": "5d01769b",
   "metadata": {},
   "outputs": [
    {
     "data": {
      "text/plain": [
       "{'name': ('A', 'B', 'C', 'D'),\n",
       " 'age': [11, 33, 29, 67],\n",
       " 'gender': ['F', 'M', 'F', 'F']}"
      ]
     },
     "execution_count": 9,
     "metadata": {},
     "output_type": "execute_result"
    }
   ],
   "source": [
    "y"
   ]
  },
  {
   "cell_type": "code",
   "execution_count": 10,
   "id": "3cd06c8e",
   "metadata": {},
   "outputs": [],
   "source": [
    "y['gender'][1]='F'\n",
    "# Gender data is defined in list "
   ]
  },
  {
   "cell_type": "code",
   "execution_count": 11,
   "id": "9325bce9",
   "metadata": {},
   "outputs": [
    {
     "data": {
      "text/plain": [
       "{'name': ('A', 'B', 'C', 'D'),\n",
       " 'age': [11, 33, 29, 67],\n",
       " 'gender': ['F', 'F', 'F', 'F']}"
      ]
     },
     "execution_count": 11,
     "metadata": {},
     "output_type": "execute_result"
    }
   ],
   "source": [
    "y"
   ]
  },
  {
   "cell_type": "code",
   "execution_count": 12,
   "id": "4290d6c7",
   "metadata": {},
   "outputs": [
    {
     "ename": "TypeError",
     "evalue": "'tuple' object does not support item assignment",
     "output_type": "error",
     "traceback": [
      "\u001b[1;31m---------------------------------------------------------------------------\u001b[0m",
      "\u001b[1;31mTypeError\u001b[0m                                 Traceback (most recent call last)",
      "Input \u001b[1;32mIn [12]\u001b[0m, in \u001b[0;36m<cell line: 1>\u001b[1;34m()\u001b[0m\n\u001b[1;32m----> 1\u001b[0m y[\u001b[38;5;124m'\u001b[39m\u001b[38;5;124mname\u001b[39m\u001b[38;5;124m'\u001b[39m][\u001b[38;5;241m2\u001b[39m]\u001b[38;5;241m=\u001b[39m\u001b[38;5;124m'\u001b[39m\u001b[38;5;124mG\u001b[39m\u001b[38;5;124m'\u001b[39m\n",
      "\u001b[1;31mTypeError\u001b[0m: 'tuple' object does not support item assignment"
     ]
    }
   ],
   "source": [
    "y['name'][2]='G'\n",
    "#Name data is defined in tuple"
   ]
  },
  {
   "cell_type": "markdown",
   "id": "2497d327",
   "metadata": {},
   "source": [
    "#  Dictionary is not mutable as it doesn't have indexes, list (not tuple)in a dictionary is mutable"
   ]
  },
  {
   "cell_type": "code",
   "execution_count": 13,
   "id": "0dceeed3",
   "metadata": {},
   "outputs": [],
   "source": [
    "#Wap to make empty dict\n",
    "x={}"
   ]
  },
  {
   "cell_type": "code",
   "execution_count": 14,
   "id": "c7f305d7",
   "metadata": {},
   "outputs": [
    {
     "data": {
      "text/plain": [
       "dict"
      ]
     },
     "execution_count": 14,
     "metadata": {},
     "output_type": "execute_result"
    }
   ],
   "source": [
    "type(x)"
   ]
  },
  {
   "cell_type": "code",
   "execution_count": 15,
   "id": "0e13f4e2",
   "metadata": {},
   "outputs": [],
   "source": [
    "#Wap to make single element dict\n",
    "z={'age':65,\n",
    "  }"
   ]
  },
  {
   "cell_type": "code",
   "execution_count": 16,
   "id": "fe0de12d",
   "metadata": {},
   "outputs": [
    {
     "data": {
      "text/plain": [
       "{'age': 65}"
      ]
     },
     "execution_count": 16,
     "metadata": {},
     "output_type": "execute_result"
    }
   ],
   "source": [
    "z"
   ]
  },
  {
   "cell_type": "code",
   "execution_count": 17,
   "id": "69ad783a",
   "metadata": {},
   "outputs": [
    {
     "data": {
      "text/plain": [
       "dict"
      ]
     },
     "execution_count": 17,
     "metadata": {},
     "output_type": "execute_result"
    }
   ],
   "source": [
    "type(z)"
   ]
  },
  {
   "cell_type": "code",
   "execution_count": 18,
   "id": "d38e5bbb",
   "metadata": {},
   "outputs": [],
   "source": [
    "# Dictionary method\n",
    "# 1)Clear\n",
    "# 2)Get\n",
    "# 3)Pop\n",
    "# 4)Update\n",
    "# 5)Values\n",
    "# 6)Copy\n",
    "# 7)Items\n",
    "# 8)Key "
   ]
  },
  {
   "cell_type": "code",
   "execution_count": 19,
   "id": "ae495cfd",
   "metadata": {},
   "outputs": [
    {
     "data": {
      "text/plain": [
       "{'name': ('A', 'B', 'C', 'D'),\n",
       " 'age': [11, 33, 29, 67],\n",
       " 'gender': ['F', 'F', 'F', 'F']}"
      ]
     },
     "execution_count": 19,
     "metadata": {},
     "output_type": "execute_result"
    }
   ],
   "source": [
    "y"
   ]
  },
  {
   "cell_type": "code",
   "execution_count": 20,
   "id": "57d51802",
   "metadata": {},
   "outputs": [
    {
     "data": {
      "text/plain": [
       "dict_keys(['name', 'age', 'gender'])"
      ]
     },
     "execution_count": 20,
     "metadata": {},
     "output_type": "execute_result"
    }
   ],
   "source": [
    "y.keys()"
   ]
  },
  {
   "cell_type": "code",
   "execution_count": 21,
   "id": "893863a3",
   "metadata": {},
   "outputs": [
    {
     "data": {
      "text/plain": [
       "dict_values([('A', 'B', 'C', 'D'), [11, 33, 29, 67], ['F', 'F', 'F', 'F']])"
      ]
     },
     "execution_count": 21,
     "metadata": {},
     "output_type": "execute_result"
    }
   ],
   "source": [
    "y.values()"
   ]
  },
  {
   "cell_type": "code",
   "execution_count": 22,
   "id": "d6b58e53",
   "metadata": {},
   "outputs": [
    {
     "data": {
      "text/plain": [
       "dict_items([('name', ('A', 'B', 'C', 'D')), ('age', [11, 33, 29, 67]), ('gender', ['F', 'F', 'F', 'F'])])"
      ]
     },
     "execution_count": 22,
     "metadata": {},
     "output_type": "execute_result"
    }
   ],
   "source": [
    "y.items()"
   ]
  },
  {
   "cell_type": "code",
   "execution_count": 23,
   "id": "9e8737bf",
   "metadata": {},
   "outputs": [],
   "source": [
    "y.clear()"
   ]
  },
  {
   "cell_type": "code",
   "execution_count": 24,
   "id": "e5fbff69",
   "metadata": {},
   "outputs": [
    {
     "data": {
      "text/plain": [
       "{}"
      ]
     },
     "execution_count": 24,
     "metadata": {},
     "output_type": "execute_result"
    }
   ],
   "source": [
    "y"
   ]
  },
  {
   "cell_type": "code",
   "execution_count": 25,
   "id": "d8fb0d84",
   "metadata": {},
   "outputs": [],
   "source": [
    "y={'name': ('A', 'B', 'C', 'D'),\n",
    " 'age': [11, 33, 29, 67],\n",
    " 'gender': ['F', 'M', 'F', 'F']}"
   ]
  },
  {
   "cell_type": "code",
   "execution_count": 26,
   "id": "56927c38",
   "metadata": {},
   "outputs": [
    {
     "data": {
      "text/plain": [
       "29"
      ]
     },
     "execution_count": 26,
     "metadata": {},
     "output_type": "execute_result"
    }
   ],
   "source": [
    "y.pop('age')[2]"
   ]
  },
  {
   "cell_type": "code",
   "execution_count": 27,
   "id": "12a3b96f",
   "metadata": {},
   "outputs": [],
   "source": [
    "# age 29 is to be removed but POP will remove whole 'AGE' column(i.e key)"
   ]
  },
  {
   "cell_type": "code",
   "execution_count": 28,
   "id": "2ed79264",
   "metadata": {},
   "outputs": [
    {
     "data": {
      "text/plain": [
       "{'name': ('A', 'B', 'C', 'D'), 'gender': ['F', 'M', 'F', 'F']}"
      ]
     },
     "execution_count": 28,
     "metadata": {},
     "output_type": "execute_result"
    }
   ],
   "source": [
    "y"
   ]
  },
  {
   "cell_type": "code",
   "execution_count": 29,
   "id": "1d29a5ea",
   "metadata": {},
   "outputs": [
    {
     "data": {
      "text/plain": [
       "{'name': ('A', 'B', 'C', 'D'), 'gender': ['F', 'M', 'F', 'F']}"
      ]
     },
     "execution_count": 29,
     "metadata": {},
     "output_type": "execute_result"
    }
   ],
   "source": [
    "y"
   ]
  },
  {
   "cell_type": "code",
   "execution_count": 30,
   "id": "61d3a7c5",
   "metadata": {},
   "outputs": [],
   "source": [
    "y={'name': ('A', 'B', 'C', 'D'),\n",
    " 'age': [11, 33, 29, 67],\n",
    " 'gender': ['F', 'M', 'F', 'F']}"
   ]
  },
  {
   "cell_type": "code",
   "execution_count": 31,
   "id": "9f45c49f",
   "metadata": {},
   "outputs": [
    {
     "data": {
      "text/plain": [
       "[11, 33, 29, 67]"
      ]
     },
     "execution_count": 31,
     "metadata": {},
     "output_type": "execute_result"
    }
   ],
   "source": [
    "y.get('age')"
   ]
  },
  {
   "cell_type": "code",
   "execution_count": 32,
   "id": "1aec88e2",
   "metadata": {},
   "outputs": [
    {
     "data": {
      "text/plain": [
       "{'name': ('A', 'B', 'C', 'D'),\n",
       " 'age': [11, 33, 29, 67],\n",
       " 'gender': ['F', 'M', 'F', 'F']}"
      ]
     },
     "execution_count": 32,
     "metadata": {},
     "output_type": "execute_result"
    }
   ],
   "source": [
    "y"
   ]
  },
  {
   "cell_type": "code",
   "execution_count": 33,
   "id": "feff5ffb",
   "metadata": {},
   "outputs": [],
   "source": [
    "y['age']=[23,15]\n",
    "# 23,15 is overwritten on 11,33,29,67"
   ]
  },
  {
   "cell_type": "code",
   "execution_count": 34,
   "id": "0ed581f1",
   "metadata": {},
   "outputs": [
    {
     "data": {
      "text/plain": [
       "{'name': ('A', 'B', 'C', 'D'), 'age': [23, 15], 'gender': ['F', 'M', 'F', 'F']}"
      ]
     },
     "execution_count": 34,
     "metadata": {},
     "output_type": "execute_result"
    }
   ],
   "source": [
    "y"
   ]
  },
  {
   "cell_type": "code",
   "execution_count": 35,
   "id": "7e10026a",
   "metadata": {},
   "outputs": [],
   "source": [
    "y={'name': ('A', 'B', 'C', 'D'),\n",
    " 'age': [11, 33, 29, 67],\n",
    " 'gender': ['F', 'M', 'F', 'F']}"
   ]
  },
  {
   "cell_type": "code",
   "execution_count": 36,
   "id": "d5157511",
   "metadata": {},
   "outputs": [],
   "source": [
    "p={'car':('jaguar','benz'),\n",
    "  'model':(2001,2005),\n",
    "  'age':(45,89)}"
   ]
  },
  {
   "cell_type": "code",
   "execution_count": 37,
   "id": "3cc03a8c",
   "metadata": {},
   "outputs": [],
   "source": [
    "y.update(p)\n",
    "# updates the dictionary by adding key value pairs of new dictionary "
   ]
  },
  {
   "cell_type": "code",
   "execution_count": 38,
   "id": "47faa392",
   "metadata": {},
   "outputs": [
    {
     "data": {
      "text/plain": [
       "{'name': ('A', 'B', 'C', 'D'),\n",
       " 'age': (45, 89),\n",
       " 'gender': ['F', 'M', 'F', 'F'],\n",
       " 'car': ('jaguar', 'benz'),\n",
       " 'model': (2001, 2005)}"
      ]
     },
     "execution_count": 38,
     "metadata": {},
     "output_type": "execute_result"
    }
   ],
   "source": [
    "y"
   ]
  },
  {
   "cell_type": "code",
   "execution_count": 39,
   "id": "02d1f66e",
   "metadata": {},
   "outputs": [],
   "source": [
    "#the diff between .get and []syntax in dictionary"
   ]
  },
  {
   "cell_type": "code",
   "execution_count": 40,
   "id": "0c1f1be2",
   "metadata": {},
   "outputs": [
    {
     "ename": "KeyError",
     "evalue": "'class'",
     "output_type": "error",
     "traceback": [
      "\u001b[1;31m---------------------------------------------------------------------------\u001b[0m",
      "\u001b[1;31mKeyError\u001b[0m                                  Traceback (most recent call last)",
      "Input \u001b[1;32mIn [40]\u001b[0m, in \u001b[0;36m<cell line: 2>\u001b[1;34m()\u001b[0m\n\u001b[0;32m      1\u001b[0m \u001b[38;5;66;03m#prints value associated with key 'class'\u001b[39;00m\n\u001b[1;32m----> 2\u001b[0m \u001b[43my\u001b[49m\u001b[43m[\u001b[49m\u001b[38;5;124;43m'\u001b[39;49m\u001b[38;5;124;43mclass\u001b[39;49m\u001b[38;5;124;43m'\u001b[39;49m\u001b[43m]\u001b[49m\n",
      "\u001b[1;31mKeyError\u001b[0m: 'class'"
     ]
    }
   ],
   "source": [
    "#prints value associated with key 'class'\n",
    "y['class']\n",
    "\n",
    "#throws error as 'class' is not present in dictionary"
   ]
  },
  {
   "cell_type": "code",
   "execution_count": 41,
   "id": "154a69b7",
   "metadata": {},
   "outputs": [
    {
     "name": "stdout",
     "output_type": "stream",
     "text": [
      "None\n"
     ]
    }
   ],
   "source": [
    "#prints value associated with key 'class'\n",
    "print(y.get('class'))\n",
    "\n",
    "# returns none as 'class' is not present in dictionary"
   ]
  },
  {
   "cell_type": "code",
   "execution_count": 42,
   "id": "81c07678",
   "metadata": {},
   "outputs": [],
   "source": [
    "y={'name': ('A', 'B', 'C', 'D'),\n",
    " 'age': [11, 33, 29, 67],\n",
    " 'gender': ['F', 'M', 'F', 'F']}"
   ]
  },
  {
   "cell_type": "code",
   "execution_count": 43,
   "id": "4b9beed7",
   "metadata": {},
   "outputs": [],
   "source": [
    "# Copying dict. in other variable\n",
    "w=y.copy()"
   ]
  },
  {
   "cell_type": "code",
   "execution_count": 44,
   "id": "ba3b8152",
   "metadata": {},
   "outputs": [
    {
     "data": {
      "text/plain": [
       "{'name': ('A', 'B', 'C', 'D'),\n",
       " 'age': [11, 33, 29, 67],\n",
       " 'gender': ['F', 'M', 'F', 'F']}"
      ]
     },
     "execution_count": 44,
     "metadata": {},
     "output_type": "execute_result"
    }
   ],
   "source": [
    "w"
   ]
  },
  {
   "cell_type": "code",
   "execution_count": null,
   "id": "b23ead1f",
   "metadata": {},
   "outputs": [],
   "source": []
  }
 ],
 "metadata": {
  "kernelspec": {
   "display_name": "Python 3 (ipykernel)",
   "language": "python",
   "name": "python3"
  },
  "language_info": {
   "codemirror_mode": {
    "name": "ipython",
    "version": 3
   },
   "file_extension": ".py",
   "mimetype": "text/x-python",
   "name": "python",
   "nbconvert_exporter": "python",
   "pygments_lexer": "ipython3",
   "version": "3.9.12"
  }
 },
 "nbformat": 4,
 "nbformat_minor": 5
}
