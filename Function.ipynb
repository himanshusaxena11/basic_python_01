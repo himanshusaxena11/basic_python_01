{
 "cells": [
  {
   "cell_type": "code",
   "execution_count": 1,
   "id": "953707ed",
   "metadata": {},
   "outputs": [],
   "source": [
    "def salutation():\n",
    "    print('Good morning')"
   ]
  },
  {
   "cell_type": "code",
   "execution_count": 2,
   "id": "58181822",
   "metadata": {},
   "outputs": [
    {
     "name": "stdout",
     "output_type": "stream",
     "text": [
      "Good morning\n"
     ]
    }
   ],
   "source": [
    "salutation()"
   ]
  },
  {
   "cell_type": "code",
   "execution_count": 6,
   "id": "6f30a4e4",
   "metadata": {},
   "outputs": [],
   "source": [
    "def func(name):\n",
    "    print(name +' here')"
   ]
  },
  {
   "cell_type": "code",
   "execution_count": 7,
   "id": "b4d8dab3",
   "metadata": {},
   "outputs": [
    {
     "name": "stdout",
     "output_type": "stream",
     "text": [
      "adi here\n"
     ]
    }
   ],
   "source": [
    "func('adi')"
   ]
  },
  {
   "cell_type": "code",
   "execution_count": 13,
   "id": "1da5f935",
   "metadata": {},
   "outputs": [],
   "source": [
    "def fn(*bro):\n",
    "    print('my elder brother is ' +bro[3])"
   ]
  },
  {
   "cell_type": "code",
   "execution_count": 14,
   "id": "d7ff7081",
   "metadata": {},
   "outputs": [
    {
     "name": "stdout",
     "output_type": "stream",
     "text": [
      "my elder brother is y\n"
     ]
    }
   ],
   "source": [
    "fn('r','d','u','y','e','w')"
   ]
  },
  {
   "cell_type": "code",
   "execution_count": 28,
   "id": "ad863816",
   "metadata": {},
   "outputs": [
    {
     "name": "stdout",
     "output_type": "stream",
     "text": [
      "that one is my friend f\n"
     ]
    }
   ],
   "source": [
    "def name(n1,n2,n3,n4):\n",
    "    print('that one is my friend ' +n3)\n",
    "name(n1='r',n2='w',n3='f',n4='j')"
   ]
  },
  {
   "cell_type": "code",
   "execution_count": 38,
   "id": "8642b68e",
   "metadata": {},
   "outputs": [
    {
     "name": "stdout",
     "output_type": "stream",
     "text": [
      "his full name is gd\n"
     ]
    }
   ],
   "source": [
    "def fun(**kid):\n",
    "    print('his full name is ' +kid['fname']+kid['lname'])\n",
    "\n",
    "fun(fname='g',lname='d')"
   ]
  },
  {
   "cell_type": "code",
   "execution_count": 40,
   "id": "9dec0749",
   "metadata": {},
   "outputs": [
    {
     "name": "stdout",
     "output_type": "stream",
     "text": [
      "i belong to india\n",
      "i belong to japan\n"
     ]
    }
   ],
   "source": [
    "def func(country):\n",
    "    print('i belong to '+country)\n",
    "func('india')\n",
    "func('japan')"
   ]
  },
  {
   "cell_type": "code",
   "execution_count": 44,
   "id": "9d6b0b3b",
   "metadata": {},
   "outputs": [
    {
     "name": "stdout",
     "output_type": "stream",
     "text": [
      "titan\n",
      "timex\n",
      "raga\n",
      "fastrack\n"
     ]
    }
   ],
   "source": [
    "def func(color):\n",
    "    for i in color:\n",
    "        print(i)\n",
    "    \n",
    "x=['titan','timex','raga','fastrack']\n",
    "func(x)"
   ]
  },
  {
   "cell_type": "code",
   "execution_count": 47,
   "id": "26138c9e",
   "metadata": {},
   "outputs": [
    {
     "data": {
      "text/plain": [
       "10"
      ]
     },
     "execution_count": 47,
     "metadata": {},
     "output_type": "execute_result"
    }
   ],
   "source": [
    "def fun(a):\n",
    "    return 5*a\n",
    "\n",
    "fun(2)"
   ]
  },
  {
   "cell_type": "code",
   "execution_count": 48,
   "id": "662f8530",
   "metadata": {},
   "outputs": [
    {
     "data": {
      "text/plain": [
       "35"
      ]
     },
     "execution_count": 48,
     "metadata": {},
     "output_type": "execute_result"
    }
   ],
   "source": [
    "fun(7)"
   ]
  },
  {
   "cell_type": "code",
   "execution_count": 54,
   "id": "96cd153d",
   "metadata": {},
   "outputs": [
    {
     "name": "stdout",
     "output_type": "stream",
     "text": [
      "26\n"
     ]
    }
   ],
   "source": [
    "#LAMBDA FUNCTION\n",
    "a=lambda a:a+14\n",
    "print(a(12))"
   ]
  },
  {
   "cell_type": "code",
   "execution_count": 56,
   "id": "0ba8d77c",
   "metadata": {},
   "outputs": [
    {
     "name": "stdout",
     "output_type": "stream",
     "text": [
      "24\n"
     ]
    }
   ],
   "source": [
    "q=lambda q:q+11\n",
    "print(q(13))"
   ]
  },
  {
   "cell_type": "code",
   "execution_count": 57,
   "id": "7cb43e8f",
   "metadata": {},
   "outputs": [
    {
     "name": "stdout",
     "output_type": "stream",
     "text": [
      "21\n"
     ]
    }
   ],
   "source": [
    "s=lambda w,r:w*r\n",
    "print(s(3,7))"
   ]
  },
  {
   "cell_type": "code",
   "execution_count": 61,
   "id": "e8987951",
   "metadata": {},
   "outputs": [
    {
     "name": "stdout",
     "output_type": "stream",
     "text": [
      "13\n"
     ]
    }
   ],
   "source": [
    "x=lambda p,q,r:p+q*r\n",
    "print(x(3,5,2))"
   ]
  },
  {
   "cell_type": "code",
   "execution_count": 71,
   "id": "ada803da",
   "metadata": {},
   "outputs": [
    {
     "name": "stdout",
     "output_type": "stream",
     "text": [
      "10\n"
     ]
    }
   ],
   "source": [
    "def myfunc(a):\n",
    "    return lambda b:a*b\n",
    "doubler=myfunc(5)\n",
    "print(doubler(2))"
   ]
  },
  {
   "cell_type": "code",
   "execution_count": 72,
   "id": "09b0f58d",
   "metadata": {},
   "outputs": [
    {
     "name": "stdout",
     "output_type": "stream",
     "text": [
      "8\n"
     ]
    }
   ],
   "source": [
    "def myfunc(a):\n",
    "    return lambda b:a*b\n",
    "doubler=myfunc(2)\n",
    "print(doubler(4))"
   ]
  },
  {
   "cell_type": "code",
   "execution_count": 73,
   "id": "0f6fb7fc",
   "metadata": {},
   "outputs": [
    {
     "name": "stdout",
     "output_type": "stream",
     "text": [
      "12\n"
     ]
    }
   ],
   "source": [
    "def myf(x):\n",
    "    return lambda y:x*y\n",
    "tripler=myf(3)\n",
    "print(tripler(4))"
   ]
  },
  {
   "cell_type": "code",
   "execution_count": 74,
   "id": "6a8ab64a",
   "metadata": {},
   "outputs": [
    {
     "name": "stdout",
     "output_type": "stream",
     "text": [
      "10\n",
      "18\n"
     ]
    }
   ],
   "source": [
    "def myfn(p):\n",
    "    return lambda q:p*q\n",
    "    return lambda r:p*r\n",
    "doubler=myfn(2)\n",
    "tripler=myfn(3)\n",
    "\n",
    "print(doubler(5))\n",
    "print(tripler(6))"
   ]
  },
  {
   "cell_type": "markdown",
   "id": "20dab531",
   "metadata": {},
   "source": [
    "# ARRAY"
   ]
  },
  {
   "cell_type": "code",
   "execution_count": 75,
   "id": "72c55581",
   "metadata": {},
   "outputs": [
    {
     "data": {
      "text/plain": [
       "5"
      ]
     },
     "execution_count": 75,
     "metadata": {},
     "output_type": "execute_result"
    }
   ],
   "source": [
    "x=[23.9,'kjoadf',903,True,'kadj']\n",
    "len(x)"
   ]
  },
  {
   "cell_type": "code",
   "execution_count": 77,
   "id": "7652bd6e",
   "metadata": {},
   "outputs": [
    {
     "name": "stdout",
     "output_type": "stream",
     "text": [
      "23.9\n",
      "kjoadf\n",
      "903\n",
      "True\n",
      "kadj\n"
     ]
    }
   ],
   "source": [
    "for y in x:\n",
    "    print(y)"
   ]
  },
  {
   "cell_type": "code",
   "execution_count": 78,
   "id": "ac45b5cf",
   "metadata": {},
   "outputs": [],
   "source": [
    "x.append('3+5j')"
   ]
  },
  {
   "cell_type": "code",
   "execution_count": 79,
   "id": "313bcb9e",
   "metadata": {},
   "outputs": [
    {
     "data": {
      "text/plain": [
       "[23.9, 'kjoadf', 903, True, 'kadj', '3+5j']"
      ]
     },
     "execution_count": 79,
     "metadata": {},
     "output_type": "execute_result"
    }
   ],
   "source": [
    "x"
   ]
  },
  {
   "cell_type": "code",
   "execution_count": 88,
   "id": "8b21fa51",
   "metadata": {},
   "outputs": [],
   "source": [
    "x=[23.9, 'kjoadf', 903, True, 'kadj', '3+5j',True,'kadj']"
   ]
  },
  {
   "cell_type": "code",
   "execution_count": 89,
   "id": "39414875",
   "metadata": {},
   "outputs": [],
   "source": [
    "x.remove('kadj')"
   ]
  },
  {
   "cell_type": "code",
   "execution_count": 90,
   "id": "99f0c84e",
   "metadata": {},
   "outputs": [
    {
     "data": {
      "text/plain": [
       "[23.9, 'kjoadf', 903, True, '3+5j', True, 'kadj']"
      ]
     },
     "execution_count": 90,
     "metadata": {},
     "output_type": "execute_result"
    }
   ],
   "source": [
    "x"
   ]
  },
  {
   "cell_type": "code",
   "execution_count": 91,
   "id": "7b20497a",
   "metadata": {},
   "outputs": [
    {
     "data": {
      "text/plain": [
       "[34, 4.8, 11, -3, 93, -14, 78]"
      ]
     },
     "execution_count": 91,
     "metadata": {},
     "output_type": "execute_result"
    }
   ],
   "source": [
    "y=[34,78,4.8,11,-3,93,-14,78]\n",
    "y.remove(78)\n",
    "y"
   ]
  },
  {
   "cell_type": "code",
   "execution_count": null,
   "id": "ef2746e7",
   "metadata": {},
   "outputs": [],
   "source": []
  }
 ],
 "metadata": {
  "kernelspec": {
   "display_name": "Python 3 (ipykernel)",
   "language": "python",
   "name": "python3"
  },
  "language_info": {
   "codemirror_mode": {
    "name": "ipython",
    "version": 3
   },
   "file_extension": ".py",
   "mimetype": "text/x-python",
   "name": "python",
   "nbconvert_exporter": "python",
   "pygments_lexer": "ipython3",
   "version": "3.9.12"
  }
 },
 "nbformat": 4,
 "nbformat_minor": 5
}
