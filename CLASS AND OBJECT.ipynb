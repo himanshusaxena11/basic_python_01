{
 "cells": [
  {
   "cell_type": "code",
   "execution_count": 1,
   "id": "c5ecd5b3",
   "metadata": {},
   "outputs": [],
   "source": [
    "class bike:\n",
    "    name='honda'\n",
    "    \n",
    "b=bike()"
   ]
  },
  {
   "cell_type": "code",
   "execution_count": 2,
   "id": "b16e53e3",
   "metadata": {},
   "outputs": [
    {
     "data": {
      "text/plain": [
       "'honda'"
      ]
     },
     "execution_count": 2,
     "metadata": {},
     "output_type": "execute_result"
    }
   ],
   "source": [
    "b.name"
   ]
  },
  {
   "cell_type": "code",
   "execution_count": 4,
   "id": "62fba9e5",
   "metadata": {},
   "outputs": [],
   "source": [
    "class person:\n",
    "    def __init__(self,name,age):\n",
    "        self.name=name\n",
    "        self.age=age\n",
    "p=person('r',23)"
   ]
  },
  {
   "cell_type": "code",
   "execution_count": 5,
   "id": "e45886a4",
   "metadata": {},
   "outputs": [
    {
     "data": {
      "text/plain": [
       "'r'"
      ]
     },
     "execution_count": 5,
     "metadata": {},
     "output_type": "execute_result"
    }
   ],
   "source": [
    "p.name"
   ]
  },
  {
   "cell_type": "code",
   "execution_count": 6,
   "id": "15414d8d",
   "metadata": {},
   "outputs": [
    {
     "data": {
      "text/plain": [
       "23"
      ]
     },
     "execution_count": 6,
     "metadata": {},
     "output_type": "execute_result"
    }
   ],
   "source": [
    "p.age"
   ]
  },
  {
   "cell_type": "code",
   "execution_count": 17,
   "id": "23e5e22b",
   "metadata": {},
   "outputs": [
    {
     "name": "stdout",
     "output_type": "stream",
     "text": [
      "john (23)\n"
     ]
    }
   ],
   "source": [
    "class pers:\n",
    "    def __init__(self,name,age):\n",
    "        self.name=name\n",
    "        self.age=age\n",
    "    def __str__(self):\n",
    "        return f\"{self.name}({self.age})\"\n",
    "    \n",
    "p1=pers(\"john \",23)\n",
    "print(p1)"
   ]
  },
  {
   "cell_type": "markdown",
   "id": "3e218207",
   "metadata": {},
   "source": [
    "# Object Methods"
   ]
  },
  {
   "cell_type": "code",
   "execution_count": 21,
   "id": "d9dfbf9d",
   "metadata": {},
   "outputs": [],
   "source": [
    "class child:\n",
    "    def __init__(self,name,marks):\n",
    "        self.name=name\n",
    "        self.marks=marks\n",
    "    def myfunc(self):\n",
    "        print('my name is '+self.name)\n",
    "        \n",
    "c=child('e',45)"
   ]
  },
  {
   "cell_type": "code",
   "execution_count": 22,
   "id": "e3c8788a",
   "metadata": {},
   "outputs": [
    {
     "name": "stdout",
     "output_type": "stream",
     "text": [
      "my name is e\n"
     ]
    }
   ],
   "source": [
    "c.myfunc()"
   ]
  },
  {
   "cell_type": "code",
   "execution_count": 27,
   "id": "80ea358b",
   "metadata": {},
   "outputs": [],
   "source": [
    "class kid:\n",
    "    def __init__(self,name,age):\n",
    "        self.name=name\n",
    "        self.age=age\n",
    "    def info(self):\n",
    "        print(self.name,self.age)\n",
    "        \n",
    "k=kid('j',11)"
   ]
  },
  {
   "cell_type": "code",
   "execution_count": 29,
   "id": "304bbe8d",
   "metadata": {},
   "outputs": [
    {
     "name": "stdout",
     "output_type": "stream",
     "text": [
      "j 11\n"
     ]
    }
   ],
   "source": [
    "k.info()"
   ]
  },
  {
   "cell_type": "code",
   "execution_count": 31,
   "id": "d32418ad",
   "metadata": {},
   "outputs": [],
   "source": [
    "k.age=47"
   ]
  },
  {
   "cell_type": "code",
   "execution_count": 33,
   "id": "7b80a8eb",
   "metadata": {},
   "outputs": [
    {
     "name": "stdout",
     "output_type": "stream",
     "text": [
      "j 47\n"
     ]
    }
   ],
   "source": [
    "k.info()"
   ]
  },
  {
   "cell_type": "code",
   "execution_count": 34,
   "id": "1625cf59",
   "metadata": {},
   "outputs": [],
   "source": [
    "del k.name"
   ]
  },
  {
   "cell_type": "code",
   "execution_count": 35,
   "id": "da0c02ff",
   "metadata": {},
   "outputs": [
    {
     "ename": "AttributeError",
     "evalue": "'kid' object has no attribute 'name'",
     "output_type": "error",
     "traceback": [
      "\u001b[1;31m---------------------------------------------------------------------------\u001b[0m",
      "\u001b[1;31mAttributeError\u001b[0m                            Traceback (most recent call last)",
      "Input \u001b[1;32mIn [35]\u001b[0m, in \u001b[0;36m<cell line: 1>\u001b[1;34m()\u001b[0m\n\u001b[1;32m----> 1\u001b[0m \u001b[43mk\u001b[49m\u001b[38;5;241;43m.\u001b[39;49m\u001b[43minfo\u001b[49m\u001b[43m(\u001b[49m\u001b[43m)\u001b[49m\n",
      "Input \u001b[1;32mIn [27]\u001b[0m, in \u001b[0;36mkid.info\u001b[1;34m(self)\u001b[0m\n\u001b[0;32m      5\u001b[0m \u001b[38;5;28;01mdef\u001b[39;00m \u001b[38;5;21minfo\u001b[39m(\u001b[38;5;28mself\u001b[39m):\n\u001b[1;32m----> 6\u001b[0m     \u001b[38;5;28mprint\u001b[39m(\u001b[38;5;28;43mself\u001b[39;49m\u001b[38;5;241;43m.\u001b[39;49m\u001b[43mname\u001b[49m,\u001b[38;5;28mself\u001b[39m\u001b[38;5;241m.\u001b[39mage)\n",
      "\u001b[1;31mAttributeError\u001b[0m: 'kid' object has no attribute 'name'"
     ]
    }
   ],
   "source": [
    "k.info()"
   ]
  },
  {
   "cell_type": "code",
   "execution_count": 36,
   "id": "f1f86405",
   "metadata": {},
   "outputs": [],
   "source": [
    "del k                                    #deletion of object"
   ]
  },
  {
   "cell_type": "code",
   "execution_count": 37,
   "id": "26c0bb18",
   "metadata": {},
   "outputs": [
    {
     "ename": "NameError",
     "evalue": "name 'k' is not defined",
     "output_type": "error",
     "traceback": [
      "\u001b[1;31m---------------------------------------------------------------------------\u001b[0m",
      "\u001b[1;31mNameError\u001b[0m                                 Traceback (most recent call last)",
      "Input \u001b[1;32mIn [37]\u001b[0m, in \u001b[0;36m<cell line: 1>\u001b[1;34m()\u001b[0m\n\u001b[1;32m----> 1\u001b[0m \u001b[43mk\u001b[49m\n",
      "\u001b[1;31mNameError\u001b[0m: name 'k' is not defined"
     ]
    }
   ],
   "source": [
    "k"
   ]
  },
  {
   "cell_type": "code",
   "execution_count": 41,
   "id": "30eca77e",
   "metadata": {},
   "outputs": [],
   "source": [
    "#Create a class named Person, with firstname and lastname properties, and a printname method\n",
    "class person:\n",
    "    def __init__(self,fname,lname):\n",
    "        self.fname=fname\n",
    "        self.lname=lname\n",
    "    def printname(self):\n",
    "        print(self.fname,self.lname)\n",
    "    \n",
    "class std(person):\n",
    "    pass\n",
    "\n",
    "s=std('u','o')"
   ]
  },
  {
   "cell_type": "code",
   "execution_count": 42,
   "id": "b1df0b00",
   "metadata": {},
   "outputs": [
    {
     "name": "stdout",
     "output_type": "stream",
     "text": [
      "u o\n"
     ]
    }
   ],
   "source": [
    "s.printname()"
   ]
  },
  {
   "cell_type": "code",
   "execution_count": 54,
   "id": "bbbea75c",
   "metadata": {},
   "outputs": [],
   "source": [
    "class std:\n",
    "    def __init__(self,name,age):\n",
    "        self.name=name\n",
    "        self.age=age\n",
    "    def info(self):\n",
    "        print(self.name,self.age)\n",
    "        \n",
    "class kid(std):\n",
    "    def __init__(self,name,marks,age):\n",
    "        super().__init__(name,age)\n",
    "        self.marks=marks\n",
    "    def details(self):\n",
    "        print(self.name, 'whose age is' , self.age ,'has scored', self.marks ,'in english')\n",
    "        \n",
    "k=kid('g',12,83)"
   ]
  },
  {
   "cell_type": "code",
   "execution_count": 55,
   "id": "1b6397c0",
   "metadata": {},
   "outputs": [
    {
     "name": "stdout",
     "output_type": "stream",
     "text": [
      "g whose age is 83 has scored 12 in english\n"
     ]
    }
   ],
   "source": [
    "k.details()"
   ]
  },
  {
   "cell_type": "code",
   "execution_count": null,
   "id": "9642ec56",
   "metadata": {},
   "outputs": [],
   "source": []
  }
 ],
 "metadata": {
  "kernelspec": {
   "display_name": "Python 3 (ipykernel)",
   "language": "python",
   "name": "python3"
  },
  "language_info": {
   "codemirror_mode": {
    "name": "ipython",
    "version": 3
   },
   "file_extension": ".py",
   "mimetype": "text/x-python",
   "name": "python",
   "nbconvert_exporter": "python",
   "pygments_lexer": "ipython3",
   "version": "3.9.12"
  }
 },
 "nbformat": 4,
 "nbformat_minor": 5
}
