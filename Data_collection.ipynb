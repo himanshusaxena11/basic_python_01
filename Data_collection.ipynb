{
  "nbformat": 4,
  "nbformat_minor": 0,
  "metadata": {
    "colab": {
      "provenance": []
    },
    "kernelspec": {
      "name": "python3",
      "display_name": "Python 3"
    },
    "language_info": {
      "name": "python"
    }
  },
  "cells": [
    {
      "cell_type": "code",
      "execution_count": 6,
      "metadata": {
        "colab": {
          "base_uri": "https://localhost:8080/"
        },
        "id": "zlk7TA5zbBIg",
        "outputId": "f0162958-4d77-472e-b785-29f740109753"
      },
      "outputs": [
        {
          "output_type": "execute_result",
          "data": {
            "text/plain": [
              "(4+5j)"
            ]
          },
          "metadata": {},
          "execution_count": 6
        }
      ],
      "source": [
        "#LIST\n",
        "x=[4+5j,2,8,'true',False,'hdhj']\n",
        "x[0]"
      ]
    },
    {
      "cell_type": "code",
      "source": [
        "x[3]"
      ],
      "metadata": {
        "colab": {
          "base_uri": "https://localhost:8080/",
          "height": 36
        },
        "id": "ywi9WUQQ9MIJ",
        "outputId": "bae074e8-0594-47a4-da9d-8bd4523dd281"
      },
      "execution_count": 7,
      "outputs": [
        {
          "output_type": "execute_result",
          "data": {
            "text/plain": [
              "'true'"
            ],
            "application/vnd.google.colaboratory.intrinsic+json": {
              "type": "string"
            }
          },
          "metadata": {},
          "execution_count": 7
        }
      ]
    },
    {
      "cell_type": "code",
      "source": [
        "x[-4]"
      ],
      "metadata": {
        "colab": {
          "base_uri": "https://localhost:8080/"
        },
        "id": "1RGA2xYT9cAC",
        "outputId": "2c099548-fae7-45f9-a9f2-721104598293"
      },
      "execution_count": 8,
      "outputs": [
        {
          "output_type": "execute_result",
          "data": {
            "text/plain": [
              "8"
            ]
          },
          "metadata": {},
          "execution_count": 8
        }
      ]
    },
    {
      "cell_type": "code",
      "source": [
        "x[1:5]"
      ],
      "metadata": {
        "colab": {
          "base_uri": "https://localhost:8080/"
        },
        "id": "IbNYNQLS9eFK",
        "outputId": "8ec2d5df-8e3f-4e8b-d51d-75ab8ee7c003"
      },
      "execution_count": 10,
      "outputs": [
        {
          "output_type": "execute_result",
          "data": {
            "text/plain": [
              "[2, 8, 'true', False]"
            ]
          },
          "metadata": {},
          "execution_count": 10
        }
      ]
    },
    {
      "cell_type": "code",
      "source": [
        "x[-2:-5]"
      ],
      "metadata": {
        "colab": {
          "base_uri": "https://localhost:8080/"
        },
        "id": "ptbbMezB9kIl",
        "outputId": "ea4e2166-a8b9-46e0-92ce-8351bb2b8d06"
      },
      "execution_count": 15,
      "outputs": [
        {
          "output_type": "execute_result",
          "data": {
            "text/plain": [
              "[]"
            ]
          },
          "metadata": {},
          "execution_count": 15
        }
      ]
    },
    {
      "cell_type": "code",
      "source": [
        "x=[4+5j,2,8,'true',False,'hdhj','nhz',39.2,True]"
      ],
      "metadata": {
        "id": "GDZv11q69pdE"
      },
      "execution_count": 16,
      "outputs": []
    },
    {
      "cell_type": "code",
      "source": [
        "x[3:5]=['orange',12,3.78]"
      ],
      "metadata": {
        "id": "Z1slGs-z_ASz"
      },
      "execution_count": 18,
      "outputs": []
    },
    {
      "cell_type": "code",
      "source": [
        "x"
      ],
      "metadata": {
        "colab": {
          "base_uri": "https://localhost:8080/"
        },
        "id": "wF5bZngJ_T-5",
        "outputId": "75750433-62b3-4b26-8595-542a1390ca29"
      },
      "execution_count": 19,
      "outputs": [
        {
          "output_type": "execute_result",
          "data": {
            "text/plain": [
              "[(4+5j), 2, 8, 'orange', 12, 3.78, 'nhz', 39.2, True]"
            ]
          },
          "metadata": {},
          "execution_count": 19
        }
      ]
    },
    {
      "cell_type": "code",
      "source": [
        "x.insert(7,'wkd')"
      ],
      "metadata": {
        "id": "hB4d3jSi_ZI8"
      },
      "execution_count": 22,
      "outputs": []
    },
    {
      "cell_type": "code",
      "source": [
        "x"
      ],
      "metadata": {
        "colab": {
          "base_uri": "https://localhost:8080/"
        },
        "id": "jtP001km_j-6",
        "outputId": "c37b6ce5-b870-4097-ffb9-b35c0268587c"
      },
      "execution_count": 23,
      "outputs": [
        {
          "output_type": "execute_result",
          "data": {
            "text/plain": [
              "[(4+5j), 2, 8, 'orange', 12, 3.78, 'nhz', 'wkd', 39.2, True]"
            ]
          },
          "metadata": {},
          "execution_count": 23
        }
      ]
    },
    {
      "cell_type": "code",
      "source": [
        "x.append(112)"
      ],
      "metadata": {
        "id": "xiDjUPn9_3Dc"
      },
      "execution_count": 25,
      "outputs": []
    },
    {
      "cell_type": "code",
      "source": [
        "x"
      ],
      "metadata": {
        "colab": {
          "base_uri": "https://localhost:8080/"
        },
        "id": "n7aKqS3-AERY",
        "outputId": "2c483d82-e456-45f5-fbde-edac66d1ef81"
      },
      "execution_count": 26,
      "outputs": [
        {
          "output_type": "execute_result",
          "data": {
            "text/plain": [
              "[(4+5j), 2, 8, 'orange', 12, 3.78, 'nhz', 'wkd', 39.2, True, 112]"
            ]
          },
          "metadata": {},
          "execution_count": 26
        }
      ]
    },
    {
      "cell_type": "code",
      "source": [
        "a=[(4+5j), 2, 8, 'orange', 12]\n",
        "b=[39.2, True, 112]\n",
        "b.extend(a)\n",
        "b"
      ],
      "metadata": {
        "colab": {
          "base_uri": "https://localhost:8080/"
        },
        "id": "TJETaQohAHeT",
        "outputId": "4222b995-e4ae-4ad5-cb3d-8d6803bf50a2"
      },
      "execution_count": 28,
      "outputs": [
        {
          "output_type": "execute_result",
          "data": {
            "text/plain": [
              "[39.2, True, 112, (4+5j), 2, 8, 'orange', 12]"
            ]
          },
          "metadata": {},
          "execution_count": 28
        }
      ]
    },
    {
      "cell_type": "code",
      "source": [
        "x=[2, 8, 'orange', 12]\n",
        "y=(45.2,56,True,'hks',2+4j,89)\n",
        "x.extend(y)\n",
        "x"
      ],
      "metadata": {
        "colab": {
          "base_uri": "https://localhost:8080/"
        },
        "id": "l3hETfUNAyTq",
        "outputId": "b7b90f8a-440d-4d57-cd95-095406b6fa18"
      },
      "execution_count": 32,
      "outputs": [
        {
          "output_type": "execute_result",
          "data": {
            "text/plain": [
              "[2, 8, 'orange', 12, 45.2, 56, True, 'hks', (2+4j), 89]"
            ]
          },
          "metadata": {},
          "execution_count": 32
        }
      ]
    },
    {
      "cell_type": "code",
      "source": [
        "a=[45.2,56,True,'hks',2+4j,89]\n",
        "a.remove('hks')\n",
        "a"
      ],
      "metadata": {
        "colab": {
          "base_uri": "https://localhost:8080/"
        },
        "id": "p9XRwvD7B2ys",
        "outputId": "e041cf71-e1f2-4c24-f4cc-0d1714e4c05b"
      },
      "execution_count": 43,
      "outputs": [
        {
          "output_type": "execute_result",
          "data": {
            "text/plain": [
              "[45.2, 56, True, (2+4j), 89]"
            ]
          },
          "metadata": {},
          "execution_count": 43
        }
      ]
    },
    {
      "cell_type": "code",
      "source": [
        "a.pop()"
      ],
      "metadata": {
        "colab": {
          "base_uri": "https://localhost:8080/"
        },
        "id": "HLLsgYs4DOMq",
        "outputId": "03216cdb-6f0a-4f37-cb5a-3beb10977618"
      },
      "execution_count": 44,
      "outputs": [
        {
          "output_type": "execute_result",
          "data": {
            "text/plain": [
              "89"
            ]
          },
          "metadata": {},
          "execution_count": 44
        }
      ]
    },
    {
      "cell_type": "code",
      "source": [
        "a"
      ],
      "metadata": {
        "colab": {
          "base_uri": "https://localhost:8080/"
        },
        "id": "IroJ0m-4DbRQ",
        "outputId": "28f2ecfc-7e08-4c89-da52-12dd8ec932b9"
      },
      "execution_count": 45,
      "outputs": [
        {
          "output_type": "execute_result",
          "data": {
            "text/plain": [
              "[45.2, 56, True, (2+4j)]"
            ]
          },
          "metadata": {},
          "execution_count": 45
        }
      ]
    },
    {
      "cell_type": "code",
      "source": [
        "a.clear()"
      ],
      "metadata": {
        "id": "B1xjIgXhEDJ0"
      },
      "execution_count": 48,
      "outputs": []
    },
    {
      "cell_type": "code",
      "source": [
        "a"
      ],
      "metadata": {
        "colab": {
          "base_uri": "https://localhost:8080/"
        },
        "id": "AjlebV62EfsJ",
        "outputId": "7bb2ed8d-89d5-4baf-c5f9-cd193794aba6"
      },
      "execution_count": 49,
      "outputs": [
        {
          "output_type": "execute_result",
          "data": {
            "text/plain": [
              "[]"
            ]
          },
          "metadata": {},
          "execution_count": 49
        }
      ]
    },
    {
      "cell_type": "code",
      "source": [
        "x=['amar','vipin','ram','nitin','vinod']\n",
        "y=[]\n",
        "for i in  x:\n",
        "  if 'v' in i:\n",
        "    y.append(i)\n",
        "y"
      ],
      "metadata": {
        "colab": {
          "base_uri": "https://localhost:8080/"
        },
        "id": "TBZdselAEmVC",
        "outputId": "d82db403-1cc4-4a49-bedd-5b686c67cf63"
      },
      "execution_count": 51,
      "outputs": [
        {
          "output_type": "execute_result",
          "data": {
            "text/plain": [
              "['vipin', 'vinod']"
            ]
          },
          "metadata": {},
          "execution_count": 51
        }
      ]
    },
    {
      "cell_type": "code",
      "source": [
        "x=['bbs','erat','bhdh','kosj','iwio','jiwy']\n",
        "x.sort()\n",
        "x"
      ],
      "metadata": {
        "colab": {
          "base_uri": "https://localhost:8080/"
        },
        "id": "8JVzBHD_PKpT",
        "outputId": "188e0395-b217-4d8f-b77c-d992b6fd57c7"
      },
      "execution_count": 53,
      "outputs": [
        {
          "output_type": "execute_result",
          "data": {
            "text/plain": [
              "['bbs', 'bhdh', 'erat', 'iwio', 'jiwy', 'kosj']"
            ]
          },
          "metadata": {},
          "execution_count": 53
        }
      ]
    },
    {
      "cell_type": "code",
      "source": [
        "x=['bbs','erat','bhdh','kosj','iwio','jiwy']\n",
        "x.reverse()\n",
        "x"
      ],
      "metadata": {
        "colab": {
          "base_uri": "https://localhost:8080/"
        },
        "id": "_10tet1rT2Sx",
        "outputId": "855181dd-5c23-4587-c90f-f51b9f44d796"
      },
      "execution_count": 55,
      "outputs": [
        {
          "output_type": "execute_result",
          "data": {
            "text/plain": [
              "['jiwy', 'iwio', 'kosj', 'bhdh', 'erat', 'bbs']"
            ]
          },
          "metadata": {},
          "execution_count": 55
        }
      ]
    },
    {
      "cell_type": "code",
      "source": [
        "#TUPLE METHOD -1)Count\n",
        "              2)Index\n",
        "#Adding tuple\n",
        "a=(2,4,6,3,1)\n",
        "b=(9,4,3,7,2)\n",
        "a+b"
      ],
      "metadata": {
        "colab": {
          "base_uri": "https://localhost:8080/"
        },
        "id": "szkG-hydT7og",
        "outputId": "6a84db2f-cdde-482a-de4c-9735e60a63cd"
      },
      "execution_count": 56,
      "outputs": [
        {
          "output_type": "execute_result",
          "data": {
            "text/plain": [
              "(2, 4, 6, 3, 1, 9, 4, 3, 7, 2)"
            ]
          },
          "metadata": {},
          "execution_count": 56
        }
      ]
    },
    {
      "cell_type": "code",
      "source": [
        "#Multiplying content of tuple a no of times\n",
        "a=(2,4,6,3,1)\n",
        "a*3"
      ],
      "metadata": {
        "colab": {
          "base_uri": "https://localhost:8080/"
        },
        "id": "IAnpIkksT7uk",
        "outputId": "734464e3-6e5f-4e6e-c336-37133c6404e3"
      },
      "execution_count": 58,
      "outputs": [
        {
          "output_type": "execute_result",
          "data": {
            "text/plain": [
              "(2, 4, 6, 3, 1, 2, 4, 6, 3, 1, 2, 4, 6, 3, 1)"
            ]
          },
          "metadata": {},
          "execution_count": 58
        }
      ]
    },
    {
      "cell_type": "code",
      "source": [
        "#SET -- unordered, unchangeable, and unindexed\n",
        "a={3,7,5,1,9,6}\n",
        "for i in a:\n",
        "  print(i)"
      ],
      "metadata": {
        "colab": {
          "base_uri": "https://localhost:8080/"
        },
        "id": "Z1Z148Rpavp6",
        "outputId": "d17c6849-ba4d-4eea-8a7e-b68fcddd9c52"
      },
      "execution_count": 59,
      "outputs": [
        {
          "output_type": "stream",
          "name": "stdout",
          "text": [
            "1\n",
            "3\n",
            "5\n",
            "6\n",
            "7\n",
            "9\n"
          ]
        }
      ]
    },
    {
      "cell_type": "code",
      "source": [
        "x={'apple','red','green','blue'}\n",
        "x.add('yellow')\n",
        "x"
      ],
      "metadata": {
        "colab": {
          "base_uri": "https://localhost:8080/"
        },
        "id": "UcUNGgK4cJHL",
        "outputId": "ea783a4d-5636-4704-8095-1e9ff1e1b3c1"
      },
      "execution_count": 62,
      "outputs": [
        {
          "output_type": "execute_result",
          "data": {
            "text/plain": [
              "{'apple', 'blue', 'green', 'red', 'yellow'}"
            ]
          },
          "metadata": {},
          "execution_count": 62
        }
      ]
    },
    {
      "cell_type": "code",
      "source": [
        "#Wap to make a list of string\n",
        "x=[23,'nfk',True,3+5j,-5,4.23]\n",
        "type(x)"
      ],
      "metadata": {
        "colab": {
          "base_uri": "https://localhost:8080/"
        },
        "id": "IJM9bfmHjpfP",
        "outputId": "3756fcce-95e5-473b-a09c-affc27387549"
      },
      "execution_count": 3,
      "outputs": [
        {
          "output_type": "execute_result",
          "data": {
            "text/plain": [
              "list"
            ]
          },
          "metadata": {},
          "execution_count": 3
        }
      ]
    },
    {
      "cell_type": "code",
      "source": [],
      "metadata": {
        "id": "PW8zmEEuMxHx"
      },
      "execution_count": null,
      "outputs": []
    }
  ]
}