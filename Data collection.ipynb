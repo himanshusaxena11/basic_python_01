{
 "cells": [
  {
   "cell_type": "code",
   "execution_count": 1,
   "id": "5a2b1a7c",
   "metadata": {},
   "outputs": [],
   "source": [
    "x=89"
   ]
  },
  {
   "cell_type": "code",
   "execution_count": 2,
   "id": "892a479c",
   "metadata": {},
   "outputs": [
    {
     "data": {
      "text/plain": [
       "int"
      ]
     },
     "execution_count": 2,
     "metadata": {},
     "output_type": "execute_result"
    }
   ],
   "source": [
    "type(x)"
   ]
  },
  {
   "cell_type": "code",
   "execution_count": 3,
   "id": "e793f8f4",
   "metadata": {},
   "outputs": [],
   "source": [
    "x=(89)"
   ]
  },
  {
   "cell_type": "code",
   "execution_count": 4,
   "id": "a0ab1bae",
   "metadata": {},
   "outputs": [
    {
     "data": {
      "text/plain": [
       "int"
      ]
     },
     "execution_count": 4,
     "metadata": {},
     "output_type": "execute_result"
    }
   ],
   "source": [
    "type(x)"
   ]
  },
  {
   "cell_type": "code",
   "execution_count": 5,
   "id": "5eadbbaf",
   "metadata": {},
   "outputs": [],
   "source": [
    "x=[89]"
   ]
  },
  {
   "cell_type": "code",
   "execution_count": 6,
   "id": "44ebbaf2",
   "metadata": {},
   "outputs": [
    {
     "data": {
      "text/plain": [
       "list"
      ]
     },
     "execution_count": 6,
     "metadata": {},
     "output_type": "execute_result"
    }
   ],
   "source": [
    "type(x)"
   ]
  },
  {
   "cell_type": "code",
   "execution_count": 7,
   "id": "6449cfbf",
   "metadata": {},
   "outputs": [],
   "source": [
    "y=[2,9,12,23.12,'true',True,7+9j,-3]"
   ]
  },
  {
   "cell_type": "code",
   "execution_count": 8,
   "id": "88239a15",
   "metadata": {},
   "outputs": [
    {
     "data": {
      "text/plain": [
       "list"
      ]
     },
     "execution_count": 8,
     "metadata": {},
     "output_type": "execute_result"
    }
   ],
   "source": [
    "type(y)"
   ]
  },
  {
   "cell_type": "code",
   "execution_count": 9,
   "id": "40d5f9fe",
   "metadata": {},
   "outputs": [],
   "source": [
    "#wap to make a list of string\n",
    "x=['hi','hello']"
   ]
  },
  {
   "cell_type": "code",
   "execution_count": 10,
   "id": "bdbe1d05",
   "metadata": {},
   "outputs": [
    {
     "data": {
      "text/plain": [
       "['hi', 'hello']"
      ]
     },
     "execution_count": 10,
     "metadata": {},
     "output_type": "execute_result"
    }
   ],
   "source": [
    "x"
   ]
  },
  {
   "cell_type": "code",
   "execution_count": 11,
   "id": "bb09ecd5",
   "metadata": {},
   "outputs": [
    {
     "data": {
      "text/plain": [
       "list"
      ]
     },
     "execution_count": 11,
     "metadata": {},
     "output_type": "execute_result"
    }
   ],
   "source": [
    "type(x)"
   ]
  },
  {
   "cell_type": "code",
   "execution_count": 12,
   "id": "df1ee21d",
   "metadata": {},
   "outputs": [
    {
     "name": "stdout",
     "output_type": "stream",
     "text": [
      "23\n"
     ]
    }
   ],
   "source": [
    "#wap to add all the nos in list\n",
    "a=[1,9,4,6,3]\n",
    "b=0\n",
    "for i in a:\n",
    "    b=b+i\n",
    "print(b)"
   ]
  },
  {
   "cell_type": "code",
   "execution_count": 13,
   "id": "473382af",
   "metadata": {},
   "outputs": [
    {
     "name": "stdout",
     "output_type": "stream",
     "text": [
      "648\n"
     ]
    }
   ],
   "source": [
    "#wap to multiply all the nos in list\n",
    "a=[1,9,4,6,3]\n",
    "b=1\n",
    "for i in a:\n",
    "    b=i*b\n",
    "print(b)"
   ]
  },
  {
   "cell_type": "markdown",
   "id": "29c99be2",
   "metadata": {},
   "source": [
    "# slicing and indexing"
   ]
  },
  {
   "cell_type": "code",
   "execution_count": 14,
   "id": "3db9d86b",
   "metadata": {},
   "outputs": [],
   "source": [
    "x=[2,12,-23,2+1j,'hero',True,23.123]"
   ]
  },
  {
   "cell_type": "code",
   "execution_count": 15,
   "id": "36697339",
   "metadata": {},
   "outputs": [
    {
     "data": {
      "text/plain": [
       "list"
      ]
     },
     "execution_count": 15,
     "metadata": {},
     "output_type": "execute_result"
    }
   ],
   "source": [
    "type(x)"
   ]
  },
  {
   "cell_type": "code",
   "execution_count": 16,
   "id": "0156bfea",
   "metadata": {},
   "outputs": [
    {
     "data": {
      "text/plain": [
       "(2+1j)"
      ]
     },
     "execution_count": 16,
     "metadata": {},
     "output_type": "execute_result"
    }
   ],
   "source": [
    "x[3]"
   ]
  },
  {
   "cell_type": "code",
   "execution_count": 17,
   "id": "bc4a7bac",
   "metadata": {},
   "outputs": [
    {
     "data": {
      "text/plain": [
       "-23"
      ]
     },
     "execution_count": 17,
     "metadata": {},
     "output_type": "execute_result"
    }
   ],
   "source": [
    "x[-5]"
   ]
  },
  {
   "cell_type": "code",
   "execution_count": 18,
   "id": "26b6f9d5",
   "metadata": {},
   "outputs": [
    {
     "data": {
      "text/plain": [
       "[2, 12, -23, (2+1j), 'hero', True, 23.123]"
      ]
     },
     "execution_count": 18,
     "metadata": {},
     "output_type": "execute_result"
    }
   ],
   "source": [
    "x"
   ]
  },
  {
   "cell_type": "code",
   "execution_count": 19,
   "id": "42b1d876",
   "metadata": {},
   "outputs": [
    {
     "data": {
      "text/plain": [
       "[-23, (2+1j), 'hero', True, 23.123]"
      ]
     },
     "execution_count": 19,
     "metadata": {},
     "output_type": "execute_result"
    }
   ],
   "source": [
    "x[2:7]"
   ]
  },
  {
   "cell_type": "code",
   "execution_count": 20,
   "id": "b4246c76",
   "metadata": {},
   "outputs": [
    {
     "data": {
      "text/plain": [
       "[(2+1j), 'hero', True]"
      ]
     },
     "execution_count": 20,
     "metadata": {},
     "output_type": "execute_result"
    }
   ],
   "source": [
    "# (2+1j), 'hero', True\n",
    "#wap to find above data with the help of -ve indexing\n",
    "x[-4:-1]"
   ]
  },
  {
   "cell_type": "code",
   "execution_count": 21,
   "id": "e7c7635c",
   "metadata": {},
   "outputs": [
    {
     "data": {
      "text/plain": [
       "[(2+1j), 'hero', True]"
      ]
     },
     "execution_count": 21,
     "metadata": {},
     "output_type": "execute_result"
    }
   ],
   "source": [
    "x[3:-1]"
   ]
  },
  {
   "cell_type": "markdown",
   "id": "c45b6b55",
   "metadata": {},
   "source": [
    "# range function"
   ]
  },
  {
   "cell_type": "code",
   "execution_count": 22,
   "id": "701dee50",
   "metadata": {},
   "outputs": [],
   "source": [
    "x=[2,12,-23,2+1j,'hero',True,23.123,'hi','false',89]"
   ]
  },
  {
   "cell_type": "code",
   "execution_count": 23,
   "id": "56f43dbb",
   "metadata": {},
   "outputs": [
    {
     "data": {
      "text/plain": [
       "[2, 12, -23, (2+1j), 'hero', True, 23.123, 'hi', 'false', 89]"
      ]
     },
     "execution_count": 23,
     "metadata": {},
     "output_type": "execute_result"
    }
   ],
   "source": [
    "x[0:10]"
   ]
  },
  {
   "cell_type": "code",
   "execution_count": 24,
   "id": "24346fbb",
   "metadata": {},
   "outputs": [
    {
     "data": {
      "text/plain": [
       "[2, 12, -23, (2+1j), 'hero', True, 23.123, 'hi', 'false', 89]"
      ]
     },
     "execution_count": 24,
     "metadata": {},
     "output_type": "execute_result"
    }
   ],
   "source": [
    "x[0:]"
   ]
  },
  {
   "cell_type": "code",
   "execution_count": 25,
   "id": "39247f05",
   "metadata": {},
   "outputs": [
    {
     "data": {
      "text/plain": [
       "[2, 12, -23, (2+1j), 'hero', True, 23.123, 'hi', 'false', 89]"
      ]
     },
     "execution_count": 25,
     "metadata": {},
     "output_type": "execute_result"
    }
   ],
   "source": [
    "x[:15]"
   ]
  },
  {
   "cell_type": "code",
   "execution_count": 26,
   "id": "43b7ab7b",
   "metadata": {},
   "outputs": [
    {
     "data": {
      "text/plain": [
       "[2, 12, -23, (2+1j), 'hero', True, 23.123, 'hi', 'false', 89]"
      ]
     },
     "execution_count": 26,
     "metadata": {},
     "output_type": "execute_result"
    }
   ],
   "source": [
    "x[:10]"
   ]
  },
  {
   "cell_type": "code",
   "execution_count": 27,
   "id": "0431493a",
   "metadata": {},
   "outputs": [
    {
     "data": {
      "text/plain": [
       "[2, 12, -23, (2+1j), 'hero', True, 23.123, 'hi', 'false', 89]"
      ]
     },
     "execution_count": 27,
     "metadata": {},
     "output_type": "execute_result"
    }
   ],
   "source": [
    "x[:]"
   ]
  },
  {
   "cell_type": "code",
   "execution_count": 28,
   "id": "3f39d7b6",
   "metadata": {},
   "outputs": [
    {
     "data": {
      "text/plain": [
       "[2, 12, -23, (2+1j), 'hero', True, 23.123, 'hi', 'false', 89]"
      ]
     },
     "execution_count": 28,
     "metadata": {},
     "output_type": "execute_result"
    }
   ],
   "source": [
    "x[::1]"
   ]
  },
  {
   "cell_type": "markdown",
   "id": "a7558724",
   "metadata": {},
   "source": [
    "# List\n",
    "\n",
    "# 1. Mutable\n",
    "# 2. Index\n",
    "# 3. Ordered\n",
    "# 4. Slicing"
   ]
  },
  {
   "cell_type": "code",
   "execution_count": 29,
   "id": "824b9bf3",
   "metadata": {},
   "outputs": [],
   "source": [
    "x[3]=21"
   ]
  },
  {
   "cell_type": "code",
   "execution_count": 30,
   "id": "d449b9ff",
   "metadata": {},
   "outputs": [
    {
     "data": {
      "text/plain": [
       "[2, 12, -23, 21, 'hero', True, 23.123, 'hi', 'false', 89]"
      ]
     },
     "execution_count": 30,
     "metadata": {},
     "output_type": "execute_result"
    }
   ],
   "source": [
    "x"
   ]
  },
  {
   "cell_type": "code",
   "execution_count": null,
   "id": "d2a0904e",
   "metadata": {},
   "outputs": [],
   "source": []
  }
 ],
 "metadata": {
  "kernelspec": {
   "display_name": "Python 3 (ipykernel)",
   "language": "python",
   "name": "python3"
  },
  "language_info": {
   "codemirror_mode": {
    "name": "ipython",
    "version": 3
   },
   "file_extension": ".py",
   "mimetype": "text/x-python",
   "name": "python",
   "nbconvert_exporter": "python",
   "pygments_lexer": "ipython3",
   "version": "3.9.12"
  }
 },
 "nbformat": 4,
 "nbformat_minor": 5
}
