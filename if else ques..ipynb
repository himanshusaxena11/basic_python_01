{
 "cells": [
  {
   "cell_type": "code",
   "execution_count": 4,
   "id": "984e9cae",
   "metadata": {},
   "outputs": [
    {
     "name": "stdout",
     "output_type": "stream",
     "text": [
      "enter sal10000\n",
      "enter years of service6\n",
      "bonus 500.0\n",
      "net sal 10500.0\n"
     ]
    }
   ],
   "source": [
    "#A company decided to give bonus of 5% to employee if his/her year of service is more than 5 years.Ask user for their salary \n",
    "#and year of service and print the net salary.\n",
    "sal=int(input('enter sal'))\n",
    "years=int(input('enter years of service'))\n",
    "bonus=sal*5/100\n",
    "net_sal=sal+bonus\n",
    "if years>5:\n",
    "    print('bonus',bonus)\n",
    "    print('net sal',net_sal)\n",
    "else:\n",
    "    print('no bonus')"
   ]
  },
  {
   "cell_type": "code",
   "execution_count": 6,
   "id": "95dbdfa2",
   "metadata": {},
   "outputs": [
    {
     "name": "stdout",
     "output_type": "stream",
     "text": [
      "enter length4\n",
      "enter breadth4\n",
      "square\n"
     ]
    }
   ],
   "source": [
    "#Take values of length and breadth of a rectangle from user and check if it is square or not.\n",
    "l=int(input('enter length'))\n",
    "b=int(input('enter breadth'))\n",
    "if l != b:\n",
    "    print('not square')\n",
    "elif l==b:\n",
    "    print('square')"
   ]
  },
  {
   "cell_type": "code",
   "execution_count": 7,
   "id": "1afa9a77",
   "metadata": {},
   "outputs": [
    {
     "name": "stdout",
     "output_type": "stream",
     "text": [
      "enter value15\n",
      "enter value27\n",
      "b is max\n"
     ]
    }
   ],
   "source": [
    "#Take two int values from user and print greatest among them\n",
    "a=int(input('enter value1'))\n",
    "b=int(input('enter value2'))\n",
    "if a>b:\n",
    "    print('a is max')\n",
    "elif b>a:\n",
    "    print('b is max')"
   ]
  },
  {
   "cell_type": "code",
   "execution_count": 9,
   "id": "771a94ce",
   "metadata": {},
   "outputs": [
    {
     "name": "stdout",
     "output_type": "stream",
     "text": [
      "enter value15\n",
      "enter value27\n",
      "enter value32\n",
      "b is max\n"
     ]
    }
   ],
   "source": [
    "#Take 3 int values from user and print greatest among them\n",
    "a=int(input('enter value1'))\n",
    "b=int(input('enter value2'))\n",
    "c=int(input('enter value3'))\n",
    "if a>b and a>c:\n",
    "    print('a is max')\n",
    "elif b>a and b>c:\n",
    "    print('b is max')\n",
    "elif c>a and c>b:\n",
    "    print('c is max')"
   ]
  },
  {
   "cell_type": "code",
   "execution_count": 10,
   "id": "1f4c61eb",
   "metadata": {},
   "outputs": [
    {
     "name": "stdout",
     "output_type": "stream",
     "text": [
      "enter quantity20\n",
      "net cost is 1800.0\n"
     ]
    }
   ],
   "source": [
    "# A shop will give discount of 10% if the cost of purchased quantity is more than 1000.Ask user for quantity Suppose,\n",
    "# one unit will cost 100.Judge and print total cost for user.\n",
    "q=int(input('enter quantity'))\n",
    "# cost of 1 quantity=100\n",
    "cost=q*100\n",
    "if cost>1000:\n",
    "    discount=cost*10/100\n",
    "    net_cost=cost-discount\n",
    "    print('net cost is',net_cost)"
   ]
  },
  {
   "cell_type": "code",
   "execution_count": 2,
   "id": "a73d2656",
   "metadata": {},
   "outputs": [
    {
     "name": "stdout",
     "output_type": "stream",
     "text": [
      "enter marks65\n",
      "B\n"
     ]
    }
   ],
   "source": [
    "# A school has following rules for grading system:\n",
    "# a. Below 25 - F\n",
    "# b. 25 to 45 - E\n",
    "# c. 45 to 50 - D\n",
    "# d. 50 to 60 - C\n",
    "# e. 60 to 80 - B\n",
    "# f. Above 80 - A\n",
    "# Ask user to enter marks and print the corresponding grade.\n",
    "m=int(input('enter marks'))\n",
    "if m>=80:\n",
    "    print('A')\n",
    "elif 60<m<80:\n",
    "    print('B')\n",
    "elif 50<m<60:\n",
    "    print('C')\n",
    "elif 45<m<50:\n",
    "    print('D')\n",
    "elif 25<m<45:\n",
    "    print('E')\n",
    "elif m<=25:\n",
    "    print('F')"
   ]
  },
  {
   "cell_type": "code",
   "execution_count": 3,
   "id": "1386ac80",
   "metadata": {},
   "outputs": [
    {
     "name": "stdout",
     "output_type": "stream",
     "text": [
      "b is max and c is min\n"
     ]
    }
   ],
   "source": [
    "#Take input of age of 3 people by user and determine oldest and youngest among them.\n",
    "a=56\n",
    "b=63\n",
    "c=34\n",
    "if a>b and a>c and b>c:\n",
    "    print('a is max & c is min')\n",
    "elif a>b and a>c and b<c:\n",
    "    print('a is max & b is min')\n",
    "elif b>a and b>c and a>c:\n",
    "    print('b is max and c is min')\n",
    "elif b>a and b>c and a<c:\n",
    "    print('b is max and a is min')\n",
    "elif c>a and c>b and a>b:\n",
    "    print('c is max and b is min')\n",
    "elif c>a and c>b and a<b:\n",
    "    print('c is max and a is min')"
   ]
  },
  {
   "cell_type": "code",
   "execution_count": 5,
   "id": "ba7cf18c",
   "metadata": {},
   "outputs": [
    {
     "name": "stdout",
     "output_type": "stream",
     "text": [
      "not allowed\n"
     ]
    }
   ],
   "source": [
    "# A student will not be allowed to sit in exam if his/her attendence is less than 75%.\n",
    "# Take following input from user\n",
    "# Number of classes held\n",
    "# Number of classes attended.\n",
    "# And print\n",
    "# percentage of class attended\n",
    "# Is student is allowed to sit in exam or not.\n",
    "held_classes=60\n",
    "attended_classes=40\n",
    "per =(attended_classes/held_classes)*100\n",
    "if per <75:\n",
    "    print('not allowed')\n",
    "else:\n",
    "    print('aa jao')"
   ]
  },
  {
   "cell_type": "code",
   "execution_count": 10,
   "id": "c6e7e0f6",
   "metadata": {},
   "outputs": [
    {
     "name": "stdout",
     "output_type": "stream",
     "text": [
      "per 50.0\n",
      "enter 'Y' for medical cond and 'N' for no medical condY\n",
      "allowed\n"
     ]
    }
   ],
   "source": [
    "# A student will not be allowed to sit in exam if his/her attendence is less than 75%.\n",
    "# Take following input from user\n",
    "# Number of classes held\n",
    "# Number of classes attended.\n",
    "# And print\n",
    "# percentage of class attended\n",
    "# Is student is allowed to sit in exam or not\n",
    "# Modify the above question to allow student to sit if he/she has medical cause. Ask user if he/she\n",
    "# has medical cause or not ( 'Y' or 'N' ) and print accordingly.\n",
    "held_classes=60\n",
    "attended_classes=30\n",
    "per =(attended_classes/held_classes)*100\n",
    "if per <75:\n",
    "    print('per',per)\n",
    "    condition =input(\"enter 'Y' for medical cond and 'N' for no medical cond\")\n",
    "    if condition=='Y':\n",
    "        print('allowed')\n",
    "    else:\n",
    "        print('not allowed')\n",
    "else:\n",
    "    print('aa jao')"
   ]
  },
  {
   "cell_type": "code",
   "execution_count": null,
   "id": "e5cf5bbe",
   "metadata": {},
   "outputs": [],
   "source": []
  }
 ],
 "metadata": {
  "kernelspec": {
   "display_name": "Python 3 (ipykernel)",
   "language": "python",
   "name": "python3"
  },
  "language_info": {
   "codemirror_mode": {
    "name": "ipython",
    "version": 3
   },
   "file_extension": ".py",
   "mimetype": "text/x-python",
   "name": "python",
   "nbconvert_exporter": "python",
   "pygments_lexer": "ipython3",
   "version": "3.9.12"
  }
 },
 "nbformat": 4,
 "nbformat_minor": 5
}
