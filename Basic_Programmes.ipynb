{
  "nbformat": 4,
  "nbformat_minor": 0,
  "metadata": {
    "colab": {
      "provenance": []
    },
    "kernelspec": {
      "name": "python3",
      "display_name": "Python 3"
    },
    "language_info": {
      "name": "python"
    }
  },
  "cells": [
    {
      "cell_type": "code",
      "execution_count": null,
      "metadata": {
        "colab": {
          "base_uri": "https://localhost:8080/"
        },
        "id": "t_6phuKvLz3r",
        "outputId": "df7592cc-4a8b-4784-dc2b-44cd81fce18d"
      },
      "outputs": [
        {
          "output_type": "execute_result",
          "data": {
            "text/plain": [
              "5"
            ]
          },
          "metadata": {},
          "execution_count": 1
        }
      ],
      "source": [
        "#wap to print table of 5\n",
        "5*1"
      ]
    },
    {
      "cell_type": "code",
      "source": [
        "5*2"
      ],
      "metadata": {
        "colab": {
          "base_uri": "https://localhost:8080/"
        },
        "id": "Yx_-x2M6L_Xe",
        "outputId": "bafc78fc-4f67-4933-e212-e9aaa50aec99"
      },
      "execution_count": null,
      "outputs": [
        {
          "output_type": "execute_result",
          "data": {
            "text/plain": [
              "10"
            ]
          },
          "metadata": {},
          "execution_count": 2
        }
      ]
    },
    {
      "cell_type": "code",
      "source": [
        "#Arithmetic operator\n",
        "a=5\n",
        "b=2\n",
        "print('value of a+b is',a+b)\n",
        "print('value of a-b is',a-b)\n",
        "print('value of a*b is',a*b)\n",
        "print('value of a/b is',a/b)\n",
        "print('value of a//b is',a//b)\n",
        "print('value of a%b is',a%b)"
      ],
      "metadata": {
        "colab": {
          "base_uri": "https://localhost:8080/"
        },
        "id": "PEvebLLINYJv",
        "outputId": "90850086-2253-4106-e138-e4da18318d21"
      },
      "execution_count": null,
      "outputs": [
        {
          "output_type": "stream",
          "name": "stdout",
          "text": [
            "value of a+b is 7\n",
            "value of a-b is 3\n",
            "value of a*b is 10\n",
            "value of a/b is 2.5\n",
            "value of a//b is 2\n",
            "value of a%b is 1\n"
          ]
        }
      ]
    },
    {
      "cell_type": "code",
      "source": [
        "#Assignment operator\n",
        "a=6\n",
        "a+=4\n",
        "print(a)"
      ],
      "metadata": {
        "colab": {
          "base_uri": "https://localhost:8080/"
        },
        "id": "tH2d__qlVHAU",
        "outputId": "9330faa8-4105-4e45-f146-8362e914ca88"
      },
      "execution_count": null,
      "outputs": [
        {
          "output_type": "stream",
          "name": "stdout",
          "text": [
            "10\n"
          ]
        }
      ]
    },
    {
      "cell_type": "code",
      "source": [
        "b=4\n",
        "b-=2\n",
        "print(b)"
      ],
      "metadata": {
        "colab": {
          "base_uri": "https://localhost:8080/"
        },
        "id": "Cq1dUbt8Wg5O",
        "outputId": "be696046-bed4-4895-bf66-c3c742eac346"
      },
      "execution_count": null,
      "outputs": [
        {
          "output_type": "stream",
          "name": "stdout",
          "text": [
            "2\n"
          ]
        }
      ]
    },
    {
      "cell_type": "code",
      "source": [
        "c=8\n",
        "c*=4\n",
        "print(c)"
      ],
      "metadata": {
        "colab": {
          "base_uri": "https://localhost:8080/"
        },
        "id": "3wxG8SgoWmcy",
        "outputId": "adb587fe-da27-430a-c5b9-cbb05a6aed42"
      },
      "execution_count": null,
      "outputs": [
        {
          "output_type": "stream",
          "name": "stdout",
          "text": [
            "32\n"
          ]
        }
      ]
    },
    {
      "cell_type": "code",
      "source": [
        "d=9\n",
        "d/=3\n",
        "print(d)"
      ],
      "metadata": {
        "colab": {
          "base_uri": "https://localhost:8080/"
        },
        "id": "LSUx-slTWrsB",
        "outputId": "86e57dd1-dba8-4752-ddca-f115d768ae4f"
      },
      "execution_count": null,
      "outputs": [
        {
          "output_type": "stream",
          "name": "stdout",
          "text": [
            "3.0\n"
          ]
        }
      ]
    },
    {
      "cell_type": "code",
      "source": [
        "#Wap to calculater sq of a no entered by user\n",
        "a=4\n",
        "b=a*a\n",
        "print('sq of a is',b)"
      ],
      "metadata": {
        "colab": {
          "base_uri": "https://localhost:8080/"
        },
        "id": "JrpDkUY2WzF2",
        "outputId": "9d4f0536-497a-4b91-aa5a-580ef86f5781"
      },
      "execution_count": null,
      "outputs": [
        {
          "output_type": "stream",
          "name": "stdout",
          "text": [
            "sq of a is 16\n"
          ]
        }
      ]
    },
    {
      "cell_type": "code",
      "source": [
        "a=11\n",
        "b='john'\n",
        "print(a,b)\n",
        "type(a)"
      ],
      "metadata": {
        "id": "5BQ0jFfj-pY3",
        "colab": {
          "base_uri": "https://localhost:8080/"
        },
        "outputId": "cfb6e9e1-75e8-4910-caa4-53e907d9e15e"
      },
      "execution_count": 5,
      "outputs": [
        {
          "output_type": "stream",
          "name": "stdout",
          "text": [
            "11 john\n"
          ]
        },
        {
          "output_type": "execute_result",
          "data": {
            "text/plain": [
              "int"
            ]
          },
          "metadata": {},
          "execution_count": 5
        }
      ]
    },
    {
      "cell_type": "code",
      "source": [
        "type(b)"
      ],
      "metadata": {
        "colab": {
          "base_uri": "https://localhost:8080/"
        },
        "id": "CKWmAkV8jfuh",
        "outputId": "43fe62b0-3249-4017-a983-97072444a3fc"
      },
      "execution_count": 6,
      "outputs": [
        {
          "output_type": "execute_result",
          "data": {
            "text/plain": [
              "str"
            ]
          },
          "metadata": {},
          "execution_count": 6
        }
      ]
    },
    {
      "cell_type": "code",
      "source": [
        "x=\"john's\"\n",
        "print(x)"
      ],
      "metadata": {
        "colab": {
          "base_uri": "https://localhost:8080/"
        },
        "id": "mVvlITR9j13J",
        "outputId": "9d7353f8-3820-45d0-c017-4e13c752c742"
      },
      "execution_count": 7,
      "outputs": [
        {
          "output_type": "stream",
          "name": "stdout",
          "text": [
            "john's\n"
          ]
        }
      ]
    },
    {
      "cell_type": "code",
      "source": [
        "story=\"once upon a time there was a thristy crow who was not able to find water\"\n",
        "print(len(story))"
      ],
      "metadata": {
        "colab": {
          "base_uri": "https://localhost:8080/"
        },
        "id": "5zi_01AmFVlm",
        "outputId": "3bee28df-b136-4ce2-f2f9-640949b79e55"
      },
      "execution_count": 5,
      "outputs": [
        {
          "output_type": "stream",
          "name": "stdout",
          "text": [
            "72\n"
          ]
        }
      ]
    },
    {
      "cell_type": "code",
      "source": [
        "print(story.endswith('find'))"
      ],
      "metadata": {
        "colab": {
          "base_uri": "https://localhost:8080/"
        },
        "id": "y-nIk6z2F7Ba",
        "outputId": "481fbf50-830d-4e67-fc51-c420a90b3972"
      },
      "execution_count": 7,
      "outputs": [
        {
          "output_type": "stream",
          "name": "stdout",
          "text": [
            "False\n"
          ]
        }
      ]
    },
    {
      "cell_type": "code",
      "source": [
        "print(story.endswith('water'))"
      ],
      "metadata": {
        "colab": {
          "base_uri": "https://localhost:8080/"
        },
        "id": "m1ePs8ykGauV",
        "outputId": "07419ea0-b847-478f-cd39-75cf2dda409a"
      },
      "execution_count": 8,
      "outputs": [
        {
          "output_type": "stream",
          "name": "stdout",
          "text": [
            "True\n"
          ]
        }
      ]
    },
    {
      "cell_type": "code",
      "source": [
        "print(story.count('a'))"
      ],
      "metadata": {
        "colab": {
          "base_uri": "https://localhost:8080/"
        },
        "id": "Wef79wunGjPi",
        "outputId": "cffb3f62-f752-4087-dc4f-830136350051"
      },
      "execution_count": 9,
      "outputs": [
        {
          "output_type": "stream",
          "name": "stdout",
          "text": [
            "6\n"
          ]
        }
      ]
    },
    {
      "cell_type": "code",
      "source": [
        "print(story.capitalize())   #capitalize converts the first letter into capital"
      ],
      "metadata": {
        "colab": {
          "base_uri": "https://localhost:8080/"
        },
        "id": "p4lWKtqAMWSl",
        "outputId": "87ea38a2-5bc1-4aa1-97df-a10f093c4c84"
      },
      "execution_count": 12,
      "outputs": [
        {
          "output_type": "stream",
          "name": "stdout",
          "text": [
            "Once upon a time there was a thristy crow who was not able to find water\n"
          ]
        }
      ]
    },
    {
      "cell_type": "code",
      "source": [
        "print(story.find('crow'))"
      ],
      "metadata": {
        "colab": {
          "base_uri": "https://localhost:8080/"
        },
        "id": "cYtop7vJMhXT",
        "outputId": "c5a445ff-f654-4605-86ca-395e0cb9be74"
      },
      "execution_count": 14,
      "outputs": [
        {
          "output_type": "stream",
          "name": "stdout",
          "text": [
            "37\n"
          ]
        }
      ]
    },
    {
      "cell_type": "code",
      "source": [
        "print(story.replace('crow','cow'))"
      ],
      "metadata": {
        "colab": {
          "base_uri": "https://localhost:8080/"
        },
        "id": "gpfas9YgNY4S",
        "outputId": "10390061-0faa-42c9-99d3-234132d2513e"
      },
      "execution_count": 16,
      "outputs": [
        {
          "output_type": "stream",
          "name": "stdout",
          "text": [
            "once upon a time there was a thristy cow who was not able to find water\n"
          ]
        }
      ]
    },
    {
      "cell_type": "code",
      "source": [
        "#ESCAPE SEQUENCE AND CHARACTERS\n",
        "\\n - for new line\n",
        "\\t-  for giving a tab space\n"
      ],
      "metadata": {
        "id": "JSpF0RvRsudu"
      },
      "execution_count": 23,
      "outputs": []
    },
    {
      "cell_type": "code",
      "source": [
        "story='ajay is good.\\nHe is a\\t good boy'\n",
        "print(story)"
      ],
      "metadata": {
        "colab": {
          "base_uri": "https://localhost:8080/"
        },
        "id": "MFbzuiKLe6UQ",
        "outputId": "1a69e4b4-fcc5-4089-f23f-990100aa4395"
      },
      "execution_count": 22,
      "outputs": [
        {
          "output_type": "stream",
          "name": "stdout",
          "text": [
            "ajay is good.\n",
            "He is a\t good boy\n"
          ]
        }
      ]
    },
    {
      "cell_type": "code",
      "source": [
        "#Wap to display user entered name follwed by good afternoon using input func\n",
        "a=input('enter name\\n')\n",
        "print('Good afternoon, '+ a)"
      ],
      "metadata": {
        "colab": {
          "base_uri": "https://localhost:8080/"
        },
        "id": "LE0MWD9xwvxY",
        "outputId": "d2c1fe67-af91-4b68-ef4a-23395d603bae"
      },
      "execution_count": 26,
      "outputs": [
        {
          "output_type": "stream",
          "name": "stdout",
          "text": [
            "enter name\n",
            "rey\n",
            "Good afternoon, rey\n"
          ]
        }
      ]
    },
    {
      "cell_type": "code",
      "source": [
        "letter='''Dear <|Name|>\n",
        "You are selected!\n",
        "\n",
        "Date:<|Date|>\n",
        "'''\n",
        "name=input('enter your name\\n')\n",
        "date=input('enter Date\\n')\n",
        "letter=letter.replace('<|Name|>',name)\n",
        "letter=letter.replace('<|Date|>',date)\n",
        "print(letter)\n"
      ],
      "metadata": {
        "colab": {
          "base_uri": "https://localhost:8080/"
        },
        "id": "-UwlHKtKwwrs",
        "outputId": "497cdc42-14f6-4e42-ed47-eb11910334d7"
      },
      "execution_count": 29,
      "outputs": [
        {
          "output_type": "stream",
          "name": "stdout",
          "text": [
            "enter your name\n",
            "Joy\n",
            "enter Date\n",
            "3 dec\n",
            "Dear Joy\n",
            "You are selected!\n",
            "\n",
            "Date:3 dec\n",
            "\n"
          ]
        }
      ]
    },
    {
      "cell_type": "code",
      "source": [
        "#wap to detect double spaces in string\n",
        "st='This is a string  with double spaces'\n",
        "doublespace=st.find('  ')\n",
        "print(doublespace)"
      ],
      "metadata": {
        "colab": {
          "base_uri": "https://localhost:8080/"
        },
        "id": "Fwrxrq8L9KKq",
        "outputId": "bb10f069-900b-47b0-d04d-bad70525edc7"
      },
      "execution_count": 31,
      "outputs": [
        {
          "output_type": "stream",
          "name": "stdout",
          "text": [
            "16\n"
          ]
        }
      ]
    },
    {
      "cell_type": "code",
      "source": [
        "#wap to replace double spaces with single space in string\n",
        "st='This is a string  with double  spaces'\n",
        "st=st.replace('  ',' ')\n",
        "print(st)"
      ],
      "metadata": {
        "colab": {
          "base_uri": "https://localhost:8080/"
        },
        "id": "6tI87ycOMedj",
        "outputId": "59b3aaa9-8a11-49c8-aed7-45b707b03fde"
      },
      "execution_count": 40,
      "outputs": [
        {
          "output_type": "stream",
          "name": "stdout",
          "text": [
            "This is a string with double spaces\n"
          ]
        }
      ]
    },
    {
      "cell_type": "code",
      "source": [
        "#Wap to format following letter using escape sequence character\n",
        "letter=\"Dear Harry!This python course is nice.Thanks!\"\n",
        "letter1=\"Dear Harry!\\n\\tThis python course is nice.\\nThanks!\"\n",
        "print(letter1)\n"
      ],
      "metadata": {
        "colab": {
          "base_uri": "https://localhost:8080/"
        },
        "id": "G_e1ulokRPjc",
        "outputId": "f6b658a0-8494-4175-c504-ef61eec38d61"
      },
      "execution_count": 44,
      "outputs": [
        {
          "output_type": "stream",
          "name": "stdout",
          "text": [
            "Dear Harry!\n",
            "\tThis python course is nice.\n",
            "Thanks!\n"
          ]
        }
      ]
    },
    {
      "cell_type": "code",
      "source": [],
      "metadata": {
        "id": "SYPDcwYoTnau"
      },
      "execution_count": null,
      "outputs": []
    },
    {
      "cell_type": "code",
      "source": [],
      "metadata": {
        "id": "2Zi8TyUcJxqm"
      },
      "execution_count": null,
      "outputs": []
    }
  ]
}