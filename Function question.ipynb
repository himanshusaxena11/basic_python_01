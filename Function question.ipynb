{
 "cells": [
  {
   "cell_type": "code",
   "execution_count": 1,
   "id": "1961cd8a",
   "metadata": {},
   "outputs": [
    {
     "name": "stdout",
     "output_type": "stream",
     "text": [
      "enter num17\n",
      "enter num25\n",
      "enter num39\n",
      "z is max\n"
     ]
    }
   ],
   "source": [
    "#wap to find max no. from three numbers using function.\n",
    "def max():\n",
    "    x=int(input('enter num1'))\n",
    "    y=int(input('enter num2'))\n",
    "    z=int(input('enter num3'))\n",
    "    if x>y and x>z:\n",
    "        print('x is max')\n",
    "    elif y>x and y>z:\n",
    "        print('y is max')\n",
    "    elif z>x and z>y:\n",
    "        print('z is max')\n",
    "        \n",
    "max()"
   ]
  },
  {
   "cell_type": "code",
   "execution_count": 2,
   "id": "61774d26",
   "metadata": {},
   "outputs": [
    {
     "name": "stdout",
     "output_type": "stream",
     "text": [
      "enter num1-8\n",
      "enter num27\n",
      "enter num3-4\n",
      "x is min\n"
     ]
    }
   ],
   "source": [
    "#wap to find min no. from three numbers using function.\n",
    "def min():\n",
    "    x=int(input('enter num1'))\n",
    "    y=int(input('enter num2'))\n",
    "    z=int(input('enter num3'))\n",
    "    if x<y and x<z:\n",
    "        print('x is min')\n",
    "    elif y<x and y<z:\n",
    "        print('y is min')\n",
    "    elif z<x and z<y:\n",
    "        print('z is min')\n",
    "        \n",
    "min()"
   ]
  },
  {
   "cell_type": "code",
   "execution_count": 3,
   "id": "10bdcee9",
   "metadata": {},
   "outputs": [
    {
     "name": "stdout",
     "output_type": "stream",
     "text": [
      "21\n"
     ]
    }
   ],
   "source": [
    "#Wap to sum all number present in a list.\n",
    "def sum():\n",
    "    a=[3,9,-5,12,-8,13,-3]\n",
    "    b=0\n",
    "    for i in a:\n",
    "        b=b+i\n",
    "    print(b)\n",
    "        \n",
    "sum()"
   ]
  },
  {
   "cell_type": "code",
   "execution_count": 4,
   "id": "83e10087",
   "metadata": {},
   "outputs": [
    {
     "name": "stdout",
     "output_type": "stream",
     "text": [
      "enter somethingdevil\n",
      "lived\n"
     ]
    }
   ],
   "source": [
    "#wap to check a string is reversed or not?\n",
    "def rev():\n",
    "    a=input('enter something')\n",
    "    b=''\n",
    "    for i in a:\n",
    "        b=i+b\n",
    "    print(b)\n",
    "rev()"
   ]
  },
  {
   "cell_type": "code",
   "execution_count": 5,
   "id": "8b613d79",
   "metadata": {},
   "outputs": [
    {
     "name": "stdout",
     "output_type": "stream",
     "text": [
      "enter num7\n",
      "odd no 7\n"
     ]
    }
   ],
   "source": [
    "#Wap to find odd number using function.\n",
    "def odd():\n",
    "    a=int(input('enter num'))\n",
    "    if a%2!=0:\n",
    "        print('odd no',a)\n",
    "    else:\n",
    "        print('invalid no')\n",
    "odd()"
   ]
  },
  {
   "cell_type": "code",
   "execution_count": 6,
   "id": "cf4af750",
   "metadata": {},
   "outputs": [
    {
     "name": "stdout",
     "output_type": "stream",
     "text": [
      "enter num8\n",
      "even no 8\n"
     ]
    }
   ],
   "source": [
    "#wap to find even no. using function.\n",
    "def even():\n",
    "    a=int(input('enter num'))\n",
    "    if a%2==0:\n",
    "        print('even no',a)\n",
    "    else:\n",
    "        print('invalid no')\n",
    "        \n",
    "even()"
   ]
  },
  {
   "cell_type": "code",
   "execution_count": 7,
   "id": "0847530f",
   "metadata": {},
   "outputs": [
    {
     "name": "stdout",
     "output_type": "stream",
     "text": [
      "pal\n"
     ]
    }
   ],
   "source": [
    "# Write a function to check a string is palindrome or not?\n",
    "def palin():\n",
    "    a='nitin'\n",
    "    b=''\n",
    "    for i in a:\n",
    "        b=i+b\n",
    "    if a==b:\n",
    "        print('pal')\n",
    "    else:\n",
    "        print('np')\n",
    "palin()"
   ]
  },
  {
   "cell_type": "code",
   "execution_count": 8,
   "id": "b7ef64e8",
   "metadata": {},
   "outputs": [
    {
     "name": "stdout",
     "output_type": "stream",
     "text": [
      "sum is  55\n"
     ]
    }
   ],
   "source": [
    "#Wap to sum the first 10 natural numbers using function?\n",
    "def add():\n",
    "    num=11\n",
    "    x=1\n",
    "    sum=0\n",
    "    while x<num:\n",
    "        sum=sum+x\n",
    "        x+=1\n",
    "    print('sum is ',sum)\n",
    "    \n",
    "add()"
   ]
  },
  {
   "cell_type": "code",
   "execution_count": 9,
   "id": "ab58c130",
   "metadata": {},
   "outputs": [
    {
     "name": "stdout",
     "output_type": "stream",
     "text": [
      "enter marks of A67\n",
      "enter marks of B85\n",
      "enter marks of C72\n",
      "enter marks of D66\n",
      "enter marks of E93\n",
      "per of a is 67.0\n",
      "per of b is 85.0\n",
      "per of c is 72.0\n",
      "per of d is 66.0\n",
      "per of e is 93.0\n"
     ]
    }
   ],
   "source": [
    "# Wap to calculate the percentage of 5 students??\n",
    "def perc():\n",
    "    a=int(input('enter marks of A'))\n",
    "    b=int(input('enter marks of B'))\n",
    "    c=int(input('enter marks of C'))\n",
    "    d=int(input('enter marks of D'))\n",
    "    e=int(input('enter marks of E'))\n",
    "# per_of_a=(a/100)*100\n",
    "# per_of_b=(b/100)*100\n",
    "# per_of_c=(c/100)*100\n",
    "# per_of_d=(d/100)*100\n",
    "# per_of_e=(e/100)*100\n",
    "    print('per of a is',(a/100)*100)\n",
    "    print('per of b is',(b/100)*100)\n",
    "    print('per of c is',(c/100)*100)\n",
    "    print('per of d is',(d/100)*100)\n",
    "    print('per of e is',(e/100)*100)\n",
    "    \n",
    "perc()"
   ]
  },
  {
   "cell_type": "code",
   "execution_count": 10,
   "id": "c756ba82",
   "metadata": {},
   "outputs": [
    {
     "name": "stdout",
     "output_type": "stream",
     "text": [
      "area is  1256.0\n",
      "perimeter is  125.60000000000001\n"
     ]
    }
   ],
   "source": [
    "# Wap to find the area and circumference of circle and also try to find if this circle is going to be square or not?\n",
    "radius=20\n",
    "area=(3.14*20*20)\n",
    "print('area is ',area)\n",
    "circumference=2*3.14*20\n",
    "print('perimeter is ',circumference)\n"
   ]
  },
  {
   "cell_type": "markdown",
   "id": "20b60395",
   "metadata": {},
   "source": [
    "# Function basic question"
   ]
  },
  {
   "cell_type": "code",
   "execution_count": 11,
   "id": "ac84ad32",
   "metadata": {},
   "outputs": [
    {
     "name": "stdout",
     "output_type": "stream",
     "text": [
      "hello python\n"
     ]
    }
   ],
   "source": [
    "def h():\n",
    "    print('hello python')\n",
    "    \n",
    "h()"
   ]
  },
  {
   "cell_type": "code",
   "execution_count": 12,
   "id": "0730a6d8",
   "metadata": {},
   "outputs": [
    {
     "name": "stdout",
     "output_type": "stream",
     "text": [
      "hema's book\n"
     ]
    }
   ],
   "source": [
    "def hema():\n",
    "     print(\"hema's book\")\n",
    "hema()"
   ]
  },
  {
   "cell_type": "code",
   "execution_count": 13,
   "id": "379c2381",
   "metadata": {},
   "outputs": [],
   "source": [
    "def we():\n",
    "    print('''today is\n",
    "             very nice\n",
    "             weather''')"
   ]
  },
  {
   "cell_type": "code",
   "execution_count": 14,
   "id": "ad9fbd4b",
   "metadata": {},
   "outputs": [
    {
     "name": "stdout",
     "output_type": "stream",
     "text": [
      "today is\n",
      "             very nice\n",
      "             weather\n"
     ]
    }
   ],
   "source": [
    "we()"
   ]
  },
  {
   "cell_type": "code",
   "execution_count": 15,
   "id": "387fbc19",
   "metadata": {},
   "outputs": [
    {
     "name": "stdout",
     "output_type": "stream",
     "text": [
      "enter no9\n",
      "odd\n"
     ]
    }
   ],
   "source": [
    "#even and odd program\n",
    "def num():\n",
    "    a=int(input('enter no'))\n",
    "    if a%2==0:\n",
    "        print('even')\n",
    "    else:\n",
    "        print('odd')\n",
    "        \n",
    "num()"
   ]
  },
  {
   "cell_type": "code",
   "execution_count": 16,
   "id": "1b6d1456",
   "metadata": {},
   "outputs": [
    {
     "name": "stdout",
     "output_type": "stream",
     "text": [
      "enter age12\n",
      "child\n"
     ]
    }
   ],
   "source": [
    "#wap to find individual is child ,teenager or adult?\n",
    "def age():\n",
    "    x=int(input('enter age'))\n",
    "    if x<18:\n",
    "        print('child')\n",
    "    elif x==18:\n",
    "        print('teen')\n",
    "    else:\n",
    "        print('adult')\n",
    "        \n",
    "age()"
   ]
  },
  {
   "cell_type": "code",
   "execution_count": 17,
   "id": "d2f8da7c",
   "metadata": {},
   "outputs": [
    {
     "name": "stdout",
     "output_type": "stream",
     "text": [
      "18\n"
     ]
    }
   ],
   "source": [
    "#wap to add all no in list\n",
    "def add():\n",
    "    a=[2,7,3,9,5,-8]\n",
    "    b=0\n",
    "    for i in a:\n",
    "        b=b+i\n",
    "    print(b)\n",
    "    \n",
    "add()"
   ]
  },
  {
   "cell_type": "code",
   "execution_count": 18,
   "id": "2be3d012",
   "metadata": {},
   "outputs": [
    {
     "name": "stdout",
     "output_type": "stream",
     "text": [
      "-15120\n"
     ]
    }
   ],
   "source": [
    "#wap to multiply all num in list\n",
    "def mult():\n",
    "    a=[2,7,3,9,5,-8]\n",
    "    b=1\n",
    "    for i in a:\n",
    "        b=i*b\n",
    "    print(b)\n",
    "    \n",
    "mult()"
   ]
  },
  {
   "cell_type": "code",
   "execution_count": 19,
   "id": "4068a110",
   "metadata": {},
   "outputs": [
    {
     "name": "stdout",
     "output_type": "stream",
     "text": [
      "enter_sal16000\n",
      "enter_year_of_service4\n",
      "no bonus\n"
     ]
    }
   ],
   "source": [
    "#A company decided to give bonus of 5% to employee if his/her year of service is more than 5 years.Ask user for their salary \n",
    "#and year of service and print the net salary.\n",
    "def salary():\n",
    "    sal=int(input('enter_sal'))\n",
    "    service=int(input('enter_year_of_service'))\n",
    "    if service>5:\n",
    "        bonus=sal*5/100\n",
    "        net_sal=sal+bonus\n",
    "        print('bonus is ',bonus)\n",
    "        print('net_sal is',net_sal)\n",
    "    else:\n",
    "        print('no bonus')\n",
    "        \n",
    "salary()"
   ]
  },
  {
   "cell_type": "code",
   "execution_count": 20,
   "id": "8345ca15",
   "metadata": {},
   "outputs": [
    {
     "name": "stdout",
     "output_type": "stream",
     "text": [
      "enter length11\n",
      "enter breadth7\n",
      "not square\n"
     ]
    }
   ],
   "source": [
    "#Take values of length and breadth of a rectangle from user and check if it is square or not.\n",
    "def check():\n",
    "    l=int(input('enter length'))\n",
    "    b=int(input('enter breadth'))\n",
    "    if l==b:\n",
    "        print(\"it's square\")\n",
    "    else:\n",
    "        print('not square')\n",
    "        \n",
    "check()"
   ]
  },
  {
   "cell_type": "code",
   "execution_count": 21,
   "id": "5374ecb8",
   "metadata": {},
   "outputs": [
    {
     "name": "stdout",
     "output_type": "stream",
     "text": [
      "enter value18\n",
      "enter value2-3\n",
      "enter value31\n",
      "A is greatest\n"
     ]
    }
   ],
   "source": [
    "#Take 3 int values from user and print greatest among them\n",
    "def max():\n",
    "    a=int(input('enter value1'))\n",
    "    b=int(input('enter value2'))\n",
    "    c=int(input('enter value3'))\n",
    "    if a>b and a>c:\n",
    "        print('A is greatest')\n",
    "    elif b>a and b>c:\n",
    "        print('B is greatest')\n",
    "    elif c>a and c>b:\n",
    "        print('C is greatest')\n",
    "        \n",
    "max()"
   ]
  },
  {
   "cell_type": "code",
   "execution_count": 22,
   "id": "9b8a3bf3",
   "metadata": {},
   "outputs": [
    {
     "name": "stdout",
     "output_type": "stream",
     "text": [
      "1\n",
      "2\n",
      "3\n",
      "4\n",
      "5\n",
      "6\n",
      "7\n",
      "8\n",
      "9\n",
      "10\n"
     ]
    }
   ],
   "source": [
    "#wap to print nos from 1 to 10\n",
    "def no():\n",
    "    for i in range(1,11):\n",
    "        print(i)\n",
    "        \n",
    "no()"
   ]
  },
  {
   "cell_type": "code",
   "execution_count": 23,
   "id": "e41ab883",
   "metadata": {},
   "outputs": [
    {
     "name": "stdout",
     "output_type": "stream",
     "text": [
      "1\n",
      "2\n",
      "3\n",
      "4\n",
      "5\n",
      "6\n",
      "7\n",
      "8\n",
      "9\n",
      "10\n"
     ]
    }
   ],
   "source": [
    "#wap to print nos from 1 to 10\n",
    "def numb():\n",
    "    x=1\n",
    "    while x<11:\n",
    "        print(x)\n",
    "        x+=1\n",
    "        \n",
    "numb()"
   ]
  },
  {
   "cell_type": "code",
   "execution_count": 24,
   "id": "e8286cbd",
   "metadata": {},
   "outputs": [
    {
     "name": "stdout",
     "output_type": "stream",
     "text": [
      "-1\n",
      "-6\n",
      "-11\n",
      "-16\n",
      "-21\n",
      "-26\n"
     ]
    }
   ],
   "source": [
    "#wap to print nos from -1 to -30 alternatively\n",
    "def no():\n",
    "    for i in range(-1,-31,-5):\n",
    "        print(i)\n",
    "        \n",
    "no()"
   ]
  },
  {
   "cell_type": "code",
   "execution_count": 25,
   "id": "a9a2cd50",
   "metadata": {},
   "outputs": [
    {
     "name": "stdout",
     "output_type": "stream",
     "text": [
      "even num 10\n",
      "even num 12\n",
      "even num 14\n",
      "even num 16\n",
      "even num 18\n",
      "even num 20\n",
      "even num 22\n",
      "even num 24\n",
      "even num 26\n",
      "even num 28\n",
      "even num 30\n",
      "even num 32\n",
      "even num 34\n",
      "even num 36\n",
      "even num 38\n",
      "even num 40\n",
      "count 16\n"
     ]
    }
   ],
   "source": [
    "#wap to print even no from 10 to 40 and count the no\n",
    "def even():\n",
    "    count=0\n",
    "    for i in range(10,41):\n",
    "        if i%2==0:\n",
    "            count+=1\n",
    "            print('even num',i)\n",
    "    print('count',count)\n",
    "    \n",
    "even()"
   ]
  },
  {
   "cell_type": "code",
   "execution_count": 26,
   "id": "fcee21a6",
   "metadata": {},
   "outputs": [
    {
     "name": "stdout",
     "output_type": "stream",
     "text": [
      "even num 20\n",
      "even num 22\n",
      "even num 24\n",
      "even num 26\n",
      "even num 28\n",
      "even num 30\n",
      "even num 32\n",
      "even num 34\n",
      "even num 36\n",
      "even num 38\n",
      "even num 40\n",
      "count 11\n"
     ]
    }
   ],
   "source": [
    "#wap to print odd no from 20 to 40 and count the no\n",
    "def odd():\n",
    "    count=0\n",
    "    for i in range(20,41):\n",
    "        if i%2==0:\n",
    "            count+=1\n",
    "            print('even num',i)\n",
    "    print('count',count)\n",
    "        \n",
    "odd()"
   ]
  },
  {
   "cell_type": "code",
   "execution_count": 27,
   "id": "545ea268",
   "metadata": {},
   "outputs": [
    {
     "name": "stdout",
     "output_type": "stream",
     "text": [
      "dlrow olleh\n"
     ]
    }
   ],
   "source": [
    "#wap to check string is reversed or not\n",
    "def rev():\n",
    "    a='hello world'\n",
    "    b=''\n",
    "    for i in a:\n",
    "        b=i+b\n",
    "    print(b)\n",
    "    \n",
    "rev()"
   ]
  },
  {
   "cell_type": "code",
   "execution_count": 28,
   "id": "b0d7bbd9",
   "metadata": {},
   "outputs": [
    {
     "name": "stdout",
     "output_type": "stream",
     "text": [
      "non prime 10\n",
      "prime 11\n",
      "non prime 12\n",
      "prime 13\n",
      "non prime 14\n",
      "non prime 15\n",
      "non prime 16\n",
      "prime 17\n",
      "non prime 18\n",
      "prime 19\n",
      "non prime 20\n",
      "non prime 21\n",
      "non prime 22\n",
      "prime 23\n",
      "non prime 24\n",
      "non prime 25\n",
      "non prime 26\n",
      "non prime 27\n",
      "non prime 28\n",
      "prime 29\n",
      "non prime 30\n"
     ]
    }
   ],
   "source": [
    "#wap to print all prime no from 10 to 30\n",
    "def prime():\n",
    "    lower=10\n",
    "    upper=30\n",
    "    for i in range(lower,upper+1):\n",
    "        if i>1:\n",
    "            for j in range(2,i):\n",
    "                if i%j==0:\n",
    "                    print('non prime',i)\n",
    "                    break\n",
    "            else:\n",
    "                 print('prime',i)\n",
    "                    \n",
    "prime()"
   ]
  },
  {
   "cell_type": "code",
   "execution_count": 29,
   "id": "00c16fc3",
   "metadata": {},
   "outputs": [
    {
     "name": "stdout",
     "output_type": "stream",
     "text": [
      "enter num11\n",
      "prime\n"
     ]
    }
   ],
   "source": [
    "#wap to check if a num is prime or not\n",
    "def prime_num():\n",
    "    x=int(input('enter num'))\n",
    "    if x>1:\n",
    "        for i in range(2,x):\n",
    "            if x%i==0:\n",
    "                print('non prime')\n",
    "                break\n",
    "        else:\n",
    "            print('prime')\n",
    "    else:\n",
    "        print('invalid')\n",
    "        \n",
    "prime_num()"
   ]
  },
  {
   "cell_type": "code",
   "execution_count": 32,
   "id": "92e911b7",
   "metadata": {},
   "outputs": [
    {
     "name": "stdout",
     "output_type": "stream",
     "text": [
      "lcm is  48\n"
     ]
    }
   ],
   "source": [
    "#wap to find lcm of 2 nos\n",
    "def lcm():\n",
    "    x=12\n",
    "    y=16\n",
    "\n",
    "    if x>y:\n",
    "        greater=x\n",
    "    else:\n",
    "        greater=y\n",
    "    while True:\n",
    "        if greater%x == 0 and greater%y == 0:\n",
    "            lcm=greater\n",
    "            print('lcm is ',lcm)\n",
    "            break\n",
    "        greater+=1\n",
    "        \n",
    "lcm()"
   ]
  },
  {
   "cell_type": "code",
   "execution_count": 35,
   "id": "b1677442",
   "metadata": {},
   "outputs": [
    {
     "name": "stdout",
     "output_type": "stream",
     "text": [
      "reverse is 392\n"
     ]
    }
   ],
   "source": [
    "#wap to find reverse of a num\n",
    "def rever():\n",
    "    x=293\n",
    "    rev=0\n",
    "    while x!=0:\n",
    "        value = x%10\n",
    "        rev=rev*10+value\n",
    "        x=x//10\n",
    "    print('reverse is',rev)\n",
    "    \n",
    "rever()"
   ]
  },
  {
   "cell_type": "code",
   "execution_count": 36,
   "id": "3d52540f",
   "metadata": {},
   "outputs": [
    {
     "name": "stdout",
     "output_type": "stream",
     "text": [
      "enter no120\n",
      "sum is  7260\n"
     ]
    }
   ],
   "source": [
    "#How to print sum of the numbers starting from 1 upto user input\n",
    "def add():\n",
    "    num=int(input('enter no'))\n",
    "    x=1\n",
    "    sum=0\n",
    "    while x<=num:\n",
    "        sum=sum+x\n",
    "        x+=1\n",
    "    print('sum is ',sum)\n",
    "    \n",
    "add()"
   ]
  },
  {
   "cell_type": "code",
   "execution_count": 37,
   "id": "9559763c",
   "metadata": {},
   "outputs": [
    {
     "name": "stdout",
     "output_type": "stream",
     "text": [
      "3.4\n"
     ]
    }
   ],
   "source": [
    "#write a program to find the average of numbers in a list in Python?\n",
    "def avg():\n",
    "    a=[3,4,1,7,2]\n",
    "    b=0\n",
    "    for i in a:\n",
    "        b=b+i/5\n",
    "    print(b)\n",
    "avg()"
   ]
  },
  {
   "cell_type": "code",
   "execution_count": 38,
   "id": "565e3020",
   "metadata": {},
   "outputs": [
    {
     "name": "stdout",
     "output_type": "stream",
     "text": [
      "2 4\n"
     ]
    }
   ],
   "source": [
    "#WAP to Swap 2 numbers without using 3rd variable in python.\n",
    "def swap():\n",
    "    a=4\n",
    "    b=2\n",
    "    a,b=b,a\n",
    "    print(a,b)\n",
    "swap()"
   ]
  },
  {
   "cell_type": "code",
   "execution_count": 39,
   "id": "bc74ece0",
   "metadata": {},
   "outputs": [
    {
     "name": "stdout",
     "output_type": "stream",
     "text": [
      "5 4\n"
     ]
    }
   ],
   "source": [
    "#WAP to Swap 2 numbers using 3rd variable in python.\n",
    "def swap():\n",
    "    a=4\n",
    "    b=5\n",
    "    c=b \n",
    "    b=a\n",
    "    a=c\n",
    "    print(a,b)\n",
    "    \n",
    "swap()"
   ]
  },
  {
   "cell_type": "code",
   "execution_count": 41,
   "id": "448bf2c3",
   "metadata": {},
   "outputs": [
    {
     "name": "stdout",
     "output_type": "stream",
     "text": [
      "sum is 22\n"
     ]
    }
   ],
   "source": [
    "# Write a program to find the sum of the digits of a number in Python?\n",
    "def add():\n",
    "    x=3829\n",
    "    sum=0\n",
    "    while x!=0:\n",
    "        value=x%10\n",
    "        sum=sum+value\n",
    "        x=x//10\n",
    "    print('sum is',sum)\n",
    "    \n",
    "add()"
   ]
  },
  {
   "cell_type": "code",
   "execution_count": 42,
   "id": "bf0d888e",
   "metadata": {},
   "outputs": [
    {
     "name": "stdout",
     "output_type": "stream",
     "text": [
      "si is 60.0\n",
      "net_amount is 1060.0\n"
     ]
    }
   ],
   "source": [
    "#WAP for simple interest in python\n",
    "def simp():\n",
    "    p=1000\n",
    "    r=3\n",
    "    t=2\n",
    "    si=(p*r*t)/100\n",
    "    net_amount=p+si\n",
    "    print('si is',si)\n",
    "    print('net_amount is' ,net_amount)\n",
    "    \n",
    "simp()"
   ]
  },
  {
   "cell_type": "code",
   "execution_count": 43,
   "id": "eb85918f",
   "metadata": {},
   "outputs": [
    {
     "name": "stdout",
     "output_type": "stream",
     "text": [
      "ci is 4866.6116096000005\n",
      "amount is 8866.6116096\n"
     ]
    }
   ],
   "source": [
    "#WAP for compound interest in python\n",
    "def compound():\n",
    "    p=4000\n",
    "    r=4\n",
    "    t=5\n",
    "    ci=p*(pow(1+(r/100),t))\n",
    "    amount = p+ci\n",
    "    print('ci is',ci)\n",
    "    print('amount is',amount)\n",
    "compound()"
   ]
  },
  {
   "cell_type": "code",
   "execution_count": null,
   "id": "ed8cee2a",
   "metadata": {},
   "outputs": [],
   "source": []
  }
 ],
 "metadata": {
  "kernelspec": {
   "display_name": "Python 3 (ipykernel)",
   "language": "python",
   "name": "python3"
  },
  "language_info": {
   "codemirror_mode": {
    "name": "ipython",
    "version": 3
   },
   "file_extension": ".py",
   "mimetype": "text/x-python",
   "name": "python",
   "nbconvert_exporter": "python",
   "pygments_lexer": "ipython3",
   "version": "3.9.12"
  }
 },
 "nbformat": 4,
 "nbformat_minor": 5
}
