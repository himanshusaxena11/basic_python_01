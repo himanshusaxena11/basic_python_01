{
  "nbformat": 4,
  "nbformat_minor": 0,
  "metadata": {
    "colab": {
      "provenance": []
    },
    "kernelspec": {
      "name": "python3",
      "display_name": "Python 3"
    },
    "language_info": {
      "name": "python"
    }
  },
  "cells": [
    {
      "cell_type": "code",
      "execution_count": 18,
      "metadata": {
        "colab": {
          "base_uri": "https://localhost:8080/"
        },
        "id": "Z8bboEB_9aSP",
        "outputId": "3c494919-bf63-4d6b-d97f-b97f62a74f02"
      },
      "outputs": [
        {
          "output_type": "stream",
          "name": "stdout",
          "text": [
            "prime 11\n",
            "non prime 12\n",
            "prime 13\n",
            "non prime 14\n",
            "non prime 15\n",
            "non prime 16\n",
            "prime 17\n",
            "non prime 18\n",
            "prime 19\n",
            "non prime 20\n",
            "non prime 21\n",
            "non prime 22\n",
            "prime 23\n",
            "non prime 24\n",
            "non prime 25\n",
            "non prime 26\n",
            "non prime 27\n",
            "non prime 28\n",
            "prime 29\n",
            "non prime 30\n",
            "prime 31\n",
            "non prime 32\n",
            "non prime 33\n",
            "non prime 34\n",
            "non prime 35\n",
            "non prime 36\n",
            "prime 37\n",
            "non prime 38\n",
            "non prime 39\n",
            "non prime 40\n"
          ]
        }
      ],
      "source": [
        "#Wap to print prime nos from 11 to 40\n",
        "lower=11\n",
        "upper=40\n",
        "for num in range(lower,upper+1):\n",
        "  if num>1:\n",
        "    for i in range(2,num):\n",
        "      if num%i==0:\n",
        "        print('non prime',num)\n",
        "        break\n",
        "    else:\n",
        "      print('prime',num)"
      ]
    },
    {
      "cell_type": "code",
      "source": [
        "#Reversing string using indexing\n",
        "x='hello world'\n",
        "x[::-1]"
      ],
      "metadata": {
        "colab": {
          "base_uri": "https://localhost:8080/",
          "height": 36
        },
        "id": "kr3oHQyYj3Sk",
        "outputId": "6528c7a0-847d-499e-fb79-584c9436f9f2"
      },
      "execution_count": 20,
      "outputs": [
        {
          "output_type": "execute_result",
          "data": {
            "text/plain": [
              "'dlrow olleh'"
            ],
            "application/vnd.google.colaboratory.intrinsic+json": {
              "type": "string"
            }
          },
          "metadata": {},
          "execution_count": 20
        }
      ]
    },
    {
      "cell_type": "code",
      "source": [
        "#sum of nos starting from 1 to 50\n",
        "i=1\n",
        "sum=0\n",
        "while i<=50:\n",
        "  sum=sum+i\n",
        "  i=i+1\n",
        "print('sum is',sum)"
      ],
      "metadata": {
        "colab": {
          "base_uri": "https://localhost:8080/"
        },
        "id": "sfNAiZXtmcgD",
        "outputId": "3c187fb8-6712-4f86-ef97-9ca23438f67e"
      },
      "execution_count": 2,
      "outputs": [
        {
          "output_type": "stream",
          "name": "stdout",
          "text": [
            "sum is 1275\n"
          ]
        }
      ]
    },
    {
      "cell_type": "code",
      "source": [
        "#Find avg of nos in list\n",
        "x=[3,6,1,4,2,8]\n",
        "sum=0\n",
        "for i in x:\n",
        "  sum=sum+i\n",
        "  avg=sum/5\n",
        "print('avg is',avg)"
      ],
      "metadata": {
        "colab": {
          "base_uri": "https://localhost:8080/"
        },
        "id": "WjmzNXnR_9rx",
        "outputId": "04d0bcf1-b035-4ec3-e258-8bd0bf994fd8"
      },
      "execution_count": 4,
      "outputs": [
        {
          "output_type": "stream",
          "name": "stdout",
          "text": [
            "avg is 4.8\n"
          ]
        }
      ]
    },
    {
      "cell_type": "code",
      "source": [
        "#profit and loss program\n",
        "sp=50\n",
        "cp=80\n",
        "if sp>cp:\n",
        "  profit=sp-cp\n",
        "  print('profit is',profit)\n",
        "elif sp<cp:\n",
        "  loss=cp-sp\n",
        "  print('loss is',loss)\n",
        "else:\n",
        "  print('no profit no loss')"
      ],
      "metadata": {
        "colab": {
          "base_uri": "https://localhost:8080/"
        },
        "id": "cHUVKcESA_KN",
        "outputId": "1c5591c5-195d-45f6-a3f0-d07256e69858"
      },
      "execution_count": 6,
      "outputs": [
        {
          "output_type": "stream",
          "name": "stdout",
          "text": [
            "loss is 30\n"
          ]
        }
      ]
    },
    {
      "cell_type": "code",
      "source": [
        "#Wap to add more than 1 data in list\n",
        "#METHOD 1\n",
        "x=[2,5,8,3,6,9]\n",
        "for i in range(4):\n",
        "  x.append(i)\n",
        "print(x)"
      ],
      "metadata": {
        "colab": {
          "base_uri": "https://localhost:8080/"
        },
        "id": "0DGdOjoABnWO",
        "outputId": "8d0a4569-4366-41d3-a415-c900b411816f"
      },
      "execution_count": 2,
      "outputs": [
        {
          "output_type": "stream",
          "name": "stdout",
          "text": [
            "[2, 5, 8, 3, 6, 9, 0, 1, 2, 3]\n"
          ]
        }
      ]
    },
    {
      "cell_type": "code",
      "source": [
        "#METHOD 2\n",
        "x=[2,5,8,3,6,9]\n",
        "x.extend([23,'hi',7+4j,6.2])\n",
        "x"
      ],
      "metadata": {
        "colab": {
          "base_uri": "https://localhost:8080/"
        },
        "id": "F2Fd4Pvk8htV",
        "outputId": "37c8594a-f85d-4a09-f06a-f28e3c33ea4a"
      },
      "execution_count": 2,
      "outputs": [
        {
          "output_type": "execute_result",
          "data": {
            "text/plain": [
              "[2, 5, 8, 3, 6, 9, 23, 'hi', (7+4j), 6.2]"
            ]
          },
          "metadata": {},
          "execution_count": 2
        }
      ]
    },
    {
      "cell_type": "code",
      "source": [
        "#METHOD 3\n",
        "a=[3,7,9,2.45,6+4j]\n",
        "b=[1.2,5+3j,-6]\n",
        "c=a+b\n",
        "c"
      ],
      "metadata": {
        "colab": {
          "base_uri": "https://localhost:8080/"
        },
        "id": "Kxb5u76Xy6zh",
        "outputId": "c73085e2-85c7-45df-d80e-1b5e299e93b3"
      },
      "execution_count": 3,
      "outputs": [
        {
          "output_type": "execute_result",
          "data": {
            "text/plain": [
              "[3, 7, 9, 2.45, (6+4j), 1.2, (5+3j), -6]"
            ]
          },
          "metadata": {},
          "execution_count": 3
        }
      ]
    },
    {
      "cell_type": "code",
      "source": [
        "#METHOD 4\n",
        "a=[3,7,9,2.45,6+4j]\n",
        "b=[1.2,5+3j,-6]\n",
        "for i in a:\n",
        "  b.append(i)\n",
        "print(b)"
      ],
      "metadata": {
        "colab": {
          "base_uri": "https://localhost:8080/"
        },
        "id": "8dT0YWtr1fjh",
        "outputId": "d125477f-120a-47bc-e63c-0270d15a10b4"
      },
      "execution_count": 8,
      "outputs": [
        {
          "output_type": "stream",
          "name": "stdout",
          "text": [
            "[1.2, (5+3j), -6, 3, 7, 9, 2.45, (6+4j)]\n"
          ]
        }
      ]
    },
    {
      "cell_type": "code",
      "source": [],
      "metadata": {
        "id": "Yw5GtEz51svV"
      },
      "execution_count": null,
      "outputs": []
    }
  ]
}