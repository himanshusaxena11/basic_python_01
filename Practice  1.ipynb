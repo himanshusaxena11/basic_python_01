{
 "cells": [
  {
   "cell_type": "code",
   "execution_count": 1,
   "id": "43b889a5",
   "metadata": {},
   "outputs": [
    {
     "name": "stdout",
     "output_type": "stream",
     "text": [
      "4\n"
     ]
    }
   ],
   "source": [
    "# Program to add 2 nos\n",
    "x=3\n",
    "y=1\n",
    "z=x+y\n",
    "print(z)"
   ]
  },
  {
   "cell_type": "code",
   "execution_count": 2,
   "id": "ddbb86a0",
   "metadata": {},
   "outputs": [
    {
     "name": "stdout",
     "output_type": "stream",
     "text": [
      "9\n"
     ]
    }
   ],
   "source": [
    "#Max of 2 nos\n",
    "a=5\n",
    "b=9\n",
    "if a>b:\n",
    "    print('max is',a)\n",
    "else:\n",
    "    print(b)"
   ]
  },
  {
   "cell_type": "code",
   "execution_count": 4,
   "id": "f5e81b20",
   "metadata": {},
   "outputs": [
    {
     "name": "stdout",
     "output_type": "stream",
     "text": [
      "factorial is 120\n"
     ]
    }
   ],
   "source": [
    "#Factorial program\n",
    "x=5\n",
    "fact=1\n",
    "while x>0:\n",
    "    fact=fact*x\n",
    "    x=x-1\n",
    "print('factorial is',fact)"
   ]
  },
  {
   "cell_type": "code",
   "execution_count": 7,
   "id": "59bb2c28",
   "metadata": {},
   "outputs": [
    {
     "data": {
      "text/plain": [
       "[(4+8j), 5, 6, 9, 2, 1, True, 2]"
      ]
     },
     "execution_count": 7,
     "metadata": {},
     "output_type": "execute_result"
    }
   ],
   "source": [
    "# Interchange 1st and last element of list\n",
    "x=[2,5,6,9,2,1,True,4+8j]\n",
    "x[0],x[-1]=x[-1],x[0]\n",
    "x"
   ]
  },
  {
   "cell_type": "code",
   "execution_count": 8,
   "id": "ccbe806f",
   "metadata": {},
   "outputs": [
    {
     "data": {
      "text/plain": [
       "[(4+8j), 5, 6, 9, 2, 1, True, 2]"
      ]
     },
     "execution_count": 8,
     "metadata": {},
     "output_type": "execute_result"
    }
   ],
   "source": [
    "# Interchange 1st and last element of list\n",
    "x=[2,5,6,9,2,1,True,4+8j]\n",
    "x[0],x[7]=x[7],x[0]\n",
    "x"
   ]
  },
  {
   "cell_type": "code",
   "execution_count": 10,
   "id": "bb733854",
   "metadata": {},
   "outputs": [
    {
     "data": {
      "text/plain": [
       "[5, 2, 9, 6, 1, True, (4+8j)]"
      ]
     },
     "execution_count": 10,
     "metadata": {},
     "output_type": "execute_result"
    }
   ],
   "source": [
    "# Swap 2 elements of list\n",
    "y=[5,6,9,2,1,True,4+8j]\n",
    "z=y[1]\n",
    "y[1]=y[3]\n",
    "y[3]=z\n",
    "y"
   ]
  },
  {
   "cell_type": "code",
   "execution_count": 23,
   "id": "bc374e24",
   "metadata": {},
   "outputs": [
    {
     "name": "stdout",
     "output_type": "stream",
     "text": [
      "hellworld\n"
     ]
    }
   ],
   "source": [
    "# Remove i(4) character from string\n",
    "t='helloworld'\n",
    "a=t[:4]\n",
    "b=t[5:]\n",
    "c=a+b\n",
    "print(c)"
   ]
  },
  {
   "cell_type": "code",
   "execution_count": 25,
   "id": "186f9f32",
   "metadata": {},
   "outputs": [
    {
     "name": "stdout",
     "output_type": "stream",
     "text": [
      "yes\n"
     ]
    }
   ],
   "source": [
    "#Check if substring is present in given string or not\n",
    "z='how are you feeling'\n",
    "if 'are' in z:\n",
    "    print('yes')\n",
    "else:\n",
    "    print('No')"
   ]
  },
  {
   "cell_type": "code",
   "execution_count": 36,
   "id": "a2924e35",
   "metadata": {},
   "outputs": [],
   "source": [
    "# Sum all items in dictionary\n",
    "x={'a':1,\n",
    "  'b':5,\n",
    "  'c':8}"
   ]
  },
  {
   "cell_type": "code",
   "execution_count": 41,
   "id": "80b79eb1",
   "metadata": {},
   "outputs": [
    {
     "name": "stdout",
     "output_type": "stream",
     "text": [
      "sum of items is 14\n"
     ]
    }
   ],
   "source": [
    "l=[]\n",
    "for i in x:\n",
    "    l.append(x[i])\n",
    "    sum=0\n",
    "    for j in l:\n",
    "        sum=sum+j\n",
    "print('sum of items is',sum)"
   ]
  },
  {
   "cell_type": "code",
   "execution_count": 44,
   "id": "cc50f13c",
   "metadata": {},
   "outputs": [
    {
     "data": {
      "text/plain": [
       "6"
      ]
     },
     "execution_count": 44,
     "metadata": {},
     "output_type": "execute_result"
    }
   ],
   "source": [
    "# Find size of tuple\n",
    "k=('hi',4,2,7,8,-1)\n",
    "len(k)"
   ]
  },
  {
   "cell_type": "code",
   "execution_count": 48,
   "id": "a6dc1346",
   "metadata": {},
   "outputs": [
    {
     "name": "stdout",
     "output_type": "stream",
     "text": [
      "max is 7\n",
      "min is -2\n"
     ]
    }
   ],
   "source": [
    "# Max and min K elements in tuple\n",
    "a=(4,2,1,-2,7,5)\n",
    "b=list(a)\n",
    "max=b[0]\n",
    "min=b[0]\n",
    "for i in b:\n",
    "    if  i>max:\n",
    "        max=i\n",
    "        print('max is',max)\n",
    "        for i in b:\n",
    "            if i<min:\n",
    "                min=i\n",
    "        print('min is',min)\n",
    "\n",
    "        "
   ]
  },
  {
   "cell_type": "code",
   "execution_count": 61,
   "id": "21f2878a",
   "metadata": {},
   "outputs": [
    {
     "name": "stdout",
     "output_type": "stream",
     "text": [
      "8\n",
      "[(2, 8)]\n",
      "27\n",
      "[(2, 8), (3, 27)]\n",
      "64\n",
      "[(2, 8), (3, 27), (4, 64)]\n",
      "125\n",
      "[(2, 8), (3, 27), (4, 64), (5, 125)]\n"
     ]
    }
   ],
   "source": [
    "# Program to create a list of tuples from given list having number and its cube in each tuple\n",
    "x=[2,3,4,5]\n",
    "g=[]\n",
    "for i in x:\n",
    "    y=i*i*i\n",
    "    print(y)\n",
    "    g.append((i,y))\n",
    "    print(g)\n",
    "    "
   ]
  },
  {
   "cell_type": "code",
   "execution_count": 63,
   "id": "2f8d0945",
   "metadata": {},
   "outputs": [
    {
     "name": "stdout",
     "output_type": "stream",
     "text": [
      "(1, 2, 3, 4, 5)\n"
     ]
    }
   ],
   "source": [
    "# Add tuple to list and vice versa\n",
    "b=(1,2,3)\n",
    "a=[4,5]\n",
    "c=b+tuple(a)\n",
    "print(c)"
   ]
  },
  {
   "cell_type": "code",
   "execution_count": null,
   "id": "7e6c09eb",
   "metadata": {},
   "outputs": [],
   "source": []
  }
 ],
 "metadata": {
  "kernelspec": {
   "display_name": "Python 3 (ipykernel)",
   "language": "python",
   "name": "python3"
  },
  "language_info": {
   "codemirror_mode": {
    "name": "ipython",
    "version": 3
   },
   "file_extension": ".py",
   "mimetype": "text/x-python",
   "name": "python",
   "nbconvert_exporter": "python",
   "pygments_lexer": "ipython3",
   "version": "3.11.5"
  }
 },
 "nbformat": 4,
 "nbformat_minor": 5
}
