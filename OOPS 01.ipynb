{
 "cells": [
  {
   "cell_type": "code",
   "execution_count": 1,
   "id": "e21d75f8",
   "metadata": {},
   "outputs": [
    {
     "data": {
      "text/plain": [
       "1400"
      ]
     },
     "execution_count": 1,
     "metadata": {},
     "output_type": "execute_result"
    }
   ],
   "source": [
    "#class\n",
    "class car:\n",
    "    price=1400\n",
    " \n",
    "#object\n",
    "c=car()                          #usually this method is prefered\n",
    "c.price"
   ]
  },
  {
   "cell_type": "code",
   "execution_count": 2,
   "id": "9ffc73b4",
   "metadata": {},
   "outputs": [
    {
     "data": {
      "text/plain": [
       "100"
      ]
     },
     "execution_count": 2,
     "metadata": {},
     "output_type": "execute_result"
    }
   ],
   "source": [
    "class bike:\n",
    "    price =100\n",
    "    \n",
    "bike().price"
   ]
  },
  {
   "cell_type": "code",
   "execution_count": 3,
   "id": "ed8229dc",
   "metadata": {},
   "outputs": [
    {
     "data": {
      "text/plain": [
       "'G'"
      ]
     },
     "execution_count": 3,
     "metadata": {},
     "output_type": "execute_result"
    }
   ],
   "source": [
    "# make class of object having name and marks and make an object to get the o/p\n",
    "class student:\n",
    "    name='G'\n",
    "    marks=56\n",
    "    \n",
    "s=student()\n",
    "s.name"
   ]
  },
  {
   "cell_type": "code",
   "execution_count": 4,
   "id": "b59888a4",
   "metadata": {},
   "outputs": [
    {
     "data": {
      "text/plain": [
       "56"
      ]
     },
     "execution_count": 4,
     "metadata": {},
     "output_type": "execute_result"
    }
   ],
   "source": [
    "s.marks"
   ]
  },
  {
   "cell_type": "code",
   "execution_count": 5,
   "id": "d350863d",
   "metadata": {},
   "outputs": [
    {
     "data": {
      "text/plain": [
       "('G', 56)"
      ]
     },
     "execution_count": 5,
     "metadata": {},
     "output_type": "execute_result"
    }
   ],
   "source": [
    "s.name,s.marks"
   ]
  },
  {
   "cell_type": "code",
   "execution_count": 6,
   "id": "23aa8484",
   "metadata": {},
   "outputs": [
    {
     "name": "stdout",
     "output_type": "stream",
     "text": [
      "J 73\n"
     ]
    }
   ],
   "source": [
    "# make class of object having name and marks and make an object to get the o/p using function\n",
    "class student:\n",
    "    def info(self,name,marks):           #self bata rha he ki class ke andar func he or uske andar properties he \n",
    "        print(name,marks)                #jisko object me call kra rhe he\n",
    "              \n",
    "s=student()                                                #in properties ko OOPS me attributes kehte he\n",
    "s.info('J',73)                   #gives o/p in raw form"
   ]
  },
  {
   "cell_type": "code",
   "execution_count": 7,
   "id": "7ae0d243",
   "metadata": {},
   "outputs": [
    {
     "data": {
      "text/plain": [
       "('J', 73)"
      ]
     },
     "execution_count": 7,
     "metadata": {},
     "output_type": "execute_result"
    }
   ],
   "source": [
    "# make class of object having name and marks and make an object to get the o/p using function\n",
    "class student:\n",
    "    def info(self,name,marks):\n",
    "        return(name,marks)\n",
    "        \n",
    "s=student()\n",
    "s.info('J',73)                   #gives o/p in tuple form"
   ]
  },
  {
   "cell_type": "code",
   "execution_count": 8,
   "id": "33378ca0",
   "metadata": {},
   "outputs": [
    {
     "name": "stdout",
     "output_type": "stream",
     "text": [
      "L 43\n"
     ]
    }
   ],
   "source": [
    "# make class of object having name and marks and make an object to get the o/p using function\n",
    "class student:\n",
    "    def info(self,name,marks):\n",
    "        name='L'                     # pehle class ke andar jo properties define ker di he vo chalengi  \n",
    "        marks=43\n",
    "        print(name,marks)\n",
    "        \n",
    "s=student()\n",
    "s.info('J',73)"
   ]
  },
  {
   "cell_type": "code",
   "execution_count": 9,
   "id": "facc08c7",
   "metadata": {},
   "outputs": [
    {
     "name": "stdout",
     "output_type": "stream",
     "text": [
      "L 43\n"
     ]
    }
   ],
   "source": [
    "s.info('t',49)"
   ]
  },
  {
   "cell_type": "code",
   "execution_count": 10,
   "id": "90591945",
   "metadata": {},
   "outputs": [],
   "source": [
    "# Max no in list using function\n",
    "def maxm():\n",
    "    d=[3,-8,1,22,45,-41,11]\n",
    "    max=d[0]\n",
    "    for i in d:\n",
    "        if i>max:\n",
    "            max=i\n",
    "    print('max is',max)"
   ]
  },
  {
   "cell_type": "code",
   "execution_count": 11,
   "id": "427ae675",
   "metadata": {},
   "outputs": [
    {
     "name": "stdout",
     "output_type": "stream",
     "text": [
      "max is 45\n"
     ]
    }
   ],
   "source": [
    "maxm()"
   ]
  },
  {
   "cell_type": "code",
   "execution_count": 12,
   "id": "2a8154ca",
   "metadata": {},
   "outputs": [
    {
     "data": {
      "text/plain": [
       "('add is', 6, 'diff is', 2, 'prod is', 8, 'div is', 2.0)"
      ]
     },
     "execution_count": 12,
     "metadata": {},
     "output_type": "execute_result"
    }
   ],
   "source": [
    "#Wap to make a class of simplified arithmetic operator and try to get o/p of that class through object\n",
    "class arith():\n",
    "    def opr(self,x,y):\n",
    "        c=x+y\n",
    "        d=x-y\n",
    "        e=x*y\n",
    "        f=x/y\n",
    "        return('add is',c,'diff is',d,'prod is',e,'div is',f)\n",
    "    \n",
    "a=arith()\n",
    "a.opr(4,2)"
   ]
  },
  {
   "cell_type": "code",
   "execution_count": 13,
   "id": "99b8eff7",
   "metadata": {},
   "outputs": [
    {
     "data": {
      "text/plain": [
       "('add is', 15, 'diff is', -5, 'prod is', 50, 'div is', 0.5)"
      ]
     },
     "execution_count": 13,
     "metadata": {},
     "output_type": "execute_result"
    }
   ],
   "source": [
    "a.opr(5,10)"
   ]
  },
  {
   "cell_type": "code",
   "execution_count": 14,
   "id": "26a22875",
   "metadata": {},
   "outputs": [
    {
     "name": "stdout",
     "output_type": "stream",
     "text": [
      "enter no16\n",
      "enter no22\n"
     ]
    },
    {
     "data": {
      "text/plain": [
       "('add is', 8, 'diff is', 4, 'prod is', 12, 'div is', 3.0)"
      ]
     },
     "execution_count": 14,
     "metadata": {},
     "output_type": "execute_result"
    }
   ],
   "source": [
    "#Wap to make a class of simplified arithmetic operator and try to get o/p of that class through object (USER INPUT)\n",
    "class arith():\n",
    "    def opr(self,x=int(input('enter no1')),y=int(input('enter no2'))):\n",
    "            c=x+y\n",
    "            d=x-y\n",
    "            e=x*y\n",
    "            f=x/y\n",
    "            return('add is',c,'diff is',d,'prod is',e,'div is',f)\n",
    "    \n",
    "a=arith()\n",
    "a.opr()"
   ]
  },
  {
   "cell_type": "code",
   "execution_count": 15,
   "id": "8b99d541",
   "metadata": {},
   "outputs": [
    {
     "name": "stdout",
     "output_type": "stream",
     "text": [
      "enter no18\n",
      "enter no24\n"
     ]
    },
    {
     "data": {
      "text/plain": [
       "('add is', 12, 'diff is', 4, 'prod is', 32, 'div is', 2.0)"
      ]
     },
     "execution_count": 15,
     "metadata": {},
     "output_type": "execute_result"
    }
   ],
   "source": [
    "#Wap to make a class of simplified arithmetic operator and try to get o/p of that class through object (USER INPUT)\n",
    "class arith():\n",
    "    def opr(self):\n",
    "            x=int(input('enter no1'))\n",
    "            y=int(input('enter no2'))\n",
    "            c=x+y\n",
    "            d=x-y\n",
    "            e=x*y\n",
    "            f=x/y\n",
    "            return('add is',c,'diff is',d,'prod is',e,'div is',f)\n",
    "    \n",
    "a=arith()\n",
    "a.opr()"
   ]
  },
  {
   "cell_type": "code",
   "execution_count": 16,
   "id": "d68b7c58",
   "metadata": {},
   "outputs": [],
   "source": [
    "#wap to make a class of car and find its actual price if the car is of more than 10 lakh then there is a tax of 14% on\n",
    "#the car and if the cost is less than 10 lakh then there is a discount of 7.8 % on the car.find the actual price \n",
    "#of the car paid by the user\n",
    "class car:\n",
    "    def amount(self,price):\n",
    "        if price<1000000:\n",
    "            discount=7.8/100*(price)\n",
    "            act_price=price-discount\n",
    "            print('actual price is',act_price)\n",
    "        elif price>1000000:\n",
    "            tax=14/100*(price)\n",
    "            act_price=price+tax\n",
    "            print ('actual price is',act_price)\n",
    "            \n",
    "c=car()"
   ]
  },
  {
   "cell_type": "code",
   "execution_count": 17,
   "id": "a24c7e1c",
   "metadata": {},
   "outputs": [
    {
     "name": "stdout",
     "output_type": "stream",
     "text": [
      "actual price is 1254000.0\n"
     ]
    }
   ],
   "source": [
    "c.amount(1100000)"
   ]
  },
  {
   "cell_type": "code",
   "execution_count": 18,
   "id": "6bf1e16e",
   "metadata": {},
   "outputs": [
    {
     "name": "stdout",
     "output_type": "stream",
     "text": [
      "Y\n",
      "28\n"
     ]
    }
   ],
   "source": [
    "class emp:\n",
    "    def employee(self,name,id):\n",
    "        print(name)\n",
    "        print(id)\n",
    "        \n",
    "e=emp()\n",
    "e.employee('Y',28)"
   ]
  },
  {
   "cell_type": "code",
   "execution_count": 19,
   "id": "5b2634ef",
   "metadata": {},
   "outputs": [
    {
     "data": {
      "text/plain": [
       "'Y'"
      ]
     },
     "execution_count": 19,
     "metadata": {},
     "output_type": "execute_result"
    }
   ],
   "source": [
    "class emp:\n",
    "    def employee(self,name,id):\n",
    "        return(name)                          #only 1st return is working\n",
    "        return(id)\n",
    "        \n",
    "e=emp()\n",
    "e.employee('Y',28)"
   ]
  },
  {
   "cell_type": "code",
   "execution_count": 20,
   "id": "e5d9fae3",
   "metadata": {},
   "outputs": [
    {
     "name": "stdout",
     "output_type": "stream",
     "text": [
      "Y 28\n"
     ]
    }
   ],
   "source": [
    "class emp:\n",
    "    def employee(self,name,id):\n",
    "        print(name,id)\n",
    "        \n",
    "e=emp()\n",
    "e.employee('Y',28)"
   ]
  },
  {
   "cell_type": "code",
   "execution_count": 21,
   "id": "97cf83d3",
   "metadata": {},
   "outputs": [
    {
     "data": {
      "text/plain": [
       "('Y', 28)"
      ]
     },
     "execution_count": 21,
     "metadata": {},
     "output_type": "execute_result"
    }
   ],
   "source": [
    "class emp:\n",
    "    def employee(self,name,id):\n",
    "        return(name,id)\n",
    "        \n",
    "e=emp()\n",
    "e.employee('Y',28)"
   ]
  },
  {
   "cell_type": "code",
   "execution_count": 22,
   "id": "5c70e093",
   "metadata": {},
   "outputs": [
    {
     "data": {
      "text/plain": [
       "('Y', 28)"
      ]
     },
     "execution_count": 22,
     "metadata": {},
     "output_type": "execute_result"
    }
   ],
   "source": [
    "class emp:\n",
    "    def employee(self,name,id):\n",
    "        return name,id\n",
    "        \n",
    "e=emp()\n",
    "e.employee('Y',28)"
   ]
  },
  {
   "cell_type": "markdown",
   "id": "171b9f18",
   "metadata": {},
   "source": [
    "# CONSTRUCTOR"
   ]
  },
  {
   "cell_type": "code",
   "execution_count": 23,
   "id": "43c45978",
   "metadata": {},
   "outputs": [],
   "source": [
    "class stud:\n",
    "    def __init__(self,name,age):              #code is optimised by constructor as there are 2 steps in func, \n",
    "        self.name =name                       # first one is calling object and then calling func while single step is there\n",
    "        self.age= age                         #in constructor\n",
    "                                               \n",
    "s=stud('yr',12)                               #1st self tells about constructor to class and 2nd self tells about attributes\n",
    "                                              #to constructor"
   ]
  },
  {
   "cell_type": "code",
   "execution_count": 24,
   "id": "9586a9f7",
   "metadata": {},
   "outputs": [
    {
     "data": {
      "text/plain": [
       "12"
      ]
     },
     "execution_count": 24,
     "metadata": {},
     "output_type": "execute_result"
    }
   ],
   "source": [
    "s.age"
   ]
  },
  {
   "cell_type": "code",
   "execution_count": 25,
   "id": "40b0f5d2",
   "metadata": {},
   "outputs": [
    {
     "data": {
      "text/plain": [
       "'yr'"
      ]
     },
     "execution_count": 25,
     "metadata": {},
     "output_type": "execute_result"
    }
   ],
   "source": [
    "s.name"
   ]
  },
  {
   "cell_type": "markdown",
   "id": "8a7775c5",
   "metadata": {},
   "source": [
    "# Inheritance by constructor method"
   ]
  },
  {
   "cell_type": "code",
   "execution_count": 26,
   "id": "f99577aa",
   "metadata": {},
   "outputs": [],
   "source": [
    "class emp1:\n",
    "    def __init__(self,name,age):\n",
    "        self.name=name\n",
    "        self.age=age\n",
    "        \n",
    "class emp2(emp1):\n",
    "    def __init__(self,name,age,id):\n",
    "        emp1.__init__(self,name,age)\n",
    "        self.id=id\n",
    "        \n",
    "e=emp2('f',11,629)"
   ]
  },
  {
   "cell_type": "code",
   "execution_count": 27,
   "id": "8a92748b",
   "metadata": {},
   "outputs": [
    {
     "data": {
      "text/plain": [
       "'f'"
      ]
     },
     "execution_count": 27,
     "metadata": {},
     "output_type": "execute_result"
    }
   ],
   "source": [
    "e.name"
   ]
  },
  {
   "cell_type": "code",
   "execution_count": 28,
   "id": "59b45d95",
   "metadata": {},
   "outputs": [
    {
     "data": {
      "text/plain": [
       "11"
      ]
     },
     "execution_count": 28,
     "metadata": {},
     "output_type": "execute_result"
    }
   ],
   "source": [
    "e.age"
   ]
  },
  {
   "cell_type": "code",
   "execution_count": 29,
   "id": "a1bcb099",
   "metadata": {},
   "outputs": [
    {
     "data": {
      "text/plain": [
       "629"
      ]
     },
     "execution_count": 29,
     "metadata": {},
     "output_type": "execute_result"
    }
   ],
   "source": [
    "e.id"
   ]
  },
  {
   "cell_type": "code",
   "execution_count": 30,
   "id": "32f73c79",
   "metadata": {},
   "outputs": [],
   "source": [
    "#Find speed of bike using OOPs fundamentals where dist covered is 250 km and time taken is 10 hrs\n",
    "class bike:\n",
    "    def __init__(self,dist,time):\n",
    "        self.dist=dist\n",
    "        self.time=time\n",
    "        \n",
    "    def spd(self):\n",
    "        speed=self.dist/self.time\n",
    "        return speed\n",
    "    \n",
    "b=bike(250,10)"
   ]
  },
  {
   "cell_type": "code",
   "execution_count": 31,
   "id": "957ed960",
   "metadata": {},
   "outputs": [
    {
     "data": {
      "text/plain": [
       "25.0"
      ]
     },
     "execution_count": 31,
     "metadata": {},
     "output_type": "execute_result"
    }
   ],
   "source": [
    "b.spd()"
   ]
  },
  {
   "cell_type": "code",
   "execution_count": 32,
   "id": "5491d1c6",
   "metadata": {},
   "outputs": [],
   "source": [
    "# Program to find salary of 2 employee ram and shyam where ram takes 4 leaves in a month with a deduction of 5.6% of salary\n",
    "# while shyam take no leave with increment of 30% in salary.Find salary with help of OOP fumdamental\n",
    "class Employee:\n",
    " def __init__(self,name,leave,salary):\n",
    "        self.name=name\n",
    "        self.leave=leave\n",
    "        self.salary=salary\n",
    "        \n",
    " def cal_salary(self):\n",
    "        pass\n",
    "    \n",
    "class ram(Employee):\n",
    " def cal_salary(self):\n",
    "    if self.leave==4:\n",
    "        net_salary=self.salary-((5.6/100)*self.salary)\n",
    "        print(f\"Net salary of {self.name} is {net_salary}\")\n",
    "                \n",
    "class shyam(Employee):\n",
    " def cal_salary(self):\n",
    "    if self.leave==0:\n",
    "        net_salary=self.salary+((30/100)*self.salary)\n",
    "        print(f\"Net salary of {self.name} is {net_salary}\")\n",
    "                \n",
    "r=ram('Ram',4,3000)\n",
    "s=shyam('Shyam',0,2000)"
   ]
  },
  {
   "cell_type": "code",
   "execution_count": 33,
   "id": "360633e0",
   "metadata": {},
   "outputs": [
    {
     "name": "stdout",
     "output_type": "stream",
     "text": [
      "Net salary of Ram is 2832.0\n"
     ]
    }
   ],
   "source": [
    "r.cal_salary()"
   ]
  },
  {
   "cell_type": "code",
   "execution_count": 34,
   "id": "d880ef6a",
   "metadata": {},
   "outputs": [
    {
     "name": "stdout",
     "output_type": "stream",
     "text": [
      "Net salary of Shyam is 2600.0\n"
     ]
    }
   ],
   "source": [
    "s.cal_salary()"
   ]
  },
  {
   "cell_type": "code",
   "execution_count": 35,
   "id": "c7ad7229",
   "metadata": {},
   "outputs": [],
   "source": [
    "# Program to find o/p of inheritance class where 3 classes are defined in such a manner that each one is having some access\n",
    "#modifiers to get the o/p\n",
    "class x1:\n",
    "    def __init__(self,name):\n",
    "        self.name=name\n",
    "    \n",
    "class x2(x1):\n",
    "    def __init__(self,name,age):\n",
    "        x1.__init__(self,name)\n",
    "        self.age=age\n",
    "        \n",
    "class x3(x2):\n",
    "    def __init__(self,name,age,id):\n",
    "        x2.__init__(self,name,age)\n",
    "        self.id=id\n",
    "        \n",
    "x=x3('W',11,545)"
   ]
  },
  {
   "cell_type": "code",
   "execution_count": 36,
   "id": "5f2ba23e",
   "metadata": {},
   "outputs": [
    {
     "data": {
      "text/plain": [
       "'W'"
      ]
     },
     "execution_count": 36,
     "metadata": {},
     "output_type": "execute_result"
    }
   ],
   "source": [
    "x.name"
   ]
  },
  {
   "cell_type": "code",
   "execution_count": 37,
   "id": "183d34dd",
   "metadata": {},
   "outputs": [
    {
     "data": {
      "text/plain": [
       "11"
      ]
     },
     "execution_count": 37,
     "metadata": {},
     "output_type": "execute_result"
    }
   ],
   "source": [
    "x.age"
   ]
  },
  {
   "cell_type": "code",
   "execution_count": 38,
   "id": "8a58c025",
   "metadata": {},
   "outputs": [
    {
     "data": {
      "text/plain": [
       "545"
      ]
     },
     "execution_count": 38,
     "metadata": {},
     "output_type": "execute_result"
    }
   ],
   "source": [
    "x.id"
   ]
  },
  {
   "cell_type": "code",
   "execution_count": 39,
   "id": "f84e7803",
   "metadata": {},
   "outputs": [],
   "source": [
    "# gpc to cc:\n",
    "class gpc:\n",
    "    def __init__(self,name,age):\n",
    "        self.name=name\n",
    "        self.age=age\n",
    "        \n",
    "class cc(gpc):\n",
    "    def __init__(self,name,age,sal):\n",
    "        self.sal=sal\n",
    "        super().__init__(name,age)\n",
    "        \n",
    "c=cc('J',45,6400)"
   ]
  },
  {
   "cell_type": "code",
   "execution_count": 40,
   "id": "258a2a0b",
   "metadata": {},
   "outputs": [
    {
     "data": {
      "text/plain": [
       "6400"
      ]
     },
     "execution_count": 40,
     "metadata": {},
     "output_type": "execute_result"
    }
   ],
   "source": [
    "c.sal"
   ]
  },
  {
   "cell_type": "code",
   "execution_count": 41,
   "id": "a75e26c5",
   "metadata": {},
   "outputs": [
    {
     "data": {
      "text/plain": [
       "45"
      ]
     },
     "execution_count": 41,
     "metadata": {},
     "output_type": "execute_result"
    }
   ],
   "source": [
    "c.age"
   ]
  },
  {
   "cell_type": "code",
   "execution_count": 42,
   "id": "3358fe44",
   "metadata": {},
   "outputs": [],
   "source": [
    "# pc to cc:\n",
    "class pc:\n",
    "    def __init__(self,emp_id):\n",
    "        self.emp_id=emp_id\n",
    "        \n",
    "class cc(pc):\n",
    "    def __init__(self,emp_id,sal):\n",
    "        self.sal=sal\n",
    "        super().__init__(emp_id)\n",
    "        \n",
    "t=cc(894,8000)"
   ]
  },
  {
   "cell_type": "code",
   "execution_count": 43,
   "id": "02711275",
   "metadata": {},
   "outputs": [
    {
     "data": {
      "text/plain": [
       "8000"
      ]
     },
     "execution_count": 43,
     "metadata": {},
     "output_type": "execute_result"
    }
   ],
   "source": [
    "t.sal"
   ]
  },
  {
   "cell_type": "code",
   "execution_count": 44,
   "id": "fa762fe6",
   "metadata": {},
   "outputs": [
    {
     "data": {
      "text/plain": [
       "894"
      ]
     },
     "execution_count": 44,
     "metadata": {},
     "output_type": "execute_result"
    }
   ],
   "source": [
    "t.emp_id"
   ]
  },
  {
   "cell_type": "code",
   "execution_count": 45,
   "id": "e54546ff",
   "metadata": {},
   "outputs": [
    {
     "ename": "TypeError",
     "evalue": "gpc.__init__() takes 3 positional arguments but 4 were given",
     "output_type": "error",
     "traceback": [
      "\u001b[1;31m---------------------------------------------------------------------------\u001b[0m",
      "\u001b[1;31mTypeError\u001b[0m                                 Traceback (most recent call last)",
      "Cell \u001b[1;32mIn[45], line 17\u001b[0m\n\u001b[0;32m     13\u001b[0m         \u001b[38;5;28msuper\u001b[39m()\u001b[38;5;241m.\u001b[39m\u001b[38;5;21m__init__\u001b[39m(name,age,emp_id)\n\u001b[0;32m     14\u001b[0m         \u001b[38;5;28mself\u001b[39m\u001b[38;5;241m.\u001b[39msal\u001b[38;5;241m=\u001b[39msal\n\u001b[1;32m---> 17\u001b[0m x\u001b[38;5;241m=\u001b[39m\u001b[43mcc\u001b[49m\u001b[43m(\u001b[49m\u001b[38;5;124;43m'\u001b[39;49m\u001b[38;5;124;43mU\u001b[39;49m\u001b[38;5;124;43m'\u001b[39;49m\u001b[43m,\u001b[49m\u001b[38;5;241;43m12\u001b[39;49m\u001b[43m,\u001b[49m\u001b[38;5;241;43m321\u001b[39;49m\u001b[43m,\u001b[49m\u001b[38;5;241;43m3000\u001b[39;49m\u001b[43m)\u001b[49m        \n",
      "Cell \u001b[1;32mIn[45], line 13\u001b[0m, in \u001b[0;36mcc.__init__\u001b[1;34m(self, name, age, emp_id, sal)\u001b[0m\n\u001b[0;32m     12\u001b[0m \u001b[38;5;28;01mdef\u001b[39;00m \u001b[38;5;21m__init__\u001b[39m(\u001b[38;5;28mself\u001b[39m,name,age,emp_id,sal):\n\u001b[1;32m---> 13\u001b[0m     \u001b[38;5;28;43msuper\u001b[39;49m\u001b[43m(\u001b[49m\u001b[43m)\u001b[49m\u001b[38;5;241;43m.\u001b[39;49m\u001b[38;5;21;43m__init__\u001b[39;49m\u001b[43m(\u001b[49m\u001b[43mname\u001b[49m\u001b[43m,\u001b[49m\u001b[43mage\u001b[49m\u001b[43m,\u001b[49m\u001b[43memp_id\u001b[49m\u001b[43m)\u001b[49m\n\u001b[0;32m     14\u001b[0m     \u001b[38;5;28mself\u001b[39m\u001b[38;5;241m.\u001b[39msal\u001b[38;5;241m=\u001b[39msal\n",
      "\u001b[1;31mTypeError\u001b[0m: gpc.__init__() takes 3 positional arguments but 4 were given"
     ]
    }
   ],
   "source": [
    "# gpc to pc to cc\n",
    "class gpc:\n",
    "    def __init__(self,name,age):\n",
    "        self.name=name\n",
    "        self.age=age\n",
    "        \n",
    "class pc:\n",
    "    def __init__(self,emp_id):\n",
    "        self.emp_id=emp_id\n",
    "    \n",
    "class cc(gpc,pc):\n",
    "    def __init__(self,name,age,emp_id,sal):\n",
    "        super().__init__(name,age,emp_id)\n",
    "        self.sal=sal\n",
    "        \n",
    "\n",
    "x=cc('U',12,321,3000)        "
   ]
  },
  {
   "cell_type": "code",
   "execution_count": 46,
   "id": "307cbd82",
   "metadata": {},
   "outputs": [
    {
     "ename": "AttributeError",
     "evalue": "'x3' object has no attribute 'sal'",
     "output_type": "error",
     "traceback": [
      "\u001b[1;31m---------------------------------------------------------------------------\u001b[0m",
      "\u001b[1;31mAttributeError\u001b[0m                            Traceback (most recent call last)",
      "Cell \u001b[1;32mIn[46], line 1\u001b[0m\n\u001b[1;32m----> 1\u001b[0m \u001b[43mx\u001b[49m\u001b[38;5;241;43m.\u001b[39;49m\u001b[43msal\u001b[49m\n",
      "\u001b[1;31mAttributeError\u001b[0m: 'x3' object has no attribute 'sal'"
     ]
    }
   ],
   "source": [
    "x.sal"
   ]
  },
  {
   "cell_type": "code",
   "execution_count": 47,
   "id": "dc9fdbbc",
   "metadata": {},
   "outputs": [],
   "source": [
    "# Multilevel inheritance by super method\n",
    "class one:\n",
    "    def __init__(self,name):\n",
    "        self.name=name                         \n",
    "        \n",
    "class two(one):\n",
    "    def __init__(self,name,marks):\n",
    "        super().__init__(name)                          #super method works one time in a class\n",
    "        self.marks=marks\n",
    "        \n",
    "class three(two):\n",
    "    def __init__(self,name,marks,section):\n",
    "        super().__init__(name,marks)\n",
    "        self.section=section\n",
    "        \n",
    "w=three('dh',77,'H')"
   ]
  },
  {
   "cell_type": "code",
   "execution_count": 48,
   "id": "eea24bb1",
   "metadata": {},
   "outputs": [
    {
     "data": {
      "text/plain": [
       "'dh'"
      ]
     },
     "execution_count": 48,
     "metadata": {},
     "output_type": "execute_result"
    }
   ],
   "source": [
    "w.name"
   ]
  },
  {
   "cell_type": "code",
   "execution_count": 49,
   "id": "c993df99",
   "metadata": {},
   "outputs": [
    {
     "data": {
      "text/plain": [
       "'H'"
      ]
     },
     "execution_count": 49,
     "metadata": {},
     "output_type": "execute_result"
    }
   ],
   "source": [
    "w.section"
   ]
  },
  {
   "cell_type": "code",
   "execution_count": 50,
   "id": "8929f6db",
   "metadata": {},
   "outputs": [
    {
     "data": {
      "text/plain": [
       "77"
      ]
     },
     "execution_count": 50,
     "metadata": {},
     "output_type": "execute_result"
    }
   ],
   "source": [
    "w.marks"
   ]
  },
  {
   "cell_type": "markdown",
   "id": "d085f2c7",
   "metadata": {},
   "source": [
    "## Inheritance in Function"
   ]
  },
  {
   "cell_type": "code",
   "execution_count": 51,
   "id": "65111448",
   "metadata": {},
   "outputs": [
    {
     "data": {
      "text/plain": [
       "1"
      ]
     },
     "execution_count": 51,
     "metadata": {},
     "output_type": "execute_result"
    }
   ],
   "source": [
    "class one:\n",
    "    def fn(self,ask):\n",
    "        return ask\n",
    "    \n",
    "class two:\n",
    "    def fun(self,something):\n",
    "        return something\n",
    "    \n",
    "class three(one):\n",
    "    def func(self,about):\n",
    "        return about\n",
    "    \n",
    "q=three()\n",
    "q.func(1)"
   ]
  },
  {
   "cell_type": "code",
   "execution_count": 52,
   "id": "8eb75cbe",
   "metadata": {},
   "outputs": [
    {
     "data": {
      "text/plain": [
       "7"
      ]
     },
     "execution_count": 52,
     "metadata": {},
     "output_type": "execute_result"
    }
   ],
   "source": [
    "q.fn(7)"
   ]
  },
  {
   "cell_type": "code",
   "execution_count": 53,
   "id": "5a025008",
   "metadata": {},
   "outputs": [
    {
     "data": {
      "text/plain": [
       "3"
      ]
     },
     "execution_count": 53,
     "metadata": {},
     "output_type": "execute_result"
    }
   ],
   "source": [
    "class one:\n",
    "    def fn(self,ask):\n",
    "        return ask\n",
    "    \n",
    "class two:\n",
    "    def fun(self,something):\n",
    "        return something\n",
    "    \n",
    "class three(two):\n",
    "    def func(self,about):\n",
    "        return about\n",
    "    \n",
    "r=three()\n",
    "r.func(3)"
   ]
  },
  {
   "cell_type": "code",
   "execution_count": 54,
   "id": "23c1f1a8",
   "metadata": {},
   "outputs": [
    {
     "data": {
      "text/plain": [
       "5"
      ]
     },
     "execution_count": 54,
     "metadata": {},
     "output_type": "execute_result"
    }
   ],
   "source": [
    "r.fun(5)"
   ]
  },
  {
   "cell_type": "code",
   "execution_count": 55,
   "id": "38594d90",
   "metadata": {},
   "outputs": [
    {
     "data": {
      "text/plain": [
       "2"
      ]
     },
     "execution_count": 55,
     "metadata": {},
     "output_type": "execute_result"
    }
   ],
   "source": [
    "class one:\n",
    "    def fn(self,ask):\n",
    "        return ask\n",
    "    \n",
    "class two(one):\n",
    "    def fun(self,something):\n",
    "        return something\n",
    "    \n",
    "class three():\n",
    "    def func(self,about):\n",
    "        return about\n",
    "    \n",
    "s=two()\n",
    "s.fn(2)"
   ]
  },
  {
   "cell_type": "code",
   "execution_count": 56,
   "id": "7ca53956",
   "metadata": {},
   "outputs": [
    {
     "data": {
      "text/plain": [
       "0"
      ]
     },
     "execution_count": 56,
     "metadata": {},
     "output_type": "execute_result"
    }
   ],
   "source": [
    "s.fun(0)"
   ]
  },
  {
   "cell_type": "code",
   "execution_count": 66,
   "id": "0b989456",
   "metadata": {},
   "outputs": [
    {
     "data": {
      "text/plain": [
       "9"
      ]
     },
     "execution_count": 66,
     "metadata": {},
     "output_type": "execute_result"
    }
   ],
   "source": [
    "class one:\n",
    "    def fn(self,ask):\n",
    "        return ask\n",
    "    \n",
    "class two(one):\n",
    "    def fun(self,something):\n",
    "        return something\n",
    "    \n",
    "class three(one):\n",
    "    def func(self,about):\n",
    "        return about\n",
    "    \n",
    "class three(two):\n",
    "    def func(self,about):\n",
    "        return about\n",
    "    \n",
    "u=three()\n",
    "u.fn(9)"
   ]
  },
  {
   "cell_type": "code",
   "execution_count": 67,
   "id": "725ec3f7",
   "metadata": {},
   "outputs": [
    {
     "data": {
      "text/plain": [
       "6"
      ]
     },
     "execution_count": 67,
     "metadata": {},
     "output_type": "execute_result"
    }
   ],
   "source": [
    "u.func(6)"
   ]
  },
  {
   "cell_type": "code",
   "execution_count": 69,
   "id": "020f2e3f",
   "metadata": {},
   "outputs": [
    {
     "data": {
      "text/plain": [
       "11"
      ]
     },
     "execution_count": 69,
     "metadata": {},
     "output_type": "execute_result"
    }
   ],
   "source": [
    "u.fun(11)"
   ]
  },
  {
   "cell_type": "code",
   "execution_count": null,
   "id": "e1bbe446",
   "metadata": {},
   "outputs": [],
   "source": []
  }
 ],
 "metadata": {
  "kernelspec": {
   "display_name": "Python 3 (ipykernel)",
   "language": "python",
   "name": "python3"
  },
  "language_info": {
   "codemirror_mode": {
    "name": "ipython",
    "version": 3
   },
   "file_extension": ".py",
   "mimetype": "text/x-python",
   "name": "python",
   "nbconvert_exporter": "python",
   "pygments_lexer": "ipython3",
   "version": "3.11.5"
  }
 },
 "nbformat": 4,
 "nbformat_minor": 5
}
