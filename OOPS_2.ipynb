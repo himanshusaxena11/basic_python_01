{
 "cells": [
  {
   "cell_type": "code",
   "execution_count": 1,
   "id": "44f93c73",
   "metadata": {},
   "outputs": [
    {
     "data": {
      "text/plain": [
       "'h'"
      ]
     },
     "execution_count": 1,
     "metadata": {},
     "output_type": "execute_result"
    }
   ],
   "source": [
    "class details:\n",
    "  def std(self,name,marks,age):\n",
    "    return name                              #only 1st return will work\n",
    "    return marks\n",
    "    return age\n",
    "\n",
    "d=details()\n",
    "d.std('h',12,78)"
   ]
  },
  {
   "cell_type": "code",
   "execution_count": 2,
   "id": "1da1c302",
   "metadata": {},
   "outputs": [
    {
     "name": "stdout",
     "output_type": "stream",
     "text": [
      "h\n",
      "78\n",
      "12\n"
     ]
    }
   ],
   "source": [
    "class details:\n",
    "  def std(self,name,marks,age):\n",
    "    print(name)\n",
    "    print (marks)\n",
    "    print (age)\n",
    "\n",
    "d=details()\n",
    "d.std('h',78,12)"
   ]
  },
  {
   "cell_type": "markdown",
   "id": "bd5ef833",
   "metadata": {},
   "source": [
    "# INHERITANCE"
   ]
  },
  {
   "cell_type": "code",
   "execution_count": 4,
   "id": "8ae5fe73",
   "metadata": {},
   "outputs": [],
   "source": [
    "#INheritance with constructor\n",
    "class std1:\n",
    "  def __init__(self,name,age):\n",
    "    self.name = name\n",
    "    self.age = age\n",
    "\n",
    "class std2(std1):\n",
    "  def __init__(self,name,age,marks):               #argument order should be same i.e name,age,sal\n",
    "    std1.__init__(self,name,age)\n",
    "    self.marks =marks\n",
    "\n",
    "s=std2('xyz',34,67)                                #argument order should be same"
   ]
  },
  {
   "cell_type": "code",
   "execution_count": 5,
   "id": "137cfb06",
   "metadata": {},
   "outputs": [
    {
     "data": {
      "text/plain": [
       "'xyz'"
      ]
     },
     "execution_count": 5,
     "metadata": {},
     "output_type": "execute_result"
    }
   ],
   "source": [
    "s.name"
   ]
  },
  {
   "cell_type": "code",
   "execution_count": 6,
   "id": "ea22759b",
   "metadata": {},
   "outputs": [
    {
     "data": {
      "text/plain": [
       "67"
      ]
     },
     "execution_count": 6,
     "metadata": {},
     "output_type": "execute_result"
    }
   ],
   "source": [
    "s.marks"
   ]
  },
  {
   "cell_type": "code",
   "execution_count": 7,
   "id": "06310639",
   "metadata": {},
   "outputs": [
    {
     "ename": "IndentationError",
     "evalue": "expected an indented block after function definition on line 3 (3149882249.py, line 5)",
     "output_type": "error",
     "traceback": [
      "\u001b[1;36m  Cell \u001b[1;32mIn[7], line 5\u001b[1;36m\u001b[0m\n\u001b[1;33m    class emp2(emp1):\u001b[0m\n\u001b[1;37m                     ^\u001b[0m\n\u001b[1;31mIndentationError\u001b[0m\u001b[1;31m:\u001b[0m expected an indented block after function definition on line 3\n"
     ]
    }
   ],
   "source": [
    "#Inheritance with function\n",
    "class emp1:\n",
    "  def infor1(self,name,id):\n",
    "\n",
    "class emp2(emp1):\n",
    "  def infor2(self,sal):\n",
    "    emp1.__init__(self,name,id)\n",
    "    return name,id,sal"
   ]
  },
  {
   "cell_type": "code",
   "execution_count": 8,
   "id": "69a4d3f3",
   "metadata": {},
   "outputs": [
    {
     "ename": "NameError",
     "evalue": "name 'x' is not defined",
     "output_type": "error",
     "traceback": [
      "\u001b[1;31m---------------------------------------------------------------------------\u001b[0m",
      "\u001b[1;31mNameError\u001b[0m                                 Traceback (most recent call last)",
      "Cell \u001b[1;32mIn[8], line 14\u001b[0m\n\u001b[0;32m     11\u001b[0m   \u001b[38;5;28;01mdef\u001b[39;00m \u001b[38;5;21m__init__\u001b[39m(\u001b[38;5;28mself\u001b[39m,x,y):\n\u001b[0;32m     12\u001b[0m     \u001b[38;5;28msuper\u001b[39m()\u001b[38;5;241m.\u001b[39m\u001b[38;5;21m__init__\u001b[39m(x,y)\n\u001b[1;32m---> 14\u001b[0m s\u001b[38;5;241m=\u001b[39m\u001b[43ms2\u001b[49m\u001b[43m(\u001b[49m\u001b[38;5;241;43m44\u001b[39;49m\u001b[43m,\u001b[49m\u001b[38;5;241;43m12\u001b[39;49m\u001b[43m)\u001b[49m\n\u001b[0;32m     15\u001b[0m s\u001b[38;5;241m.\u001b[39mx\n",
      "Cell \u001b[1;32mIn[8], line 12\u001b[0m, in \u001b[0;36ms2.__init__\u001b[1;34m(self, x, y)\u001b[0m\n\u001b[0;32m     11\u001b[0m \u001b[38;5;28;01mdef\u001b[39;00m \u001b[38;5;21m__init__\u001b[39m(\u001b[38;5;28mself\u001b[39m,x,y):\n\u001b[1;32m---> 12\u001b[0m   \u001b[38;5;28;43msuper\u001b[39;49m\u001b[43m(\u001b[49m\u001b[43m)\u001b[49m\u001b[38;5;241;43m.\u001b[39;49m\u001b[38;5;21;43m__init__\u001b[39;49m\u001b[43m(\u001b[49m\u001b[43mx\u001b[49m\u001b[43m,\u001b[49m\u001b[43my\u001b[49m\u001b[43m)\u001b[49m\n",
      "Cell \u001b[1;32mIn[8], line 7\u001b[0m, in \u001b[0;36ms1.__init__\u001b[1;34m(self, _s1__x, y)\u001b[0m\n\u001b[0;32m      6\u001b[0m \u001b[38;5;28;01mdef\u001b[39;00m \u001b[38;5;21m__init__\u001b[39m(\u001b[38;5;28mself\u001b[39m,__x,y):\n\u001b[1;32m----> 7\u001b[0m   \u001b[38;5;28mself\u001b[39m\u001b[38;5;241m.\u001b[39mx\u001b[38;5;241m=\u001b[39m\u001b[43mx\u001b[49m\n\u001b[0;32m      8\u001b[0m   \u001b[38;5;28mself\u001b[39m\u001b[38;5;241m.\u001b[39my\u001b[38;5;241m=\u001b[39my\n",
      "\u001b[1;31mNameError\u001b[0m: name 'x' is not defined"
     ]
    }
   ],
   "source": [
    "#INHERITANCE WITH SUPER METHOD\n",
    "\n",
    "#Perform encapsulation where you have to find the marks of 2 student, if anyone of the student is going to fail in any subject then\n",
    "#you have to hide the data of the subject\n",
    "class s1:\n",
    "  def __init__(self,__x,y):\n",
    "    self.x=x\n",
    "    self.y=y\n",
    "\n",
    "class s2(s1):\n",
    "  def __init__(self,x,y):\n",
    "    super().__init__(x,y)\n",
    "\n",
    "s=s2(44,12)\n",
    "s.x"
   ]
  },
  {
   "cell_type": "code",
   "execution_count": 9,
   "id": "8edf4dad",
   "metadata": {},
   "outputs": [
    {
     "ename": "AttributeError",
     "evalue": "'std2' object has no attribute 'y'",
     "output_type": "error",
     "traceback": [
      "\u001b[1;31m---------------------------------------------------------------------------\u001b[0m",
      "\u001b[1;31mAttributeError\u001b[0m                            Traceback (most recent call last)",
      "Cell \u001b[1;32mIn[9], line 1\u001b[0m\n\u001b[1;32m----> 1\u001b[0m \u001b[43ms\u001b[49m\u001b[38;5;241;43m.\u001b[39;49m\u001b[43my\u001b[49m\n",
      "\u001b[1;31mAttributeError\u001b[0m: 'std2' object has no attribute 'y'"
     ]
    }
   ],
   "source": [
    "s.y"
   ]
  },
  {
   "cell_type": "code",
   "execution_count": 10,
   "id": "9ca91169",
   "metadata": {},
   "outputs": [
    {
     "name": "stdout",
     "output_type": "stream",
     "text": [
      "25.0\n"
     ]
    }
   ],
   "source": [
    "#Calculate speed by OOPS concept dist=250km & time =10hrs\n",
    "class bike:\n",
    "  def __init__(self,dist,time):\n",
    "    self.dist=dist\n",
    "    self.time=time\n",
    "\n",
    "  def speed(self):\n",
    "      speed=self.dist/self.time\n",
    "      print(speed)\n",
    "\n",
    "b=bike(250,10)\n",
    "b.speed()"
   ]
  },
  {
   "cell_type": "code",
   "execution_count": 11,
   "id": "e430caee",
   "metadata": {},
   "outputs": [],
   "source": [
    "#wap to find the salary of 2 emp ram and shyam where ram take 4 leaves in a month with a deduction of 5.6% of salary while shyam take no leave with the increment\n",
    "#of 30% in the salary.Find salary with the help of OOPS fundamentals\n",
    "class Employee:\n",
    "  def __init__(self,name,leaves,salary):\n",
    "    self.name=name\n",
    "    self.leaves=leaves\n",
    "    self.salary=salary\n",
    "\n",
    "  def cal_salary(self):\n",
    "    pass\n",
    "\n",
    "class Ram(Employee):\n",
    "  def cal_salary(self):\n",
    "    if self.leaves==4:\n",
    "      dedn=self.salary*(5.6/100)\n",
    "      netsalary=self.salary-dedn\n",
    "      print(f\"Netsalary of {self.name} is {netsalary}\")\n",
    "\n",
    "class Shyam(Employee):\n",
    "  def cal_salary(self):\n",
    "    incr=self.salary*(30/100)\n",
    "    netsalary=self.salary+incr\n",
    "    print(f\"Netsalary of {self.name} is {netsalary}\")\n",
    "\n",
    "ram=Ram('Ram',4,3000)\n",
    "shyam=Shyam('Shyam',0,2000)"
   ]
  },
  {
   "cell_type": "code",
   "execution_count": 12,
   "id": "620ef22f",
   "metadata": {},
   "outputs": [
    {
     "name": "stdout",
     "output_type": "stream",
     "text": [
      "Netsalary of Ram is 2832.0\n"
     ]
    }
   ],
   "source": [
    "ram.cal_salary()"
   ]
  },
  {
   "cell_type": "code",
   "execution_count": 13,
   "id": "abe1e6a6",
   "metadata": {},
   "outputs": [
    {
     "name": "stdout",
     "output_type": "stream",
     "text": [
      "Netsalary of Shyam is 2600.0\n"
     ]
    }
   ],
   "source": [
    "shyam.cal_salary()"
   ]
  },
  {
   "cell_type": "raw",
   "id": "323874d7",
   "metadata": {},
   "source": [
    "# Encapsulation ---Data hide from user\n",
    "\n",
    "# #Data hide types----1)Private                       ------>>these are also called access modifiers\n",
    "#                     2)public\n",
    "#                     3)protected---not supported in python"
   ]
  },
  {
   "cell_type": "code",
   "execution_count": 14,
   "id": "d3d01aa0",
   "metadata": {},
   "outputs": [],
   "source": [
    "class student:\n",
    "  def __init__(self,__name,age):\n",
    "    self.__name=__name\n",
    "    self.age=age\n",
    "\n",
    "std=student('kd',21)"
   ]
  },
  {
   "cell_type": "code",
   "execution_count": 15,
   "id": "64a8f823",
   "metadata": {},
   "outputs": [
    {
     "data": {
      "text/plain": [
       "134"
      ]
     },
     "execution_count": 15,
     "metadata": {},
     "output_type": "execute_result"
    }
   ],
   "source": [
    "class std:\n",
    "  def __info(self,name,age):\n",
    "    return name,age\n",
    "\n",
    "  def detail(self,marks):\n",
    "    return marks\n",
    "\n",
    "s=std()\n",
    "s.detail(134)"
   ]
  },
  {
   "cell_type": "code",
   "execution_count": 16,
   "id": "b9ef1903",
   "metadata": {},
   "outputs": [
    {
     "ename": "AttributeError",
     "evalue": "'std' object has no attribute 'info'",
     "output_type": "error",
     "traceback": [
      "\u001b[1;31m---------------------------------------------------------------------------\u001b[0m",
      "\u001b[1;31mAttributeError\u001b[0m                            Traceback (most recent call last)",
      "Cell \u001b[1;32mIn[16], line 1\u001b[0m\n\u001b[1;32m----> 1\u001b[0m \u001b[43ms\u001b[49m\u001b[38;5;241;43m.\u001b[39;49m\u001b[43minfo\u001b[49m\n",
      "\u001b[1;31mAttributeError\u001b[0m: 'std' object has no attribute 'info'"
     ]
    }
   ],
   "source": [
    "s.info"
   ]
  },
  {
   "cell_type": "code",
   "execution_count": 17,
   "id": "96fe85a6",
   "metadata": {},
   "outputs": [
    {
     "name": "stdout",
     "output_type": "stream",
     "text": [
      "gh\n"
     ]
    }
   ],
   "source": [
    "class person:\n",
    "\n",
    "  #public\n",
    "  def a(self,name):\n",
    "    print(name)\n",
    "\n",
    "  #private\n",
    "  def __b(self,age):\n",
    "    print(age)\n",
    "\n",
    "  def _c(self,marks):\n",
    "    print(marks)\n",
    "\n",
    "p=person()\n",
    "p.a('gh')"
   ]
  },
  {
   "cell_type": "code",
   "execution_count": 18,
   "id": "9032caf7",
   "metadata": {},
   "outputs": [
    {
     "ename": "AttributeError",
     "evalue": "'person' object has no attribute 'b'",
     "output_type": "error",
     "traceback": [
      "\u001b[1;31m---------------------------------------------------------------------------\u001b[0m",
      "\u001b[1;31mAttributeError\u001b[0m                            Traceback (most recent call last)",
      "Cell \u001b[1;32mIn[18], line 1\u001b[0m\n\u001b[1;32m----> 1\u001b[0m \u001b[43mp\u001b[49m\u001b[38;5;241;43m.\u001b[39;49m\u001b[43mb\u001b[49m(\u001b[38;5;241m11\u001b[39m)\n",
      "\u001b[1;31mAttributeError\u001b[0m: 'person' object has no attribute 'b'"
     ]
    }
   ],
   "source": [
    "p.b(11)"
   ]
  },
  {
   "cell_type": "code",
   "execution_count": 19,
   "id": "cb5a2735",
   "metadata": {},
   "outputs": [
    {
     "name": "stdout",
     "output_type": "stream",
     "text": [
      "78\n"
     ]
    }
   ],
   "source": [
    "p._c(78)"
   ]
  },
  {
   "cell_type": "code",
   "execution_count": 20,
   "id": "8d5f481a",
   "metadata": {},
   "outputs": [],
   "source": [
    "# Program to find output of inheritance class where 3 classes are defined in such a mannner that each one is having some access modifiers\n",
    "# to get the output\n",
    "class x1:\n",
    "  def a(self,name):\n",
    "    print(name)\n",
    "\n",
    "class x2:\n",
    "  def b(self,age):\n",
    "    print(age)\n",
    "\n",
    "class x3:\n",
    "  def c(self,id):\n",
    "    print(id)"
   ]
  },
  {
   "cell_type": "code",
   "execution_count": 21,
   "id": "e5879296",
   "metadata": {},
   "outputs": [
    {
     "ename": "NameError",
     "evalue": "name 'r2' is not defined",
     "output_type": "error",
     "traceback": [
      "\u001b[1;31m---------------------------------------------------------------------------\u001b[0m",
      "\u001b[1;31mNameError\u001b[0m                                 Traceback (most recent call last)",
      "Cell \u001b[1;32mIn[21], line 13\u001b[0m\n\u001b[0;32m     10\u001b[0m     \u001b[38;5;28mself\u001b[39m\u001b[38;5;241m.\u001b[39mname2\u001b[38;5;241m=\u001b[39mname2\n\u001b[0;32m     11\u001b[0m     \u001b[38;5;28mself\u001b[39m\u001b[38;5;241m.\u001b[39mr2\u001b[38;5;241m=\u001b[39mr2\n\u001b[1;32m---> 13\u001b[0m p\u001b[38;5;241m=\u001b[39m\u001b[43mplayer2\u001b[49m\u001b[43m(\u001b[49m\u001b[38;5;124;43m'\u001b[39;49m\u001b[38;5;124;43mxy\u001b[39;49m\u001b[38;5;124;43m'\u001b[39;49m\u001b[43m,\u001b[49m\u001b[38;5;241;43m23\u001b[39;49m\u001b[43m,\u001b[49m\u001b[38;5;124;43m'\u001b[39;49m\u001b[38;5;124;43mfg\u001b[39;49m\u001b[38;5;124;43m'\u001b[39;49m\u001b[43m,\u001b[49m\u001b[38;5;241;43m0\u001b[39;49m\u001b[43m)\u001b[49m\n",
      "Cell \u001b[1;32mIn[21], line 11\u001b[0m, in \u001b[0;36mplayer2.__init__\u001b[1;34m(self, name1, r1, name2, _player2__r2)\u001b[0m\n\u001b[0;32m      9\u001b[0m \u001b[38;5;28msuper\u001b[39m()\u001b[38;5;241m.\u001b[39m\u001b[38;5;21m__init__\u001b[39m(name1,r1)\n\u001b[0;32m     10\u001b[0m \u001b[38;5;28mself\u001b[39m\u001b[38;5;241m.\u001b[39mname2\u001b[38;5;241m=\u001b[39mname2\n\u001b[1;32m---> 11\u001b[0m \u001b[38;5;28mself\u001b[39m\u001b[38;5;241m.\u001b[39mr2\u001b[38;5;241m=\u001b[39m\u001b[43mr2\u001b[49m\n",
      "\u001b[1;31mNameError\u001b[0m: name 'r2' is not defined"
     ]
    }
   ],
   "source": [
    "#Program to get the score of 2 player if the player is not able to make run then dont show data in output\n",
    "class player1:\n",
    "  def __init__(self,name1,r1):\n",
    "    self.name1=name1\n",
    "    self.r1=r1\n",
    "\n",
    "class player2(player1):\n",
    "  def __init__(self,name1,r1,name2,__r2):\n",
    "    super().__init__(name1,r1)\n",
    "    self.name2=name2\n",
    "    self.r2=r2\n",
    "\n",
    "p=player2('xy',23,'fg',0)"
   ]
  },
  {
   "cell_type": "code",
   "execution_count": 22,
   "id": "1302fd58",
   "metadata": {},
   "outputs": [
    {
     "ename": "AttributeError",
     "evalue": "'person' object has no attribute 'name1'",
     "output_type": "error",
     "traceback": [
      "\u001b[1;31m---------------------------------------------------------------------------\u001b[0m",
      "\u001b[1;31mAttributeError\u001b[0m                            Traceback (most recent call last)",
      "Cell \u001b[1;32mIn[22], line 1\u001b[0m\n\u001b[1;32m----> 1\u001b[0m \u001b[43mp\u001b[49m\u001b[38;5;241;43m.\u001b[39;49m\u001b[43mname1\u001b[49m\n",
      "\u001b[1;31mAttributeError\u001b[0m: 'person' object has no attribute 'name1'"
     ]
    }
   ],
   "source": [
    "p.name1"
   ]
  },
  {
   "cell_type": "code",
   "execution_count": 23,
   "id": "b4354548",
   "metadata": {},
   "outputs": [
    {
     "ename": "AttributeError",
     "evalue": "'person' object has no attribute 'r1'",
     "output_type": "error",
     "traceback": [
      "\u001b[1;31m---------------------------------------------------------------------------\u001b[0m",
      "\u001b[1;31mAttributeError\u001b[0m                            Traceback (most recent call last)",
      "Cell \u001b[1;32mIn[23], line 1\u001b[0m\n\u001b[1;32m----> 1\u001b[0m \u001b[43mp\u001b[49m\u001b[38;5;241;43m.\u001b[39;49m\u001b[43mr1\u001b[49m\n",
      "\u001b[1;31mAttributeError\u001b[0m: 'person' object has no attribute 'r1'"
     ]
    }
   ],
   "source": [
    "p.r1"
   ]
  },
  {
   "cell_type": "code",
   "execution_count": 24,
   "id": "4255538f",
   "metadata": {},
   "outputs": [
    {
     "ename": "AttributeError",
     "evalue": "'person' object has no attribute 'name2'",
     "output_type": "error",
     "traceback": [
      "\u001b[1;31m---------------------------------------------------------------------------\u001b[0m",
      "\u001b[1;31mAttributeError\u001b[0m                            Traceback (most recent call last)",
      "Cell \u001b[1;32mIn[24], line 1\u001b[0m\n\u001b[1;32m----> 1\u001b[0m \u001b[43mp\u001b[49m\u001b[38;5;241;43m.\u001b[39;49m\u001b[43mname2\u001b[49m\n",
      "\u001b[1;31mAttributeError\u001b[0m: 'person' object has no attribute 'name2'"
     ]
    }
   ],
   "source": [
    "p.name2"
   ]
  },
  {
   "cell_type": "code",
   "execution_count": 25,
   "id": "e966f4aa",
   "metadata": {},
   "outputs": [
    {
     "ename": "AttributeError",
     "evalue": "'person' object has no attribute 'r2'",
     "output_type": "error",
     "traceback": [
      "\u001b[1;31m---------------------------------------------------------------------------\u001b[0m",
      "\u001b[1;31mAttributeError\u001b[0m                            Traceback (most recent call last)",
      "Cell \u001b[1;32mIn[25], line 1\u001b[0m\n\u001b[1;32m----> 1\u001b[0m \u001b[43mp\u001b[49m\u001b[38;5;241;43m.\u001b[39;49m\u001b[43mr2\u001b[49m\n",
      "\u001b[1;31mAttributeError\u001b[0m: 'person' object has no attribute 'r2'"
     ]
    }
   ],
   "source": [
    "p.r2"
   ]
  },
  {
   "cell_type": "code",
   "execution_count": null,
   "id": "9e12fcda",
   "metadata": {},
   "outputs": [],
   "source": []
  }
 ],
 "metadata": {
  "kernelspec": {
   "display_name": "Python 3 (ipykernel)",
   "language": "python",
   "name": "python3"
  },
  "language_info": {
   "codemirror_mode": {
    "name": "ipython",
    "version": 3
   },
   "file_extension": ".py",
   "mimetype": "text/x-python",
   "name": "python",
   "nbconvert_exporter": "python",
   "pygments_lexer": "ipython3",
   "version": "3.11.5"
  }
 },
 "nbformat": 4,
 "nbformat_minor": 5
}
