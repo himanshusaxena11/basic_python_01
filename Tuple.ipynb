{
 "cells": [
  {
   "cell_type": "markdown",
   "id": "85959fdc",
   "metadata": {},
   "source": [
    "# TUPLE"
   ]
  },
  {
   "cell_type": "code",
   "execution_count": 1,
   "id": "6967cd62",
   "metadata": {},
   "outputs": [],
   "source": [
    "x=(2,9,4)"
   ]
  },
  {
   "cell_type": "code",
   "execution_count": 2,
   "id": "eef1c9b7",
   "metadata": {},
   "outputs": [
    {
     "data": {
      "text/plain": [
       "tuple"
      ]
     },
     "execution_count": 2,
     "metadata": {},
     "output_type": "execute_result"
    }
   ],
   "source": [
    "type(x)"
   ]
  },
  {
   "cell_type": "code",
   "execution_count": 3,
   "id": "ddb81bc9",
   "metadata": {},
   "outputs": [
    {
     "data": {
      "text/plain": [
       "9"
      ]
     },
     "execution_count": 3,
     "metadata": {},
     "output_type": "execute_result"
    }
   ],
   "source": [
    "x[1]"
   ]
  },
  {
   "cell_type": "code",
   "execution_count": 4,
   "id": "bbcce334",
   "metadata": {},
   "outputs": [
    {
     "ename": "TypeError",
     "evalue": "'tuple' object does not support item assignment",
     "output_type": "error",
     "traceback": [
      "\u001b[1;31m---------------------------------------------------------------------------\u001b[0m",
      "\u001b[1;31mTypeError\u001b[0m                                 Traceback (most recent call last)",
      "Input \u001b[1;32mIn [4]\u001b[0m, in \u001b[0;36m<cell line: 1>\u001b[1;34m()\u001b[0m\n\u001b[1;32m----> 1\u001b[0m x[\u001b[38;5;241m0\u001b[39m]\u001b[38;5;241m=\u001b[39m\u001b[38;5;124m'\u001b[39m\u001b[38;5;124msql\u001b[39m\u001b[38;5;124m'\u001b[39m\n",
      "\u001b[1;31mTypeError\u001b[0m: 'tuple' object does not support item assignment"
     ]
    }
   ],
   "source": [
    "x[0]='sql'"
   ]
  },
  {
   "cell_type": "markdown",
   "id": "b53261a9",
   "metadata": {},
   "source": [
    "# Tuple method--1. Index , 2. Count"
   ]
  },
  {
   "cell_type": "code",
   "execution_count": 5,
   "id": "62a9fbb2",
   "metadata": {},
   "outputs": [],
   "source": [
    "a=(23,8,43,11,-3)"
   ]
  },
  {
   "cell_type": "code",
   "execution_count": 6,
   "id": "3555c6db",
   "metadata": {},
   "outputs": [
    {
     "data": {
      "text/plain": [
       "4"
      ]
     },
     "execution_count": 6,
     "metadata": {},
     "output_type": "execute_result"
    }
   ],
   "source": [
    "a.index(-3)"
   ]
  },
  {
   "cell_type": "code",
   "execution_count": 7,
   "id": "630ad56b",
   "metadata": {},
   "outputs": [
    {
     "data": {
      "text/plain": [
       "1"
      ]
     },
     "execution_count": 7,
     "metadata": {},
     "output_type": "execute_result"
    }
   ],
   "source": [
    "a.count(8)"
   ]
  },
  {
   "cell_type": "code",
   "execution_count": 8,
   "id": "fc631faa",
   "metadata": {},
   "outputs": [],
   "source": [
    "x=(2,3,9,4,7,'true',False,-22,0,'false')"
   ]
  },
  {
   "cell_type": "code",
   "execution_count": 9,
   "id": "4b24ad8f",
   "metadata": {},
   "outputs": [
    {
     "data": {
      "text/plain": [
       "2"
      ]
     },
     "execution_count": 9,
     "metadata": {},
     "output_type": "execute_result"
    }
   ],
   "source": [
    "x.count(0)"
   ]
  },
  {
   "cell_type": "code",
   "execution_count": 10,
   "id": "981db9ff",
   "metadata": {},
   "outputs": [],
   "source": [
    "#empty tuple\n",
    "y=()"
   ]
  },
  {
   "cell_type": "code",
   "execution_count": 11,
   "id": "f044c215",
   "metadata": {},
   "outputs": [
    {
     "data": {
      "text/plain": [
       "tuple"
      ]
     },
     "execution_count": 11,
     "metadata": {},
     "output_type": "execute_result"
    }
   ],
   "source": [
    "type(y)"
   ]
  },
  {
   "cell_type": "code",
   "execution_count": 12,
   "id": "c44b4281",
   "metadata": {},
   "outputs": [],
   "source": [
    "#single element tuple\n",
    "z=(2,)"
   ]
  },
  {
   "cell_type": "code",
   "execution_count": 13,
   "id": "4fdaa215",
   "metadata": {},
   "outputs": [
    {
     "data": {
      "text/plain": [
       "tuple"
      ]
     },
     "execution_count": 13,
     "metadata": {},
     "output_type": "execute_result"
    }
   ],
   "source": [
    "type(z)"
   ]
  },
  {
   "cell_type": "code",
   "execution_count": 14,
   "id": "efd77c6c",
   "metadata": {},
   "outputs": [],
   "source": [
    "a=3.9,5,9.22,8,4\n",
    "#By default,any type of data entered is stored in tuple"
   ]
  },
  {
   "cell_type": "code",
   "execution_count": 15,
   "id": "3946fb19",
   "metadata": {},
   "outputs": [
    {
     "name": "stdout",
     "output_type": "stream",
     "text": [
      "(3.9, 5, 9.22, 8, 4)\n"
     ]
    }
   ],
   "source": [
    "print(a)"
   ]
  },
  {
   "cell_type": "code",
   "execution_count": 16,
   "id": "6e61653e",
   "metadata": {},
   "outputs": [
    {
     "data": {
      "text/plain": [
       "tuple"
      ]
     },
     "execution_count": 16,
     "metadata": {},
     "output_type": "execute_result"
    }
   ],
   "source": [
    "type(a)"
   ]
  },
  {
   "cell_type": "code",
   "execution_count": 17,
   "id": "2c3688da",
   "metadata": {},
   "outputs": [],
   "source": [
    "#wap to add a data in tuple\n",
    "a=(3,9,'try',89.1,-12,9,23)"
   ]
  },
  {
   "cell_type": "code",
   "execution_count": 18,
   "id": "f798d5a5",
   "metadata": {},
   "outputs": [
    {
     "data": {
      "text/plain": [
       "[3, 9, 'try', 89.1, -12, 9, 23]"
      ]
     },
     "execution_count": 18,
     "metadata": {},
     "output_type": "execute_result"
    }
   ],
   "source": [
    "b=list(a)\n",
    "b"
   ]
  },
  {
   "cell_type": "code",
   "execution_count": 19,
   "id": "16b6fe15",
   "metadata": {},
   "outputs": [],
   "source": [
    "b.append(False)"
   ]
  },
  {
   "cell_type": "code",
   "execution_count": 20,
   "id": "011a17b4",
   "metadata": {},
   "outputs": [
    {
     "data": {
      "text/plain": [
       "[3, 9, 'try', 89.1, -12, 9, 23, False]"
      ]
     },
     "execution_count": 20,
     "metadata": {},
     "output_type": "execute_result"
    }
   ],
   "source": [
    "b"
   ]
  },
  {
   "cell_type": "code",
   "execution_count": 21,
   "id": "4d1edd9c",
   "metadata": {},
   "outputs": [
    {
     "data": {
      "text/plain": [
       "(3, 9, 'try', 89.1, -12, 9, 23, False)"
      ]
     },
     "execution_count": 21,
     "metadata": {},
     "output_type": "execute_result"
    }
   ],
   "source": [
    "c=tuple(b)\n",
    "c"
   ]
  },
  {
   "cell_type": "code",
   "execution_count": 22,
   "id": "0b50f7cd",
   "metadata": {},
   "outputs": [
    {
     "data": {
      "text/plain": [
       "tuple"
      ]
     },
     "execution_count": 22,
     "metadata": {},
     "output_type": "execute_result"
    }
   ],
   "source": [
    "type(c)"
   ]
  },
  {
   "cell_type": "code",
   "execution_count": 23,
   "id": "64e72af4",
   "metadata": {},
   "outputs": [],
   "source": [
    "#wap to delete a data in tuple\n",
    "p=(3,9,'try',89.1,-12,9,23)"
   ]
  },
  {
   "cell_type": "code",
   "execution_count": 24,
   "id": "478ad047",
   "metadata": {},
   "outputs": [],
   "source": [
    "q=list(p)"
   ]
  },
  {
   "cell_type": "code",
   "execution_count": 25,
   "id": "b20c3fe3",
   "metadata": {},
   "outputs": [
    {
     "data": {
      "text/plain": [
       "[3, 9, 'try', 89.1, -12, 9, 23]"
      ]
     },
     "execution_count": 25,
     "metadata": {},
     "output_type": "execute_result"
    }
   ],
   "source": [
    "q"
   ]
  },
  {
   "cell_type": "code",
   "execution_count": 26,
   "id": "c79d19ef",
   "metadata": {},
   "outputs": [],
   "source": [
    "q.remove(89.1)"
   ]
  },
  {
   "cell_type": "code",
   "execution_count": 27,
   "id": "67dcfc4b",
   "metadata": {},
   "outputs": [
    {
     "data": {
      "text/plain": [
       "[3, 9, 'try', -12, 9, 23]"
      ]
     },
     "execution_count": 27,
     "metadata": {},
     "output_type": "execute_result"
    }
   ],
   "source": [
    "q"
   ]
  },
  {
   "cell_type": "code",
   "execution_count": 28,
   "id": "eaceb604",
   "metadata": {},
   "outputs": [
    {
     "data": {
      "text/plain": [
       "(3, 9, 'try', -12, 9, 23)"
      ]
     },
     "execution_count": 28,
     "metadata": {},
     "output_type": "execute_result"
    }
   ],
   "source": [
    "r=tuple(q)\n",
    "r"
   ]
  },
  {
   "cell_type": "code",
   "execution_count": null,
   "id": "388da4cb",
   "metadata": {},
   "outputs": [],
   "source": [
    " "
   ]
  }
 ],
 "metadata": {
  "kernelspec": {
   "display_name": "Python 3 (ipykernel)",
   "language": "python",
   "name": "python3"
  },
  "language_info": {
   "codemirror_mode": {
    "name": "ipython",
    "version": 3
   },
   "file_extension": ".py",
   "mimetype": "text/x-python",
   "name": "python",
   "nbconvert_exporter": "python",
   "pygments_lexer": "ipython3",
   "version": "3.9.12"
  }
 },
 "nbformat": 4,
 "nbformat_minor": 5
}
