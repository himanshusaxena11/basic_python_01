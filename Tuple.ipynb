{
  "nbformat": 4,
  "nbformat_minor": 0,
  "metadata": {
    "colab": {
      "provenance": []
    },
    "kernelspec": {
      "name": "python3",
      "display_name": "Python 3"
    },
    "language_info": {
      "name": "python"
    }
  },
  "cells": [
    {
      "cell_type": "code",
      "execution_count": 1,
      "metadata": {
        "colab": {
          "base_uri": "https://localhost:8080/"
        },
        "id": "hmoSfcJN-qPx",
        "outputId": "237b7882-38bf-45c7-d1d0-4ee725322ebc"
      },
      "outputs": [
        {
          "output_type": "execute_result",
          "data": {
            "text/plain": [
              "()"
            ]
          },
          "metadata": {},
          "execution_count": 1
        }
      ],
      "source": [
        "#Empty tuple\n",
        "t=()\n",
        "t"
      ]
    },
    {
      "cell_type": "code",
      "source": [
        "type(t)"
      ],
      "metadata": {
        "colab": {
          "base_uri": "https://localhost:8080/"
        },
        "id": "itZyCBHe_03X",
        "outputId": "944f5a08-2519-40d9-e4ff-f35b28217280"
      },
      "execution_count": 2,
      "outputs": [
        {
          "output_type": "execute_result",
          "data": {
            "text/plain": [
              "tuple"
            ]
          },
          "metadata": {},
          "execution_count": 2
        }
      ]
    },
    {
      "cell_type": "code",
      "source": [
        "t1=(2,7,9,1.5,-3,0)"
      ],
      "metadata": {
        "id": "rjeU6eZY_7fI"
      },
      "execution_count": 3,
      "outputs": []
    },
    {
      "cell_type": "code",
      "source": [
        "type(t1)"
      ],
      "metadata": {
        "colab": {
          "base_uri": "https://localhost:8080/"
        },
        "id": "bJ4UXd9uADTv",
        "outputId": "93269f8f-a8fa-4045-f8d2-0d4774aaede1"
      },
      "execution_count": 4,
      "outputs": [
        {
          "output_type": "execute_result",
          "data": {
            "text/plain": [
              "tuple"
            ]
          },
          "metadata": {},
          "execution_count": 4
        }
      ]
    },
    {
      "cell_type": "code",
      "source": [
        "t2=(3,)"
      ],
      "metadata": {
        "id": "1EkcuTVSAE40"
      },
      "execution_count": 8,
      "outputs": []
    },
    {
      "cell_type": "code",
      "source": [
        "type(t2)"
      ],
      "metadata": {
        "colab": {
          "base_uri": "https://localhost:8080/"
        },
        "id": "kHQWv-PHAIGU",
        "outputId": "6cf0db32-7a47-42fc-c784-ec5f35f60fe5"
      },
      "execution_count": 9,
      "outputs": [
        {
          "output_type": "execute_result",
          "data": {
            "text/plain": [
              "tuple"
            ]
          },
          "metadata": {},
          "execution_count": 9
        }
      ]
    },
    {
      "cell_type": "code",
      "source": [
        "a=(4,2,6,1,2,7,9,2,5,2,2,1.1)"
      ],
      "metadata": {
        "id": "w8BaEnpBBKlt"
      },
      "execution_count": 11,
      "outputs": []
    },
    {
      "cell_type": "code",
      "source": [
        "a.count(2)"
      ],
      "metadata": {
        "colab": {
          "base_uri": "https://localhost:8080/"
        },
        "id": "HIgHglMKALdm",
        "outputId": "7352f970-8d2a-4d61-b7c5-839dafbb3764"
      },
      "execution_count": 14,
      "outputs": [
        {
          "output_type": "execute_result",
          "data": {
            "text/plain": [
              "5"
            ]
          },
          "metadata": {},
          "execution_count": 14
        }
      ]
    },
    {
      "cell_type": "code",
      "source": [
        "a.index(9)"
      ],
      "metadata": {
        "colab": {
          "base_uri": "https://localhost:8080/"
        },
        "id": "_X2OcWeYBVNW",
        "outputId": "c9a5a3cf-f88b-4fda-d469-c798611556ab"
      },
      "execution_count": 17,
      "outputs": [
        {
          "output_type": "execute_result",
          "data": {
            "text/plain": [
              "6"
            ]
          },
          "metadata": {},
          "execution_count": 17
        }
      ]
    },
    {
      "cell_type": "code",
      "source": [
        "#LIST AND TUPLE PROBLEMS"
      ],
      "metadata": {
        "id": "PIXK2G0OB8ud"
      },
      "execution_count": 18,
      "outputs": []
    },
    {
      "cell_type": "code",
      "source": [
        "#wap to store seven fruits in a list entered by user\n",
        "f1=input('enter fruit1')\n",
        "f2=input('enter fruit2')\n",
        "f3=input('enter fruit3')\n",
        "f4=input('enter fruit4')\n",
        "f5=input('enter fruit5')\n",
        "f6=input('enter fruit6')\n",
        "f7=input('enter fruit7')\n",
        "fruitlist=[f1,f2,f3,f4,f5,f6,f7]\n",
        "print(fruitlist)"
      ],
      "metadata": {
        "colab": {
          "base_uri": "https://localhost:8080/"
        },
        "id": "rJ49VpC1Gfuf",
        "outputId": "365d55e3-ce5f-4522-ce6d-a9b45d3117db"
      },
      "execution_count": 29,
      "outputs": [
        {
          "output_type": "stream",
          "name": "stdout",
          "text": [
            "enter fruit1a\n",
            "enter fruit2b\n",
            "enter fruit3c\n",
            "enter fruit4d\n",
            "enter fruit5e\n",
            "enter fruit6f\n",
            "enter fruit7g\n",
            "['a', 'b', 'c', 'd', 'e', 'f', 'g']\n"
          ]
        }
      ]
    },
    {
      "cell_type": "code",
      "source": [
        "#wap to display marks of 6 students and display them in sorted manner\n",
        "m1=int(input('enter marks 1'))\n",
        "m2=int(input('enter marks 2'))\n",
        "m3=int(input('enter marks 3'))\n",
        "m4=int(input('enter marks 4'))\n",
        "m5=int(input('enter marks 5'))\n",
        "m6=int(input('enter marks 6'))\n",
        "markslist=[m1,m2,m3,m4,m5,m6]\n",
        "print(markslist)\n",
        "markslist.sort()\n",
        "print(markslist)"
      ],
      "metadata": {
        "colab": {
          "base_uri": "https://localhost:8080/"
        },
        "id": "IvS8uiX8Gy9w",
        "outputId": "4573b052-b32c-4479-c862-9835d73b3919"
      },
      "execution_count": 30,
      "outputs": [
        {
          "output_type": "stream",
          "name": "stdout",
          "text": [
            "enter marks 123\n",
            "enter marks 278\n",
            "enter marks 311\n",
            "enter marks 421\n",
            "enter marks 538\n",
            "enter marks 69\n",
            "[23, 78, 11, 21, 38, 9]\n",
            "[9, 11, 21, 23, 38, 78]\n"
          ]
        }
      ]
    },
    {
      "cell_type": "code",
      "source": [
        "#Wap to sum a list with 4 nos\n",
        "x=[2,6,3,5]\n",
        "sum=x[0]+x[1]+x[2]+x[3]\n",
        "print('sum of 4 nos is',sum)"
      ],
      "metadata": {
        "colab": {
          "base_uri": "https://localhost:8080/"
        },
        "id": "qLBK7s3PIJ9Z",
        "outputId": "34dc298a-bf5b-4c1c-be88-27617db8469f"
      },
      "execution_count": 1,
      "outputs": [
        {
          "output_type": "stream",
          "name": "stdout",
          "text": [
            "sum of 4 nos is 16\n"
          ]
        }
      ]
    },
    {
      "cell_type": "code",
      "source": [
        "#Wap to count no of zeros in list\n",
        "b=(7,0,8,0,0,9)\n",
        "b.count(0)"
      ],
      "metadata": {
        "colab": {
          "base_uri": "https://localhost:8080/"
        },
        "id": "qkzEjymL0zrA",
        "outputId": "4e0fbfab-58eb-41c4-d5b6-d591af167bc9"
      },
      "execution_count": 4,
      "outputs": [
        {
          "output_type": "execute_result",
          "data": {
            "text/plain": [
              "3"
            ]
          },
          "metadata": {},
          "execution_count": 4
        }
      ]
    },
    {
      "cell_type": "code",
      "source": [],
      "metadata": {
        "id": "gxR2g-SW1SIq"
      },
      "execution_count": null,
      "outputs": []
    }
  ]
}