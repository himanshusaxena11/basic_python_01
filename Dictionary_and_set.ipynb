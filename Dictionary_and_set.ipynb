{
  "nbformat": 4,
  "nbformat_minor": 0,
  "metadata": {
    "colab": {
      "provenance": []
    },
    "kernelspec": {
      "name": "python3",
      "display_name": "Python 3"
    },
    "language_info": {
      "name": "python"
    }
  },
  "cells": [
    {
      "cell_type": "code",
      "execution_count": 37,
      "metadata": {
        "id": "JrqOQZxv2JI6"
      },
      "outputs": [],
      "source": [
        "dict={'name':'ram',\n",
        "      'age':12,\n",
        "      'marks':[11,23,56,31],\n",
        "      'anotherdict':{'ajay':'singh'}}"
      ]
    },
    {
      "cell_type": "code",
      "source": [
        "dict['anotherdict']['ajay']"
      ],
      "metadata": {
        "colab": {
          "base_uri": "https://localhost:8080/",
          "height": 36
        },
        "id": "4EvWU9qjF0hx",
        "outputId": "fa4c2d85-8d12-4124-e746-bb223ed253c8"
      },
      "execution_count": 38,
      "outputs": [
        {
          "output_type": "execute_result",
          "data": {
            "text/plain": [
              "'singh'"
            ],
            "application/vnd.google.colaboratory.intrinsic+json": {
              "type": "string"
            }
          },
          "metadata": {},
          "execution_count": 38
        }
      ]
    },
    {
      "cell_type": "code",
      "source": [
        "dict['age']=(12,11,34)     #dictionary is mutable"
      ],
      "metadata": {
        "id": "C0sK7cd3JA5C"
      },
      "execution_count": 39,
      "outputs": []
    },
    {
      "cell_type": "code",
      "source": [
        "dict"
      ],
      "metadata": {
        "colab": {
          "base_uri": "https://localhost:8080/"
        },
        "id": "6egWqCDFJ-lv",
        "outputId": "b2caf4bc-49c5-494e-913c-b2b462e7cd93"
      },
      "execution_count": 40,
      "outputs": [
        {
          "output_type": "execute_result",
          "data": {
            "text/plain": [
              "{'name': 'ram',\n",
              " 'age': (12, 11, 34),\n",
              " 'marks': [11, 23, 56, 31],\n",
              " 'anotherdict': {'ajay': 'singh'}}"
            ]
          },
          "metadata": {},
          "execution_count": 40
        }
      ]
    },
    {
      "cell_type": "code",
      "source": [
        "dict.keys()"
      ],
      "metadata": {
        "colab": {
          "base_uri": "https://localhost:8080/"
        },
        "id": "psNNS96uKEft",
        "outputId": "a121cc86-6e24-4992-80fc-a2bb1aa3b25d"
      },
      "execution_count": 41,
      "outputs": [
        {
          "output_type": "execute_result",
          "data": {
            "text/plain": [
              "dict_keys(['name', 'age', 'marks', 'anotherdict'])"
            ]
          },
          "metadata": {},
          "execution_count": 41
        }
      ]
    },
    {
      "cell_type": "code",
      "source": [
        "list(dict.keys())"
      ],
      "metadata": {
        "colab": {
          "base_uri": "https://localhost:8080/"
        },
        "id": "jPA0NGb9MERa",
        "outputId": "0ee443f3-fb98-4255-bd2c-9cd32f73e377"
      },
      "execution_count": 42,
      "outputs": [
        {
          "output_type": "execute_result",
          "data": {
            "text/plain": [
              "['name', 'age', 'marks', 'anotherdict']"
            ]
          },
          "metadata": {},
          "execution_count": 42
        }
      ]
    },
    {
      "cell_type": "code",
      "source": [
        "dict.values()"
      ],
      "metadata": {
        "colab": {
          "base_uri": "https://localhost:8080/"
        },
        "id": "3K25ECmNMMNy",
        "outputId": "e76a1d46-5bac-4aed-e3ac-2b9bec283b2e"
      },
      "execution_count": 43,
      "outputs": [
        {
          "output_type": "execute_result",
          "data": {
            "text/plain": [
              "dict_values(['ram', (12, 11, 34), [11, 23, 56, 31], {'ajay': 'singh'}])"
            ]
          },
          "metadata": {},
          "execution_count": 43
        }
      ]
    },
    {
      "cell_type": "code",
      "source": [
        "dict.items()"
      ],
      "metadata": {
        "colab": {
          "base_uri": "https://localhost:8080/"
        },
        "id": "ZkI_QjqAMRjm",
        "outputId": "e7c40efd-35a5-4b5e-e52f-3904e273c0b8"
      },
      "execution_count": 44,
      "outputs": [
        {
          "output_type": "execute_result",
          "data": {
            "text/plain": [
              "dict_items([('name', 'ram'), ('age', (12, 11, 34)), ('marks', [11, 23, 56, 31]), ('anotherdict', {'ajay': 'singh'})])"
            ]
          },
          "metadata": {},
          "execution_count": 44
        }
      ]
    },
    {
      "cell_type": "code",
      "source": [
        "newdict={\n",
        "    'gender':('M','F','M','M'),\n",
        "    'state':['M.P','U.P','Haryana']\n",
        "    }"
      ],
      "metadata": {
        "id": "KpbHvMikNnzc"
      },
      "execution_count": 45,
      "outputs": []
    },
    {
      "cell_type": "code",
      "source": [
        "dict.update(newdict)"
      ],
      "metadata": {
        "id": "RDqK4a4VOh4N"
      },
      "execution_count": 46,
      "outputs": []
    },
    {
      "cell_type": "code",
      "source": [
        "dict"
      ],
      "metadata": {
        "colab": {
          "base_uri": "https://localhost:8080/"
        },
        "id": "4VdbS-b3Olwm",
        "outputId": "f785fe70-6b94-470f-d3cf-7b80dd7e09d9"
      },
      "execution_count": 47,
      "outputs": [
        {
          "output_type": "execute_result",
          "data": {
            "text/plain": [
              "{'name': 'ram',\n",
              " 'age': (12, 11, 34),\n",
              " 'marks': [11, 23, 56, 31],\n",
              " 'anotherdict': {'ajay': 'singh'},\n",
              " 'gender': ('M', 'F', 'M', 'M'),\n",
              " 'state': ['M.P', 'U.P', 'Haryana']}"
            ]
          },
          "metadata": {},
          "execution_count": 47
        }
      ]
    },
    {
      "cell_type": "code",
      "source": [
        "print(dict.get('name2') ) #returns none  as name 2 is not present"
      ],
      "metadata": {
        "colab": {
          "base_uri": "https://localhost:8080/"
        },
        "id": "9uQFFqVaOnUg",
        "outputId": "d7cdbee8-240e-472b-9455-60f7a0158daf"
      },
      "execution_count": 48,
      "outputs": [
        {
          "output_type": "stream",
          "name": "stdout",
          "text": [
            "None\n"
          ]
        }
      ]
    },
    {
      "cell_type": "code",
      "source": [
        "#print(dict['name2'])   returns error as key is not present"
      ],
      "metadata": {
        "id": "RBugioj_V536"
      },
      "execution_count": 49,
      "outputs": []
    },
    {
      "cell_type": "code",
      "source": [
        "#SET"
      ],
      "metadata": {
        "id": "CgUQSvHeWsor"
      },
      "execution_count": 50,
      "outputs": []
    },
    {
      "cell_type": "code",
      "source": [
        "a={2,'false','hi',-4,11}"
      ],
      "metadata": {
        "id": "6v6H5FpPYFh2"
      },
      "execution_count": 51,
      "outputs": []
    },
    {
      "cell_type": "code",
      "source": [
        "a"
      ],
      "metadata": {
        "colab": {
          "base_uri": "https://localhost:8080/"
        },
        "id": "3PgWn3k2YLf3",
        "outputId": "d7a6ee94-695d-4cbc-c319-a639686b54ca"
      },
      "execution_count": 52,
      "outputs": [
        {
          "output_type": "execute_result",
          "data": {
            "text/plain": [
              "{-4, 11, 2, 'false', 'hi'}"
            ]
          },
          "metadata": {},
          "execution_count": 52
        }
      ]
    },
    {
      "cell_type": "code",
      "source": [
        "type(a)"
      ],
      "metadata": {
        "colab": {
          "base_uri": "https://localhost:8080/"
        },
        "id": "zvuX-5jAYMaN",
        "outputId": "45707068-74d7-4953-e72c-5dbedfd938d0"
      },
      "execution_count": 53,
      "outputs": [
        {
          "output_type": "execute_result",
          "data": {
            "text/plain": [
              "set"
            ]
          },
          "metadata": {},
          "execution_count": 53
        }
      ]
    },
    {
      "cell_type": "code",
      "source": [
        "a={2,'false','hi',-4,11,2}"
      ],
      "metadata": {
        "id": "FCM8_jCDYPUk"
      },
      "execution_count": 54,
      "outputs": []
    },
    {
      "cell_type": "code",
      "source": [
        "a"
      ],
      "metadata": {
        "colab": {
          "base_uri": "https://localhost:8080/"
        },
        "id": "_rUqt6pcYUBt",
        "outputId": "3035b57a-4c8d-4ee1-f548-d2f7bccfd744"
      },
      "execution_count": 55,
      "outputs": [
        {
          "output_type": "execute_result",
          "data": {
            "text/plain": [
              "{-4, 11, 2, 'false', 'hi'}"
            ]
          },
          "metadata": {},
          "execution_count": 55
        }
      ]
    },
    {
      "cell_type": "code",
      "source": [
        "x=set()"
      ],
      "metadata": {
        "id": "Wv_izPpXYU15"
      },
      "execution_count": 56,
      "outputs": []
    },
    {
      "cell_type": "code",
      "source": [
        "type(x)"
      ],
      "metadata": {
        "colab": {
          "base_uri": "https://localhost:8080/"
        },
        "id": "dw66B3Goawq7",
        "outputId": "c81174db-2adb-4a09-b332-ea46406da948"
      },
      "execution_count": 57,
      "outputs": [
        {
          "output_type": "execute_result",
          "data": {
            "text/plain": [
              "set"
            ]
          },
          "metadata": {},
          "execution_count": 57
        }
      ]
    },
    {
      "cell_type": "code",
      "source": [
        "x"
      ],
      "metadata": {
        "colab": {
          "base_uri": "https://localhost:8080/"
        },
        "id": "6Qko-K9xayf6",
        "outputId": "b86fa35a-db11-45da-9ba8-8a04d1e97d65"
      },
      "execution_count": 58,
      "outputs": [
        {
          "output_type": "execute_result",
          "data": {
            "text/plain": [
              "set()"
            ]
          },
          "metadata": {},
          "execution_count": 58
        }
      ]
    },
    {
      "cell_type": "code",
      "source": [
        "x.add(3)"
      ],
      "metadata": {
        "id": "PaazM0zXa6rm"
      },
      "execution_count": 59,
      "outputs": []
    },
    {
      "cell_type": "code",
      "source": [
        "x.add(5)"
      ],
      "metadata": {
        "id": "-VXtCehnOD-e"
      },
      "execution_count": 60,
      "outputs": []
    },
    {
      "cell_type": "code",
      "source": [
        "x.add(3)"
      ],
      "metadata": {
        "id": "QdW-F-ydOSaA"
      },
      "execution_count": 61,
      "outputs": []
    },
    {
      "cell_type": "code",
      "source": [
        "x"
      ],
      "metadata": {
        "colab": {
          "base_uri": "https://localhost:8080/"
        },
        "id": "bf5pJmytOUm2",
        "outputId": "d26c4cb4-120c-45d3-90db-947566b8309e"
      },
      "execution_count": 62,
      "outputs": [
        {
          "output_type": "execute_result",
          "data": {
            "text/plain": [
              "{3, 5}"
            ]
          },
          "metadata": {},
          "execution_count": 62
        }
      ]
    },
    {
      "cell_type": "code",
      "source": [
        "#x.add([2,7,4,7,1])  --- cannot add list to set as set is immutable and list is mutable"
      ],
      "metadata": {
        "id": "WZCiezkKOWpk"
      },
      "execution_count": 63,
      "outputs": []
    },
    {
      "cell_type": "code",
      "source": [
        "#x.add({2:6})     ------- cannot add dict to set as set is immutable and dict is mutable"
      ],
      "metadata": {
        "id": "G8Ua6PbqOltL"
      },
      "execution_count": 64,
      "outputs": []
    },
    {
      "cell_type": "code",
      "source": [
        "len(x)"
      ],
      "metadata": {
        "colab": {
          "base_uri": "https://localhost:8080/"
        },
        "id": "Zt-YdY2_OqQc",
        "outputId": "b4dbe906-bbd1-49b3-91c7-d1b7718ca253"
      },
      "execution_count": 65,
      "outputs": [
        {
          "output_type": "execute_result",
          "data": {
            "text/plain": [
              "2"
            ]
          },
          "metadata": {},
          "execution_count": 65
        }
      ]
    },
    {
      "cell_type": "code",
      "source": [
        "a"
      ],
      "metadata": {
        "colab": {
          "base_uri": "https://localhost:8080/"
        },
        "id": "CUu5lFWaPYwT",
        "outputId": "8a3a816b-98fd-4fa2-917a-ca60eb683742"
      },
      "execution_count": 66,
      "outputs": [
        {
          "output_type": "execute_result",
          "data": {
            "text/plain": [
              "{-4, 11, 2, 'false', 'hi'}"
            ]
          },
          "metadata": {},
          "execution_count": 66
        }
      ]
    },
    {
      "cell_type": "code",
      "source": [
        "a.remove(2)"
      ],
      "metadata": {
        "id": "fG_Ut4aOWWDS"
      },
      "execution_count": 67,
      "outputs": []
    },
    {
      "cell_type": "code",
      "source": [
        "a"
      ],
      "metadata": {
        "colab": {
          "base_uri": "https://localhost:8080/"
        },
        "id": "qwtA1v_JWcLM",
        "outputId": "ee520dc1-0940-48ff-a9f5-84cb2dce9ea8"
      },
      "execution_count": 68,
      "outputs": [
        {
          "output_type": "execute_result",
          "data": {
            "text/plain": [
              "{-4, 11, 'false', 'hi'}"
            ]
          },
          "metadata": {},
          "execution_count": 68
        }
      ]
    },
    {
      "cell_type": "code",
      "source": [
        "a.pop()"
      ],
      "metadata": {
        "colab": {
          "base_uri": "https://localhost:8080/",
          "height": 36
        },
        "id": "Jt4jVEulXUH2",
        "outputId": "2df10e43-cdba-49cf-d891-4200f958b069"
      },
      "execution_count": 69,
      "outputs": [
        {
          "output_type": "execute_result",
          "data": {
            "text/plain": [
              "'hi'"
            ],
            "application/vnd.google.colaboratory.intrinsic+json": {
              "type": "string"
            }
          },
          "metadata": {},
          "execution_count": 69
        }
      ]
    },
    {
      "cell_type": "code",
      "source": [
        "a"
      ],
      "metadata": {
        "colab": {
          "base_uri": "https://localhost:8080/"
        },
        "id": "Ve-XEC6VXaqP",
        "outputId": "30ced715-f8b3-4a87-821f-4a39f95f541d"
      },
      "execution_count": 70,
      "outputs": [
        {
          "output_type": "execute_result",
          "data": {
            "text/plain": [
              "{-4, 11, 'false'}"
            ]
          },
          "metadata": {},
          "execution_count": 70
        }
      ]
    },
    {
      "cell_type": "code",
      "source": [
        "a.clear()"
      ],
      "metadata": {
        "id": "jeFd2CfsXbyD"
      },
      "execution_count": 71,
      "outputs": []
    },
    {
      "cell_type": "code",
      "source": [
        "a"
      ],
      "metadata": {
        "colab": {
          "base_uri": "https://localhost:8080/"
        },
        "id": "nRtKbv2qXi9Z",
        "outputId": "aa3f8b97-9aff-4eb7-f5da-62f3a2aaa1bf"
      },
      "execution_count": 72,
      "outputs": [
        {
          "output_type": "execute_result",
          "data": {
            "text/plain": [
              "set()"
            ]
          },
          "metadata": {},
          "execution_count": 72
        }
      ]
    },
    {
      "cell_type": "code",
      "source": [
        "#Union and Intersection in sets"
      ],
      "metadata": {
        "id": "NxLqxBybXjqh"
      },
      "execution_count": 73,
      "outputs": []
    },
    {
      "cell_type": "code",
      "source": [
        "x={2,-3,'hi',21,90,4.2,True,3+5j}\n",
        "y={3+7j,'hi',90,6,-3,'hello'}"
      ],
      "metadata": {
        "id": "i8IIquSmX6GY"
      },
      "execution_count": 74,
      "outputs": []
    },
    {
      "cell_type": "code",
      "source": [
        "x.intersection(y)"
      ],
      "metadata": {
        "colab": {
          "base_uri": "https://localhost:8080/"
        },
        "id": "eKHFyn-xYUmU",
        "outputId": "7106f976-7bac-451b-ac1d-79ae1afcacc4"
      },
      "execution_count": 76,
      "outputs": [
        {
          "output_type": "execute_result",
          "data": {
            "text/plain": [
              "{-3, 90, 'hi'}"
            ]
          },
          "metadata": {},
          "execution_count": 76
        }
      ]
    },
    {
      "cell_type": "code",
      "source": [
        "y.union(x)"
      ],
      "metadata": {
        "colab": {
          "base_uri": "https://localhost:8080/"
        },
        "id": "HHuq9lBPYnUt",
        "outputId": "6215ea49-378b-4a5a-a36e-a9a4bb73c7c3"
      },
      "execution_count": 77,
      "outputs": [
        {
          "output_type": "execute_result",
          "data": {
            "text/plain": [
              "{(3+5j), (3+7j), -3, 2, 21, 4.2, 6, 90, True, 'hello', 'hi'}"
            ]
          },
          "metadata": {},
          "execution_count": 77
        }
      ]
    },
    {
      "cell_type": "code",
      "source": [
        "#Wap to create a dict of hindi words with values as their english translation.Provide user with an option to look it up\n",
        "w={\n",
        "    'namaste':'hello',\n",
        "    'kese ho':'how are you',\n",
        "    'shakkar':'sugar',\n",
        "    'khana':'food'\n",
        "}\n",
        "print(w.keys())\n",
        "q=input('enter word\\n')\n",
        "#print('Meaning of word is:',w[q]) ------- This will give error if key is not present in dict\n",
        "\n",
        "print('Meaning of word is:', w.get(q))   -----This will not give error even if key is not present in dict"
      ],
      "metadata": {
        "colab": {
          "base_uri": "https://localhost:8080/"
        },
        "id": "i4Y4kQxTYxg-",
        "outputId": "76beab0d-42c0-41b0-9fc4-2b387aa75066"
      },
      "execution_count": 85,
      "outputs": [
        {
          "output_type": "stream",
          "name": "stdout",
          "text": [
            "dict_keys(['namaste', 'kese ho', 'shakkar', 'khana'])\n",
            "enter word\n",
            "paani\n",
            "Meaning of word is: None\n"
          ]
        }
      ]
    },
    {
      "cell_type": "code",
      "source": [
        "#Wap to input 8nos from user and print all unique nos once\n",
        "a=int(input('Enter 1st no'))\n",
        "b=int(input('Enter 1st no'))\n",
        "c=int(input('Enter 1st no'))\n",
        "d=int(input('Enter 1st no'))\n",
        "e=int(input('Enter 1st no'))\n",
        "f=int(input('Enter 1st no'))\n",
        "g=int(input('Enter 1st no'))\n",
        "h=int(input('Enter 1st no'))\n",
        "x={a,b,c,d,e,f,g}\n",
        "x"
      ],
      "metadata": {
        "colab": {
          "base_uri": "https://localhost:8080/"
        },
        "id": "toTSUu5ndPsl",
        "outputId": "b2ef874c-1c23-4883-9a99-622739c4e254"
      },
      "execution_count": 86,
      "outputs": [
        {
          "name": "stdout",
          "output_type": "stream",
          "text": [
            "Enter 1st no4\n",
            "Enter 1st no6\n",
            "Enter 1st no6\n",
            "Enter 1st no7\n",
            "Enter 1st no1\n",
            "Enter 1st no4\n",
            "Enter 1st no8\n",
            "Enter 1st no5\n"
          ]
        },
        {
          "output_type": "execute_result",
          "data": {
            "text/plain": [
              "{1, 4, 6, 7, 8}"
            ]
          },
          "metadata": {},
          "execution_count": 86
        }
      ]
    },
    {
      "cell_type": "code",
      "source": [
        "a={18,'18'}"
      ],
      "metadata": {
        "id": "xIb0V5y8hJ_7"
      },
      "execution_count": 87,
      "outputs": []
    },
    {
      "cell_type": "code",
      "source": [
        "a"
      ],
      "metadata": {
        "colab": {
          "base_uri": "https://localhost:8080/"
        },
        "id": "4a-vuuE-vRyg",
        "outputId": "94272758-66f4-4028-bdef-65383bf06ef8"
      },
      "execution_count": 88,
      "outputs": [
        {
          "output_type": "execute_result",
          "data": {
            "text/plain": [
              "{18, '18'}"
            ]
          },
          "metadata": {},
          "execution_count": 88
        }
      ]
    },
    {
      "cell_type": "code",
      "source": [
        "type(a)"
      ],
      "metadata": {
        "colab": {
          "base_uri": "https://localhost:8080/"
        },
        "id": "TCPM0vQ2vSwJ",
        "outputId": "fa0e2fdb-fa47-4604-a088-a8e99ee993f1"
      },
      "execution_count": 89,
      "outputs": [
        {
          "output_type": "execute_result",
          "data": {
            "text/plain": [
              "set"
            ]
          },
          "metadata": {},
          "execution_count": 89
        }
      ]
    },
    {
      "cell_type": "code",
      "source": [
        "#find length of set after performing given operations\n",
        "s=set()\n",
        "s.add(20)\n",
        "s.add(20.0)\n",
        "s.add('20')\n",
        "len(s)"
      ],
      "metadata": {
        "colab": {
          "base_uri": "https://localhost:8080/"
        },
        "id": "rmOeRV0_vVBP",
        "outputId": "5833f830-4eaa-4285-bab3-1235d52f23c9"
      },
      "execution_count": 93,
      "outputs": [
        {
          "output_type": "execute_result",
          "data": {
            "text/plain": [
              "2"
            ]
          },
          "metadata": {},
          "execution_count": 93
        }
      ]
    },
    {
      "cell_type": "code",
      "source": [
        "#empty set\n",
        "f=set()"
      ],
      "metadata": {
        "id": "_YHSvaXHxdH1"
      },
      "execution_count": 94,
      "outputs": []
    },
    {
      "cell_type": "code",
      "source": [
        "type(f)"
      ],
      "metadata": {
        "colab": {
          "base_uri": "https://localhost:8080/"
        },
        "id": "5J7DQrVO0n3E",
        "outputId": "93af7fdd-7484-4b8c-a2c3-75865341386f"
      },
      "execution_count": 95,
      "outputs": [
        {
          "output_type": "execute_result",
          "data": {
            "text/plain": [
              "set"
            ]
          },
          "metadata": {},
          "execution_count": 95
        }
      ]
    },
    {
      "cell_type": "code",
      "source": [
        "#empty dict\n",
        "q={}"
      ],
      "metadata": {
        "id": "AZju9nwB0pxt"
      },
      "execution_count": 96,
      "outputs": []
    },
    {
      "cell_type": "code",
      "source": [
        "type(q)"
      ],
      "metadata": {
        "colab": {
          "base_uri": "https://localhost:8080/"
        },
        "id": "cIr-ugIl0s9v",
        "outputId": "f4e00d42-ae57-40bf-9404-ec0cfc005ae3"
      },
      "execution_count": 97,
      "outputs": [
        {
          "output_type": "execute_result",
          "data": {
            "text/plain": [
              "dict"
            ]
          },
          "metadata": {},
          "execution_count": 97
        }
      ]
    },
    {
      "cell_type": "code",
      "source": [
        "#Create an empty dict.Allow 4 friends to enter their fav language as values and use keys as their names.Assume that names are unique\n",
        "mydict={\n",
        "\n",
        "}\n",
        "print(mydict)\n",
        "lang1=input('enter ram fav language\\n')\n",
        "lang2=input('enter shyam fav language\\n')\n",
        "lang3=input('enter dev fav language\\n')\n",
        "lang4=input('enter ravan fav language\\n')\n",
        "mydict['ram']=lang1\n",
        "mydict['shyam']=lang2\n",
        "mydict['dev']=lang3\n",
        "mydict['ravan']=lang4\n",
        "print(mydict)"
      ],
      "metadata": {
        "colab": {
          "base_uri": "https://localhost:8080/"
        },
        "id": "gV2Te2m10uDw",
        "outputId": "7e8f0fc3-127e-49ce-be30-166e12d8c969"
      },
      "execution_count": 105,
      "outputs": [
        {
          "output_type": "stream",
          "name": "stdout",
          "text": [
            "{}\n",
            "enter ram fav language\n",
            "java\n",
            "enter shyam fav language\n",
            "c\n",
            "enter dev fav language\n",
            "php\n",
            "enter ravan fav language\n",
            "python\n",
            "{'ram': 'java', 'shyam': 'c', 'dev': 'php', 'ravan': 'python'}\n"
          ]
        }
      ]
    },
    {
      "cell_type": "code",
      "source": [
        "#if names of 2 friends were same in prev problem, then what happen\n",
        "mydict={\n",
        "\n",
        "}\n",
        "print(mydict)\n",
        "lang1=input('enter ram fav language\\n')\n",
        "lang2=input('enter ram fav language\\n')\n",
        "lang3=input('enter dev fav language\\n')\n",
        "lang4=input('enter ravan fav language\\n')\n",
        "mydict['ram']=lang1\n",
        "mydict['ram']=lang2\n",
        "mydict['dev']=lang3\n",
        "mydict['ravan']=lang4\n",
        "print(mydict)"
      ],
      "metadata": {
        "colab": {
          "base_uri": "https://localhost:8080/"
        },
        "id": "ueG6B1xh2K6q",
        "outputId": "7e98d525-dbdb-432b-de82-5ae0596ce0bd"
      },
      "execution_count": 107,
      "outputs": [
        {
          "output_type": "stream",
          "name": "stdout",
          "text": [
            "{}\n",
            "enter ram fav language\n",
            "oops\n",
            "enter ram fav language\n",
            "ajax\n",
            "enter dev fav language\n",
            "c\n",
            "enter ravan fav language\n",
            "c++\n",
            "{'ram': 'ajax', 'dev': 'c', 'ravan': 'c++'}\n"
          ]
        }
      ]
    },
    {
      "cell_type": "code",
      "source": [
        "#if languages of 2 friends were same in prev problem, then what happen\n",
        "mydict={\n",
        "\n",
        "}\n",
        "print(mydict)\n",
        "lang1=input('enter ram fav language\\n')\n",
        "lang2=input('enter ram fav language\\n')\n",
        "lang3=input('enter dev fav language\\n')\n",
        "lang4=input('enter ravan fav language\\n')\n",
        "mydict['ram']=lang1\n",
        "mydict['shyam']=lang2\n",
        "mydict['dev']=lang3\n",
        "mydict['ravan']=lang4\n",
        "print(mydict)"
      ],
      "metadata": {
        "colab": {
          "base_uri": "https://localhost:8080/"
        },
        "id": "GDqL-lnHLeqe",
        "outputId": "d07c7ecf-2969-4dea-c17e-3b0d63e0e30a"
      },
      "execution_count": 108,
      "outputs": [
        {
          "output_type": "stream",
          "name": "stdout",
          "text": [
            "{}\n",
            "enter ram fav language\n",
            "c\n",
            "enter ram fav language\n",
            "php\n",
            "enter dev fav language\n",
            "php\n",
            "enter ravan fav language\n",
            "python\n",
            "{'ram': 'c', 'shyam': 'php', 'dev': 'php', 'ravan': 'python'}\n"
          ]
        }
      ]
    },
    {
      "cell_type": "code",
      "source": [],
      "metadata": {
        "id": "l4GdH-3AMcOT"
      },
      "execution_count": null,
      "outputs": []
    }
  ]
}