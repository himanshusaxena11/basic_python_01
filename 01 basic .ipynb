{
 "cells": [
  {
   "cell_type": "code",
   "execution_count": 1,
   "id": "90e0f4b5",
   "metadata": {},
   "outputs": [
    {
     "name": "stdout",
     "output_type": "stream",
     "text": [
      "hello world\n"
     ]
    }
   ],
   "source": [
    "print('hello world')"
   ]
  },
  {
   "cell_type": "code",
   "execution_count": 2,
   "id": "bdef6fca",
   "metadata": {},
   "outputs": [
    {
     "name": "stdout",
     "output_type": "stream",
     "text": [
      "are you there\n"
     ]
    }
   ],
   "source": [
    "print('are you there')"
   ]
  },
  {
   "cell_type": "code",
   "execution_count": 3,
   "id": "803e65e9",
   "metadata": {},
   "outputs": [
    {
     "name": "stdout",
     "output_type": "stream",
     "text": [
      "anu book\n"
     ]
    }
   ],
   "source": [
    "print('anu book')"
   ]
  },
  {
   "cell_type": "code",
   "execution_count": 4,
   "id": "a1e1926b",
   "metadata": {},
   "outputs": [
    {
     "name": "stdout",
     "output_type": "stream",
     "text": [
      "anu book\n"
     ]
    }
   ],
   "source": [
    "print(\"anu book\")"
   ]
  },
  {
   "cell_type": "code",
   "execution_count": 5,
   "id": "7c97c9ca",
   "metadata": {},
   "outputs": [
    {
     "ename": "SyntaxError",
     "evalue": "invalid syntax (2689292837.py, line 1)",
     "output_type": "error",
     "traceback": [
      "\u001b[1;36m  Input \u001b[1;32mIn [5]\u001b[1;36m\u001b[0m\n\u001b[1;33m    print('anu's book')\u001b[0m\n\u001b[1;37m               ^\u001b[0m\n\u001b[1;31mSyntaxError\u001b[0m\u001b[1;31m:\u001b[0m invalid syntax\n"
     ]
    }
   ],
   "source": [
    "print('anu's book')"
   ]
  },
  {
   "cell_type": "code",
   "execution_count": 6,
   "id": "50fbae39",
   "metadata": {},
   "outputs": [
    {
     "name": "stdout",
     "output_type": "stream",
     "text": [
      "anu's book\n"
     ]
    }
   ],
   "source": [
    "print(\"anu's book\")"
   ]
  },
  {
   "cell_type": "code",
   "execution_count": 7,
   "id": "b5aedcbb",
   "metadata": {},
   "outputs": [
    {
     "name": "stdout",
     "output_type": "stream",
     "text": [
      "793\n"
     ]
    }
   ],
   "source": [
    "print(793)"
   ]
  },
  {
   "cell_type": "code",
   "execution_count": 8,
   "id": "1fec3868",
   "metadata": {},
   "outputs": [
    {
     "name": "stdout",
     "output_type": "stream",
     "text": [
      "637\n"
     ]
    }
   ],
   "source": [
    "print(\"637\")"
   ]
  },
  {
   "cell_type": "code",
   "execution_count": 9,
   "id": "8a8cf739",
   "metadata": {},
   "outputs": [
    {
     "name": "stdout",
     "output_type": "stream",
     "text": [
      "739\n"
     ]
    }
   ],
   "source": [
    "print('739')"
   ]
  },
  {
   "cell_type": "code",
   "execution_count": 10,
   "id": "2f0c292f",
   "metadata": {},
   "outputs": [
    {
     "ename": "SyntaxError",
     "evalue": "EOL while scanning string literal (689794501.py, line 1)",
     "output_type": "error",
     "traceback": [
      "\u001b[1;36m  Input \u001b[1;32mIn [10]\u001b[1;36m\u001b[0m\n\u001b[1;33m    print('or bhai\u001b[0m\n\u001b[1;37m                  ^\u001b[0m\n\u001b[1;31mSyntaxError\u001b[0m\u001b[1;31m:\u001b[0m EOL while scanning string literal\n"
     ]
    }
   ],
   "source": [
    "print('or bhai\n",
    "      kaha ho\n",
    "      milte ni')"
   ]
  },
  {
   "cell_type": "code",
   "execution_count": 11,
   "id": "4bd217c3",
   "metadata": {},
   "outputs": [
    {
     "ename": "SyntaxError",
     "evalue": "EOL while scanning string literal (2772310064.py, line 1)",
     "output_type": "error",
     "traceback": [
      "\u001b[1;36m  Input \u001b[1;32mIn [11]\u001b[1;36m\u001b[0m\n\u001b[1;33m    print(\"or bhai\u001b[0m\n\u001b[1;37m                  ^\u001b[0m\n\u001b[1;31mSyntaxError\u001b[0m\u001b[1;31m:\u001b[0m EOL while scanning string literal\n"
     ]
    }
   ],
   "source": [
    "print(\"or bhai\n",
    "      kaha ho\n",
    "      milte ni\")"
   ]
  },
  {
   "cell_type": "code",
   "execution_count": 12,
   "id": "d32ffcee",
   "metadata": {},
   "outputs": [
    {
     "name": "stdout",
     "output_type": "stream",
     "text": [
      "'or bhai\n",
      "      kaha ho\n",
      "      milte ni\n"
     ]
    }
   ],
   "source": [
    "print(''''or bhai\n",
    "      kaha ho\n",
    "      milte ni''')"
   ]
  },
  {
   "cell_type": "code",
   "execution_count": 13,
   "id": "4ec1440b",
   "metadata": {},
   "outputs": [
    {
     "name": "stdout",
     "output_type": "stream",
     "text": [
      "or bhai\n",
      "      kaha ho\n",
      "      milte ni\n"
     ]
    }
   ],
   "source": [
    "print(\"\"\"or bhai\n",
    "      kaha ho\n",
    "      milte ni\"\"\")"
   ]
  },
  {
   "cell_type": "code",
   "execution_count": 15,
   "id": "e93b1688",
   "metadata": {},
   "outputs": [
    {
     "name": "stdout",
     "output_type": "stream",
     "text": [
      "avg is  74.33333333333333\n"
     ]
    }
   ],
   "source": [
    "#wap to find average of student in 3 subject?\n",
    "a=89\n",
    "b=78\n",
    "c=56\n",
    "avg=(a+b+c)/3\n",
    "print('avg is ',avg)"
   ]
  },
  {
   "cell_type": "code",
   "execution_count": 16,
   "id": "341c46c6",
   "metadata": {},
   "outputs": [
    {
     "name": "stdout",
     "output_type": "stream",
     "text": [
      "even\n"
     ]
    }
   ],
   "source": [
    "#wap to find odd & even no?\n",
    "a=6\n",
    "if a%2!=0:\n",
    "    print('odd')\n",
    "else:\n",
    "    print('even')"
   ]
  },
  {
   "cell_type": "code",
   "execution_count": 19,
   "id": "22024298",
   "metadata": {},
   "outputs": [
    {
     "name": "stdout",
     "output_type": "stream",
     "text": [
      "teen\n"
     ]
    }
   ],
   "source": [
    "#wap to find individual is child or adult?\n",
    "age=20\n",
    "if age<20:\n",
    "    print('child')\n",
    "elif age==20:\n",
    "    print('teen')\n",
    "elif age>20:\n",
    "    print('adult')"
   ]
  },
  {
   "cell_type": "code",
   "execution_count": 31,
   "id": "012d23d6",
   "metadata": {},
   "outputs": [
    {
     "name": "stdout",
     "output_type": "stream",
     "text": [
      "rainy day\n"
     ]
    }
   ],
   "source": [
    "#wap to find if it is rainy outside or not,condition is if temp is 20 degree then it is rainy.\n",
    "temp =20\n",
    "if temp==20:\n",
    "    print('rainy day')"
   ]
  },
  {
   "cell_type": "code",
   "execution_count": 30,
   "id": "8dcb3d56",
   "metadata": {},
   "outputs": [
    {
     "name": "stdout",
     "output_type": "stream",
     "text": [
      "boring day\n"
     ]
    }
   ],
   "source": [
    "#wap to print holiday if the day is sunday otherwise print boring day\n",
    "day='friday'\n",
    "if day=='sunday':\n",
    "    print('holiday')\n",
    "else:\n",
    "    print('boring day')"
   ]
  },
  {
   "cell_type": "code",
   "execution_count": null,
   "id": "9acf75aa",
   "metadata": {},
   "outputs": [],
   "source": []
  }
 ],
 "metadata": {
  "kernelspec": {
   "display_name": "Python 3 (ipykernel)",
   "language": "python",
   "name": "python3"
  },
  "language_info": {
   "codemirror_mode": {
    "name": "ipython",
    "version": 3
   },
   "file_extension": ".py",
   "mimetype": "text/x-python",
   "name": "python",
   "nbconvert_exporter": "python",
   "pygments_lexer": "ipython3",
   "version": "3.9.12"
  }
 },
 "nbformat": 4,
 "nbformat_minor": 5
}
