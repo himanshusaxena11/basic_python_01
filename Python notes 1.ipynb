{
 "cells": [
  {
   "cell_type": "code",
   "execution_count": null,
   "id": "33b57c7b",
   "metadata": {},
   "outputs": [],
   "source": [
    "#Python is a popular programming language,created by Guido van Rossum in 1991\n",
    "# uses--1)server side web development\n",
    "#       2)software development\n",
    "#       3)maths\n",
    "#       4)system scripting - A scripting language is a programming language designed for integrating and communicating \n",
    "#         with other programming languages.\n",
    "#        5)big data"
   ]
  },
  {
   "cell_type": "code",
   "execution_count": null,
   "id": "b5764dcd",
   "metadata": {},
   "outputs": [],
   "source": [
    "#Python runs on INTERPRETER system"
   ]
  },
  {
   "cell_type": "code",
   "execution_count": 2,
   "id": "9753844e",
   "metadata": {},
   "outputs": [
    {
     "name": "stdout",
     "output_type": "stream",
     "text": [
      "hello world\n"
     ]
    }
   ],
   "source": [
    "print('hello world')"
   ]
  },
  {
   "cell_type": "code",
   "execution_count": 7,
   "id": "786a933c",
   "metadata": {},
   "outputs": [
    {
     "name": "stdout",
     "output_type": "stream",
     "text": [
      "five is greater than three\n",
      "five is greater than three\n"
     ]
    }
   ],
   "source": [
    "# indentation means space in beginning of code, python uses indentation to indicate a block of code\n",
    "if 5>3:\n",
    "    print('five is greater than three')\n",
    "    print('five is greater than three')"
   ]
  },
  {
   "cell_type": "code",
   "execution_count": 9,
   "id": "857afadd",
   "metadata": {},
   "outputs": [],
   "source": [
    "#  variables are created when you assign a value to it\n",
    "a=4\n",
    "b='hello'"
   ]
  },
  {
   "cell_type": "code",
   "execution_count": 10,
   "id": "eccdbb27",
   "metadata": {},
   "outputs": [
    {
     "name": "stdout",
     "output_type": "stream",
     "text": [
      "4\n",
      "hello\n"
     ]
    }
   ],
   "source": [
    "print(a)\n",
    "print(b)"
   ]
  },
  {
   "cell_type": "code",
   "execution_count": null,
   "id": "5bc6f9cd",
   "metadata": {},
   "outputs": [],
   "source": [
    "#Comments are used to explain Python code, to make the code more readable and to prevent execution when testing code.\n",
    "#comment doesnt have to be text that explains the code, it can also be used to prevent Python from executing code"
   ]
  },
  {
   "cell_type": "code",
   "execution_count": 12,
   "id": "e3bf8215",
   "metadata": {},
   "outputs": [
    {
     "name": "stdout",
     "output_type": "stream",
     "text": [
      "hey\n"
     ]
    }
   ],
   "source": [
    "#print('hi')\n",
    "print('hey')"
   ]
  },
  {
   "cell_type": "code",
   "execution_count": 11,
   "id": "4b1466f4",
   "metadata": {},
   "outputs": [
    {
     "name": "stdout",
     "output_type": "stream",
     "text": [
      "hello\n"
     ]
    }
   ],
   "source": [
    "print('hello')  #this is comment"
   ]
  },
  {
   "cell_type": "code",
   "execution_count": 14,
   "id": "7ca6edcc",
   "metadata": {},
   "outputs": [
    {
     "name": "stdout",
     "output_type": "stream",
     "text": [
      "go there\n"
     ]
    }
   ],
   "source": [
    "\"\"\"hello ! \n",
    "how are you                        # As long as the string is not assigned to a variable, Python will read the code,\n",
    "keep going\"\"\"                      # but then ignore it, and you have made a multiline comment.                       \n",
    "print('go there')"
   ]
  },
  {
   "cell_type": "code",
   "execution_count": null,
   "id": "c84c7e59",
   "metadata": {},
   "outputs": [],
   "source": [
    "#Variable-- Containers for storing data value\n",
    "# A variable is created the moment you first assign a value to it."
   ]
  },
  {
   "cell_type": "code",
   "execution_count": 16,
   "id": "3f7c9bf7",
   "metadata": {},
   "outputs": [
    {
     "name": "stdout",
     "output_type": "stream",
     "text": [
      "3\n",
      "hello python\n"
     ]
    }
   ],
   "source": [
    "x=3\n",
    "z='hello python'\n",
    "print(x)\n",
    "print(z)"
   ]
  },
  {
   "cell_type": "code",
   "execution_count": 19,
   "id": "af3acebd",
   "metadata": {},
   "outputs": [
    {
     "name": "stdout",
     "output_type": "stream",
     "text": [
      "there\n"
     ]
    }
   ],
   "source": [
    "#Variable can be changed after they have been set\n",
    "x=8\n",
    "x='there'\n",
    "print(x)"
   ]
  },
  {
   "cell_type": "code",
   "execution_count": 21,
   "id": "86fd1f2d",
   "metadata": {},
   "outputs": [
    {
     "name": "stdout",
     "output_type": "stream",
     "text": [
      "3 3.0 3\n"
     ]
    }
   ],
   "source": [
    "x=int(3)\n",
    "y=float(3)\n",
    "z=str(3)\n",
    "print(x,y,z)"
   ]
  },
  {
   "cell_type": "code",
   "execution_count": 23,
   "id": "febe0e7c",
   "metadata": {},
   "outputs": [
    {
     "name": "stdout",
     "output_type": "stream",
     "text": [
      "<class 'int'> <class 'str'> <class 'bool'> <class 'complex'>\n"
     ]
    }
   ],
   "source": [
    "p=4\n",
    "q='false'\n",
    "r=True\n",
    "s=4+5j\n",
    "print(type(p)  ,  type(q),  type(r),  type(s))"
   ]
  },
  {
   "cell_type": "code",
   "execution_count": 26,
   "id": "867c3be3",
   "metadata": {},
   "outputs": [
    {
     "name": "stdout",
     "output_type": "stream",
     "text": [
      "ram shyam\n"
     ]
    }
   ],
   "source": [
    "a='ram'\n",
    "b=\"shyam\"\n",
    "print(a,b)"
   ]
  },
  {
   "cell_type": "code",
   "execution_count": 31,
   "id": "9223a55d",
   "metadata": {},
   "outputs": [
    {
     "name": "stdout",
     "output_type": "stream",
     "text": [
      "see\n",
      "4\n"
     ]
    }
   ],
   "source": [
    "x=4\n",
    "X='see'\n",
    "print(X)\n",
    "print(x)"
   ]
  },
  {
   "cell_type": "code",
   "execution_count": null,
   "id": "8a2474b3",
   "metadata": {},
   "outputs": [],
   "source": [
    "# A variable can have a short name (like x and y) or a more descriptive name (age, carname, total_volume).\n",
    "# Rules for Python variables:\n",
    "# A variable name must start with a letter or the underscore character\n",
    "# A variable name cannot start with a number\n",
    "# A variable name can only contain alpha-numeric characters and underscores (A-z, 0-9, and _ )\n",
    "# Variable names are case-sensitive like-name,Name and NAME are diff variablea,,"
   ]
  },
  {
   "cell_type": "code",
   "execution_count": 34,
   "id": "2a9311bc",
   "metadata": {},
   "outputs": [
    {
     "name": "stdout",
     "output_type": "stream",
     "text": [
      "red green white\n",
      "red\n",
      "green\n",
      "white\n"
     ]
    }
   ],
   "source": [
    "##  Many values to Multiple Variables\n",
    "a,b,c='red','green','white'\n",
    "print(a,b,c)\n",
    "print(a)\n",
    "print(b)\n",
    "print(c)"
   ]
  },
  {
   "cell_type": "code",
   "execution_count": 36,
   "id": "34bddffe",
   "metadata": {},
   "outputs": [
    {
     "name": "stdout",
     "output_type": "stream",
     "text": [
      "yellow\n",
      "yellow\n",
      "yellow\n"
     ]
    }
   ],
   "source": [
    "##  One value to Multiple Variables\n",
    "p=q=r='yellow'\n",
    "print(p)\n",
    "print(q)\n",
    "print(r)"
   ]
  },
  {
   "cell_type": "markdown",
   "id": "9053c7fd",
   "metadata": {},
   "source": [
    "# Unpacking a collection"
   ]
  },
  {
   "cell_type": "code",
   "execution_count": null,
   "id": "9b3a16fa",
   "metadata": {},
   "outputs": [],
   "source": [
    "# If you have a collection of values in a list, tuple etc. Python allows you to extract the values into variables"
   ]
  },
  {
   "cell_type": "code",
   "execution_count": 37,
   "id": "9161ca41",
   "metadata": {},
   "outputs": [],
   "source": [
    "colours=['pink','green','red','brown','black']"
   ]
  },
  {
   "cell_type": "code",
   "execution_count": 38,
   "id": "11e09153",
   "metadata": {},
   "outputs": [],
   "source": [
    "x=y=z=colours"
   ]
  },
  {
   "cell_type": "code",
   "execution_count": 39,
   "id": "35cab7d8",
   "metadata": {},
   "outputs": [
    {
     "name": "stdout",
     "output_type": "stream",
     "text": [
      "['pink', 'green', 'red', 'brown', 'black']\n"
     ]
    }
   ],
   "source": [
    "print(x)"
   ]
  },
  {
   "cell_type": "code",
   "execution_count": 40,
   "id": "32617906",
   "metadata": {},
   "outputs": [
    {
     "name": "stdout",
     "output_type": "stream",
     "text": [
      "['pink', 'green', 'red', 'brown', 'black']\n"
     ]
    }
   ],
   "source": [
    "print(y)"
   ]
  },
  {
   "cell_type": "code",
   "execution_count": 41,
   "id": "16376419",
   "metadata": {},
   "outputs": [
    {
     "name": "stdout",
     "output_type": "stream",
     "text": [
      "['pink', 'green', 'red', 'brown', 'black']\n"
     ]
    }
   ],
   "source": [
    "print(z)"
   ]
  },
  {
   "cell_type": "code",
   "execution_count": 45,
   "id": "7e93d036",
   "metadata": {},
   "outputs": [
    {
     "name": "stdout",
     "output_type": "stream",
     "text": [
      "good mrng hello hi there\n"
     ]
    }
   ],
   "source": [
    "x='good mrng'\n",
    "y=' hello'\n",
    "z=' hi there'\n",
    "print(x+y+z)"
   ]
  },
  {
   "cell_type": "code",
   "execution_count": 46,
   "id": "c7b61542",
   "metadata": {},
   "outputs": [
    {
     "name": "stdout",
     "output_type": "stream",
     "text": [
      "7\n"
     ]
    }
   ],
   "source": [
    "p=3\n",
    "q=4\n",
    "print(p+q)"
   ]
  },
  {
   "cell_type": "code",
   "execution_count": null,
   "id": "dd999b1c",
   "metadata": {},
   "outputs": [],
   "source": [
    "## GLOBAL VARIABLE--Variables that are created outside of a function \n",
    "# Global variables can be used by everyone, both inside of functions and outside."
   ]
  },
  {
   "cell_type": "code",
   "execution_count": null,
   "id": "261bd44e",
   "metadata": {},
   "outputs": [],
   "source": [
    "## LOCAL VARIABLE--If you create a variable with the same name inside a function, this variable will be local,\n",
    "## and can only be used inside the function. \n",
    "## The global variable with the same name will remain as it was, global and with the original value."
   ]
  },
  {
   "cell_type": "code",
   "execution_count": 47,
   "id": "ed407a84",
   "metadata": {},
   "outputs": [],
   "source": [
    "carname='volvo'"
   ]
  },
  {
   "cell_type": "code",
   "execution_count": 48,
   "id": "2ebff111",
   "metadata": {},
   "outputs": [
    {
     "name": "stdout",
     "output_type": "stream",
     "text": [
      "5\n"
     ]
    }
   ],
   "source": [
    "import random\n",
    "print(random.randrange(2,11))"
   ]
  },
  {
   "cell_type": "code",
   "execution_count": 62,
   "id": "f39bae54",
   "metadata": {},
   "outputs": [
    {
     "name": "stdout",
     "output_type": "stream",
     "text": [
      "w\n"
     ]
    }
   ],
   "source": [
    "x='hello ! how are you'\n",
    "print(x[10])"
   ]
  },
  {
   "cell_type": "code",
   "execution_count": 63,
   "id": "064b9528",
   "metadata": {},
   "outputs": [
    {
     "name": "stdout",
     "output_type": "stream",
     "text": [
      "h\n",
      "a\n",
      "p\n",
      "p\n",
      "y\n",
      "n\n",
      "e\n",
      "w\n",
      "y\n",
      "e\n",
      "a\n",
      "r\n"
     ]
    }
   ],
   "source": [
    "for x in 'happynewyear':\n",
    "    print(x)"
   ]
  },
  {
   "cell_type": "code",
   "execution_count": 64,
   "id": "1608bfeb",
   "metadata": {},
   "outputs": [
    {
     "data": {
      "text/plain": [
       "8"
      ]
     },
     "execution_count": 64,
     "metadata": {},
     "output_type": "execute_result"
    }
   ],
   "source": [
    "a='good bye'\n",
    "len(a)"
   ]
  },
  {
   "cell_type": "code",
   "execution_count": 68,
   "id": "c80bbe67",
   "metadata": {},
   "outputs": [
    {
     "name": "stdout",
     "output_type": "stream",
     "text": [
      "re \n"
     ]
    }
   ],
   "source": [
    "a='how are you'\n",
    "print(a[5:8])"
   ]
  },
  {
   "cell_type": "code",
   "execution_count": 69,
   "id": "5df896ac",
   "metadata": {},
   "outputs": [
    {
     "name": "stdout",
     "output_type": "stream",
     "text": [
      "how are\n"
     ]
    }
   ],
   "source": [
    "print(a[:7])"
   ]
  },
  {
   "cell_type": "code",
   "execution_count": 70,
   "id": "4df6c17f",
   "metadata": {},
   "outputs": [
    {
     "name": "stdout",
     "output_type": "stream",
     "text": [
      "w are you\n"
     ]
    }
   ],
   "source": [
    "print(a[2:])"
   ]
  },
  {
   "cell_type": "code",
   "execution_count": 77,
   "id": "4b1b74dc",
   "metadata": {},
   "outputs": [
    {
     "name": "stdout",
     "output_type": "stream",
     "text": [
      "ou\n"
     ]
    }
   ],
   "source": [
    "print(a[-2:])"
   ]
  },
  {
   "cell_type": "code",
   "execution_count": 80,
   "id": "723ac512",
   "metadata": {},
   "outputs": [
    {
     "name": "stdout",
     "output_type": "stream",
     "text": [
      "YOU COME\n"
     ]
    }
   ],
   "source": [
    "x='you come'\n",
    "print(x.upper())"
   ]
  },
  {
   "cell_type": "code",
   "execution_count": 81,
   "id": "c1426a26",
   "metadata": {},
   "outputs": [
    {
     "name": "stdout",
     "output_type": "stream",
     "text": [
      "jnjks kfnkn\n"
     ]
    }
   ],
   "source": [
    "z='jnjks kfnkn'\n",
    "print(z.lower())"
   ]
  },
  {
   "cell_type": "code",
   "execution_count": 82,
   "id": "e5983100",
   "metadata": {},
   "outputs": [
    {
     "name": "stdout",
     "output_type": "stream",
     "text": [
      "jnjks kfnkn\n"
     ]
    }
   ],
   "source": [
    "print(z.strip())"
   ]
  },
  {
   "cell_type": "code",
   "execution_count": 85,
   "id": "bb3de0fd",
   "metadata": {},
   "outputs": [
    {
     "name": "stdout",
     "output_type": "stream",
     "text": [
      "how !are you doing\n"
     ]
    }
   ],
   "source": [
    "a=\" how !are you doing \"\n",
    "print(a.strip())"
   ]
  },
  {
   "cell_type": "code",
   "execution_count": 93,
   "id": "e2c91e6e",
   "metadata": {},
   "outputs": [
    {
     "name": "stdout",
     "output_type": "stream",
     "text": [
      " how !are you doing \n",
      " how !well you doing \n"
     ]
    }
   ],
   "source": [
    "print(a)\n",
    "print(a.replace('are','well'))"
   ]
  },
  {
   "cell_type": "code",
   "execution_count": 98,
   "id": "6ed264e1",
   "metadata": {},
   "outputs": [
    {
     "name": "stdout",
     "output_type": "stream",
     "text": [
      "['hello', ' ram']\n"
     ]
    }
   ],
   "source": [
    "x='hello, ram'\n",
    "print(x.split(','))"
   ]
  },
  {
   "cell_type": "code",
   "execution_count": 101,
   "id": "93ebb17d",
   "metadata": {},
   "outputs": [
    {
     "name": "stdout",
     "output_type": "stream",
     "text": [
      "hello there\n"
     ]
    }
   ],
   "source": [
    "a='hello'\n",
    "b='there'\n",
    "print(a+' '+b)"
   ]
  },
  {
   "cell_type": "code",
   "execution_count": 104,
   "id": "1ecfd22a",
   "metadata": {},
   "outputs": [
    {
     "name": "stdout",
     "output_type": "stream",
     "text": [
      "my name is ajay ,and my age is 56\n"
     ]
    }
   ],
   "source": [
    "txt= 'my name is ajay ,and my age is {}'\n",
    "age=56\n",
    "print(txt.format(age))"
   ]
  },
  {
   "cell_type": "code",
   "execution_count": 110,
   "id": "ea526ac4",
   "metadata": {},
   "outputs": [
    {
     "name": "stdout",
     "output_type": "stream",
     "text": [
      "my name is ram having id me34, years of working 3 and salary is 2000\n"
     ]
    }
   ],
   "source": [
    "sal=2000\n",
    "years=3\n",
    "id='me34'\n",
    "txt='my name is ram having id {}, years of working {} and salary is {}'\n",
    "print(txt.format(id,years,sal))"
   ]
  },
  {
   "cell_type": "code",
   "execution_count": null,
   "id": "39ef8284",
   "metadata": {},
   "outputs": [],
   "source": [
    "# Most Values are True\n",
    "# Almost any value is evaluated to True if it has some sort of content.\n",
    "\n",
    "# Any string is True, except empty strings.\n",
    "\n",
    "# Any number is True, except 0.\n",
    "\n",
    "# Any list, tuple, set, and dictionary are True, except empty ones."
   ]
  },
  {
   "cell_type": "code",
   "execution_count": 111,
   "id": "d62aa651",
   "metadata": {},
   "outputs": [
    {
     "name": "stdout",
     "output_type": "stream",
     "text": [
      "True\n"
     ]
    }
   ],
   "source": [
    "x=4\n",
    "print(isinstance(x,int))"
   ]
  },
  {
   "cell_type": "code",
   "execution_count": null,
   "id": "149f432f",
   "metadata": {},
   "outputs": [],
   "source": [
    "## PYTHON OPERATORS\n",
    "# Arithmetic operators\n",
    "# Assignment operators\n",
    "# Comparison operators\n",
    "# Logical operators\n",
    "# Identity operators\n",
    "# Membership operators\n",
    "# Bitwise operators"
   ]
  },
  {
   "cell_type": "code",
   "execution_count": null,
   "id": "7d073bbf",
   "metadata": {},
   "outputs": [],
   "source": []
  }
 ],
 "metadata": {
  "kernelspec": {
   "display_name": "Python 3 (ipykernel)",
   "language": "python",
   "name": "python3"
  },
  "language_info": {
   "codemirror_mode": {
    "name": "ipython",
    "version": 3
   },
   "file_extension": ".py",
   "mimetype": "text/x-python",
   "name": "python",
   "nbconvert_exporter": "python",
   "pygments_lexer": "ipython3",
   "version": "3.9.12"
  }
 },
 "nbformat": 4,
 "nbformat_minor": 5
}
