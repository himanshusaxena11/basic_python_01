{
 "cells": [
  {
   "cell_type": "code",
   "execution_count": 1,
   "id": "97f9b79d",
   "metadata": {},
   "outputs": [
    {
     "name": "stdout",
     "output_type": "stream",
     "text": [
      "1\n",
      "2\n",
      "3\n",
      "4\n",
      "5\n",
      "6\n",
      "7\n",
      "8\n",
      "9\n",
      "10\n"
     ]
    }
   ],
   "source": [
    "#wap to print nos from 1 to 10\n",
    "for i in range(1,11):\n",
    "    print(i)"
   ]
  },
  {
   "cell_type": "code",
   "execution_count": 2,
   "id": "ffd53a8d",
   "metadata": {},
   "outputs": [
    {
     "name": "stdout",
     "output_type": "stream",
     "text": [
      "1\n",
      "2\n",
      "3\n",
      "4\n",
      "5\n",
      "6\n",
      "7\n",
      "8\n",
      "9\n",
      "10\n"
     ]
    }
   ],
   "source": [
    "#wap to print nos from 1 to 10\n",
    "x=1\n",
    "while x<11:\n",
    "    print(x)\n",
    "    #x=x+1\n",
    "    x+=1"
   ]
  },
  {
   "cell_type": "code",
   "execution_count": 3,
   "id": "b57c7574",
   "metadata": {},
   "outputs": [
    {
     "name": "stdout",
     "output_type": "stream",
     "text": [
      "0\n",
      "1\n",
      "2\n",
      "3\n",
      "4\n",
      "5\n",
      "6\n",
      "7\n",
      "8\n",
      "9\n",
      "10\n"
     ]
    }
   ],
   "source": [
    "#wap to print nos from 1 to 10\n",
    "for i in range(11):\n",
    "    print(i)"
   ]
  },
  {
   "cell_type": "code",
   "execution_count": 4,
   "id": "30188c70",
   "metadata": {},
   "outputs": [
    {
     "name": "stdout",
     "output_type": "stream",
     "text": [
      "2\n",
      "3\n",
      "4\n",
      "5\n",
      "6\n",
      "7\n",
      "8\n"
     ]
    }
   ],
   "source": [
    "#wap to print nos from 2 to 8\n",
    "for i in range(2,9):\n",
    "    print(i)"
   ]
  },
  {
   "cell_type": "code",
   "execution_count": 5,
   "id": "0d8f8ced",
   "metadata": {},
   "outputs": [
    {
     "name": "stdout",
     "output_type": "stream",
     "text": [
      "1\n",
      "11\n",
      "21\n",
      "31\n",
      "41\n"
     ]
    }
   ],
   "source": [
    "#wap to print nos from 1 to 50 in alternative way\n",
    "for i in range(1,51,10):\n",
    "    print(i)"
   ]
  },
  {
   "cell_type": "code",
   "execution_count": 6,
   "id": "4eb658be",
   "metadata": {},
   "outputs": [
    {
     "name": "stdout",
     "output_type": "stream",
     "text": [
      "-1\n",
      "0\n",
      "1\n",
      "2\n",
      "3\n",
      "4\n",
      "5\n",
      "6\n",
      "7\n",
      "8\n",
      "9\n",
      "10\n"
     ]
    }
   ],
   "source": [
    "#wap to print nos from -1 to 10\n",
    "for i in range(-1, 11):\n",
    "    print(i)"
   ]
  },
  {
   "cell_type": "code",
   "execution_count": 7,
   "id": "f53b18d6",
   "metadata": {},
   "outputs": [
    {
     "name": "stdout",
     "output_type": "stream",
     "text": [
      "-1\n",
      "0\n",
      "1\n",
      "2\n",
      "3\n",
      "4\n",
      "5\n",
      "6\n",
      "7\n",
      "8\n",
      "9\n",
      "10\n"
     ]
    }
   ],
   "source": [
    "#wap to print nos from -1 to 10\n",
    "x=-1\n",
    "while x<11:\n",
    "    print(x)\n",
    "    x=x+1"
   ]
  },
  {
   "cell_type": "code",
   "execution_count": 8,
   "id": "4d8cf1ec",
   "metadata": {},
   "outputs": [
    {
     "name": "stdout",
     "output_type": "stream",
     "text": [
      "-1\n",
      "-2\n",
      "-3\n",
      "-4\n",
      "-5\n",
      "-6\n",
      "-7\n",
      "-8\n",
      "-9\n",
      "-10\n"
     ]
    }
   ],
   "source": [
    "#wap to print nos from -1 to -10\n",
    "for i in range(-1,-11,-1):\n",
    "    print(i)"
   ]
  },
  {
   "cell_type": "code",
   "execution_count": 9,
   "id": "cffd2748",
   "metadata": {},
   "outputs": [],
   "source": [
    "#wap to print nos from -1 to -10\n",
    "# x=-1\n",
    "# while x>-11:\n",
    "#     print(x)\n",
    "#     x=x-1\n",
    "\n",
    "# >>>>>>>>>>> program will not run bcz nos goes from left to rt on num line i.e -ve to +ve"
   ]
  },
  {
   "cell_type": "code",
   "execution_count": 15,
   "id": "d48ab1c9",
   "metadata": {},
   "outputs": [
    {
     "name": "stdout",
     "output_type": "stream",
     "text": [
      "1\n",
      "0\n",
      "-1\n",
      "-2\n",
      "-3\n",
      "-4\n",
      "-5\n",
      "-6\n",
      "-7\n",
      "-8\n",
      "-9\n",
      "-10\n"
     ]
    }
   ],
   "source": [
    "#wap to print nos from 1 to -10\n",
    "for i in range(1,-11,-1):\n",
    "    print(i)"
   ]
  },
  {
   "cell_type": "code",
   "execution_count": null,
   "id": "c47e3a4b",
   "metadata": {},
   "outputs": [],
   "source": [
    "#wap to print nos from 1 to -10\n",
    "# x=1\n",
    "# while x>-11:\n",
    "#     print(x)\n",
    "#     x=x-1\n",
    "\n",
    "# >>>>>>>>>>> program will not run bcz nos goes from left to rt on num line i.e -ve to +ve"
   ]
  },
  {
   "cell_type": "code",
   "execution_count": 31,
   "id": "0f3f244b",
   "metadata": {},
   "outputs": [
    {
     "name": "stdout",
     "output_type": "stream",
     "text": [
      "2\n",
      "4\n",
      "6\n",
      "8\n",
      "10\n",
      "12\n",
      "14\n",
      "16\n",
      "18\n",
      "20\n",
      "22\n",
      "24\n",
      "26\n",
      "28\n",
      "30\n",
      "32\n",
      "34\n",
      "36\n",
      "38\n",
      "40\n",
      "42\n",
      "44\n",
      "46\n",
      "48\n",
      "50\n",
      "count 25\n"
     ]
    }
   ],
   "source": [
    "#wap to print even no from 1-50 .also try to count the nos\n",
    "count=0\n",
    "for i in range(1,51):\n",
    "    if i%2==0:\n",
    "        count=count+1\n",
    "        print(i)\n",
    "print('count',count)"
   ]
  },
  {
   "cell_type": "code",
   "execution_count": 35,
   "id": "2c462304",
   "metadata": {},
   "outputs": [
    {
     "name": "stdout",
     "output_type": "stream",
     "text": [
      "21\n",
      "23\n",
      "25\n",
      "27\n",
      "29\n",
      "31\n",
      "33\n",
      "35\n",
      "37\n",
      "39\n",
      "41\n",
      "43\n",
      "45\n",
      "47\n",
      "49\n",
      "51\n",
      "53\n",
      "55\n",
      "57\n",
      "59\n",
      "61\n",
      "63\n",
      "65\n",
      "67\n",
      "69\n",
      "71\n",
      "73\n",
      "75\n",
      "77\n",
      "79\n",
      "count 30\n"
     ]
    }
   ],
   "source": [
    "#wap to print odd no from 20 to 80.Also try to count the nos\n",
    "count=0\n",
    "for i in range(20,81):\n",
    "    if i%2!=0:\n",
    "        count= count+1\n",
    "        print(i)\n",
    "print('count',count)"
   ]
  },
  {
   "cell_type": "code",
   "execution_count": 58,
   "id": "a78fa409",
   "metadata": {},
   "outputs": [
    {
     "name": "stdout",
     "output_type": "stream",
     "text": [
      "olleh\n",
      "reversed\n"
     ]
    }
   ],
   "source": [
    "#wap to check a string is reversed or not\n",
    "a='hello'\n",
    "b=''\n",
    "for i in a:\n",
    "    b=i+b\n",
    "print(b)\n",
    "if a==b:\n",
    "    print('NR')\n",
    "else:\n",
    "    print('reversed')"
   ]
  },
  {
   "cell_type": "code",
   "execution_count": 46,
   "id": "b1422a64",
   "metadata": {},
   "outputs": [
    {
     "name": "stdout",
     "output_type": "stream",
     "text": [
      "nitin\n",
      "nitin\n",
      "pal\n"
     ]
    }
   ],
   "source": [
    "#wap to check a string is palindrome or not\n",
    "a='nitin'\n",
    "b=''\n",
    "for i in a:\n",
    "    b=i+b\n",
    "print(b)\n",
    "print(a)\n",
    "if a==b:\n",
    "        print('pal')\n",
    "else:\n",
    "        print('np')"
   ]
  },
  {
   "cell_type": "code",
   "execution_count": null,
   "id": "2db995d5",
   "metadata": {},
   "outputs": [],
   "source": []
  }
 ],
 "metadata": {
  "kernelspec": {
   "display_name": "Python 3 (ipykernel)",
   "language": "python",
   "name": "python3"
  },
  "language_info": {
   "codemirror_mode": {
    "name": "ipython",
    "version": 3
   },
   "file_extension": ".py",
   "mimetype": "text/x-python",
   "name": "python",
   "nbconvert_exporter": "python",
   "pygments_lexer": "ipython3",
   "version": "3.9.12"
  }
 },
 "nbformat": 4,
 "nbformat_minor": 5
}
