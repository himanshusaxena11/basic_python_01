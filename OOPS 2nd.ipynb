{
 "cells": [
  {
   "cell_type": "code",
   "execution_count": 1,
   "id": "1601fa3d",
   "metadata": {},
   "outputs": [
    {
     "data": {
      "text/plain": [
       "'aman'"
      ]
     },
     "execution_count": 1,
     "metadata": {},
     "output_type": "execute_result"
    }
   ],
   "source": [
    "class student:\n",
    "    def details(self,name,marks,age):\n",
    "        return (name)\n",
    "        return (marks)\n",
    "        return (age)\n",
    "    \n",
    "s=student()\n",
    "s.details('aman',78,25)"
   ]
  },
  {
   "cell_type": "code",
   "execution_count": 2,
   "id": "40a855b7",
   "metadata": {},
   "outputs": [
    {
     "data": {
      "text/plain": [
       "'ram'"
      ]
     },
     "execution_count": 2,
     "metadata": {},
     "output_type": "execute_result"
    }
   ],
   "source": [
    "class stu:\n",
    "    def details(self,name,marks,age):\n",
    "        return (name)\n",
    "        return (marks)\n",
    "        return (age)\n",
    "    \n",
    "s=stu()\n",
    "s.details('ram',67,28)"
   ]
  },
  {
   "cell_type": "code",
   "execution_count": 3,
   "id": "c2ff87e9",
   "metadata": {},
   "outputs": [
    {
     "data": {
      "text/plain": [
       "('jjsj', 78, 34)"
      ]
     },
     "execution_count": 3,
     "metadata": {},
     "output_type": "execute_result"
    }
   ],
   "source": [
    "class stud:\n",
    "    def details(self,name,marks,age):\n",
    "        return (name,marks,age)\n",
    "    \n",
    "s=stud()\n",
    "s.details('jjsj',78,34)"
   ]
  },
  {
   "cell_type": "code",
   "execution_count": 4,
   "id": "0fb4c0c4",
   "metadata": {},
   "outputs": [
    {
     "name": "stdout",
     "output_type": "stream",
     "text": [
      "njd\n",
      "56\n",
      "22\n"
     ]
    }
   ],
   "source": [
    "class std:\n",
    "    def details(self,name,marks,age):\n",
    "        print (name)\n",
    "        print (marks)\n",
    "        print (age)\n",
    "        \n",
    "s=std()\n",
    "s.details('njd',56,22)"
   ]
  },
  {
   "cell_type": "markdown",
   "id": "1a8a9648",
   "metadata": {},
   "source": [
    "# Constructor"
   ]
  },
  {
   "cell_type": "code",
   "execution_count": 5,
   "id": "70316222",
   "metadata": {},
   "outputs": [],
   "source": [
    "class std:\n",
    "    def __init__ (self,name,age):\n",
    "        self.name=name\n",
    "        self.age=age\n",
    "        \n",
    "s=std('dev',12)"
   ]
  },
  {
   "cell_type": "code",
   "execution_count": 6,
   "id": "6c0a71bd",
   "metadata": {},
   "outputs": [
    {
     "data": {
      "text/plain": [
       "12"
      ]
     },
     "execution_count": 6,
     "metadata": {},
     "output_type": "execute_result"
    }
   ],
   "source": [
    "s.age"
   ]
  },
  {
   "cell_type": "code",
   "execution_count": 7,
   "id": "d47b785f",
   "metadata": {},
   "outputs": [
    {
     "data": {
      "text/plain": [
       "'dev'"
      ]
     },
     "execution_count": 7,
     "metadata": {},
     "output_type": "execute_result"
    }
   ],
   "source": [
    "s.name"
   ]
  },
  {
   "cell_type": "markdown",
   "id": "d9699a24",
   "metadata": {},
   "source": [
    "# inheritance with constructor"
   ]
  },
  {
   "cell_type": "code",
   "execution_count": 8,
   "id": "53ebebce",
   "metadata": {},
   "outputs": [
    {
     "data": {
      "text/plain": [
       "66"
      ]
     },
     "execution_count": 8,
     "metadata": {},
     "output_type": "execute_result"
    }
   ],
   "source": [
    "class emp1:\n",
    "    def __init__(self,name,age):\n",
    "        self.name=name\n",
    "        self.age=age\n",
    "        \n",
    "class emp2(emp1):\n",
    "    def __init__(self,sal,age,name):\n",
    "        emp1.__init__(self,name,age)\n",
    "        self.sal=sal\n",
    "        \n",
    "e=emp2('ajay',44000,66)\n",
    "e.name"
   ]
  },
  {
   "cell_type": "code",
   "execution_count": 9,
   "id": "e0235f4c",
   "metadata": {},
   "outputs": [
    {
     "data": {
      "text/plain": [
       "44000"
      ]
     },
     "execution_count": 9,
     "metadata": {},
     "output_type": "execute_result"
    }
   ],
   "source": [
    "e.age"
   ]
  },
  {
   "cell_type": "code",
   "execution_count": 10,
   "id": "679496f6",
   "metadata": {},
   "outputs": [
    {
     "data": {
      "text/plain": [
       "'ajay'"
      ]
     },
     "execution_count": 10,
     "metadata": {},
     "output_type": "execute_result"
    }
   ],
   "source": [
    "e.sal"
   ]
  },
  {
   "cell_type": "markdown",
   "id": "e37ffc08",
   "metadata": {},
   "source": [
    "# inheritance with function"
   ]
  },
  {
   "cell_type": "code",
   "execution_count": null,
   "id": "d3d2ba64",
   "metadata": {},
   "outputs": [],
   "source": []
  },
  {
   "cell_type": "code",
   "execution_count": 12,
   "id": "04ad4bdd",
   "metadata": {},
   "outputs": [
    {
     "name": "stdout",
     "output_type": "stream",
     "text": [
      "25.0\n"
     ]
    }
   ],
   "source": [
    "#wap to check speed of bike using OOPS fundamentals where distance covered by bike is almost 250 km\n",
    "#and time taken is 10 hrs\n",
    "class bike:\n",
    "    def __init__(self,dist,time):\n",
    "        self.dist=dist\n",
    "        self.time=time\n",
    "    \n",
    "    def speed (self):\n",
    "        speed=self.dist/self.time\n",
    "        print(speed)\n",
    "        \n",
    "b=bike(250,10)\n",
    "b.speed()"
   ]
  },
  {
   "cell_type": "code",
   "execution_count": 13,
   "id": "a0f4e862",
   "metadata": {},
   "outputs": [
    {
     "ename": "NameError",
     "evalue": "name 'leaves' is not defined",
     "output_type": "error",
     "traceback": [
      "\u001b[1;31m---------------------------------------------------------------------------\u001b[0m",
      "\u001b[1;31mNameError\u001b[0m                                 Traceback (most recent call last)",
      "Input \u001b[1;32mIn [13]\u001b[0m, in \u001b[0;36m<cell line: 18>\u001b[1;34m()\u001b[0m\n\u001b[0;32m     15\u001b[0m         netsals\u001b[38;5;241m=\u001b[39msals\u001b[38;5;241m+\u001b[39m increment_s\n\u001b[0;32m     16\u001b[0m         \u001b[38;5;28mprint\u001b[39m(\u001b[38;5;124m'\u001b[39m\u001b[38;5;124mnetsalary r\u001b[39m\u001b[38;5;124m'\u001b[39m,netsalr,\u001b[38;5;124m'\u001b[39m\u001b[38;5;124mnetsalary s\u001b[39m\u001b[38;5;124m'\u001b[39m,netsals)\n\u001b[1;32m---> 18\u001b[0m e\u001b[38;5;241m=\u001b[39m\u001b[43memp\u001b[49m\u001b[43m(\u001b[49m\u001b[38;5;241;43m0\u001b[39;49m\u001b[43m,\u001b[49m\u001b[38;5;241;43m4\u001b[39;49m\u001b[43m,\u001b[49m\u001b[38;5;241;43m1000\u001b[39;49m\u001b[43m,\u001b[49m\u001b[38;5;241;43m2000\u001b[39;49m\u001b[43m)\u001b[49m\n\u001b[0;32m     19\u001b[0m e\u001b[38;5;241m.\u001b[39mnetsalr\n",
      "Input \u001b[1;32mIn [13]\u001b[0m, in \u001b[0;36memp.__init__\u001b[1;34m(self, leaves_s, leaves_r, sals, salr)\u001b[0m\n\u001b[0;32m      4\u001b[0m \u001b[38;5;28;01mdef\u001b[39;00m \u001b[38;5;21m__init__\u001b[39m(\u001b[38;5;28mself\u001b[39m,leaves_s,leaves_r,sals,salr):\n\u001b[1;32m----> 5\u001b[0m     \u001b[38;5;28mself\u001b[39m\u001b[38;5;241m.\u001b[39mleaves\u001b[38;5;241m=\u001b[39m\u001b[43mleaves\u001b[49m\n\u001b[0;32m      6\u001b[0m     \u001b[38;5;28mself\u001b[39m\u001b[38;5;241m.\u001b[39msals\u001b[38;5;241m=\u001b[39msals\n\u001b[0;32m      7\u001b[0m     \u001b[38;5;28mself\u001b[39m\u001b[38;5;241m.\u001b[39msalr\u001b[38;5;241m=\u001b[39msalr\n",
      "\u001b[1;31mNameError\u001b[0m: name 'leaves' is not defined"
     ]
    }
   ],
   "source": [
    "#wap to find the salary of 2 emp ram and shyam where ram take 4 leaves in a month with a deduction of 5.6% of salary \n",
    "#while shyam take no leave with the increment of 30% in the salary.Find salary with the help of OOPS fundamentals\n",
    "class emp:\n",
    "    def __init__(self,leaves_s,leaves_r,sals,salr):\n",
    "        self.leaves=leaves\n",
    "        self.sals=sals\n",
    "        self.salr=salr\n",
    "        \n",
    "    def deduction(self):\n",
    "        deduction_r=5.6/100*salr\n",
    "        netsalr=salr - deduction_r\n",
    "        \n",
    "    def increment(self):\n",
    "        increment_s=30/100*sals\n",
    "        netsals=sals+ increment_s\n",
    "        print('netsalary r',netsalr,'netsalary s',netsals)\n",
    "        \n",
    "e=emp(0,4,1000,2000)\n",
    "e.netsalr"
   ]
  },
  {
   "cell_type": "code",
   "execution_count": 16,
   "id": "bd12d7e5",
   "metadata": {},
   "outputs": [
    {
     "ename": "TypeError",
     "evalue": "__init__() missing 1 required positional argument: 'sal'",
     "output_type": "error",
     "traceback": [
      "\u001b[1;31m---------------------------------------------------------------------------\u001b[0m",
      "\u001b[1;31mTypeError\u001b[0m                                 Traceback (most recent call last)",
      "Input \u001b[1;32mIn [16]\u001b[0m, in \u001b[0;36m<cell line: 17>\u001b[1;34m()\u001b[0m\n\u001b[0;32m     14\u001b[0m         incrs\u001b[38;5;241m=\u001b[39m\u001b[38;5;241m30\u001b[39m\u001b[38;5;241m/\u001b[39m\u001b[38;5;241m100\u001b[39m\u001b[38;5;241m*\u001b[39msal\n\u001b[0;32m     15\u001b[0m         netsals\u001b[38;5;241m=\u001b[39msal\u001b[38;5;241m+\u001b[39mincr\n\u001b[1;32m---> 17\u001b[0m e\u001b[38;5;241m=\u001b[39m\u001b[43memp2\u001b[49m\u001b[43m(\u001b[49m\u001b[38;5;241;43m4\u001b[39;49m\u001b[43m,\u001b[49m\u001b[38;5;241;43m2000\u001b[39;49m\u001b[43m)\u001b[49m\n",
      "Input \u001b[1;32mIn [16]\u001b[0m, in \u001b[0;36memp2.__init__\u001b[1;34m(self, leaves, sal)\u001b[0m\n\u001b[0;32m      9\u001b[0m \u001b[38;5;28;01mdef\u001b[39;00m \u001b[38;5;21m__init__\u001b[39m(\u001b[38;5;28mself\u001b[39m,leaves,sal):\n\u001b[1;32m---> 10\u001b[0m     \u001b[43memp1\u001b[49m\u001b[38;5;241;43m.\u001b[39;49m\u001b[38;5;21;43m__init__\u001b[39;49m\u001b[43m(\u001b[49m\u001b[43mleaves\u001b[49m\u001b[43m,\u001b[49m\u001b[43msal\u001b[49m\u001b[43m)\u001b[49m\n\u001b[0;32m     12\u001b[0m     dedr\u001b[38;5;241m=\u001b[39m\u001b[38;5;241m5.6\u001b[39m\u001b[38;5;241m/\u001b[39m\u001b[38;5;241m100\u001b[39m\u001b[38;5;241m*\u001b[39msal\n\u001b[0;32m     13\u001b[0m     netsalr\u001b[38;5;241m=\u001b[39msal\u001b[38;5;241m-\u001b[39mded\n",
      "\u001b[1;31mTypeError\u001b[0m: __init__() missing 1 required positional argument: 'sal'"
     ]
    }
   ],
   "source": [
    "#wap to find the salary of 2 emp ram and shyam where ram take 4 leaves in a month with a deduction of 5.6% of salary \n",
    "#while shyam take no leave with the increment of 30% in the salary.Find salary with the help of OOPS fundamentals\n",
    "class emp1:\n",
    "    def __init__(self,leaves,sal):\n",
    "        self.leaves=leaves\n",
    "        self.sal=sal\n",
    "        self.ded=ded\n",
    "        self.incr=incr\n",
    "        \n",
    "class emp2(emp1):\n",
    "    def __init__(self,leaves,sal):\n",
    "        emp1.__init__(leaves,sal)\n",
    "        \n",
    "    def netsal(self):\n",
    "        netsal_r=sal-ded"
   ]
  },
  {
   "cell_type": "code",
   "execution_count": 3,
   "id": "3ae79bb4",
   "metadata": {},
   "outputs": [
    {
     "name": "stdout",
     "output_type": "stream",
     "text": [
      "42.5\n"
     ]
    }
   ],
   "source": [
    "#wap to perform inheritance and find the avg marks of std.1 and std.2\n",
    "class std1:\n",
    "    def __init__(self,english,hindi):\n",
    "        self.english=english\n",
    "        self.hindi=hindi\n",
    "        \n",
    "class std2(std1):\n",
    "    def __init(self,english,hindi):\n",
    "        std1.__init__(self,english,hindi)\n",
    "            \n",
    "    def avg(self):\n",
    "        avg=(self.english+self.hindi)/2\n",
    "        print(avg)\n",
    "            \n",
    "s=std2(47,38)\n",
    "s.avg()"
   ]
  },
  {
   "cell_type": "code",
   "execution_count": 4,
   "id": "6fb77f54",
   "metadata": {},
   "outputs": [
    {
     "name": "stdout",
     "output_type": "stream",
     "text": [
      "45.0\n"
     ]
    }
   ],
   "source": [
    "# INHERITANCE ------>>SUPER METHOD \n",
    "#wap to perform inheritance and find the avg marks of std.1 and std.2\n",
    "class std1:\n",
    "    def __init__(self,english,hindi):\n",
    "        self.english=english\n",
    "        self.hindi=hindi\n",
    "        \n",
    "class std2(std1):\n",
    "    def __init(self,english,hindi):\n",
    "        super.__init__(english,hindi)\n",
    "            \n",
    "    def avg(self):\n",
    "        avg=(self.english+self.hindi)/2\n",
    "        print(avg)\n",
    "            \n",
    "s=std2(20,70)\n",
    "s.avg()"
   ]
  },
  {
   "cell_type": "code",
   "execution_count": null,
   "id": "6bb45ce1",
   "metadata": {},
   "outputs": [],
   "source": []
  }
 ],
 "metadata": {
  "kernelspec": {
   "display_name": "Python 3 (ipykernel)",
   "language": "python",
   "name": "python3"
  },
  "language_info": {
   "codemirror_mode": {
    "name": "ipython",
    "version": 3
   },
   "file_extension": ".py",
   "mimetype": "text/x-python",
   "name": "python",
   "nbconvert_exporter": "python",
   "pygments_lexer": "ipython3",
   "version": "3.9.12"
  }
 },
 "nbformat": 4,
 "nbformat_minor": 5
}
